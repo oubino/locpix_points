{
 "cells": [
  {
   "cell_type": "markdown",
   "metadata": {},
   "source": [
    "### Imports"
   ]
  },
  {
   "cell_type": "code",
   "execution_count": 11,
   "metadata": {},
   "outputs": [],
   "source": [
    "import os\n",
    "import yaml"
   ]
  },
  {
   "cell_type": "markdown",
   "metadata": {},
   "source": [
    "### Experiment description"
   ]
  },
  {
   "cell_type": "markdown",
   "metadata": {},
   "source": [
    "1. Predict ClusterID for clustering datasets\n",
    "2. Use PointNet\n",
    "3. No features only x & y data\n",
    "4. Homogeneous graph"
   ]
  },
  {
   "cell_type": "markdown",
   "metadata": {},
   "source": [
    "### Variables"
   ]
  },
  {
   "cell_type": "code",
   "execution_count": 7,
   "metadata": {},
   "outputs": [],
   "source": [
    "input_folder = '../../../data/nieves'\n",
    "output_folder = '../../../output/nieves'"
   ]
  },
  {
   "cell_type": "markdown",
   "metadata": {},
   "source": [
    "### Preprocess data to suitable output location"
   ]
  },
  {
   "cell_type": "code",
   "execution_count": 8,
   "metadata": {},
   "outputs": [],
   "source": [
    "os.makedirs(output_folder)\n",
    "os.makedirs(os.path.join(output_folder, \"preprocessed\"))\n",
    "os.makedirs(os.path.join(input_folder, \"config\"))"
   ]
  },
  {
   "cell_type": "code",
   "execution_count": null,
   "metadata": {},
   "outputs": [],
   "source": [
    "# Code specific to dataset\n",
    "\n",
    "# change all cluster id's which are != 0 to 1 so we can predict not clustered or clustered"
   ]
  },
  {
   "cell_type": "code",
   "execution_count": 12,
   "metadata": {},
   "outputs": [],
   "source": [
    "# Export config variables to file\n",
    "\n",
    "config = {}\n",
    "\n",
    "# The following are the names of the \n",
    "# x column, y column, z column if present, channel, frame,\n",
    "# in the csvs being processed\n",
    "config['x_col'] = 'x'\n",
    "config['y_col'] = 'y'\n",
    "config['z_col'] = None\n",
    "config['channel_col'] = None #'channel'\n",
    "config['frame_col'] = None # 'frame'\n",
    "\n",
    "# The number of dimensions to consider\n",
    "# If 2 only deals with x and y \n",
    "# If 3 will read in and deal with z as well (currently not fully supported)\n",
    "config['dim'] = 2\n",
    "\n",
    "# choice of which channels user wants to consider\n",
    "# if null considers all\n",
    "config['channel_choice'] = None\n",
    "\n",
    "# specify string for each channel\n",
    "config['channel_label'] = None\n",
    "  #0: egfr\n",
    "  #1: ereg\n",
    "\n",
    "# whether to not drop the column containing\n",
    "# pixel\n",
    "config['drop_pixel_col'] = False\n",
    "\n",
    "# files to include: all for everyone \n",
    "config['include_files'] = [\"mongrad_MoleculeList_12\", \"mongrad_MoleculeList_11\", \"mongrad_MoleculeList_10\", \"mongrad_MoleculeList_1\"]\n",
    "\n",
    "## Choice of input features\n",
    "config['features'] = []\n",
    "\n",
    "## GT label per loc or per FOV\n",
    "config['gt_label_scope'] = 'loc'\n",
    "\n",
    "## if gt label specified, whih channel is it in (if its label per fov then only one row has to have value), or leave as null\n",
    "config['gt_label'] = 'index' # gt_label\n",
    "\n",
    "## specify the gt label map\n",
    "config['gt_label_map'] = {0: 'unclustered', 1: 'clustered'}\n",
    "\n",
    "yaml_save_loc = os.path.join(input_folder, 'config/preprocess.yaml')\n",
    "with open(yaml_save_loc, \"w\") as outfile:\n",
    "        yaml.dump(config, outfile)"
   ]
  },
  {
   "cell_type": "code",
   "execution_count": 5,
   "metadata": {},
   "outputs": [
    {
     "ename": "FileExistsError",
     "evalue": "[Errno 17] File exists: '../../../output/nieves'",
     "output_type": "error",
     "traceback": [
      "\u001b[0;31m---------------------------------------------------------------------------\u001b[0m",
      "\u001b[0;31mFileExistsError\u001b[0m                           Traceback (most recent call last)",
      "Cell \u001b[0;32mIn[5], line 2\u001b[0m\n\u001b[1;32m      1\u001b[0m \u001b[38;5;66;03m# Create output folder: ../../output/nieves\u001b[39;00m\n\u001b[0;32m----> 2\u001b[0m \u001b[43mos\u001b[49m\u001b[38;5;241;43m.\u001b[39;49m\u001b[43mmakedirs\u001b[49m\u001b[43m(\u001b[49m\u001b[38;5;124;43m'\u001b[39;49m\u001b[38;5;124;43m../../../output/nieves\u001b[39;49m\u001b[38;5;124;43m'\u001b[39;49m\u001b[43m)\u001b[49m\n\u001b[1;32m      4\u001b[0m \u001b[38;5;66;03m# Export config variables to a file here\u001b[39;00m\n\u001b[1;32m      5\u001b[0m \n\u001b[1;32m      6\u001b[0m \u001b[38;5;66;03m## 1. Choice of input features\u001b[39;00m\n\u001b[0;32m   (...)\u001b[0m\n\u001b[1;32m     13\u001b[0m \n\u001b[1;32m     14\u001b[0m \u001b[38;5;66;03m#python src/locpix_points/scripts/preprocess.py -i tests/nieves_test_data -c src/locpix_points/templates/preprocess.yaml -o ../../output/nieves\u001b[39;00m\n",
      "File \u001b[0;32m<frozen os>:225\u001b[0m, in \u001b[0;36mmakedirs\u001b[0;34m(name, mode, exist_ok)\u001b[0m\n",
      "\u001b[0;31mFileExistsError\u001b[0m: [Errno 17] File exists: '../../../output/nieves'"
     ]
    }
   ],
   "source": [
    "# Run the preprocess script using this file\n",
    "\n",
    "#python src/locpix_points/scripts/preprocess.py -i tests/nieves_test_data -c tests/nieves_test_data/config/preprocess.yaml -o ../../output/nieves"
   ]
  },
  {
   "cell_type": "markdown",
   "metadata": {},
   "source": [
    "### Process data"
   ]
  },
  {
   "cell_type": "code",
   "execution_count": null,
   "metadata": {},
   "outputs": [],
   "source": [
    "# Export config variables \n",
    "\n",
    "config = {}\n",
    "\n",
    "# whether to process the data as heterogeneous or homogenous\n",
    "# graph\n",
    "config['hetero'] = False\n",
    "\n",
    "# train/test/val splits\n",
    "config['train_ratio'] = 0.5\n",
    "config['val_ratio'] = 0.25\n",
    "config['test_ratio'] = 0.25\n",
    "\n",
    "# what to load into position\n",
    "# Options: xy, xyz\n",
    "pos: 'xy'\n",
    "\n",
    "# what to load into features\n",
    "# Options: uniform (ones), xy, ...\n",
    "feat: 'xy'\n",
    "    \n",
    "# label level\n",
    "# graph or node\n",
    "label_level: 'node'\n",
    "\n",
    "yaml_save_loc = os.path.join(input_folder, 'config/process.yaml')\n",
    "with open(yaml_save_loc, \"w\") as outfile:\n",
    "        yaml.dump(config, outfile)\n"
   ]
  },
  {
   "cell_type": "code",
   "execution_count": null,
   "metadata": {},
   "outputs": [],
   "source": [
    "# Run the process script \n",
    "\n",
    "#python src/locpix_points/scripts/process.py -i ../../output/nieves -c tests/nieves_test_data/config/process.yaml"
   ]
  },
  {
   "cell_type": "markdown",
   "metadata": {},
   "source": [
    "### Train"
   ]
  },
  {
   "cell_type": "code",
   "execution_count": null,
   "metadata": {},
   "outputs": [],
   "source": [
    "# Export config variables \n",
    "\n",
    "config = {}\n",
    "\n",
    "# device to train on (gpu or cpu)\n",
    "config['gpu'] =True\n",
    "\n",
    "# model parameters\n",
    "config['model'] = \"pointnet\"\n",
    "\n",
    "# optimiser parameters\n",
    "config['optimiser'] =\"adam\"\n",
    "config['lr'] = 0.001\n",
    "config['weight_decay'] = 0.0001\n",
    "\n",
    "# training parameters\n",
    "config['epochs'] = 2\n",
    "config['batch_size'] = 1\n",
    "config['num_workers'] = 1 # generall higher -> faster\n",
    "config['loss_fn'] = \"nll\"\n",
    "\n",
    "config['pointnetseg'] = {\n",
    "  \"ratio\" : [0.2,0.25],\n",
    "  \"radius\" : [0.2, 0.4],\n",
    "  # 2 = dim (2) + dim of feature (0)\n",
    "  # 130 = 128 + dim (2) + dim of feature (0)\n",
    "  # 258 = 256 + dim (2) + dim of feature (0)\n",
    "  \"sa_channels\" : [[2, 64, 64, 128], [130, 128, 128, 256], [258, 256, 512, 1024]],\n",
    "  \"k\" : [1,3,3],\n",
    "  # 1080 = 1024 + 256 \n",
    "  # 384 = 256 + 128\n",
    "  # 130 = 128 + dim (2) + dim of feature (0) \n",
    "  \"fp_channels\" : [[1080, 256, 256], [384, 256, 128], [130, 128, 128, 128]],\n",
    "  # num classes = 2\n",
    "  \"output_channels\": [128, 128, 128, 2],\n",
    "  \"dropout\" : 0.5,\n",
    "  \"norm\" : None,\n",
    "}\n",
    "\n",
    "yaml_save_loc = os.path.join(input_folder, 'config/train.yaml')\n",
    "with open(yaml_save_loc, \"w\") as outfile:\n",
    "        yaml.dump(config, outfile)\n",
    "\n",
    "# 1. Choice of augmentations\n",
    "\n",
    "# 2. Normalise features\n"
   ]
  },
  {
   "cell_type": "code",
   "execution_count": null,
   "metadata": {},
   "outputs": [],
   "source": [
    "# Run the train script \n",
    "\n",
    "# python src/locpix_points/scripts/train.py -i ../../output/nieves -c tests/nieves_test_data/config/train.yaml"
   ]
  },
  {
   "cell_type": "markdown",
   "metadata": {},
   "source": [
    "### Evaluate"
   ]
  },
  {
   "cell_type": "code",
   "execution_count": null,
   "metadata": {},
   "outputs": [],
   "source": [
    "# Export config variables\n",
    "\n",
    "# Run the evaluate script\n",
    "\n",
    "python src/locpix_points/scripts/evaluate.py -i ../../output/nieves -c src/locpix_points/templates/evaluate.yaml"
   ]
  },
  {
   "cell_type": "markdown",
   "metadata": {},
   "source": [
    "### Interpret the results"
   ]
  },
  {
   "cell_type": "code",
   "execution_count": 13,
   "metadata": {},
   "outputs": [],
   "source": [
    "# Pytorch geometric explainability tools"
   ]
  },
  {
   "cell_type": "code",
   "execution_count": null,
   "metadata": {},
   "outputs": [],
   "source": []
  }
 ],
 "metadata": {
  "kernelspec": {
   "display_name": "Python 3 (ipykernel)",
   "language": "python",
   "name": "python3"
  },
  "language_info": {
   "codemirror_mode": {
    "name": "ipython",
    "version": 3
   },
   "file_extension": ".py",
   "mimetype": "text/x-python",
   "name": "python",
   "nbconvert_exporter": "python",
   "pygments_lexer": "ipython3",
   "version": "3.11.4"
  }
 },
 "nbformat": 4,
 "nbformat_minor": 2
}
