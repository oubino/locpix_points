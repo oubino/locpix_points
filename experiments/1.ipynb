{
 "cells": [
  {
   "cell_type": "markdown",
   "metadata": {},
   "source": [
    "### Imports"
   ]
  },
  {
   "cell_type": "code",
   "execution_count": 1,
   "metadata": {},
   "outputs": [],
   "source": [
    "import os\n",
    "import yaml\n",
    "import polars as pl"
   ]
  },
  {
   "cell_type": "markdown",
   "metadata": {},
   "source": [
    "### Experiment description"
   ]
  },
  {
   "cell_type": "markdown",
   "metadata": {},
   "source": [
    "1. Predict ClusterID for clustering datasets\n",
    "2. Use PointNet\n",
    "3. No features only x & y data\n",
    "4. Homogeneous graph"
   ]
  },
  {
   "cell_type": "markdown",
   "metadata": {},
   "source": [
    "### Variables"
   ]
  },
  {
   "cell_type": "code",
   "execution_count": 2,
   "metadata": {},
   "outputs": [],
   "source": [
    "input_folder = '../../../data/nieves'\n",
    "output_folder = '../../../output/nieves/expt1'\n",
    "input_expt_folder = '../../../data/nieves/expt1'"
   ]
  },
  {
   "cell_type": "markdown",
   "metadata": {},
   "source": [
    "### Preprocess data to suitable output location"
   ]
  },
  {
   "cell_type": "code",
   "execution_count": 44,
   "metadata": {},
   "outputs": [],
   "source": [
    "folders = [output_folder, os.path.join(input_folder, \"config/expt1\"), input_expt_folder]\n",
    "\n",
    "for folder in folders:\n",
    "    if not os.path.exists(folder):\n",
    "        os.makedirs(folder)"
   ]
  },
  {
   "cell_type": "code",
   "execution_count": 38,
   "metadata": {},
   "outputs": [],
   "source": [
    "# Code specific to dataset & experiment 1\n",
    "root_dir = os.path.join(input_folder, \"ml_data\")\n",
    "for file in os.listdir(root_dir):\n",
    "    df = pl.read_csv(os.path.join(root_dir, file))\n",
    "        \n",
    "    if file.startswith('gt_'):\n",
    "        df = df.rename({'':'x', '_duplicated_0':'y', 'moleculeClusterIndex': 'gt_label'})\n",
    "    elif file.startswith('multiple_blinking'):\n",
    "        df = df.drop(['error', 'moleculeIndex'])\n",
    "        df = df.rename({'clusterIndex': 'gt_label'})\n",
    "        \n",
    "    # change all cluster id's which are != 0 to 1 so we can predict not clustered or clustered\n",
    "    df = df.with_columns((pl.when(pl.col('gt_label') != 0)).then(1).otherwise(0).alias('gt_label'))\n",
    "    \n",
    "    # save \n",
    "    file_name, _ = os.path.splitext(file)\n",
    "    file_name = os.path.join(input_expt_folder, file_name + '.parquet')\n",
    "    df.write_parquet(file_name)"
   ]
  },
  {
   "cell_type": "code",
   "execution_count": 41,
   "metadata": {},
   "outputs": [],
   "source": [
    "# Export config variables to file\n",
    "\n",
    "config = {}\n",
    "\n",
    "# The following are the names of the \n",
    "# x column, y column, z column if present, channel, frame,\n",
    "# in the csvs being processed\n",
    "config['x_col'] = 'x'\n",
    "config['y_col'] = 'y'\n",
    "config['z_col'] = None\n",
    "config['channel_col'] = None #'channel'\n",
    "config['frame_col'] = None # 'frame'\n",
    "\n",
    "# The number of dimensions to consider\n",
    "# If 2 only deals with x and y \n",
    "# If 3 will read in and deal with z as well (currently not fully supported)\n",
    "config['dim'] = 2\n",
    "\n",
    "# choice of which channels user wants to consider\n",
    "# if null considers all\n",
    "config['channel_choice'] = None\n",
    "\n",
    "# specify string for each channel\n",
    "config['channel_label'] = None\n",
    "  #0: egfr\n",
    "  #1: ereg\n",
    "\n",
    "# whether to not drop the column containing\n",
    "# pixel\n",
    "config['drop_pixel_col'] = False\n",
    "\n",
    "# files to include: all for everyone \n",
    "config['include_files'] = 'all' #[\"mongrad_MoleculeList_12\", \"mongrad_MoleculeList_11\", \"mongrad_MoleculeList_10\", \"mongrad_MoleculeList_1\"]\n",
    "\n",
    "## Choice of input features\n",
    "config['features'] = []\n",
    "\n",
    "## GT label per loc or per FOV\n",
    "config['gt_label_scope'] = 'loc'\n",
    "\n",
    "## if gt label specified, whih channel is it in (if its label per fov then only one row has to have value), or leave as null\n",
    "config['gt_label'] = \"gt_label\"\n",
    "\n",
    "## specify the gt label map\n",
    "config['gt_label_map'] = {0: 'unclustered', 1: 'clustered'}\n",
    "\n",
    "yaml_save_loc = os.path.join(input_folder, 'config/expt1/preprocess.yaml')\n",
    "with open(yaml_save_loc, \"w\") as outfile:\n",
    "        yaml.dump(config, outfile)"
   ]
  },
  {
   "cell_type": "code",
   "execution_count": 55,
   "metadata": {},
   "outputs": [
    {
     "name": "stdout",
     "output_type": "stream",
     "text": [
      "List of files which will be processed\r\n",
      "['../../../data/nieves/expt1/gt_scenario_8_diffden_MoleculeList_10.parquet', '../../../data/nieves/expt1/gt_scenario_2_normal_50single_MoleculeList_43.parquet', '../../../data/nieves/expt1/gt_scenario_1_CSR_MoleculeList_23.parquet', '../../../data/nieves/expt1/gt_scenario_8_diffden_MoleculeList_22.parquet', '../../../data/nieves/expt1/multiple_blinking_scenario_7_diffsig_DetectionList1.parquet', '../../../data/nieves/expt1/gt_scenario_2_normal_50single_MoleculeList_7.parquet', '../../../data/nieves/expt1/multiple_blinking_scenario_9_dsigsden_new_DetectionList_38.parquet', '../../../data/nieves/expt1/gt_scenario_7_diffsig_MoleculeList_6.parquet', '../../../data/nieves/expt1/gt_scenario_4_lowden_MoleculeList_6.parquet', '../../../data/nieves/expt1/gt_scenario_0_mongrad_MoleculeList_3.parquet', '../../../data/nieves/expt1/multiple_blinking_scenario_4_lowden_DetectionList_34.parquet', '../../../data/nieves/expt1/gt_scenario_1_CSR_MoleculeList_19.parquet', '../../../data/nieves/expt1/gt_scenario_5_highden_MoleculeList_17.parquet', '../../../data/nieves/expt1/multiple_blinking_scenario_7_diffsig_DetectionList23.parquet', '../../../data/nieves/expt1/multiple_blinking_scenario_0_mongrad_DetectionList_34.parquet', '../../../data/nieves/expt1/multiple_blinking_scenario_6_elliptical_w_noise_DetectionList_38.parquet', '../../../data/nieves/expt1/multiple_blinking_scenario_3_normal_80single_new_DetectionList_23.parquet', '../../../data/nieves/expt1/gt_scenario_9_dsigsden_new_MoleculeList_28.parquet', '../../../data/nieves/expt1/gt_scenario_7_diffsig_MoleculeList_37.parquet', '../../../data/nieves/expt1/gt_scenario_4_lowden_MoleculeList_19.parquet', '../../../data/nieves/expt1/gt_scenario_3_normal_80single_new_MoleculeList_15.parquet', '../../../data/nieves/expt1/gt_scenario_0_mongrad_MoleculeList_50.parquet', '../../../data/nieves/expt1/gt_scenario_4_lowden_MoleculeList_27.parquet', '../../../data/nieves/expt1/multiple_blinking_scenario_8_diffden_DetectionList21.parquet', '../../../data/nieves/expt1/gt_scenario_8_diffden_MoleculeList_23.parquet', '../../../data/nieves/expt1/gt_scenario_6_elliptical_w_noise_MoleculeList_41.parquet', '../../../data/nieves/expt1/multiple_blinking_scenario_0_mongrad_DetectionList_7.parquet', '../../../data/nieves/expt1/gt_scenario_7_diffsig_MoleculeList_34.parquet', '../../../data/nieves/expt1/gt_scenario_0_mongrad_MoleculeList_12.parquet', '../../../data/nieves/expt1/multiple_blinking_scenario_8_diffden_DetectionList40.parquet', '../../../data/nieves/expt1/gt_scenario_4_lowden_MoleculeList_28.parquet', '../../../data/nieves/expt1/multiple_blinking_scenario_5_highden_DetectionList_14.parquet', '../../../data/nieves/expt1/multiple_blinking_scenario_4_lowden_DetectionList_25.parquet', '../../../data/nieves/expt1/gt_scenario_6_elliptical_w_noise_MoleculeList_2.parquet', '../../../data/nieves/expt1/multiple_blinking_scenario_6_elliptical_w_noise_DetectionList_33.parquet', '../../../data/nieves/expt1/multiple_blinking_scenario_0_mongrad_DetectionList_48.parquet', '../../../data/nieves/expt1/multiple_blinking_scenario_5_highden_DetectionList_24.parquet', '../../../data/nieves/expt1/multiple_blinking_scenario_5_highden_DetectionList_37.parquet', '../../../data/nieves/expt1/multiple_blinking_scenario_6_elliptical_w_noise_DetectionList_34.parquet', '../../../data/nieves/expt1/gt_scenario_2_normal_50single_MoleculeList_49.parquet', '../../../data/nieves/expt1/multiple_blinking_scenario_6_elliptical_w_noise_DetectionList_10.parquet', '../../../data/nieves/expt1/gt_scenario_5_highden_MoleculeList_38.parquet', '../../../data/nieves/expt1/gt_scenario_2_normal_50single_MoleculeList_11.parquet', '../../../data/nieves/expt1/multiple_blinking_scenario_0_mongrad_DetectionList_43.parquet', '../../../data/nieves/expt1/multiple_blinking_scenario_4_lowden_DetectionList_47.parquet', '../../../data/nieves/expt1/multiple_blinking_scenario_2_normal_50_single_DetectionList_13.parquet', '../../../data/nieves/expt1/multiple_blinking_scenario_3_normal_80single_new_DetectionList_33.parquet', '../../../data/nieves/expt1/gt_scenario_2_normal_50single_MoleculeList_42.parquet', '../../../data/nieves/expt1/gt_scenario_4_lowden_MoleculeList_31.parquet', '../../../data/nieves/expt1/multiple_blinking_scenario_5_highden_DetectionList_26.parquet', '../../../data/nieves/expt1/gt_scenario_0_mongrad_MoleculeList_45.parquet', '../../../data/nieves/expt1/gt_scenario_7_diffsig_MoleculeList_26.parquet', '../../../data/nieves/expt1/multiple_blinking_scenario_4_lowden_DetectionList_22.parquet', '../../../data/nieves/expt1/gt_scenario_3_normal_80single_new_MoleculeList_3.parquet', '../../../data/nieves/expt1/gt_scenario_9_dsigsden_new_MoleculeList_40.parquet', '../../../data/nieves/expt1/gt_scenario_9_dsigsden_new_MoleculeList_39.parquet', '../../../data/nieves/expt1/gt_scenario_6_elliptical_w_noise_MoleculeList_10.parquet', '../../../data/nieves/expt1/multiple_blinking_scenario_8_diffden_DetectionList45.parquet', '../../../data/nieves/expt1/gt_scenario_5_highden_MoleculeList_28.parquet', '../../../data/nieves/expt1/multiple_blinking_scenario_4_lowden_DetectionList_2.parquet', '../../../data/nieves/expt1/multiple_blinking_scenario_0_mongrad_DetectionList_2.parquet', '../../../data/nieves/expt1/multiple_blinking_scenario_5_highden_DetectionList_28.parquet', '../../../data/nieves/expt1/multiple_blinking_scenario_8_diffden_DetectionList16.parquet', '../../../data/nieves/expt1/gt_scenario_8_diffden_MoleculeList_36.parquet', '../../../data/nieves/expt1/multiple_blinking_scenario_7_diffsig_DetectionList34.parquet', '../../../data/nieves/expt1/multiple_blinking_scenario_6_elliptical_w_noise_DetectionList_3.parquet', '../../../data/nieves/expt1/gt_scenario_9_dsigsden_new_MoleculeList_42.parquet', '../../../data/nieves/expt1/multiple_blinking_scenario_4_lowden_DetectionList_30.parquet', '../../../data/nieves/expt1/multiple_blinking_scenario_8_diffden_DetectionList23.parquet', '../../../data/nieves/expt1/multiple_blinking_scenario_8_diffden_DetectionList5.parquet', '../../../data/nieves/expt1/multiple_blinking_scenario_3_normal_80single_new_DetectionList_19.parquet', '../../../data/nieves/expt1/multiple_blinking_scenario_2_normal_50_single_DetectionList_2.parquet', '../../../data/nieves/expt1/gt_scenario_9_dsigsden_new_MoleculeList_30.parquet', '../../../data/nieves/expt1/multiple_blinking_scenario_9_dsigsden_new_DetectionList_32.parquet', '../../../data/nieves/expt1/multiple_blinking_scenario_7_diffsig_DetectionList41.parquet', '../../../data/nieves/expt1/multiple_blinking_scenario_4_lowden_DetectionList_45.parquet', '../../../data/nieves/expt1/gt_scenario_0_mongrad_MoleculeList_19.parquet', '../../../data/nieves/expt1/multiple_blinking_scenario_2_normal_50_single_DetectionList_12.parquet', '../../../data/nieves/expt1/multiple_blinking_scenario_7_diffsig_DetectionList43.parquet', '../../../data/nieves/expt1/multiple_blinking_scenario_5_highden_DetectionList_50.parquet', '../../../data/nieves/expt1/multiple_blinking_scenario_8_diffden_DetectionList6.parquet', '../../../data/nieves/expt1/gt_scenario_4_lowden_MoleculeList_32.parquet', '../../../data/nieves/expt1/multiple_blinking_scenario_3_normal_80single_new_DetectionList_29.parquet', '../../../data/nieves/expt1/gt_scenario_4_lowden_MoleculeList_2.parquet', '../../../data/nieves/expt1/gt_scenario_0_mongrad_MoleculeList_49.parquet', '../../../data/nieves/expt1/multiple_blinking_scenario_3_normal_80single_new_DetectionList_42.parquet', '../../../data/nieves/expt1/gt_scenario_0_mongrad_MoleculeList_33.parquet', '../../../data/nieves/expt1/gt_scenario_1_CSR_MoleculeList_40.parquet', '../../../data/nieves/expt1/gt_scenario_5_highden_MoleculeList_16.parquet', '../../../data/nieves/expt1/gt_scenario_9_dsigsden_new_MoleculeList_6.parquet', '../../../data/nieves/expt1/gt_scenario_4_lowden_MoleculeList_10.parquet', '../../../data/nieves/expt1/multiple_blinking_scenario_6_elliptical_w_noise_DetectionList_20.parquet', '../../../data/nieves/expt1/multiple_blinking_scenario_9_dsigsden_new_DetectionList_30.parquet', '../../../data/nieves/expt1/gt_scenario_7_diffsig_MoleculeList_41.parquet', '../../../data/nieves/expt1/gt_scenario_4_lowden_MoleculeList_33.parquet', '../../../data/nieves/expt1/multiple_blinking_scenario_2_normal_50_single_DetectionList_36.parquet', '../../../data/nieves/expt1/gt_scenario_8_diffden_MoleculeList_44.parquet', '../../../data/nieves/expt1/multiple_blinking_scenario_3_normal_80single_new_DetectionList_45.parquet', '../../../data/nieves/expt1/multiple_blinking_scenario_4_lowden_DetectionList_4.parquet', '../../../data/nieves/expt1/multiple_blinking_scenario_4_lowden_DetectionList_18.parquet', '../../../data/nieves/expt1/gt_scenario_0_mongrad_MoleculeList_10.parquet', '../../../data/nieves/expt1/multiple_blinking_scenario_4_lowden_DetectionList_12.parquet', '../../../data/nieves/expt1/multiple_blinking_scenario_8_diffden_DetectionList30.parquet', '../../../data/nieves/expt1/gt_scenario_4_lowden_MoleculeList_7.parquet', '../../../data/nieves/expt1/gt_scenario_0_mongrad_MoleculeList_36.parquet', '../../../data/nieves/expt1/gt_scenario_5_highden_MoleculeList_46.parquet', '../../../data/nieves/expt1/gt_scenario_8_diffden_MoleculeList_29.parquet', '../../../data/nieves/expt1/multiple_blinking_scenario_9_dsigsden_new_DetectionList_39.parquet', '../../../data/nieves/expt1/multiple_blinking_scenario_9_dsigsden_new_DetectionList_46.parquet', '../../../data/nieves/expt1/gt_scenario_4_lowden_MoleculeList_1.parquet', '../../../data/nieves/expt1/gt_scenario_5_highden_MoleculeList_32.parquet', '../../../data/nieves/expt1/gt_scenario_7_diffsig_MoleculeList_40.parquet', '../../../data/nieves/expt1/multiple_blinking_scenario_0_mongrad_DetectionList_25.parquet', '../../../data/nieves/expt1/multiple_blinking_scenario_7_diffsig_DetectionList33.parquet', '../../../data/nieves/expt1/gt_scenario_2_normal_50single_MoleculeList_31.parquet', '../../../data/nieves/expt1/multiple_blinking_scenario_9_dsigsden_new_DetectionList_44.parquet', '../../../data/nieves/expt1/gt_scenario_1_CSR_MoleculeList_36.parquet', '../../../data/nieves/expt1/multiple_blinking_scenario_0_mongrad_DetectionList_1.parquet', '../../../data/nieves/expt1/multiple_blinking_scenario_0_mongrad_DetectionList_21.parquet', '../../../data/nieves/expt1/gt_scenario_2_normal_50single_MoleculeList_4.parquet', '../../../data/nieves/expt1/multiple_blinking_scenario_5_highden_DetectionList_47.parquet', '../../../data/nieves/expt1/multiple_blinking_scenario_2_normal_50_single_DetectionList_49.parquet', '../../../data/nieves/expt1/gt_scenario_0_mongrad_MoleculeList_13.parquet', '../../../data/nieves/expt1/gt_scenario_3_normal_80single_new_MoleculeList_24.parquet', '../../../data/nieves/expt1/gt_scenario_8_diffden_MoleculeList_50.parquet', '../../../data/nieves/expt1/gt_scenario_7_diffsig_MoleculeList_24.parquet', '../../../data/nieves/expt1/multiple_blinking_scenario_7_diffsig_DetectionList5.parquet', '../../../data/nieves/expt1/multiple_blinking_scenario_6_elliptical_w_noise_DetectionList_50.parquet', '../../../data/nieves/expt1/gt_scenario_3_normal_80single_new_MoleculeList_32.parquet', '../../../data/nieves/expt1/gt_scenario_2_normal_50single_MoleculeList_40.parquet', '../../../data/nieves/expt1/gt_scenario_3_normal_80single_new_MoleculeList_36.parquet', '../../../data/nieves/expt1/gt_scenario_1_CSR_MoleculeList_35.parquet', '../../../data/nieves/expt1/gt_scenario_2_normal_50single_MoleculeList_28.parquet', '../../../data/nieves/expt1/multiple_blinking_scenario_9_dsigsden_new_DetectionList_16.parquet', '../../../data/nieves/expt1/gt_scenario_6_elliptical_w_noise_MoleculeList_20.parquet', '../../../data/nieves/expt1/multiple_blinking_scenario_3_normal_80single_new_DetectionList_44.parquet', '../../../data/nieves/expt1/multiple_blinking_scenario_3_normal_80single_new_DetectionList_30.parquet', '../../../data/nieves/expt1/multiple_blinking_scenario_0_mongrad_DetectionList_33.parquet', '../../../data/nieves/expt1/multiple_blinking_scenario_8_diffden_DetectionList26.parquet', '../../../data/nieves/expt1/multiple_blinking_scenario_3_normal_80single_new_DetectionList_20.parquet', '../../../data/nieves/expt1/multiple_blinking_scenario_7_diffsig_DetectionList20.parquet', '../../../data/nieves/expt1/multiple_blinking_scenario_7_diffsig_DetectionList42.parquet', '../../../data/nieves/expt1/multiple_blinking_scenario_3_normal_80single_new_DetectionList_26.parquet', '../../../data/nieves/expt1/multiple_blinking_scenario_9_dsigsden_new_DetectionList_27.parquet', '../../../data/nieves/expt1/gt_scenario_3_normal_80single_new_MoleculeList_46.parquet', '../../../data/nieves/expt1/gt_scenario_0_mongrad_MoleculeList_28.parquet', '../../../data/nieves/expt1/multiple_blinking_scenario_2_normal_50_single_DetectionList_47.parquet', '../../../data/nieves/expt1/gt_scenario_2_normal_50single_MoleculeList_3.parquet', '../../../data/nieves/expt1/gt_scenario_2_normal_50single_MoleculeList_34.parquet', '../../../data/nieves/expt1/gt_scenario_4_lowden_MoleculeList_9.parquet', '../../../data/nieves/expt1/gt_scenario_3_normal_80single_new_MoleculeList_19.parquet', '../../../data/nieves/expt1/multiple_blinking_scenario_5_highden_DetectionList_34.parquet', '../../../data/nieves/expt1/gt_scenario_9_dsigsden_new_MoleculeList_44.parquet', '../../../data/nieves/expt1/multiple_blinking_scenario_9_dsigsden_new_DetectionList_22.parquet', '../../../data/nieves/expt1/gt_scenario_6_elliptical_w_noise_MoleculeList_34.parquet', '../../../data/nieves/expt1/gt_scenario_8_diffden_MoleculeList_2.parquet', '../../../data/nieves/expt1/multiple_blinking_scenario_7_diffsig_DetectionList9.parquet', '../../../data/nieves/expt1/multiple_blinking_scenario_7_diffsig_DetectionList21.parquet', '../../../data/nieves/expt1/gt_scenario_3_normal_80single_new_MoleculeList_8.parquet', '../../../data/nieves/expt1/gt_scenario_4_lowden_MoleculeList_46.parquet', '../../../data/nieves/expt1/multiple_blinking_scenario_4_lowden_DetectionList_43.parquet', '../../../data/nieves/expt1/gt_scenario_0_mongrad_MoleculeList_32.parquet', '../../../data/nieves/expt1/gt_scenario_4_lowden_MoleculeList_37.parquet', '../../../data/nieves/expt1/gt_scenario_2_normal_50single_MoleculeList_26.parquet', '../../../data/nieves/expt1/gt_scenario_8_diffden_MoleculeList_24.parquet', '../../../data/nieves/expt1/gt_scenario_7_diffsig_MoleculeList_14.parquet', '../../../data/nieves/expt1/multiple_blinking_scenario_3_normal_80single_new_DetectionList_39.parquet', '../../../data/nieves/expt1/gt_scenario_7_diffsig_MoleculeList_25.parquet', '../../../data/nieves/expt1/multiple_blinking_scenario_9_dsigsden_new_DetectionList_13.parquet', '../../../data/nieves/expt1/gt_scenario_1_CSR_MoleculeList_42.parquet', '../../../data/nieves/expt1/gt_scenario_2_normal_50single_MoleculeList_12.parquet', '../../../data/nieves/expt1/gt_scenario_6_elliptical_w_noise_MoleculeList_27.parquet', '../../../data/nieves/expt1/multiple_blinking_scenario_7_diffsig_DetectionList37.parquet', '../../../data/nieves/expt1/multiple_blinking_scenario_6_elliptical_w_noise_DetectionList_27.parquet', '../../../data/nieves/expt1/gt_scenario_5_highden_MoleculeList_40.parquet', '../../../data/nieves/expt1/multiple_blinking_scenario_0_mongrad_DetectionList_11.parquet', '../../../data/nieves/expt1/gt_scenario_2_normal_50single_MoleculeList_33.parquet', '../../../data/nieves/expt1/gt_scenario_2_normal_50single_MoleculeList_14.parquet', '../../../data/nieves/expt1/multiple_blinking_scenario_0_mongrad_DetectionList_44.parquet', '../../../data/nieves/expt1/multiple_blinking_scenario_2_normal_50_single_DetectionList_5.parquet', '../../../data/nieves/expt1/gt_scenario_6_elliptical_w_noise_MoleculeList_49.parquet', '../../../data/nieves/expt1/gt_scenario_9_dsigsden_new_MoleculeList_21.parquet', '../../../data/nieves/expt1/gt_scenario_4_lowden_MoleculeList_43.parquet', '../../../data/nieves/expt1/multiple_blinking_scenario_3_normal_80single_new_DetectionList_40.parquet', '../../../data/nieves/expt1/multiple_blinking_scenario_8_diffden_DetectionList32.parquet', '../../../data/nieves/expt1/multiple_blinking_scenario_3_normal_80single_new_DetectionList_32.parquet', '../../../data/nieves/expt1/gt_scenario_7_diffsig_MoleculeList_36.parquet', '../../../data/nieves/expt1/multiple_blinking_scenario_8_diffden_DetectionList38.parquet', '../../../data/nieves/expt1/multiple_blinking_scenario_2_normal_50_single_DetectionList_14.parquet', '../../../data/nieves/expt1/gt_scenario_4_lowden_MoleculeList_44.parquet', '../../../data/nieves/expt1/gt_scenario_6_elliptical_w_noise_MoleculeList_40.parquet', '../../../data/nieves/expt1/gt_scenario_1_CSR_MoleculeList_39.parquet', '../../../data/nieves/expt1/multiple_blinking_scenario_4_lowden_DetectionList_40.parquet', '../../../data/nieves/expt1/multiple_blinking_scenario_2_normal_50_single_DetectionList_15.parquet', '../../../data/nieves/expt1/gt_scenario_5_highden_MoleculeList_19.parquet', '../../../data/nieves/expt1/multiple_blinking_scenario_7_diffsig_DetectionList30.parquet', '../../../data/nieves/expt1/multiple_blinking_scenario_2_normal_50_single_DetectionList_32.parquet', '../../../data/nieves/expt1/multiple_blinking_scenario_3_normal_80single_new_DetectionList_41.parquet', '../../../data/nieves/expt1/multiple_blinking_scenario_0_mongrad_DetectionList_4.parquet', '../../../data/nieves/expt1/multiple_blinking_scenario_9_dsigsden_new_DetectionList_47.parquet', '../../../data/nieves/expt1/gt_scenario_3_normal_80single_new_MoleculeList_37.parquet', '../../../data/nieves/expt1/multiple_blinking_scenario_6_elliptical_w_noise_DetectionList_30.parquet', '../../../data/nieves/expt1/multiple_blinking_scenario_8_diffden_DetectionList44.parquet', '../../../data/nieves/expt1/gt_scenario_1_CSR_MoleculeList_38.parquet', '../../../data/nieves/expt1/gt_scenario_2_normal_50single_MoleculeList_2.parquet', '../../../data/nieves/expt1/gt_scenario_0_mongrad_MoleculeList_40.parquet', '../../../data/nieves/expt1/multiple_blinking_scenario_7_diffsig_DetectionList4.parquet', '../../../data/nieves/expt1/multiple_blinking_scenario_2_normal_50_single_DetectionList_33.parquet', '../../../data/nieves/expt1/multiple_blinking_scenario_3_normal_80single_new_DetectionList_46.parquet', '../../../data/nieves/expt1/multiple_blinking_scenario_6_elliptical_w_noise_DetectionList_11.parquet', '../../../data/nieves/expt1/gt_scenario_9_dsigsden_new_MoleculeList_31.parquet', '../../../data/nieves/expt1/gt_scenario_6_elliptical_w_noise_MoleculeList_46.parquet', '../../../data/nieves/expt1/gt_scenario_4_lowden_MoleculeList_14.parquet', '../../../data/nieves/expt1/multiple_blinking_scenario_5_highden_DetectionList_45.parquet', '../../../data/nieves/expt1/multiple_blinking_scenario_6_elliptical_w_noise_DetectionList_47.parquet', '../../../data/nieves/expt1/multiple_blinking_scenario_4_lowden_DetectionList_11.parquet', '../../../data/nieves/expt1/gt_scenario_6_elliptical_w_noise_MoleculeList_29.parquet', '../../../data/nieves/expt1/gt_scenario_5_highden_MoleculeList_35.parquet', '../../../data/nieves/expt1/gt_scenario_4_lowden_MoleculeList_34.parquet', '../../../data/nieves/expt1/gt_scenario_4_lowden_MoleculeList_12.parquet', '../../../data/nieves/expt1/gt_scenario_2_normal_50single_MoleculeList_29.parquet', '../../../data/nieves/expt1/gt_scenario_5_highden_MoleculeList_14.parquet', '../../../data/nieves/expt1/gt_scenario_4_lowden_MoleculeList_22.parquet', '../../../data/nieves/expt1/gt_scenario_3_normal_80single_new_MoleculeList_2.parquet', '../../../data/nieves/expt1/gt_scenario_6_elliptical_w_noise_MoleculeList_32.parquet', '../../../data/nieves/expt1/gt_scenario_8_diffden_MoleculeList_47.parquet', '../../../data/nieves/expt1/gt_scenario_7_diffsig_MoleculeList_2.parquet', '../../../data/nieves/expt1/gt_scenario_0_mongrad_MoleculeList_7.parquet', '../../../data/nieves/expt1/gt_scenario_8_diffden_MoleculeList_49.parquet', '../../../data/nieves/expt1/multiple_blinking_scenario_9_dsigsden_new_DetectionList_21.parquet', '../../../data/nieves/expt1/gt_scenario_7_diffsig_MoleculeList_43.parquet', '../../../data/nieves/expt1/multiple_blinking_scenario_9_dsigsden_new_DetectionList_5.parquet', '../../../data/nieves/expt1/gt_scenario_7_diffsig_MoleculeList_28.parquet', '../../../data/nieves/expt1/multiple_blinking_scenario_3_normal_80single_new_DetectionList_8.parquet', '../../../data/nieves/expt1/gt_scenario_6_elliptical_w_noise_MoleculeList_37.parquet', '../../../data/nieves/expt1/multiple_blinking_scenario_7_diffsig_DetectionList27.parquet', '../../../data/nieves/expt1/gt_scenario_1_CSR_MoleculeList_33.parquet', '../../../data/nieves/expt1/multiple_blinking_scenario_8_diffden_DetectionList25.parquet', '../../../data/nieves/expt1/gt_scenario_7_diffsig_MoleculeList_31.parquet', '../../../data/nieves/expt1/multiple_blinking_scenario_7_diffsig_DetectionList22.parquet', '../../../data/nieves/expt1/gt_scenario_4_lowden_MoleculeList_5.parquet', '../../../data/nieves/expt1/multiple_blinking_scenario_3_normal_80single_new_DetectionList_2.parquet', '../../../data/nieves/expt1/gt_scenario_5_highden_MoleculeList_2.parquet', '../../../data/nieves/expt1/gt_scenario_1_CSR_MoleculeList_4.parquet', '../../../data/nieves/expt1/gt_scenario_1_CSR_MoleculeList_24.parquet', '../../../data/nieves/expt1/gt_scenario_8_diffden_MoleculeList_13.parquet', '../../../data/nieves/expt1/multiple_blinking_scenario_3_normal_80single_new_DetectionList_47.parquet', '../../../data/nieves/expt1/gt_scenario_8_diffden_MoleculeList_27.parquet', '../../../data/nieves/expt1/gt_scenario_9_dsigsden_new_MoleculeList_5.parquet', '../../../data/nieves/expt1/multiple_blinking_scenario_0_mongrad_DetectionList_12.parquet', '../../../data/nieves/expt1/multiple_blinking_scenario_7_diffsig_DetectionList6.parquet', '../../../data/nieves/expt1/gt_scenario_5_highden_MoleculeList_50.parquet', '../../../data/nieves/expt1/multiple_blinking_scenario_8_diffden_DetectionList29.parquet', '../../../data/nieves/expt1/multiple_blinking_scenario_2_normal_50_single_DetectionList_23.parquet', '../../../data/nieves/expt1/gt_scenario_6_elliptical_w_noise_MoleculeList_25.parquet', '../../../data/nieves/expt1/multiple_blinking_scenario_5_highden_DetectionList_3.parquet', '../../../data/nieves/expt1/multiple_blinking_scenario_5_highden_DetectionList_6.parquet', '../../../data/nieves/expt1/gt_scenario_3_normal_80single_new_MoleculeList_41.parquet', '../../../data/nieves/expt1/gt_scenario_3_normal_80single_new_MoleculeList_47.parquet', '../../../data/nieves/expt1/multiple_blinking_scenario_8_diffden_DetectionList43.parquet', '../../../data/nieves/expt1/gt_scenario_9_dsigsden_new_MoleculeList_50.parquet', '../../../data/nieves/expt1/gt_scenario_2_normal_50single_MoleculeList_41.parquet', '../../../data/nieves/expt1/gt_scenario_2_normal_50single_MoleculeList_38.parquet', '../../../data/nieves/expt1/gt_scenario_0_mongrad_MoleculeList_15.parquet', '../../../data/nieves/expt1/gt_scenario_2_normal_50single_MoleculeList_15.parquet', '../../../data/nieves/expt1/multiple_blinking_scenario_8_diffden_DetectionList19.parquet', '../../../data/nieves/expt1/multiple_blinking_scenario_9_dsigsden_new_DetectionList_25.parquet', '../../../data/nieves/expt1/gt_scenario_8_diffden_MoleculeList_7.parquet', '../../../data/nieves/expt1/multiple_blinking_scenario_3_normal_80single_new_DetectionList_50.parquet', '../../../data/nieves/expt1/multiple_blinking_scenario_5_highden_DetectionList_46.parquet', '../../../data/nieves/expt1/gt_scenario_0_mongrad_MoleculeList_41.parquet', '../../../data/nieves/expt1/multiple_blinking_scenario_0_mongrad_DetectionList_40.parquet', '../../../data/nieves/expt1/gt_scenario_8_diffden_MoleculeList_9.parquet', '../../../data/nieves/expt1/multiple_blinking_scenario_5_highden_DetectionList_42.parquet', '../../../data/nieves/expt1/gt_scenario_1_CSR_MoleculeList_50.parquet', '../../../data/nieves/expt1/gt_scenario_4_lowden_MoleculeList_42.parquet', '../../../data/nieves/expt1/gt_scenario_5_highden_MoleculeList_18.parquet', '../../../data/nieves/expt1/multiple_blinking_scenario_7_diffsig_DetectionList10.parquet', '../../../data/nieves/expt1/multiple_blinking_scenario_6_elliptical_w_noise_DetectionList_14.parquet', '../../../data/nieves/expt1/multiple_blinking_scenario_4_lowden_DetectionList_24.parquet', '../../../data/nieves/expt1/gt_scenario_1_CSR_MoleculeList_11.parquet', '../../../data/nieves/expt1/multiple_blinking_scenario_6_elliptical_w_noise_DetectionList_24.parquet', '../../../data/nieves/expt1/gt_scenario_3_normal_80single_new_MoleculeList_39.parquet', '../../../data/nieves/expt1/gt_scenario_8_diffden_MoleculeList_16.parquet', '../../../data/nieves/expt1/gt_scenario_2_normal_50single_MoleculeList_46.parquet', '../../../data/nieves/expt1/gt_scenario_9_dsigsden_new_MoleculeList_12.parquet', '../../../data/nieves/expt1/gt_scenario_9_dsigsden_new_MoleculeList_26.parquet', '../../../data/nieves/expt1/gt_scenario_7_diffsig_MoleculeList_27.parquet', '../../../data/nieves/expt1/gt_scenario_5_highden_MoleculeList_43.parquet', '../../../data/nieves/expt1/gt_scenario_3_normal_80single_new_MoleculeList_26.parquet', '../../../data/nieves/expt1/multiple_blinking_scenario_2_normal_50_single_DetectionList_22.parquet', '../../../data/nieves/expt1/gt_scenario_3_normal_80single_new_MoleculeList_16.parquet', '../../../data/nieves/expt1/multiple_blinking_scenario_6_elliptical_w_noise_DetectionList_49.parquet', '../../../data/nieves/expt1/gt_scenario_9_dsigsden_new_MoleculeList_46.parquet', '../../../data/nieves/expt1/multiple_blinking_scenario_0_mongrad_DetectionList_35.parquet', '../../../data/nieves/expt1/gt_scenario_9_dsigsden_new_MoleculeList_25.parquet', '../../../data/nieves/expt1/multiple_blinking_scenario_5_highden_DetectionList_13.parquet', '../../../data/nieves/expt1/gt_scenario_5_highden_MoleculeList_6.parquet', '../../../data/nieves/expt1/gt_scenario_4_lowden_MoleculeList_38.parquet', '../../../data/nieves/expt1/gt_scenario_3_normal_80single_new_MoleculeList_10.parquet', '../../../data/nieves/expt1/gt_scenario_8_diffden_MoleculeList_32.parquet', '../../../data/nieves/expt1/multiple_blinking_scenario_7_diffsig_DetectionList17.parquet', '../../../data/nieves/expt1/multiple_blinking_scenario_7_diffsig_DetectionList2.parquet', '../../../data/nieves/expt1/multiple_blinking_scenario_5_highden_DetectionList_33.parquet', '../../../data/nieves/expt1/multiple_blinking_scenario_4_lowden_DetectionList_32.parquet', '../../../data/nieves/expt1/multiple_blinking_scenario_6_elliptical_w_noise_DetectionList_43.parquet', '../../../data/nieves/expt1/multiple_blinking_scenario_3_normal_80single_new_DetectionList_16.parquet', '../../../data/nieves/expt1/gt_scenario_9_dsigsden_new_MoleculeList_2.parquet', '../../../data/nieves/expt1/multiple_blinking_scenario_2_normal_50_single_DetectionList_34.parquet', '../../../data/nieves/expt1/multiple_blinking_scenario_0_mongrad_DetectionList_45.parquet', '../../../data/nieves/expt1/multiple_blinking_scenario_6_elliptical_w_noise_DetectionList_31.parquet', '../../../data/nieves/expt1/multiple_blinking_scenario_6_elliptical_w_noise_DetectionList_36.parquet', '../../../data/nieves/expt1/multiple_blinking_scenario_6_elliptical_w_noise_DetectionList_17.parquet', '../../../data/nieves/expt1/gt_scenario_6_elliptical_w_noise_MoleculeList_1.parquet', '../../../data/nieves/expt1/gt_scenario_7_diffsig_MoleculeList_32.parquet', '../../../data/nieves/expt1/multiple_blinking_scenario_4_lowden_DetectionList_42.parquet', '../../../data/nieves/expt1/gt_scenario_2_normal_50single_MoleculeList_5.parquet', '../../../data/nieves/expt1/multiple_blinking_scenario_4_lowden_DetectionList_28.parquet', '../../../data/nieves/expt1/gt_scenario_1_CSR_MoleculeList_31.parquet', '../../../data/nieves/expt1/gt_scenario_7_diffsig_MoleculeList_46.parquet', '../../../data/nieves/expt1/multiple_blinking_scenario_8_diffden_DetectionList11.parquet', '../../../data/nieves/expt1/gt_scenario_8_diffden_MoleculeList_33.parquet', '../../../data/nieves/expt1/multiple_blinking_scenario_5_highden_DetectionList_27.parquet', '../../../data/nieves/expt1/gt_scenario_8_diffden_MoleculeList_25.parquet', '../../../data/nieves/expt1/gt_scenario_9_dsigsden_new_MoleculeList_36.parquet', '../../../data/nieves/expt1/gt_scenario_5_highden_MoleculeList_26.parquet', '../../../data/nieves/expt1/multiple_blinking_scenario_9_dsigsden_new_DetectionList_18.parquet', '../../../data/nieves/expt1/gt_scenario_1_CSR_MoleculeList_1.parquet', '../../../data/nieves/expt1/multiple_blinking_scenario_9_dsigsden_new_DetectionList_14.parquet', '../../../data/nieves/expt1/gt_scenario_6_elliptical_w_noise_MoleculeList_26.parquet', '../../../data/nieves/expt1/gt_scenario_1_CSR_MoleculeList_21.parquet', '../../../data/nieves/expt1/gt_scenario_8_diffden_MoleculeList_40.parquet', '../../../data/nieves/expt1/gt_scenario_5_highden_MoleculeList_37.parquet', '../../../data/nieves/expt1/multiple_blinking_scenario_2_normal_50_single_DetectionList_29.parquet', '../../../data/nieves/expt1/multiple_blinking_scenario_4_lowden_DetectionList_23.parquet', '../../../data/nieves/expt1/gt_scenario_5_highden_MoleculeList_10.parquet', '../../../data/nieves/expt1/multiple_blinking_scenario_7_diffsig_DetectionList11.parquet', '../../../data/nieves/expt1/gt_scenario_6_elliptical_w_noise_MoleculeList_44.parquet', '../../../data/nieves/expt1/gt_scenario_0_mongrad_MoleculeList_47.parquet', '../../../data/nieves/expt1/multiple_blinking_scenario_7_diffsig_DetectionList38.parquet', '../../../data/nieves/expt1/gt_scenario_0_mongrad_MoleculeList_16.parquet', '../../../data/nieves/expt1/gt_scenario_4_lowden_MoleculeList_16.parquet', '../../../data/nieves/expt1/gt_scenario_4_lowden_MoleculeList_29.parquet', '../../../data/nieves/expt1/gt_scenario_8_diffden_MoleculeList_31.parquet', '../../../data/nieves/expt1/multiple_blinking_scenario_7_diffsig_DetectionList29.parquet', '../../../data/nieves/expt1/gt_scenario_9_dsigsden_new_MoleculeList_49.parquet', '../../../data/nieves/expt1/gt_scenario_7_diffsig_MoleculeList_45.parquet', '../../../data/nieves/expt1/gt_scenario_8_diffden_MoleculeList_15.parquet', '../../../data/nieves/expt1/gt_scenario_8_diffden_MoleculeList_18.parquet', '../../../data/nieves/expt1/gt_scenario_6_elliptical_w_noise_MoleculeList_42.parquet', '../../../data/nieves/expt1/gt_scenario_1_CSR_MoleculeList_12.parquet', '../../../data/nieves/expt1/multiple_blinking_scenario_4_lowden_DetectionList_44.parquet', '../../../data/nieves/expt1/gt_scenario_5_highden_MoleculeList_24.parquet', '../../../data/nieves/expt1/gt_scenario_8_diffden_MoleculeList_5.parquet', '../../../data/nieves/expt1/multiple_blinking_scenario_3_normal_80single_new_DetectionList_48.parquet', '../../../data/nieves/expt1/multiple_blinking_scenario_0_mongrad_DetectionList_29.parquet', '../../../data/nieves/expt1/gt_scenario_3_normal_80single_new_MoleculeList_12.parquet', '../../../data/nieves/expt1/gt_scenario_4_lowden_MoleculeList_11.parquet', '../../../data/nieves/expt1/multiple_blinking_scenario_0_mongrad_DetectionList_26.parquet', '../../../data/nieves/expt1/gt_scenario_6_elliptical_w_noise_MoleculeList_16.parquet', '../../../data/nieves/expt1/multiple_blinking_scenario_6_elliptical_w_noise_DetectionList_29.parquet', '../../../data/nieves/expt1/gt_scenario_0_mongrad_MoleculeList_17.parquet', '../../../data/nieves/expt1/gt_scenario_5_highden_MoleculeList_4.parquet', '../../../data/nieves/expt1/gt_scenario_7_diffsig_MoleculeList_42.parquet', '../../../data/nieves/expt1/multiple_blinking_scenario_8_diffden_DetectionList50.parquet', '../../../data/nieves/expt1/multiple_blinking_scenario_9_dsigsden_new_DetectionList_33.parquet', '../../../data/nieves/expt1/gt_scenario_3_normal_80single_new_MoleculeList_44.parquet', '../../../data/nieves/expt1/multiple_blinking_scenario_2_normal_50_single_DetectionList_3.parquet', '../../../data/nieves/expt1/multiple_blinking_scenario_9_dsigsden_new_DetectionList_10.parquet', '../../../data/nieves/expt1/gt_scenario_8_diffden_MoleculeList_48.parquet', '../../../data/nieves/expt1/gt_scenario_3_normal_80single_new_MoleculeList_28.parquet', '../../../data/nieves/expt1/gt_scenario_3_normal_80single_new_MoleculeList_45.parquet', '../../../data/nieves/expt1/gt_scenario_6_elliptical_w_noise_MoleculeList_39.parquet', '../../../data/nieves/expt1/gt_scenario_4_lowden_MoleculeList_4.parquet', '../../../data/nieves/expt1/gt_scenario_0_mongrad_MoleculeList_27.parquet', '../../../data/nieves/expt1/multiple_blinking_scenario_6_elliptical_w_noise_DetectionList_16.parquet', '../../../data/nieves/expt1/gt_scenario_2_normal_50single_MoleculeList_32.parquet', '../../../data/nieves/expt1/multiple_blinking_scenario_5_highden_DetectionList_38.parquet', '../../../data/nieves/expt1/multiple_blinking_scenario_6_elliptical_w_noise_DetectionList_9.parquet', '../../../data/nieves/expt1/multiple_blinking_scenario_7_diffsig_DetectionList47.parquet', '../../../data/nieves/expt1/multiple_blinking_scenario_2_normal_50_single_DetectionList_6.parquet', '../../../data/nieves/expt1/multiple_blinking_scenario_8_diffden_DetectionList1.parquet', '../../../data/nieves/expt1/multiple_blinking_scenario_3_normal_80single_new_DetectionList_18.parquet', '../../../data/nieves/expt1/gt_scenario_9_dsigsden_new_MoleculeList_23.parquet', '../../../data/nieves/expt1/gt_scenario_8_diffden_MoleculeList_34.parquet', '../../../data/nieves/expt1/multiple_blinking_scenario_4_lowden_DetectionList_41.parquet', '../../../data/nieves/expt1/multiple_blinking_scenario_9_dsigsden_new_DetectionList_40.parquet', '../../../data/nieves/expt1/gt_scenario_6_elliptical_w_noise_MoleculeList_15.parquet', '../../../data/nieves/expt1/multiple_blinking_scenario_8_diffden_DetectionList46.parquet', '../../../data/nieves/expt1/multiple_blinking_scenario_4_lowden_DetectionList_21.parquet', '../../../data/nieves/expt1/gt_scenario_9_dsigsden_new_MoleculeList_9.parquet', '../../../data/nieves/expt1/multiple_blinking_scenario_8_diffden_DetectionList31.parquet', '../../../data/nieves/expt1/gt_scenario_5_highden_MoleculeList_12.parquet', '../../../data/nieves/expt1/gt_scenario_7_diffsig_MoleculeList_29.parquet', '../../../data/nieves/expt1/multiple_blinking_scenario_6_elliptical_w_noise_DetectionList_39.parquet', '../../../data/nieves/expt1/multiple_blinking_scenario_3_normal_80single_new_DetectionList_28.parquet', '../../../data/nieves/expt1/gt_scenario_9_dsigsden_new_MoleculeList_43.parquet', '../../../data/nieves/expt1/multiple_blinking_scenario_8_diffden_DetectionList35.parquet', '../../../data/nieves/expt1/multiple_blinking_scenario_7_diffsig_DetectionList12.parquet', '../../../data/nieves/expt1/gt_scenario_0_mongrad_MoleculeList_2.parquet', '../../../data/nieves/expt1/multiple_blinking_scenario_9_dsigsden_new_DetectionList_3.parquet', '../../../data/nieves/expt1/multiple_blinking_scenario_4_lowden_DetectionList_29.parquet', '../../../data/nieves/expt1/gt_scenario_2_normal_50single_MoleculeList_44.parquet', '../../../data/nieves/expt1/multiple_blinking_scenario_3_normal_80single_new_DetectionList_3.parquet', '../../../data/nieves/expt1/gt_scenario_1_CSR_MoleculeList_7.parquet', '../../../data/nieves/expt1/multiple_blinking_scenario_3_normal_80single_new_DetectionList_7.parquet', '../../../data/nieves/expt1/multiple_blinking_scenario_7_diffsig_DetectionList31.parquet', '../../../data/nieves/expt1/multiple_blinking_scenario_3_normal_80single_new_DetectionList_9.parquet', '../../../data/nieves/expt1/gt_scenario_2_normal_50single_MoleculeList_21.parquet', '../../../data/nieves/expt1/multiple_blinking_scenario_8_diffden_DetectionList41.parquet', '../../../data/nieves/expt1/multiple_blinking_scenario_9_dsigsden_new_DetectionList_49.parquet', '../../../data/nieves/expt1/gt_scenario_1_CSR_MoleculeList_45.parquet', '../../../data/nieves/expt1/gt_scenario_6_elliptical_w_noise_MoleculeList_43.parquet', '../../../data/nieves/expt1/multiple_blinking_scenario_8_diffden_DetectionList47.parquet', '../../../data/nieves/expt1/gt_scenario_3_normal_80single_new_MoleculeList_48.parquet', '../../../data/nieves/expt1/gt_scenario_5_highden_MoleculeList_22.parquet', '../../../data/nieves/expt1/multiple_blinking_scenario_4_lowden_DetectionList_16.parquet', '../../../data/nieves/expt1/gt_scenario_8_diffden_MoleculeList_20.parquet', '../../../data/nieves/expt1/multiple_blinking_scenario_4_lowden_DetectionList_49.parquet', '../../../data/nieves/expt1/gt_scenario_1_CSR_MoleculeList_25.parquet', '../../../data/nieves/expt1/gt_scenario_3_normal_80single_new_MoleculeList_13.parquet', '../../../data/nieves/expt1/multiple_blinking_scenario_6_elliptical_w_noise_DetectionList_35.parquet', '../../../data/nieves/expt1/gt_scenario_3_normal_80single_new_MoleculeList_27.parquet', '../../../data/nieves/expt1/multiple_blinking_scenario_0_mongrad_DetectionList_42.parquet', '../../../data/nieves/expt1/multiple_blinking_scenario_3_normal_80single_new_DetectionList_15.parquet', '../../../data/nieves/expt1/gt_scenario_5_highden_MoleculeList_45.parquet', '../../../data/nieves/expt1/gt_scenario_0_mongrad_MoleculeList_31.parquet', '../../../data/nieves/expt1/multiple_blinking_scenario_5_highden_DetectionList_8.parquet', '../../../data/nieves/expt1/gt_scenario_7_diffsig_MoleculeList_16.parquet', '../../../data/nieves/expt1/multiple_blinking_scenario_9_dsigsden_new_DetectionList_1.parquet', '../../../data/nieves/expt1/gt_scenario_9_dsigsden_new_MoleculeList_45.parquet', '../../../data/nieves/expt1/multiple_blinking_scenario_8_diffden_DetectionList15.parquet', '../../../data/nieves/expt1/multiple_blinking_scenario_5_highden_DetectionList_30.parquet', '../../../data/nieves/expt1/gt_scenario_5_highden_MoleculeList_29.parquet', '../../../data/nieves/expt1/gt_scenario_3_normal_80single_new_MoleculeList_14.parquet', '../../../data/nieves/expt1/multiple_blinking_scenario_5_highden_DetectionList_29.parquet', '../../../data/nieves/expt1/multiple_blinking_scenario_6_elliptical_w_noise_DetectionList_19.parquet', '../../../data/nieves/expt1/gt_scenario_6_elliptical_w_noise_MoleculeList_50.parquet', '../../../data/nieves/expt1/gt_scenario_7_diffsig_MoleculeList_22.parquet', '../../../data/nieves/expt1/gt_scenario_5_highden_MoleculeList_47.parquet', '../../../data/nieves/expt1/multiple_blinking_scenario_5_highden_DetectionList_48.parquet', '../../../data/nieves/expt1/gt_scenario_0_mongrad_MoleculeList_8.parquet', '../../../data/nieves/expt1/gt_scenario_5_highden_MoleculeList_21.parquet', '../../../data/nieves/expt1/gt_scenario_6_elliptical_w_noise_MoleculeList_22.parquet', '../../../data/nieves/expt1/gt_scenario_1_CSR_MoleculeList_8.parquet', '../../../data/nieves/expt1/gt_scenario_1_CSR_MoleculeList_34.parquet', '../../../data/nieves/expt1/gt_scenario_0_mongrad_MoleculeList_35.parquet', '../../../data/nieves/expt1/gt_scenario_4_lowden_MoleculeList_20.parquet', '../../../data/nieves/expt1/multiple_blinking_scenario_6_elliptical_w_noise_DetectionList_22.parquet', '../../../data/nieves/expt1/multiple_blinking_scenario_5_highden_DetectionList_7.parquet', '../../../data/nieves/expt1/gt_scenario_5_highden_MoleculeList_33.parquet', '../../../data/nieves/expt1/gt_scenario_2_normal_50single_MoleculeList_50.parquet', '../../../data/nieves/expt1/gt_scenario_6_elliptical_w_noise_MoleculeList_4.parquet', '../../../data/nieves/expt1/gt_scenario_7_diffsig_MoleculeList_20.parquet', '../../../data/nieves/expt1/multiple_blinking_scenario_0_mongrad_DetectionList_47.parquet', '../../../data/nieves/expt1/multiple_blinking_scenario_5_highden_DetectionList_10.parquet', '../../../data/nieves/expt1/gt_scenario_8_diffden_MoleculeList_21.parquet', '../../../data/nieves/expt1/gt_scenario_0_mongrad_MoleculeList_20.parquet', '../../../data/nieves/expt1/multiple_blinking_scenario_3_normal_80single_new_DetectionList_43.parquet', '../../../data/nieves/expt1/gt_scenario_0_mongrad_MoleculeList_34.parquet', '../../../data/nieves/expt1/multiple_blinking_scenario_0_mongrad_DetectionList_16.parquet', '../../../data/nieves/expt1/multiple_blinking_scenario_4_lowden_DetectionList_38.parquet', '../../../data/nieves/expt1/gt_scenario_2_normal_50single_MoleculeList_20.parquet', '../../../data/nieves/expt1/multiple_blinking_scenario_2_normal_50_single_DetectionList_38.parquet', '../../../data/nieves/expt1/gt_scenario_8_diffden_MoleculeList_37.parquet', '../../../data/nieves/expt1/multiple_blinking_scenario_4_lowden_DetectionList_50.parquet', '../../../data/nieves/expt1/multiple_blinking_scenario_2_normal_50_single_DetectionList_18.parquet', '../../../data/nieves/expt1/gt_scenario_2_normal_50single_MoleculeList_39.parquet', '../../../data/nieves/expt1/multiple_blinking_scenario_3_normal_80single_new_DetectionList_37.parquet', '../../../data/nieves/expt1/gt_scenario_8_diffden_MoleculeList_12.parquet', '../../../data/nieves/expt1/multiple_blinking_scenario_7_diffsig_DetectionList24.parquet', '../../../data/nieves/expt1/gt_scenario_1_CSR_MoleculeList_37.parquet', '../../../data/nieves/expt1/gt_scenario_5_highden_MoleculeList_42.parquet', '../../../data/nieves/expt1/gt_scenario_6_elliptical_w_noise_MoleculeList_31.parquet', '../../../data/nieves/expt1/multiple_blinking_scenario_5_highden_DetectionList_44.parquet', '../../../data/nieves/expt1/gt_scenario_2_normal_50single_MoleculeList_6.parquet', '../../../data/nieves/expt1/multiple_blinking_scenario_3_normal_80single_new_DetectionList_21.parquet', '../../../data/nieves/expt1/multiple_blinking_scenario_8_diffden_DetectionList42.parquet', '../../../data/nieves/expt1/multiple_blinking_scenario_3_normal_80single_new_DetectionList_14.parquet', '../../../data/nieves/expt1/multiple_blinking_scenario_4_lowden_DetectionList_46.parquet', '../../../data/nieves/expt1/multiple_blinking_scenario_7_diffsig_DetectionList50.parquet', '../../../data/nieves/expt1/multiple_blinking_scenario_6_elliptical_w_noise_DetectionList_8.parquet', '../../../data/nieves/expt1/multiple_blinking_scenario_0_mongrad_DetectionList_23.parquet', '../../../data/nieves/expt1/multiple_blinking_scenario_0_mongrad_DetectionList_32.parquet', '../../../data/nieves/expt1/gt_scenario_7_diffsig_MoleculeList_15.parquet', '../../../data/nieves/expt1/gt_scenario_8_diffden_MoleculeList_28.parquet', '../../../data/nieves/expt1/gt_scenario_2_normal_50single_MoleculeList_24.parquet', '../../../data/nieves/expt1/gt_scenario_4_lowden_MoleculeList_36.parquet', '../../../data/nieves/expt1/multiple_blinking_scenario_0_mongrad_DetectionList_8.parquet', '../../../data/nieves/expt1/multiple_blinking_scenario_7_diffsig_DetectionList7.parquet', '../../../data/nieves/expt1/gt_scenario_4_lowden_MoleculeList_15.parquet', '../../../data/nieves/expt1/multiple_blinking_scenario_4_lowden_DetectionList_7.parquet', '../../../data/nieves/expt1/multiple_blinking_scenario_4_lowden_DetectionList_37.parquet', '../../../data/nieves/expt1/gt_scenario_1_CSR_MoleculeList_9.parquet', '../../../data/nieves/expt1/multiple_blinking_scenario_2_normal_50_single_DetectionList_35.parquet', '../../../data/nieves/expt1/gt_scenario_6_elliptical_w_noise_MoleculeList_8.parquet', '../../../data/nieves/expt1/multiple_blinking_scenario_6_elliptical_w_noise_DetectionList_4.parquet', '../../../data/nieves/expt1/gt_scenario_2_normal_50single_MoleculeList_10.parquet', '../../../data/nieves/expt1/multiple_blinking_scenario_3_normal_80single_new_DetectionList_5.parquet', '../../../data/nieves/expt1/gt_scenario_2_normal_50single_MoleculeList_47.parquet', '../../../data/nieves/expt1/gt_scenario_5_highden_MoleculeList_3.parquet', '../../../data/nieves/expt1/gt_scenario_1_CSR_MoleculeList_26.parquet', '../../../data/nieves/expt1/multiple_blinking_scenario_9_dsigsden_new_DetectionList_34.parquet', '../../../data/nieves/expt1/multiple_blinking_scenario_9_dsigsden_new_DetectionList_37.parquet', '../../../data/nieves/expt1/multiple_blinking_scenario_6_elliptical_w_noise_DetectionList_32.parquet', '../../../data/nieves/expt1/multiple_blinking_scenario_5_highden_DetectionList_41.parquet', '../../../data/nieves/expt1/multiple_blinking_scenario_2_normal_50_single_DetectionList_4.parquet', '../../../data/nieves/expt1/gt_scenario_6_elliptical_w_noise_MoleculeList_6.parquet', '../../../data/nieves/expt1/multiple_blinking_scenario_0_mongrad_DetectionList_46.parquet', '../../../data/nieves/expt1/multiple_blinking_scenario_3_normal_80single_new_DetectionList_11.parquet', '../../../data/nieves/expt1/gt_scenario_7_diffsig_MoleculeList_23.parquet', '../../../data/nieves/expt1/gt_scenario_9_dsigsden_new_MoleculeList_17.parquet', '../../../data/nieves/expt1/gt_scenario_2_normal_50single_MoleculeList_45.parquet', '../../../data/nieves/expt1/multiple_blinking_scenario_8_diffden_DetectionList3.parquet', '../../../data/nieves/expt1/gt_scenario_6_elliptical_w_noise_MoleculeList_19.parquet', '../../../data/nieves/expt1/multiple_blinking_scenario_9_dsigsden_new_DetectionList_43.parquet', '../../../data/nieves/expt1/gt_scenario_7_diffsig_MoleculeList_3.parquet', '../../../data/nieves/expt1/multiple_blinking_scenario_2_normal_50_single_DetectionList_21.parquet', '../../../data/nieves/expt1/gt_scenario_4_lowden_MoleculeList_18.parquet', '../../../data/nieves/expt1/multiple_blinking_scenario_0_mongrad_DetectionList_31.parquet', '../../../data/nieves/expt1/gt_scenario_6_elliptical_w_noise_MoleculeList_21.parquet', '../../../data/nieves/expt1/gt_scenario_7_diffsig_MoleculeList_49.parquet', '../../../data/nieves/expt1/gt_scenario_9_dsigsden_new_MoleculeList_3.parquet', '../../../data/nieves/expt1/multiple_blinking_scenario_9_dsigsden_new_DetectionList_9.parquet', '../../../data/nieves/expt1/gt_scenario_8_diffden_MoleculeList_41.parquet', '../../../data/nieves/expt1/multiple_blinking_scenario_2_normal_50_single_DetectionList_11.parquet', '../../../data/nieves/expt1/gt_scenario_1_CSR_MoleculeList_32.parquet', '../../../data/nieves/expt1/multiple_blinking_scenario_3_normal_80single_new_DetectionList_38.parquet', '../../../data/nieves/expt1/multiple_blinking_scenario_2_normal_50_single_DetectionList_40.parquet', '../../../data/nieves/expt1/gt_scenario_5_highden_MoleculeList_13.parquet', '../../../data/nieves/expt1/gt_scenario_5_highden_MoleculeList_5.parquet', '../../../data/nieves/expt1/multiple_blinking_scenario_6_elliptical_w_noise_DetectionList_23.parquet', '../../../data/nieves/expt1/gt_scenario_6_elliptical_w_noise_MoleculeList_13.parquet', '../../../data/nieves/expt1/multiple_blinking_scenario_3_normal_80single_new_DetectionList_49.parquet', '../../../data/nieves/expt1/multiple_blinking_scenario_5_highden_DetectionList_1.parquet', '../../../data/nieves/expt1/gt_scenario_4_lowden_MoleculeList_26.parquet', '../../../data/nieves/expt1/gt_scenario_5_highden_MoleculeList_20.parquet', '../../../data/nieves/expt1/gt_scenario_6_elliptical_w_noise_MoleculeList_3.parquet', '../../../data/nieves/expt1/gt_scenario_6_elliptical_w_noise_MoleculeList_47.parquet', '../../../data/nieves/expt1/gt_scenario_7_diffsig_MoleculeList_19.parquet', '../../../data/nieves/expt1/multiple_blinking_scenario_6_elliptical_w_noise_DetectionList_26.parquet', '../../../data/nieves/expt1/gt_scenario_8_diffden_MoleculeList_14.parquet', '../../../data/nieves/expt1/gt_scenario_9_dsigsden_new_MoleculeList_34.parquet', '../../../data/nieves/expt1/multiple_blinking_scenario_0_mongrad_DetectionList_39.parquet', '../../../data/nieves/expt1/multiple_blinking_scenario_7_diffsig_DetectionList45.parquet', '../../../data/nieves/expt1/multiple_blinking_scenario_7_diffsig_DetectionList28.parquet', '../../../data/nieves/expt1/gt_scenario_4_lowden_MoleculeList_47.parquet', '../../../data/nieves/expt1/gt_scenario_2_normal_50single_MoleculeList_18.parquet', '../../../data/nieves/expt1/gt_scenario_1_CSR_MoleculeList_5.parquet', '../../../data/nieves/expt1/gt_scenario_1_CSR_MoleculeList_30.parquet', '../../../data/nieves/expt1/multiple_blinking_scenario_3_normal_80single_new_DetectionList_13.parquet', '../../../data/nieves/expt1/gt_scenario_8_diffden_MoleculeList_38.parquet', '../../../data/nieves/expt1/multiple_blinking_scenario_0_mongrad_DetectionList_22.parquet', '../../../data/nieves/expt1/gt_scenario_7_diffsig_MoleculeList_13.parquet', '../../../data/nieves/expt1/gt_scenario_7_diffsig_MoleculeList_1.parquet', '../../../data/nieves/expt1/gt_scenario_9_dsigsden_new_MoleculeList_41.parquet', '../../../data/nieves/expt1/multiple_blinking_scenario_8_diffden_DetectionList39.parquet', '../../../data/nieves/expt1/multiple_blinking_scenario_6_elliptical_w_noise_DetectionList_1.parquet', '../../../data/nieves/expt1/multiple_blinking_scenario_6_elliptical_w_noise_DetectionList_15.parquet', '../../../data/nieves/expt1/multiple_blinking_scenario_5_highden_DetectionList_15.parquet', '../../../data/nieves/expt1/multiple_blinking_scenario_2_normal_50_single_DetectionList_46.parquet', '../../../data/nieves/expt1/multiple_blinking_scenario_3_normal_80single_new_DetectionList_25.parquet', '../../../data/nieves/expt1/gt_scenario_4_lowden_MoleculeList_49.parquet', '../../../data/nieves/expt1/multiple_blinking_scenario_2_normal_50_single_DetectionList_17.parquet', '../../../data/nieves/expt1/gt_scenario_1_CSR_MoleculeList_47.parquet', '../../../data/nieves/expt1/gt_scenario_1_CSR_MoleculeList_6.parquet', '../../../data/nieves/expt1/gt_scenario_4_lowden_MoleculeList_48.parquet', '../../../data/nieves/expt1/gt_scenario_1_CSR_MoleculeList_17.parquet', '../../../data/nieves/expt1/gt_scenario_3_normal_80single_new_MoleculeList_22.parquet', '../../../data/nieves/expt1/gt_scenario_8_diffden_MoleculeList_30.parquet', '../../../data/nieves/expt1/gt_scenario_3_normal_80single_new_MoleculeList_6.parquet', '../../../data/nieves/expt1/gt_scenario_6_elliptical_w_noise_MoleculeList_45.parquet', '../../../data/nieves/expt1/gt_scenario_6_elliptical_w_noise_MoleculeList_9.parquet', '../../../data/nieves/expt1/gt_scenario_5_highden_MoleculeList_8.parquet', '../../../data/nieves/expt1/gt_scenario_1_CSR_MoleculeList_13.parquet', '../../../data/nieves/expt1/gt_scenario_4_lowden_MoleculeList_45.parquet', '../../../data/nieves/expt1/gt_scenario_3_normal_80single_new_MoleculeList_34.parquet', '../../../data/nieves/expt1/multiple_blinking_scenario_7_diffsig_DetectionList25.parquet', '../../../data/nieves/expt1/gt_scenario_1_CSR_MoleculeList_29.parquet', '../../../data/nieves/expt1/multiple_blinking_scenario_7_diffsig_DetectionList8.parquet', '../../../data/nieves/expt1/multiple_blinking_scenario_0_mongrad_DetectionList_27.parquet', '../../../data/nieves/expt1/gt_scenario_8_diffden_MoleculeList_26.parquet', '../../../data/nieves/expt1/gt_scenario_3_normal_80single_new_MoleculeList_20.parquet', '../../../data/nieves/expt1/multiple_blinking_scenario_2_normal_50_single_DetectionList_10.parquet', '../../../data/nieves/expt1/gt_scenario_0_mongrad_MoleculeList_9.parquet', '../../../data/nieves/expt1/multiple_blinking_scenario_0_mongrad_DetectionList_13.parquet', '../../../data/nieves/expt1/multiple_blinking_scenario_2_normal_50_single_DetectionList_19.parquet', '../../../data/nieves/expt1/multiple_blinking_scenario_4_lowden_DetectionList_15.parquet', '../../../data/nieves/expt1/multiple_blinking_scenario_9_dsigsden_new_DetectionList_17.parquet', '../../../data/nieves/expt1/multiple_blinking_scenario_9_dsigsden_new_DetectionList_2.parquet', '../../../data/nieves/expt1/gt_scenario_0_mongrad_MoleculeList_22.parquet', '../../../data/nieves/expt1/gt_scenario_6_elliptical_w_noise_MoleculeList_5.parquet', '../../../data/nieves/expt1/gt_scenario_9_dsigsden_new_MoleculeList_19.parquet', '../../../data/nieves/expt1/gt_scenario_9_dsigsden_new_MoleculeList_47.parquet', '../../../data/nieves/expt1/gt_scenario_5_highden_MoleculeList_34.parquet', '../../../data/nieves/expt1/gt_scenario_4_lowden_MoleculeList_13.parquet', '../../../data/nieves/expt1/gt_scenario_9_dsigsden_new_MoleculeList_11.parquet', '../../../data/nieves/expt1/gt_scenario_6_elliptical_w_noise_MoleculeList_48.parquet', '../../../data/nieves/expt1/gt_scenario_9_dsigsden_new_MoleculeList_33.parquet', '../../../data/nieves/expt1/multiple_blinking_scenario_0_mongrad_DetectionList_36.parquet', '../../../data/nieves/expt1/gt_scenario_2_normal_50single_MoleculeList_23.parquet', '../../../data/nieves/expt1/gt_scenario_3_normal_80single_new_MoleculeList_29.parquet', '../../../data/nieves/expt1/gt_scenario_3_normal_80single_new_MoleculeList_43.parquet', '../../../data/nieves/expt1/multiple_blinking_scenario_0_mongrad_DetectionList_9.parquet', '../../../data/nieves/expt1/multiple_blinking_scenario_2_normal_50_single_DetectionList_37.parquet', '../../../data/nieves/expt1/multiple_blinking_scenario_4_lowden_DetectionList_10.parquet', '../../../data/nieves/expt1/gt_scenario_6_elliptical_w_noise_MoleculeList_24.parquet', '../../../data/nieves/expt1/multiple_blinking_scenario_6_elliptical_w_noise_DetectionList_7.parquet', '../../../data/nieves/expt1/multiple_blinking_scenario_2_normal_50_single_DetectionList_45.parquet', '../../../data/nieves/expt1/multiple_blinking_scenario_2_normal_50_single_DetectionList_20.parquet', '../../../data/nieves/expt1/multiple_blinking_scenario_2_normal_50_single_DetectionList_1.parquet', '../../../data/nieves/expt1/multiple_blinking_scenario_7_diffsig_DetectionList13.parquet', '../../../data/nieves/expt1/gt_scenario_0_mongrad_MoleculeList_37.parquet', '../../../data/nieves/expt1/gt_scenario_9_dsigsden_new_MoleculeList_1.parquet', '../../../data/nieves/expt1/multiple_blinking_scenario_4_lowden_DetectionList_20.parquet', '../../../data/nieves/expt1/multiple_blinking_scenario_0_mongrad_DetectionList_14.parquet', '../../../data/nieves/expt1/gt_scenario_5_highden_MoleculeList_15.parquet', '../../../data/nieves/expt1/multiple_blinking_scenario_6_elliptical_w_noise_DetectionList_28.parquet', '../../../data/nieves/expt1/multiple_blinking_scenario_2_normal_50_single_DetectionList_43.parquet', '../../../data/nieves/expt1/multiple_blinking_scenario_9_dsigsden_new_DetectionList_8.parquet', '../../../data/nieves/expt1/multiple_blinking_scenario_7_diffsig_DetectionList40.parquet', '../../../data/nieves/expt1/gt_scenario_1_CSR_MoleculeList_43.parquet', '../../../data/nieves/expt1/gt_scenario_7_diffsig_MoleculeList_21.parquet', '../../../data/nieves/expt1/gt_scenario_1_CSR_MoleculeList_2.parquet', '../../../data/nieves/expt1/multiple_blinking_scenario_5_highden_DetectionList_31.parquet', '../../../data/nieves/expt1/multiple_blinking_scenario_2_normal_50_single_DetectionList_8.parquet', '../../../data/nieves/expt1/gt_scenario_9_dsigsden_new_MoleculeList_14.parquet', '../../../data/nieves/expt1/gt_scenario_0_mongrad_MoleculeList_14.parquet', '../../../data/nieves/expt1/gt_scenario_6_elliptical_w_noise_MoleculeList_12.parquet', '../../../data/nieves/expt1/multiple_blinking_scenario_0_mongrad_DetectionList_3.parquet', '../../../data/nieves/expt1/multiple_blinking_scenario_3_normal_80single_new_DetectionList_1.parquet', '../../../data/nieves/expt1/gt_scenario_5_highden_MoleculeList_49.parquet', '../../../data/nieves/expt1/gt_scenario_1_CSR_MoleculeList_10.parquet', '../../../data/nieves/expt1/multiple_blinking_scenario_4_lowden_DetectionList_17.parquet', '../../../data/nieves/expt1/multiple_blinking_scenario_9_dsigsden_new_DetectionList_48.parquet', '../../../data/nieves/expt1/gt_scenario_8_diffden_MoleculeList_6.parquet', '../../../data/nieves/expt1/gt_scenario_9_dsigsden_new_MoleculeList_27.parquet', '../../../data/nieves/expt1/gt_scenario_3_normal_80single_new_MoleculeList_11.parquet', '../../../data/nieves/expt1/multiple_blinking_scenario_3_normal_80single_new_DetectionList_24.parquet', '../../../data/nieves/expt1/multiple_blinking_scenario_6_elliptical_w_noise_DetectionList_42.parquet', '../../../data/nieves/expt1/gt_scenario_9_dsigsden_new_MoleculeList_18.parquet', '../../../data/nieves/expt1/multiple_blinking_scenario_6_elliptical_w_noise_DetectionList_5.parquet', '../../../data/nieves/expt1/multiple_blinking_scenario_9_dsigsden_new_DetectionList_23.parquet', '../../../data/nieves/expt1/multiple_blinking_scenario_0_mongrad_DetectionList_41.parquet', '../../../data/nieves/expt1/multiple_blinking_scenario_8_diffden_DetectionList9.parquet', '../../../data/nieves/expt1/gt_scenario_0_mongrad_MoleculeList_1.parquet', '../../../data/nieves/expt1/gt_scenario_4_lowden_MoleculeList_17.parquet', '../../../data/nieves/expt1/multiple_blinking_scenario_5_highden_DetectionList_21.parquet', '../../../data/nieves/expt1/multiple_blinking_scenario_6_elliptical_w_noise_DetectionList_6.parquet', '../../../data/nieves/expt1/gt_scenario_2_normal_50single_MoleculeList_9.parquet', '../../../data/nieves/expt1/multiple_blinking_scenario_5_highden_DetectionList_22.parquet', '../../../data/nieves/expt1/gt_scenario_2_normal_50single_MoleculeList_48.parquet', '../../../data/nieves/expt1/gt_scenario_3_normal_80single_new_MoleculeList_35.parquet', '../../../data/nieves/expt1/multiple_blinking_scenario_3_normal_80single_new_DetectionList_35.parquet', '../../../data/nieves/expt1/multiple_blinking_scenario_9_dsigsden_new_DetectionList_28.parquet', '../../../data/nieves/expt1/multiple_blinking_scenario_9_dsigsden_new_DetectionList_19.parquet', '../../../data/nieves/expt1/multiple_blinking_scenario_8_diffden_DetectionList20.parquet', '../../../data/nieves/expt1/multiple_blinking_scenario_7_diffsig_DetectionList16.parquet', '../../../data/nieves/expt1/gt_scenario_9_dsigsden_new_MoleculeList_32.parquet', '../../../data/nieves/expt1/multiple_blinking_scenario_8_diffden_DetectionList48.parquet', '../../../data/nieves/expt1/multiple_blinking_scenario_6_elliptical_w_noise_DetectionList_40.parquet', '../../../data/nieves/expt1/gt_scenario_9_dsigsden_new_MoleculeList_29.parquet', '../../../data/nieves/expt1/gt_scenario_4_lowden_MoleculeList_35.parquet', '../../../data/nieves/expt1/gt_scenario_2_normal_50single_MoleculeList_22.parquet', '../../../data/nieves/expt1/gt_scenario_5_highden_MoleculeList_11.parquet', '../../../data/nieves/expt1/gt_scenario_7_diffsig_MoleculeList_30.parquet', '../../../data/nieves/expt1/gt_scenario_0_mongrad_MoleculeList_23.parquet', '../../../data/nieves/expt1/multiple_blinking_scenario_2_normal_50_single_DetectionList_28.parquet', '../../../data/nieves/expt1/multiple_blinking_scenario_4_lowden_DetectionList_5.parquet', '../../../data/nieves/expt1/multiple_blinking_scenario_0_mongrad_DetectionList_6.parquet', '../../../data/nieves/expt1/multiple_blinking_scenario_5_highden_DetectionList_18.parquet', '../../../data/nieves/expt1/multiple_blinking_scenario_3_normal_80single_new_DetectionList_27.parquet', '../../../data/nieves/expt1/multiple_blinking_scenario_7_diffsig_DetectionList15.parquet', '../../../data/nieves/expt1/gt_scenario_9_dsigsden_new_MoleculeList_24.parquet', '../../../data/nieves/expt1/multiple_blinking_scenario_6_elliptical_w_noise_DetectionList_21.parquet', '../../../data/nieves/expt1/multiple_blinking_scenario_5_highden_DetectionList_11.parquet', '../../../data/nieves/expt1/gt_scenario_4_lowden_MoleculeList_8.parquet', '../../../data/nieves/expt1/multiple_blinking_scenario_9_dsigsden_new_DetectionList_45.parquet', '../../../data/nieves/expt1/gt_scenario_7_diffsig_MoleculeList_5.parquet', '../../../data/nieves/expt1/multiple_blinking_scenario_9_dsigsden_new_DetectionList_36.parquet', '../../../data/nieves/expt1/gt_scenario_6_elliptical_w_noise_MoleculeList_38.parquet', '../../../data/nieves/expt1/multiple_blinking_scenario_7_diffsig_DetectionList36.parquet', '../../../data/nieves/expt1/multiple_blinking_scenario_0_mongrad_DetectionList_19.parquet', '../../../data/nieves/expt1/multiple_blinking_scenario_9_dsigsden_new_DetectionList_31.parquet', '../../../data/nieves/expt1/gt_scenario_0_mongrad_MoleculeList_6.parquet', '../../../data/nieves/expt1/gt_scenario_4_lowden_MoleculeList_30.parquet', '../../../data/nieves/expt1/multiple_blinking_scenario_4_lowden_DetectionList_39.parquet', '../../../data/nieves/expt1/multiple_blinking_scenario_4_lowden_DetectionList_14.parquet', '../../../data/nieves/expt1/multiple_blinking_scenario_3_normal_80single_new_DetectionList_34.parquet', '../../../data/nieves/expt1/gt_scenario_5_highden_MoleculeList_7.parquet', '../../../data/nieves/expt1/multiple_blinking_scenario_2_normal_50_single_DetectionList_41.parquet', '../../../data/nieves/expt1/gt_scenario_2_normal_50single_MoleculeList_16.parquet', '../../../data/nieves/expt1/multiple_blinking_scenario_3_normal_80single_new_DetectionList_6.parquet', '../../../data/nieves/expt1/multiple_blinking_scenario_3_normal_80single_new_DetectionList_4.parquet', '../../../data/nieves/expt1/gt_scenario_9_dsigsden_new_MoleculeList_37.parquet', '../../../data/nieves/expt1/gt_scenario_9_dsigsden_new_MoleculeList_38.parquet', '../../../data/nieves/expt1/multiple_blinking_scenario_5_highden_DetectionList_9.parquet', '../../../data/nieves/expt1/gt_scenario_0_mongrad_MoleculeList_21.parquet', '../../../data/nieves/expt1/gt_scenario_3_normal_80single_new_MoleculeList_30.parquet', '../../../data/nieves/expt1/gt_scenario_4_lowden_MoleculeList_41.parquet', '../../../data/nieves/expt1/multiple_blinking_scenario_7_diffsig_DetectionList14.parquet', '../../../data/nieves/expt1/multiple_blinking_scenario_7_diffsig_DetectionList49.parquet', '../../../data/nieves/expt1/gt_scenario_5_highden_MoleculeList_44.parquet', '../../../data/nieves/expt1/gt_scenario_7_diffsig_MoleculeList_47.parquet', '../../../data/nieves/expt1/gt_scenario_5_highden_MoleculeList_27.parquet', '../../../data/nieves/expt1/gt_scenario_9_dsigsden_new_MoleculeList_22.parquet', '../../../data/nieves/expt1/gt_scenario_6_elliptical_w_noise_MoleculeList_7.parquet', '../../../data/nieves/expt1/gt_scenario_9_dsigsden_new_MoleculeList_7.parquet', '../../../data/nieves/expt1/gt_scenario_0_mongrad_MoleculeList_48.parquet', '../../../data/nieves/expt1/gt_scenario_1_CSR_MoleculeList_15.parquet', '../../../data/nieves/expt1/gt_scenario_9_dsigsden_new_MoleculeList_35.parquet', '../../../data/nieves/expt1/multiple_blinking_scenario_5_highden_DetectionList_16.parquet', '../../../data/nieves/expt1/multiple_blinking_scenario_9_dsigsden_new_DetectionList_6.parquet', '../../../data/nieves/expt1/multiple_blinking_scenario_9_dsigsden_new_DetectionList_50.parquet', '../../../data/nieves/expt1/multiple_blinking_scenario_0_mongrad_DetectionList_38.parquet', '../../../data/nieves/expt1/multiple_blinking_scenario_0_mongrad_DetectionList_37.parquet', '../../../data/nieves/expt1/gt_scenario_0_mongrad_MoleculeList_11.parquet', '../../../data/nieves/expt1/gt_scenario_9_dsigsden_new_MoleculeList_4.parquet', '../../../data/nieves/expt1/gt_scenario_7_diffsig_MoleculeList_12.parquet', '../../../data/nieves/expt1/multiple_blinking_scenario_0_mongrad_DetectionList_18.parquet', '../../../data/nieves/expt1/multiple_blinking_scenario_9_dsigsden_new_DetectionList_41.parquet', '../../../data/nieves/expt1/gt_scenario_7_diffsig_MoleculeList_50.parquet', '../../../data/nieves/expt1/gt_scenario_4_lowden_MoleculeList_3.parquet', '../../../data/nieves/expt1/gt_scenario_7_diffsig_MoleculeList_9.parquet', '../../../data/nieves/expt1/gt_scenario_2_normal_50single_MoleculeList_1.parquet', '../../../data/nieves/expt1/multiple_blinking_scenario_0_mongrad_DetectionList_30.parquet', '../../../data/nieves/expt1/gt_scenario_9_dsigsden_new_MoleculeList_8.parquet', '../../../data/nieves/expt1/multiple_blinking_scenario_8_diffden_DetectionList7.parquet', '../../../data/nieves/expt1/gt_scenario_1_CSR_MoleculeList_22.parquet', '../../../data/nieves/expt1/gt_scenario_3_normal_80single_new_MoleculeList_49.parquet', '../../../data/nieves/expt1/gt_scenario_7_diffsig_MoleculeList_48.parquet', '../../../data/nieves/expt1/multiple_blinking_scenario_8_diffden_DetectionList24.parquet', '../../../data/nieves/expt1/multiple_blinking_scenario_9_dsigsden_new_DetectionList_15.parquet', '../../../data/nieves/expt1/multiple_blinking_scenario_0_mongrad_DetectionList_49.parquet', '../../../data/nieves/expt1/gt_scenario_2_normal_50single_MoleculeList_8.parquet', '../../../data/nieves/expt1/gt_scenario_2_normal_50single_MoleculeList_17.parquet', '../../../data/nieves/expt1/multiple_blinking_scenario_8_diffden_DetectionList12.parquet', '../../../data/nieves/expt1/gt_scenario_8_diffden_MoleculeList_17.parquet', '../../../data/nieves/expt1/gt_scenario_0_mongrad_MoleculeList_44.parquet', '../../../data/nieves/expt1/gt_scenario_3_normal_80single_new_MoleculeList_5.parquet', '../../../data/nieves/expt1/multiple_blinking_scenario_8_diffden_DetectionList14.parquet', '../../../data/nieves/expt1/gt_scenario_8_diffden_MoleculeList_35.parquet', '../../../data/nieves/expt1/gt_scenario_6_elliptical_w_noise_MoleculeList_11.parquet', '../../../data/nieves/expt1/multiple_blinking_scenario_3_normal_80single_new_DetectionList_36.parquet', '../../../data/nieves/expt1/multiple_blinking_scenario_6_elliptical_w_noise_DetectionList_2.parquet', '../../../data/nieves/expt1/gt_scenario_0_mongrad_MoleculeList_26.parquet', '../../../data/nieves/expt1/gt_scenario_5_highden_MoleculeList_1.parquet', '../../../data/nieves/expt1/gt_scenario_6_elliptical_w_noise_MoleculeList_28.parquet', '../../../data/nieves/expt1/gt_scenario_1_CSR_MoleculeList_46.parquet', '../../../data/nieves/expt1/multiple_blinking_scenario_5_highden_DetectionList_39.parquet', '../../../data/nieves/expt1/multiple_blinking_scenario_4_lowden_DetectionList_19.parquet', '../../../data/nieves/expt1/multiple_blinking_scenario_8_diffden_DetectionList13.parquet', '../../../data/nieves/expt1/multiple_blinking_scenario_4_lowden_DetectionList_9.parquet', '../../../data/nieves/expt1/gt_scenario_2_normal_50single_MoleculeList_25.parquet', '../../../data/nieves/expt1/gt_scenario_4_lowden_MoleculeList_40.parquet', '../../../data/nieves/expt1/gt_scenario_8_diffden_MoleculeList_46.parquet', '../../../data/nieves/expt1/gt_scenario_3_normal_80single_new_MoleculeList_38.parquet', '../../../data/nieves/expt1/multiple_blinking_scenario_2_normal_50_single_DetectionList_42.parquet', '../../../data/nieves/expt1/gt_scenario_3_normal_80single_new_MoleculeList_21.parquet', '../../../data/nieves/expt1/gt_scenario_0_mongrad_MoleculeList_42.parquet', '../../../data/nieves/expt1/multiple_blinking_scenario_0_mongrad_DetectionList_24.parquet', '../../../data/nieves/expt1/gt_scenario_8_diffden_MoleculeList_4.parquet', '../../../data/nieves/expt1/multiple_blinking_scenario_7_diffsig_DetectionList3.parquet', '../../../data/nieves/expt1/gt_scenario_4_lowden_MoleculeList_39.parquet', '../../../data/nieves/expt1/gt_scenario_0_mongrad_MoleculeList_38.parquet', '../../../data/nieves/expt1/multiple_blinking_scenario_4_lowden_DetectionList_13.parquet', '../../../data/nieves/expt1/multiple_blinking_scenario_0_mongrad_DetectionList_10.parquet', '../../../data/nieves/expt1/gt_scenario_7_diffsig_MoleculeList_35.parquet', '../../../data/nieves/expt1/multiple_blinking_scenario_7_diffsig_DetectionList18.parquet', '../../../data/nieves/expt1/gt_scenario_1_CSR_MoleculeList_18.parquet', '../../../data/nieves/expt1/multiple_blinking_scenario_2_normal_50_single_DetectionList_24.parquet', '../../../data/nieves/expt1/multiple_blinking_scenario_5_highden_DetectionList_49.parquet', '../../../data/nieves/expt1/multiple_blinking_scenario_9_dsigsden_new_DetectionList_26.parquet', '../../../data/nieves/expt1/multiple_blinking_scenario_9_dsigsden_new_DetectionList_20.parquet', '../../../data/nieves/expt1/multiple_blinking_scenario_0_mongrad_DetectionList_28.parquet', '../../../data/nieves/expt1/gt_scenario_0_mongrad_MoleculeList_4.parquet', '../../../data/nieves/expt1/multiple_blinking_scenario_4_lowden_DetectionList_3.parquet', '../../../data/nieves/expt1/multiple_blinking_scenario_7_diffsig_DetectionList46.parquet', '../../../data/nieves/expt1/multiple_blinking_scenario_3_normal_80single_new_DetectionList_12.parquet', '../../../data/nieves/expt1/multiple_blinking_scenario_9_dsigsden_new_DetectionList_24.parquet', '../../../data/nieves/expt1/multiple_blinking_scenario_4_lowden_DetectionList_27.parquet', '../../../data/nieves/expt1/gt_scenario_9_dsigsden_new_MoleculeList_16.parquet', '../../../data/nieves/expt1/gt_scenario_3_normal_80single_new_MoleculeList_1.parquet', '../../../data/nieves/expt1/multiple_blinking_scenario_5_highden_DetectionList_19.parquet', '../../../data/nieves/expt1/multiple_blinking_scenario_8_diffden_DetectionList18.parquet', '../../../data/nieves/expt1/gt_scenario_5_highden_MoleculeList_48.parquet', '../../../data/nieves/expt1/gt_scenario_5_highden_MoleculeList_9.parquet', '../../../data/nieves/expt1/multiple_blinking_scenario_0_mongrad_DetectionList_20.parquet', '../../../data/nieves/expt1/multiple_blinking_scenario_2_normal_50_single_DetectionList_9.parquet', '../../../data/nieves/expt1/multiple_blinking_scenario_5_highden_DetectionList_32.parquet', '../../../data/nieves/expt1/gt_scenario_1_CSR_MoleculeList_48.parquet', '../../../data/nieves/expt1/multiple_blinking_scenario_8_diffden_DetectionList34.parquet', '../../../data/nieves/expt1/gt_scenario_5_highden_MoleculeList_23.parquet', '../../../data/nieves/expt1/gt_scenario_8_diffden_MoleculeList_11.parquet', '../../../data/nieves/expt1/gt_scenario_0_mongrad_MoleculeList_5.parquet', '../../../data/nieves/expt1/gt_scenario_2_normal_50single_MoleculeList_13.parquet', '../../../data/nieves/expt1/multiple_blinking_scenario_9_dsigsden_new_DetectionList_7.parquet', '../../../data/nieves/expt1/multiple_blinking_scenario_9_dsigsden_new_DetectionList_42.parquet', '../../../data/nieves/expt1/multiple_blinking_scenario_5_highden_DetectionList_36.parquet', '../../../data/nieves/expt1/multiple_blinking_scenario_4_lowden_DetectionList_36.parquet', '../../../data/nieves/expt1/gt_scenario_7_diffsig_MoleculeList_7.parquet', '../../../data/nieves/expt1/multiple_blinking_scenario_5_highden_DetectionList_43.parquet', '../../../data/nieves/expt1/multiple_blinking_scenario_8_diffden_DetectionList10.parquet', '../../../data/nieves/expt1/multiple_blinking_scenario_7_diffsig_DetectionList32.parquet', '../../../data/nieves/expt1/gt_scenario_8_diffden_MoleculeList_45.parquet', '../../../data/nieves/expt1/gt_scenario_3_normal_80single_new_MoleculeList_50.parquet', '../../../data/nieves/expt1/gt_scenario_2_normal_50single_MoleculeList_19.parquet', '../../../data/nieves/expt1/multiple_blinking_scenario_5_highden_DetectionList_2.parquet', '../../../data/nieves/expt1/gt_scenario_1_CSR_MoleculeList_27.parquet', '../../../data/nieves/expt1/multiple_blinking_scenario_6_elliptical_w_noise_DetectionList_13.parquet', '../../../data/nieves/expt1/multiple_blinking_scenario_0_mongrad_DetectionList_50.parquet', '../../../data/nieves/expt1/multiple_blinking_scenario_2_normal_50_single_DetectionList_25.parquet', '../../../data/nieves/expt1/multiple_blinking_scenario_2_normal_50_single_DetectionList_26.parquet', '../../../data/nieves/expt1/multiple_blinking_scenario_9_dsigsden_new_DetectionList_12.parquet', '../../../data/nieves/expt1/gt_scenario_6_elliptical_w_noise_MoleculeList_17.parquet', '../../../data/nieves/expt1/gt_scenario_4_lowden_MoleculeList_24.parquet', '../../../data/nieves/expt1/multiple_blinking_scenario_2_normal_50_single_DetectionList_30.parquet', '../../../data/nieves/expt1/multiple_blinking_scenario_9_dsigsden_new_DetectionList_29.parquet', '../../../data/nieves/expt1/multiple_blinking_scenario_5_highden_DetectionList_17.parquet', '../../../data/nieves/expt1/gt_scenario_0_mongrad_MoleculeList_29.parquet', '../../../data/nieves/expt1/multiple_blinking_scenario_2_normal_50_single_DetectionList_50.parquet', '../../../data/nieves/expt1/multiple_blinking_scenario_2_normal_50_single_DetectionList_16.parquet', '../../../data/nieves/expt1/multiple_blinking_scenario_2_normal_50_single_DetectionList_44.parquet', '../../../data/nieves/expt1/multiple_blinking_scenario_4_lowden_DetectionList_31.parquet', '../../../data/nieves/expt1/gt_scenario_3_normal_80single_new_MoleculeList_4.parquet', '../../../data/nieves/expt1/gt_scenario_5_highden_MoleculeList_41.parquet', '../../../data/nieves/expt1/multiple_blinking_scenario_3_normal_80single_new_DetectionList_10.parquet', '../../../data/nieves/expt1/multiple_blinking_scenario_7_diffsig_DetectionList48.parquet', '../../../data/nieves/expt1/gt_scenario_6_elliptical_w_noise_MoleculeList_14.parquet', '../../../data/nieves/expt1/multiple_blinking_scenario_5_highden_DetectionList_12.parquet', '../../../data/nieves/expt1/gt_scenario_6_elliptical_w_noise_MoleculeList_30.parquet', '../../../data/nieves/expt1/multiple_blinking_scenario_4_lowden_DetectionList_33.parquet', '../../../data/nieves/expt1/multiple_blinking_scenario_7_diffsig_DetectionList39.parquet', '../../../data/nieves/expt1/gt_scenario_7_diffsig_MoleculeList_44.parquet', '../../../data/nieves/expt1/multiple_blinking_scenario_5_highden_DetectionList_4.parquet', '../../../data/nieves/expt1/multiple_blinking_scenario_5_highden_DetectionList_25.parquet', '../../../data/nieves/expt1/gt_scenario_1_CSR_MoleculeList_44.parquet', '../../../data/nieves/expt1/gt_scenario_9_dsigsden_new_MoleculeList_48.parquet', '../../../data/nieves/expt1/gt_scenario_3_normal_80single_new_MoleculeList_18.parquet', '../../../data/nieves/expt1/gt_scenario_2_normal_50single_MoleculeList_36.parquet', '../../../data/nieves/expt1/gt_scenario_2_normal_50single_MoleculeList_37.parquet', '../../../data/nieves/expt1/gt_scenario_7_diffsig_MoleculeList_38.parquet', '../../../data/nieves/expt1/multiple_blinking_scenario_5_highden_DetectionList_5.parquet', '../../../data/nieves/expt1/gt_scenario_7_diffsig_MoleculeList_39.parquet', '../../../data/nieves/expt1/gt_scenario_7_diffsig_MoleculeList_10.parquet', '../../../data/nieves/expt1/multiple_blinking_scenario_8_diffden_DetectionList22.parquet', '../../../data/nieves/expt1/multiple_blinking_scenario_5_highden_DetectionList_40.parquet', '../../../data/nieves/expt1/multiple_blinking_scenario_9_dsigsden_new_DetectionList_35.parquet', '../../../data/nieves/expt1/gt_scenario_1_CSR_MoleculeList_41.parquet', '../../../data/nieves/expt1/gt_scenario_7_diffsig_MoleculeList_33.parquet', '../../../data/nieves/expt1/gt_scenario_4_lowden_MoleculeList_25.parquet', '../../../data/nieves/expt1/multiple_blinking_scenario_6_elliptical_w_noise_DetectionList_12.parquet', '../../../data/nieves/expt1/gt_scenario_3_normal_80single_new_MoleculeList_40.parquet', '../../../data/nieves/expt1/gt_scenario_2_normal_50single_MoleculeList_27.parquet', '../../../data/nieves/expt1/multiple_blinking_scenario_8_diffden_DetectionList37.parquet', '../../../data/nieves/expt1/gt_scenario_8_diffden_MoleculeList_42.parquet', '../../../data/nieves/expt1/gt_scenario_3_normal_80single_new_MoleculeList_23.parquet', '../../../data/nieves/expt1/multiple_blinking_scenario_4_lowden_DetectionList_35.parquet', '../../../data/nieves/expt1/gt_scenario_3_normal_80single_new_MoleculeList_33.parquet', '../../../data/nieves/expt1/multiple_blinking_scenario_5_highden_DetectionList_20.parquet', '../../../data/nieves/expt1/multiple_blinking_scenario_4_lowden_DetectionList_6.parquet', '../../../data/nieves/expt1/multiple_blinking_scenario_0_mongrad_DetectionList_5.parquet', '../../../data/nieves/expt1/gt_scenario_9_dsigsden_new_MoleculeList_20.parquet', '../../../data/nieves/expt1/gt_scenario_9_dsigsden_new_MoleculeList_13.parquet', '../../../data/nieves/expt1/gt_scenario_5_highden_MoleculeList_31.parquet', '../../../data/nieves/expt1/gt_scenario_8_diffden_MoleculeList_43.parquet', '../../../data/nieves/expt1/gt_scenario_7_diffsig_MoleculeList_18.parquet', '../../../data/nieves/expt1/gt_scenario_1_CSR_MoleculeList_14.parquet', '../../../data/nieves/expt1/multiple_blinking_scenario_8_diffden_DetectionList2.parquet', '../../../data/nieves/expt1/multiple_blinking_scenario_2_normal_50_single_DetectionList_27.parquet', '../../../data/nieves/expt1/multiple_blinking_scenario_5_highden_DetectionList_23.parquet', '../../../data/nieves/expt1/gt_scenario_7_diffsig_MoleculeList_8.parquet', '../../../data/nieves/expt1/gt_scenario_5_highden_MoleculeList_30.parquet', '../../../data/nieves/expt1/gt_scenario_1_CSR_MoleculeList_20.parquet', '../../../data/nieves/expt1/multiple_blinking_scenario_3_normal_80single_new_DetectionList_22.parquet', '../../../data/nieves/expt1/multiple_blinking_scenario_8_diffden_DetectionList27.parquet', '../../../data/nieves/expt1/multiple_blinking_scenario_8_diffden_DetectionList33.parquet', '../../../data/nieves/expt1/multiple_blinking_scenario_4_lowden_DetectionList_26.parquet', '../../../data/nieves/expt1/gt_scenario_5_highden_MoleculeList_25.parquet', '../../../data/nieves/expt1/multiple_blinking_scenario_2_normal_50_single_DetectionList_39.parquet', '../../../data/nieves/expt1/multiple_blinking_scenario_5_highden_DetectionList_35.parquet', '../../../data/nieves/expt1/gt_scenario_2_normal_50single_MoleculeList_30.parquet', '../../../data/nieves/expt1/multiple_blinking_scenario_6_elliptical_w_noise_DetectionList_25.parquet', '../../../data/nieves/expt1/multiple_blinking_scenario_6_elliptical_w_noise_DetectionList_48.parquet', '../../../data/nieves/expt1/gt_scenario_5_highden_MoleculeList_39.parquet', '../../../data/nieves/expt1/gt_scenario_8_diffden_MoleculeList_19.parquet', '../../../data/nieves/expt1/gt_scenario_8_diffden_MoleculeList_8.parquet', '../../../data/nieves/expt1/gt_scenario_3_normal_80single_new_MoleculeList_31.parquet', '../../../data/nieves/expt1/multiple_blinking_scenario_9_dsigsden_new_DetectionList_4.parquet', '../../../data/nieves/expt1/multiple_blinking_scenario_8_diffden_DetectionList28.parquet', '../../../data/nieves/expt1/gt_scenario_5_highden_MoleculeList_36.parquet', '../../../data/nieves/expt1/multiple_blinking_scenario_7_diffsig_DetectionList26.parquet', '../../../data/nieves/expt1/gt_scenario_2_normal_50single_MoleculeList_35.parquet', '../../../data/nieves/expt1/multiple_blinking_scenario_6_elliptical_w_noise_DetectionList_41.parquet', '../../../data/nieves/expt1/gt_scenario_0_mongrad_MoleculeList_43.parquet', '../../../data/nieves/expt1/multiple_blinking_scenario_8_diffden_DetectionList49.parquet', '../../../data/nieves/expt1/multiple_blinking_scenario_0_mongrad_DetectionList_17.parquet', '../../../data/nieves/expt1/gt_scenario_7_diffsig_MoleculeList_11.parquet', '../../../data/nieves/expt1/gt_scenario_4_lowden_MoleculeList_50.parquet', '../../../data/nieves/expt1/gt_scenario_0_mongrad_MoleculeList_30.parquet', '../../../data/nieves/expt1/gt_scenario_6_elliptical_w_noise_MoleculeList_23.parquet', '../../../data/nieves/expt1/multiple_blinking_scenario_6_elliptical_w_noise_DetectionList_46.parquet', '../../../data/nieves/expt1/multiple_blinking_scenario_8_diffden_DetectionList4.parquet', '../../../data/nieves/expt1/gt_scenario_8_diffden_MoleculeList_3.parquet', '../../../data/nieves/expt1/gt_scenario_1_CSR_MoleculeList_3.parquet', '../../../data/nieves/expt1/gt_scenario_3_normal_80single_new_MoleculeList_7.parquet', '../../../data/nieves/expt1/gt_scenario_6_elliptical_w_noise_MoleculeList_35.parquet', '../../../data/nieves/expt1/gt_scenario_3_normal_80single_new_MoleculeList_25.parquet', '../../../data/nieves/expt1/gt_scenario_3_normal_80single_new_MoleculeList_42.parquet', '../../../data/nieves/expt1/multiple_blinking_scenario_7_diffsig_DetectionList35.parquet', '../../../data/nieves/expt1/gt_scenario_1_CSR_MoleculeList_28.parquet', '../../../data/nieves/expt1/gt_scenario_8_diffden_MoleculeList_39.parquet', '../../../data/nieves/expt1/gt_scenario_6_elliptical_w_noise_MoleculeList_36.parquet', '../../../data/nieves/expt1/multiple_blinking_scenario_4_lowden_DetectionList_8.parquet', '../../../data/nieves/expt1/gt_scenario_0_mongrad_MoleculeList_24.parquet', '../../../data/nieves/expt1/gt_scenario_9_dsigsden_new_MoleculeList_15.parquet', '../../../data/nieves/expt1/multiple_blinking_scenario_8_diffden_DetectionList17.parquet', '../../../data/nieves/expt1/gt_scenario_0_mongrad_MoleculeList_18.parquet', '../../../data/nieves/expt1/gt_scenario_9_dsigsden_new_MoleculeList_10.parquet', '../../../data/nieves/expt1/gt_scenario_1_CSR_MoleculeList_49.parquet', '../../../data/nieves/expt1/multiple_blinking_scenario_8_diffden_DetectionList8.parquet', '../../../data/nieves/expt1/multiple_blinking_scenario_2_normal_50_single_DetectionList_31.parquet', '../../../data/nieves/expt1/gt_scenario_6_elliptical_w_noise_MoleculeList_18.parquet', '../../../data/nieves/expt1/multiple_blinking_scenario_6_elliptical_w_noise_DetectionList_44.parquet', '../../../data/nieves/expt1/multiple_blinking_scenario_0_mongrad_DetectionList_15.parquet', '../../../data/nieves/expt1/multiple_blinking_scenario_6_elliptical_w_noise_DetectionList_37.parquet', '../../../data/nieves/expt1/gt_scenario_0_mongrad_MoleculeList_39.parquet', '../../../data/nieves/expt1/multiple_blinking_scenario_9_dsigsden_new_DetectionList_11.parquet', '../../../data/nieves/expt1/gt_scenario_4_lowden_MoleculeList_21.parquet', '../../../data/nieves/expt1/gt_scenario_3_normal_80single_new_MoleculeList_17.parquet', '../../../data/nieves/expt1/multiple_blinking_scenario_4_lowden_DetectionList_48.parquet', '../../../data/nieves/expt1/gt_scenario_0_mongrad_MoleculeList_25.parquet', '../../../data/nieves/expt1/gt_scenario_8_diffden_MoleculeList_1.parquet', '../../../data/nieves/expt1/multiple_blinking_scenario_2_normal_50_single_DetectionList_7.parquet', '../../../data/nieves/expt1/multiple_blinking_scenario_6_elliptical_w_noise_DetectionList_45.parquet', '../../../data/nieves/expt1/multiple_blinking_scenario_3_normal_80single_new_DetectionList_17.parquet', '../../../data/nieves/expt1/multiple_blinking_scenario_7_diffsig_DetectionList44.parquet', '../../../data/nieves/expt1/multiple_blinking_scenario_2_normal_50_single_DetectionList_48.parquet', '../../../data/nieves/expt1/gt_scenario_1_CSR_MoleculeList_16.parquet', '../../../data/nieves/expt1/multiple_blinking_scenario_6_elliptical_w_noise_DetectionList_18.parquet', '../../../data/nieves/expt1/gt_scenario_0_mongrad_MoleculeList_46.parquet', '../../../data/nieves/expt1/multiple_blinking_scenario_4_lowden_DetectionList_1.parquet', '../../../data/nieves/expt1/gt_scenario_3_normal_80single_new_MoleculeList_9.parquet', '../../../data/nieves/expt1/multiple_blinking_scenario_8_diffden_DetectionList36.parquet', '../../../data/nieves/expt1/multiple_blinking_scenario_3_normal_80single_new_DetectionList_31.parquet', '../../../data/nieves/expt1/gt_scenario_7_diffsig_MoleculeList_17.parquet', '../../../data/nieves/expt1/gt_scenario_4_lowden_MoleculeList_23.parquet', '../../../data/nieves/expt1/gt_scenario_6_elliptical_w_noise_MoleculeList_33.parquet', '../../../data/nieves/expt1/gt_scenario_7_diffsig_MoleculeList_4.parquet', '../../../data/nieves/expt1/multiple_blinking_scenario_7_diffsig_DetectionList19.parquet']\r\n"
     ]
    },
    {
     "name": "stdout",
     "output_type": "stream",
     "text": [
      "/home/oliver/smlm_cloud/locpix-points/src/locpix_points/preprocessing/functions.py:123: UserWarning: All gt labels same for each localisation in file ../../../data/nieves/expt1/gt_scenario_1_CSR_MoleculeList_23.parquet\n",
      "  warnings.warn(warning)\n",
      "/home/oliver/smlm_cloud/locpix-points/src/locpix_points/preprocessing/functions.py:123: UserWarning: All gt labels same for each localisation in file ../../../data/nieves/expt1/gt_scenario_1_CSR_MoleculeList_19.parquet\n",
      "  warnings.warn(warning)\n",
      "/home/oliver/smlm_cloud/locpix-points/src/locpix_points/preprocessing/functions.py:123: UserWarning: All gt labels same for each localisation in file ../../../data/nieves/expt1/gt_scenario_1_CSR_MoleculeList_40.parquet\n",
      "  warnings.warn(warning)\n",
      "/home/oliver/smlm_cloud/locpix-points/src/locpix_points/preprocessing/functions.py:123: UserWarning: All gt labels same for each localisation in file ../../../data/nieves/expt1/gt_scenario_1_CSR_MoleculeList_36.parquet\n",
      "  warnings.warn(warning)\n",
      "/home/oliver/smlm_cloud/locpix-points/src/locpix_points/preprocessing/functions.py:123: UserWarning: All gt labels same for each localisation in file ../../../data/nieves/expt1/gt_scenario_1_CSR_MoleculeList_35.parquet\n",
      "  warnings.warn(warning)\n",
      "/home/oliver/smlm_cloud/locpix-points/src/locpix_points/preprocessing/functions.py:123: UserWarning: All gt labels same for each localisation in file ../../../data/nieves/expt1/gt_scenario_1_CSR_MoleculeList_42.parquet\n",
      "  warnings.warn(warning)\n",
      "/home/oliver/smlm_cloud/locpix-points/src/locpix_points/preprocessing/functions.py:123: UserWarning: All gt labels same for each localisation in file ../../../data/nieves/expt1/gt_scenario_1_CSR_MoleculeList_39.parquet\n",
      "  warnings.warn(warning)\n",
      "/home/oliver/smlm_cloud/locpix-points/src/locpix_points/preprocessing/functions.py:123: UserWarning: All gt labels same for each localisation in file ../../../data/nieves/expt1/gt_scenario_1_CSR_MoleculeList_38.parquet\n",
      "  warnings.warn(warning)\n",
      "/home/oliver/smlm_cloud/locpix-points/src/locpix_points/preprocessing/functions.py:123: UserWarning: All gt labels same for each localisation in file ../../../data/nieves/expt1/gt_scenario_1_CSR_MoleculeList_33.parquet\n",
      "  warnings.warn(warning)\n",
      "/home/oliver/smlm_cloud/locpix-points/src/locpix_points/preprocessing/functions.py:123: UserWarning: All gt labels same for each localisation in file ../../../data/nieves/expt1/gt_scenario_1_CSR_MoleculeList_4.parquet\n",
      "  warnings.warn(warning)\n",
      "/home/oliver/smlm_cloud/locpix-points/src/locpix_points/preprocessing/functions.py:123: UserWarning: All gt labels same for each localisation in file ../../../data/nieves/expt1/gt_scenario_1_CSR_MoleculeList_24.parquet\n",
      "  warnings.warn(warning)\n",
      "/home/oliver/smlm_cloud/locpix-points/src/locpix_points/preprocessing/functions.py:123: UserWarning: All gt labels same for each localisation in file ../../../data/nieves/expt1/gt_scenario_1_CSR_MoleculeList_50.parquet\n",
      "  warnings.warn(warning)\n",
      "/home/oliver/smlm_cloud/locpix-points/src/locpix_points/preprocessing/functions.py:123: UserWarning: All gt labels same for each localisation in file ../../../data/nieves/expt1/gt_scenario_1_CSR_MoleculeList_11.parquet\n",
      "  warnings.warn(warning)\n",
      "/home/oliver/smlm_cloud/locpix-points/src/locpix_points/preprocessing/functions.py:123: UserWarning: All gt labels same for each localisation in file ../../../data/nieves/expt1/gt_scenario_1_CSR_MoleculeList_31.parquet\n",
      "  warnings.warn(warning)\n",
      "/home/oliver/smlm_cloud/locpix-points/src/locpix_points/preprocessing/functions.py:123: UserWarning: All gt labels same for each localisation in file ../../../data/nieves/expt1/gt_scenario_1_CSR_MoleculeList_1.parquet\n",
      "  warnings.warn(warning)\n",
      "/home/oliver/smlm_cloud/locpix-points/src/locpix_points/preprocessing/functions.py:123: UserWarning: All gt labels same for each localisation in file ../../../data/nieves/expt1/gt_scenario_1_CSR_MoleculeList_21.parquet\n",
      "  warnings.warn(warning)\n",
      "/home/oliver/smlm_cloud/locpix-points/src/locpix_points/preprocessing/functions.py:123: UserWarning: All gt labels same for each localisation in file ../../../data/nieves/expt1/gt_scenario_1_CSR_MoleculeList_12.parquet\n",
      "  warnings.warn(warning)\n",
      "/home/oliver/smlm_cloud/locpix-points/src/locpix_points/preprocessing/functions.py:123: UserWarning: All gt labels same for each localisation in file ../../../data/nieves/expt1/gt_scenario_1_CSR_MoleculeList_7.parquet\n",
      "  warnings.warn(warning)\n",
      "/home/oliver/smlm_cloud/locpix-points/src/locpix_points/preprocessing/functions.py:123: UserWarning: All gt labels same for each localisation in file ../../../data/nieves/expt1/gt_scenario_1_CSR_MoleculeList_45.parquet\n",
      "  warnings.warn(warning)\n",
      "/home/oliver/smlm_cloud/locpix-points/src/locpix_points/preprocessing/functions.py:123: UserWarning: All gt labels same for each localisation in file ../../../data/nieves/expt1/gt_scenario_1_CSR_MoleculeList_25.parquet\n",
      "  warnings.warn(warning)\n",
      "/home/oliver/smlm_cloud/locpix-points/src/locpix_points/preprocessing/functions.py:123: UserWarning: All gt labels same for each localisation in file ../../../data/nieves/expt1/gt_scenario_1_CSR_MoleculeList_8.parquet\n",
      "  warnings.warn(warning)\n",
      "/home/oliver/smlm_cloud/locpix-points/src/locpix_points/preprocessing/functions.py:123: UserWarning: All gt labels same for each localisation in file ../../../data/nieves/expt1/gt_scenario_1_CSR_MoleculeList_34.parquet\n",
      "  warnings.warn(warning)\n",
      "/home/oliver/smlm_cloud/locpix-points/src/locpix_points/preprocessing/functions.py:123: UserWarning: All gt labels same for each localisation in file ../../../data/nieves/expt1/gt_scenario_1_CSR_MoleculeList_37.parquet\n",
      "  warnings.warn(warning)\n",
      "/home/oliver/smlm_cloud/locpix-points/src/locpix_points/preprocessing/functions.py:123: UserWarning: All gt labels same for each localisation in file ../../../data/nieves/expt1/gt_scenario_1_CSR_MoleculeList_9.parquet\n",
      "  warnings.warn(warning)\n",
      "/home/oliver/smlm_cloud/locpix-points/src/locpix_points/preprocessing/functions.py:123: UserWarning: All gt labels same for each localisation in file ../../../data/nieves/expt1/gt_scenario_1_CSR_MoleculeList_26.parquet\n",
      "  warnings.warn(warning)\n",
      "/home/oliver/smlm_cloud/locpix-points/src/locpix_points/preprocessing/functions.py:123: UserWarning: All gt labels same for each localisation in file ../../../data/nieves/expt1/gt_scenario_1_CSR_MoleculeList_32.parquet\n",
      "  warnings.warn(warning)\n",
      "/home/oliver/smlm_cloud/locpix-points/src/locpix_points/preprocessing/functions.py:123: UserWarning: All gt labels same for each localisation in file ../../../data/nieves/expt1/gt_scenario_1_CSR_MoleculeList_5.parquet\n",
      "  warnings.warn(warning)\n",
      "/home/oliver/smlm_cloud/locpix-points/src/locpix_points/preprocessing/functions.py:123: UserWarning: All gt labels same for each localisation in file ../../../data/nieves/expt1/gt_scenario_1_CSR_MoleculeList_30.parquet\n",
      "  warnings.warn(warning)\n",
      "/home/oliver/smlm_cloud/locpix-points/src/locpix_points/preprocessing/functions.py:123: UserWarning: All gt labels same for each localisation in file ../../../data/nieves/expt1/gt_scenario_1_CSR_MoleculeList_47.parquet\n",
      "  warnings.warn(warning)\n",
      "/home/oliver/smlm_cloud/locpix-points/src/locpix_points/preprocessing/functions.py:123: UserWarning: All gt labels same for each localisation in file ../../../data/nieves/expt1/gt_scenario_1_CSR_MoleculeList_6.parquet\n",
      "  warnings.warn(warning)\n",
      "/home/oliver/smlm_cloud/locpix-points/src/locpix_points/preprocessing/functions.py:123: UserWarning: All gt labels same for each localisation in file ../../../data/nieves/expt1/gt_scenario_1_CSR_MoleculeList_17.parquet\n",
      "  warnings.warn(warning)\n",
      "/home/oliver/smlm_cloud/locpix-points/src/locpix_points/preprocessing/functions.py:123: UserWarning: All gt labels same for each localisation in file ../../../data/nieves/expt1/gt_scenario_1_CSR_MoleculeList_13.parquet\n",
      "  warnings.warn(warning)\n",
      "/home/oliver/smlm_cloud/locpix-points/src/locpix_points/preprocessing/functions.py:123: UserWarning: All gt labels same for each localisation in file ../../../data/nieves/expt1/gt_scenario_1_CSR_MoleculeList_29.parquet\n",
      "  warnings.warn(warning)\n",
      "/home/oliver/smlm_cloud/locpix-points/src/locpix_points/preprocessing/functions.py:123: UserWarning: All gt labels same for each localisation in file ../../../data/nieves/expt1/gt_scenario_1_CSR_MoleculeList_43.parquet\n",
      "  warnings.warn(warning)\n",
      "/home/oliver/smlm_cloud/locpix-points/src/locpix_points/preprocessing/functions.py:123: UserWarning: All gt labels same for each localisation in file ../../../data/nieves/expt1/gt_scenario_1_CSR_MoleculeList_2.parquet\n",
      "  warnings.warn(warning)\n"
     ]
    },
    {
     "name": "stdout",
     "output_type": "stream",
     "text": [
      "/home/oliver/smlm_cloud/locpix-points/src/locpix_points/preprocessing/functions.py:123: UserWarning: All gt labels same for each localisation in file ../../../data/nieves/expt1/gt_scenario_1_CSR_MoleculeList_10.parquet\n",
      "  warnings.warn(warning)\n",
      "/home/oliver/smlm_cloud/locpix-points/src/locpix_points/preprocessing/functions.py:123: UserWarning: All gt labels same for each localisation in file ../../../data/nieves/expt1/gt_scenario_1_CSR_MoleculeList_15.parquet\n",
      "  warnings.warn(warning)\n",
      "/home/oliver/smlm_cloud/locpix-points/src/locpix_points/preprocessing/functions.py:123: UserWarning: All gt labels same for each localisation in file ../../../data/nieves/expt1/gt_scenario_1_CSR_MoleculeList_22.parquet\n",
      "  warnings.warn(warning)\n",
      "/home/oliver/smlm_cloud/locpix-points/src/locpix_points/preprocessing/functions.py:123: UserWarning: All gt labels same for each localisation in file ../../../data/nieves/expt1/gt_scenario_1_CSR_MoleculeList_46.parquet\n",
      "  warnings.warn(warning)\n",
      "/home/oliver/smlm_cloud/locpix-points/src/locpix_points/preprocessing/functions.py:123: UserWarning: All gt labels same for each localisation in file ../../../data/nieves/expt1/gt_scenario_1_CSR_MoleculeList_18.parquet\n",
      "  warnings.warn(warning)\n",
      "/home/oliver/smlm_cloud/locpix-points/src/locpix_points/preprocessing/functions.py:123: UserWarning: All gt labels same for each localisation in file ../../../data/nieves/expt1/gt_scenario_1_CSR_MoleculeList_48.parquet\n",
      "  warnings.warn(warning)\n",
      "/home/oliver/smlm_cloud/locpix-points/src/locpix_points/preprocessing/functions.py:123: UserWarning: All gt labels same for each localisation in file ../../../data/nieves/expt1/gt_scenario_1_CSR_MoleculeList_27.parquet\n",
      "  warnings.warn(warning)\n",
      "/home/oliver/smlm_cloud/locpix-points/src/locpix_points/preprocessing/functions.py:123: UserWarning: All gt labels same for each localisation in file ../../../data/nieves/expt1/gt_scenario_1_CSR_MoleculeList_44.parquet\n",
      "  warnings.warn(warning)\n",
      "/home/oliver/smlm_cloud/locpix-points/src/locpix_points/preprocessing/functions.py:123: UserWarning: All gt labels same for each localisation in file ../../../data/nieves/expt1/gt_scenario_1_CSR_MoleculeList_41.parquet\n",
      "  warnings.warn(warning)\n",
      "/home/oliver/smlm_cloud/locpix-points/src/locpix_points/preprocessing/functions.py:123: UserWarning: All gt labels same for each localisation in file ../../../data/nieves/expt1/gt_scenario_1_CSR_MoleculeList_14.parquet\n",
      "  warnings.warn(warning)\n",
      "/home/oliver/smlm_cloud/locpix-points/src/locpix_points/preprocessing/functions.py:123: UserWarning: All gt labels same for each localisation in file ../../../data/nieves/expt1/gt_scenario_1_CSR_MoleculeList_20.parquet\n",
      "  warnings.warn(warning)\n",
      "/home/oliver/smlm_cloud/locpix-points/src/locpix_points/preprocessing/functions.py:123: UserWarning: All gt labels same for each localisation in file ../../../data/nieves/expt1/gt_scenario_1_CSR_MoleculeList_3.parquet\n",
      "  warnings.warn(warning)\n",
      "/home/oliver/smlm_cloud/locpix-points/src/locpix_points/preprocessing/functions.py:123: UserWarning: All gt labels same for each localisation in file ../../../data/nieves/expt1/gt_scenario_1_CSR_MoleculeList_28.parquet\n",
      "  warnings.warn(warning)\n",
      "/home/oliver/smlm_cloud/locpix-points/src/locpix_points/preprocessing/functions.py:123: UserWarning: All gt labels same for each localisation in file ../../../data/nieves/expt1/gt_scenario_1_CSR_MoleculeList_49.parquet\n",
      "  warnings.warn(warning)\n",
      "/home/oliver/smlm_cloud/locpix-points/src/locpix_points/preprocessing/functions.py:123: UserWarning: All gt labels same for each localisation in file ../../../data/nieves/expt1/gt_scenario_1_CSR_MoleculeList_16.parquet\n",
      "  warnings.warn(warning)\n",
      "/home/oliver/smlm_cloud/locpix-points/experiments/../src/locpix_points/scripts/preprocess.py:180: UserWarning: Not sure if below is correct and is giving to correct folder\n",
      "  warnings.warn('Not sure if below is correct and is giving to correct folder')\n"
     ]
    }
   ],
   "source": [
    "# Run the preprocess script using this file\n",
    "\n",
    "!python ../src/locpix_points/scripts/preprocess.py -i ../../../data/nieves/expt1 -c ../../../data/nieves/config/expt1/preprocess.yaml -o ../../../output/nieves/expt1 -p"
   ]
  },
  {
   "cell_type": "markdown",
   "metadata": {},
   "source": [
    "### Process data"
   ]
  },
  {
   "cell_type": "code",
   "execution_count": 58,
   "metadata": {},
   "outputs": [],
   "source": [
    "# Export config variables \n",
    "\n",
    "config = {}\n",
    "\n",
    "# whether to process the data as heterogeneous or homogenous\n",
    "# graph\n",
    "config['hetero'] = False\n",
    "\n",
    "# train/test/val splits\n",
    "config['train_ratio'] = 0.7\n",
    "config['val_ratio'] = 0.1\n",
    "config['test_ratio'] = 0.2\n",
    "\n",
    "# what to load into position\n",
    "# Options: xy, xyz\n",
    "config['pos']= 'xy'\n",
    "\n",
    "# what to load into features\n",
    "# Options: \n",
    "config[\"feat\"] = None#\n",
    "    \n",
    "# label level\n",
    "# graph or node\n",
    "config[\"label_level\"] = 'node'\n",
    "\n",
    "yaml_save_loc = os.path.join(input_folder, 'config/expt1/process.yaml')\n",
    "with open(yaml_save_loc, \"w\") as outfile:\n",
    "        yaml.dump(config, outfile)\n"
   ]
  },
  {
   "cell_type": "code",
   "execution_count": 102,
   "metadata": {},
   "outputs": [
    {
     "name": "stdout",
     "output_type": "stream",
     "text": [
      "Overwriting metadata...\n",
      "Train set...\n",
      "Processing...\n",
      "Done!\n",
      "Val set...\n",
      "Processing...\n",
      "Done!\n",
      "Test set...\n",
      "Processing...\n",
      "Done!\n"
     ]
    }
   ],
   "source": [
    "# Run the process script \n",
    "\n",
    "!python ../src/locpix_points/scripts/process.py -i ../../../output/nieves/expt1 -c ../../../data/nieves/config/expt1/process.yaml"
   ]
  },
  {
   "cell_type": "markdown",
   "metadata": {},
   "source": [
    "### Train"
   ]
  },
  {
   "cell_type": "code",
   "execution_count": 15,
   "metadata": {},
   "outputs": [],
   "source": [
    "# Export config variables \n",
    "\n",
    "config = {}\n",
    "\n",
    "# device to train on (gpu or cpu)\n",
    "config['gpu'] = True\n",
    "\n",
    "# model parameters\n",
    "config['model'] = \"pointnetseg\"\n",
    "\n",
    "# optimiser parameters\n",
    "config['optimiser'] =\"adam\"\n",
    "config['lr'] = 0.001\n",
    "config['weight_decay'] = 0.0001\n",
    "\n",
    "# training parameters\n",
    "config['epochs'] = 1\n",
    "config['batch_size'] = 1\n",
    "config['num_workers'] = 1 # generall higher -> faster\n",
    "config['loss_fn'] = \"nll\"\n",
    "\n",
    "config['pointnetseg'] = {\n",
    "  \"ratio\" : [0.5, 0.25],\n",
    "  \"radius\" : [100, 200],\n",
    "  # 2 = dim (2) + dim of feature (0)\n",
    "  # 130 = 128 + dim (2) + dim of feature (0)\n",
    "  # 258 = 256 + dim (2) + dim of feature (0)\n",
    "  \"sa_channels\" : [[2, 64, 64, 128], [130, 128, 128, 256], [258, 256, 512, 1024]],\n",
    "  \"k\" : [1,3,3],\n",
    "  # 1280 = 1024 + 256 \n",
    "  # 384 = 256 + 128\n",
    "  # 130 = 128 + dim of feature (0) \n",
    "  \"fp_channels\" : [[1280, 256, 256], [384, 256, 128], [128, 128, 128, 128]],\n",
    "  # num classes = 2\n",
    "  \"output_channels\": [128, 128, 128, 2],\n",
    "  \"dropout\" : 0.2,\n",
    "  \"norm\" : None,\n",
    "}\n",
    "\n",
    "# what trying to predict\n",
    "config[\"label_level\"] = \"node\" # graph\n",
    "\n",
    "# train/val transforms\n",
    "# options: ['normalisescale', 'jitter', 'flip', 'randscale', 'rotate', 'shear'] # null\n",
    "config[\"transforms\"] = ['normalisescale']\n",
    "\n",
    "# wandb parameters\n",
    "config[\"wandb_project\"] = \"nieves_expt1\"\n",
    "config[\"wandb_dataset\"] = \"nieves\"\n",
    "\n",
    "yaml_save_loc = os.path.join(input_folder, 'config/expt1/train.yaml')\n",
    "with open(yaml_save_loc, \"w\") as outfile:\n",
    "        yaml.dump(config, outfile)\n",
    "\n",
    "# 1. Choice of augmentations\n",
    "\n",
    "# 2. Normalise features\n"
   ]
  },
  {
   "cell_type": "code",
   "execution_count": null,
   "metadata": {},
   "outputs": [
    {
     "name": "stdout",
     "output_type": "stream",
     "text": [
      "/home/oliver/mambaforge/envs/locpix_points/lib/python3.11/site-packages/torch_geometric/data/dataset.py:217: UserWarning: The `pre_filter` argument differs from the one used in the pre-processed version of this dataset. If you want to make use of another pre-fitering technique, make sure to delete '{self.processed_dir}' first\n",
      "  warnings.warn(\n",
      "/home/oliver/smlm_cloud/locpix-points/src/locpix_points/models/point_net.py:197: UserWarning: There are redundant linear layers here...\n",
      "  warnings.warn(\"There are redundant linear layers here...\")\n",
      "\n",
      "\n",
      "---- Params -----\n",
      "\n",
      "\n",
      "Input features:  0\n",
      "Num classes:  2\n",
      "Batch size:  1\n",
      "Epochs:  1\n",
      "Number train graphs 665\n",
      "Number val graphs 95\n",
      "\u001b[34m\u001b[1mwandb\u001b[0m: Currently logged in as: \u001b[33moliver-umney\u001b[0m (\u001b[33mteststest\u001b[0m). Use \u001b[1m`wandb login --relogin`\u001b[0m to force relogin\n",
      "\u001b[34m\u001b[1mwandb\u001b[0m: wandb version 0.15.5 is available!  To upgrade, please run:\n",
      "\u001b[34m\u001b[1mwandb\u001b[0m:  $ pip install wandb --upgrade\n",
      "\u001b[34m\u001b[1mwandb\u001b[0m: Tracking run with wandb version 0.15.4\n",
      "\u001b[34m\u001b[1mwandb\u001b[0m: Run data is saved locally in \u001b[35m\u001b[1m/home/oliver/smlm_cloud/locpix-points/experiments/wandb/run-20230710_172512-urtugrpg\u001b[0m\n",
      "\u001b[34m\u001b[1mwandb\u001b[0m: Run \u001b[1m`wandb offline`\u001b[0m to turn off syncing.\n",
      "\u001b[34m\u001b[1mwandb\u001b[0m: Syncing run \u001b[33mquiet-smoke-61\u001b[0m\n",
      "\u001b[34m\u001b[1mwandb\u001b[0m: ⭐️ View project at \u001b[34m\u001b[4mhttps://wandb.ai/teststest/nieves_expt1\u001b[0m\n",
      "\u001b[34m\u001b[1mwandb\u001b[0m: 🚀 View run at \u001b[34m\u001b[4mhttps://wandb.ai/teststest/nieves_expt1/runs/urtugrpg\u001b[0m\n",
      "\n",
      "\n",
      "---- Model summary (estimate) ----\n",
      "\n",
      "\n",
      "=================================================================\n",
      "Layer (type:depth-idx)                   Param #\n",
      "=================================================================\n",
      "├─SAModule: 1-1                          --\n",
      "|    └─PointNetConv: 2-1                 --\n",
      "|    |    └─MaxAggregation: 3-1          --\n",
      "|    |    └─MLP: 3-2                     12,928\n",
      "├─SAModule: 1-2                          --\n",
      "|    └─PointNetConv: 2-2                 --\n",
      "|    |    └─MaxAggregation: 3-3          --\n",
      "|    |    └─MLP: 3-4                     66,816\n",
      "├─GlobalSAModule: 1-3                    --\n",
      "|    └─MLP: 2-3                          --\n",
      "|    |    └─ReLU: 3-5                    --\n",
      "|    |    └─ModuleList: 3-6              723,200\n",
      "|    |    └─ModuleList: 3-7              1,536\n",
      "├─FPModule: 1-4                          --\n",
      "|    └─MLP: 2-4                          --\n",
      "|    |    └─ReLU: 3-8                    --\n",
      "|    |    └─ModuleList: 3-9              393,728\n",
      "|    |    └─ModuleList: 3-10             512\n",
      "├─FPModule: 1-5                          --\n",
      "|    └─MLP: 2-5                          --\n",
      "|    |    └─ReLU: 3-11                   --\n",
      "|    |    └─ModuleList: 3-12             131,456\n",
      "|    |    └─ModuleList: 3-13             512\n",
      "├─FPModule: 1-6                          --\n",
      "|    └─MLP: 2-6                          --\n",
      "|    |    └─ReLU: 3-14                   --\n",
      "|    |    └─ModuleList: 3-15             49,536\n",
      "|    |    └─ModuleList: 3-16             512\n",
      "├─MLP: 1-7                               --\n",
      "|    └─ReLU: 2-7                         --\n",
      "|    └─ModuleList: 2-8                   --\n",
      "|    |    └─Linear: 3-17                 16,512\n",
      "|    |    └─Linear: 3-18                 16,512\n",
      "|    |    └─Linear: 3-19                 258\n",
      "|    └─ModuleList: 2-9                   --\n",
      "|    |    └─Identity: 3-20               --\n",
      "|    |    └─Identity: 3-21               --\n",
      "=================================================================\n",
      "Total params: 1,414,018\n",
      "Trainable params: 1,414,018\n",
      "Non-trainable params: 0\n",
      "=================================================================\n",
      "\n",
      "\n",
      "---- Training... ----\n",
      "\n",
      "\n",
      "Epoch:  0\n",
      "Number of train nodes 1985885\n",
      "Number of val nodes 327686\n",
      "\n",
      "\n",
      "---- Finished training... ----\n",
      "Model saved when loss on validation set was lowest\n",
      "\n",
      "\n",
      "\n",
      "\n",
      "Loading in best model\n",
      "\n",
      "\n",
      "\n",
      "\n",
      "---- Predict on train & val set... ----\n",
      "\n",
      "\n",
      "{'MulticlassConfusionMatrix': tensor([[1105456,       0],\n",
      "        [ 880429,       0]], device='cuda:0'), 'MulticlassRecall': tensor([1., 0.], device='cuda:0'), 'MulticlassPrecision': tensor([0.5567, 0.0000], device='cuda:0'), 'MulticlassF1Score': tensor([0.7152, 0.0000], device='cuda:0'), 'MulticlassJaccardIndex': tensor([0.5567, 0.0000], device='cuda:0'), 'MulticlassAccuracy': tensor([1., 0.], device='cuda:0')}\n",
      "{'MulticlassConfusionMatrix': tensor([[179497,      0],\n",
      "        [148189,      0]], device='cuda:0'), 'MulticlassRecall': tensor([1., 0.], device='cuda:0'), 'MulticlassPrecision': tensor([0.5478, 0.0000], device='cuda:0'), 'MulticlassF1Score': tensor([0.7078, 0.0000], device='cuda:0'), 'MulticlassJaccardIndex': tensor([0.5478, 0.0000], device='cuda:0'), 'MulticlassAccuracy': tensor([1., 0.], device='cuda:0')}\n",
      "stop"
     ]
    }
   ],
   "source": [
    "# Run the train script \n",
    "\n",
    "!python ../src/locpix_points/scripts/train.py -i ../../../output/nieves/expt1 -c ../../../data/nieves/config/expt1/train.yaml"
   ]
  },
  {
   "cell_type": "markdown",
   "metadata": {},
   "source": [
    "### Evaluate"
   ]
  },
  {
   "cell_type": "code",
   "execution_count": null,
   "metadata": {},
   "outputs": [],
   "source": [
    "# Export config variables\n",
    "\n",
    "# Run the evaluate script\n",
    "\n",
    "python src/locpix_points/scripts/evaluate.py -i ../../output/nieves -c src/locpix_points/templates/evaluate.yaml"
   ]
  },
  {
   "cell_type": "markdown",
   "metadata": {},
   "source": [
    "### Interpret the results"
   ]
  },
  {
   "cell_type": "code",
   "execution_count": 13,
   "metadata": {},
   "outputs": [],
   "source": [
    "# Pytorch geometric explainability tools"
   ]
  },
  {
   "cell_type": "code",
   "execution_count": null,
   "metadata": {},
   "outputs": [],
   "source": []
  }
 ],
 "metadata": {
  "kernelspec": {
   "display_name": "Python 3 (ipykernel)",
   "language": "python",
   "name": "python3"
  },
  "language_info": {
   "codemirror_mode": {
    "name": "ipython",
    "version": 3
   },
   "file_extension": ".py",
   "mimetype": "text/x-python",
   "name": "python",
   "nbconvert_exporter": "python",
   "pygments_lexer": "ipython3",
   "version": "3.11.4"
  }
 },
 "nbformat": 4,
 "nbformat_minor": 2
}
