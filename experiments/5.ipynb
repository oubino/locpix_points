{
 "cells": [
  {
   "cell_type": "markdown",
   "metadata": {},
   "source": [
    "### Imports"
   ]
  },
  {
   "cell_type": "code",
   "execution_count": 1,
   "metadata": {},
   "outputs": [],
   "source": [
    "import os\n",
    "import yaml\n",
    "import polars as pl"
   ]
  },
  {
   "cell_type": "markdown",
   "metadata": {},
   "source": [
    "### Experiment description"
   ]
  },
  {
   "cell_type": "markdown",
   "metadata": {},
   "source": [
    "1. Predict Channel for Cell Pellet dataset\n",
    "2. Use PointTransformer\n",
    "3. Features = Everything except channels\n",
    "4. Homogeneous graph"
   ]
  },
  {
   "cell_type": "markdown",
   "metadata": {},
   "source": [
    "## Data"
   ]
  },
  {
   "cell_type": "markdown",
   "metadata": {},
   "source": [
    "The data is from the dc_tg folder i.e. it is drift corrected and temporal grouped and that is it"
   ]
  },
  {
   "cell_type": "markdown",
   "metadata": {},
   "source": [
    "### Variables"
   ]
  },
  {
   "cell_type": "code",
   "execution_count": 2,
   "metadata": {},
   "outputs": [],
   "source": [
    "input_folder = '../../../data/c15'\n",
    "output_folder = '../../../output/c15/expt5'\n",
    "input_expt_folder = '../../../data/c15/expt5'"
   ]
  },
  {
   "cell_type": "markdown",
   "metadata": {},
   "source": [
    "### Preprocess data to suitable output location"
   ]
  },
  {
   "cell_type": "code",
   "execution_count": 6,
   "metadata": {},
   "outputs": [],
   "source": [
    "folders = [output_folder, os.path.join(input_folder, \"config/expt5\"), input_expt_folder]\n",
    "\n",
    "for folder in folders:\n",
    "    if not os.path.exists(folder):\n",
    "        os.makedirs(folder)"
   ]
  },
  {
   "cell_type": "code",
   "execution_count": 7,
   "metadata": {},
   "outputs": [],
   "source": [
    "# Export config variables to file\n",
    "\n",
    "config = {}\n",
    "\n",
    "# The following are the names of the \n",
    "# x column, y column, z column if present, channel, frame,\n",
    "# in the csvs being processed\n",
    "config['x_col'] = '# x[nm]'\n",
    "config['y_col'] = 'y[nm]'\n",
    "config['z_col'] = None\n",
    "config['channel_col'] = None #'channel'\n",
    "config['frame_col'] = None # 'frame'\n",
    "\n",
    "# The number of dimensions to consider\n",
    "# If 2 only deals with x and y \n",
    "# If 3 will read in and deal with z as well (currently not fully supported)\n",
    "config['dim'] = 2\n",
    "\n",
    "# choice of which channels user wants to consider\n",
    "# if null considers all\n",
    "config['channel_choice'] = None\n",
    "\n",
    "# specify string for each channel\n",
    "config['channel_label'] = None\n",
    "\n",
    "# whether to not drop the column containing\n",
    "# pixel\n",
    "config['drop_pixel_col'] = False\n",
    "\n",
    "# files to include: all for everyone \n",
    "config['include_files'] = 'all' \n",
    "\n",
    "## Choice of input features\n",
    "config['features'] = [\"duration[]\",\n",
    "                      \"variance_x[nm^2]\",\n",
    "                      \"variance_y[nm^2]\",\n",
    "                      \"variance_intensity[photons^2]\",\n",
    "                      \"variance_background[photons^2/nm^4]\",\n",
    "                      \"variance_sigma_x[nm^2]\",\n",
    "                      \"variance_sigma_y[nm^2]\",\n",
    "                      \"background_mean[photons/nm^2]\",\n",
    "                      \"sigmaX_mean[nm]\",\n",
    "                      \"sigmaY_mean[nm]\",\n",
    "                      \"intensity_mean[photons]\"\n",
    "                     ]\n",
    "\n",
    "## GT label per loc or per FOV\n",
    "config['gt_label_scope'] = 'loc'\n",
    "\n",
    "## if gt label specified, whih channel is it in (if its label per fov then only one row has to have value), or leave as null\n",
    "config['gt_label'] = \"gt_label\"\n",
    "\n",
    "## specify the gt label map\n",
    "config['gt_label_map'] = {0: 'EGFR', 1: 'EREG'}\n",
    "\n",
    "yaml_save_loc = os.path.join(input_folder, 'config/expt5/preprocess.yaml')\n",
    "with open(yaml_save_loc, \"w\") as outfile:\n",
    "        yaml.dump(config, outfile)"
   ]
  },
  {
   "cell_type": "code",
   "execution_count": 8,
   "metadata": {},
   "outputs": [
    {
     "name": "stdout",
     "output_type": "stream",
     "text": [
      "List of files which will be processed\r\n",
      "['../../../data/c15/expt5/C15_EGFR647_EREG568_FOV5.parquet', '../../../data/c15/expt5/C15_EREG647_EGFR568_FOV8.parquet', '../../../data/c15/expt5/C15_EGFR568_EREG647_FOV4.parquet', '../../../data/c15/expt5/C15_EREG647_EGFR568_FOV5.parquet', '../../../data/c15/expt5/C15_EGFR647_EREG568_FOV2.parquet', '../../../data/c15/expt5/C15_EGFR568_EREG647_FOV5.parquet', '../../../data/c15/expt5/C15_EGFR568_EREG647_FOV3.parquet', '../../../data/c15/expt5/C15_EREG568_EGFR647_FOV5.parquet', '../../../data/c15/expt5/C15_EGFR647_EREG568_FOV1.parquet', '../../../data/c15/expt5/C15_EREG647_EGFR568_FOV6.parquet', '../../../data/c15/expt5/C15_EREG647_EGFR568_FOV7.parquet', '../../../data/c15/expt5/C15_EGFR647_EREG568_FOV6.parquet', '../../../data/c15/expt5/C15_EGFR647_EREG568_FOV4.parquet', '../../../data/c15/expt5/C15_EGFR647_EREG568_FOV3.parquet', '../../../data/c15/expt5/C15_EREG568_EGFR647_FOV3.parquet', '../../../data/c15/expt5/C15_EREG647_EGFR568_FOV9.parquet', '../../../data/c15/expt5/C15_EREG568_EGFR647_FOV4.parquet', '../../../data/c15/expt5/C15_EREG647_EGFR568_FOV10.parquet', '../../../data/c15/expt5/C15_EREG568_EGFR647_FOV2.parquet', '../../../data/c15/expt5/C15_EREG568_EGFR647_FOV1.parquet', '../../../data/c15/expt5/C15_EREG647_EGFR568_FOV1.parquet', '../../../data/c15/expt5/C15_EREG647_EGFR568_FOV3.parquet', '../../../data/c15/expt5/C15_EGFR568_EREG647_FOV1.parquet', '../../../data/c15/expt5/C15_EGFR568_EREG647_FOV2.parquet', '../../../data/c15/expt5/C15_EGFR647_EREG568_FOV7.parquet', '../../../data/c15/expt5/C15_EREG647_EGFR568_FOV2.parquet']\r\n"
     ]
    }
   ],
   "source": [
    "# Run the preprocess script using this file\n",
    "\n",
    "!python ../src/locpix_points/scripts/preprocess.py -i ../../../data/c15/expt5 -c ../../../data/c15/config/expt5/preprocess.yaml -o ../../../output/c15/expt5 -p"
   ]
  },
  {
   "cell_type": "markdown",
   "metadata": {},
   "source": [
    "### Process data"
   ]
  },
  {
   "cell_type": "code",
   "execution_count": 9,
   "metadata": {},
   "outputs": [],
   "source": [
    "# Export config variables \n",
    "\n",
    "config = {}\n",
    "\n",
    "# whether to process the data as heterogeneous or homogenous\n",
    "# graph\n",
    "config['hetero'] = False\n",
    "\n",
    "# train/test/val splits\n",
    "config['train_ratio'] = None\n",
    "config['val_ratio'] = None\n",
    "config['test_ratio'] = None\n",
    "\n",
    "# what to load into position\n",
    "# Options: xy, xyz\n",
    "config['pos']= 'xy'\n",
    "\n",
    "# what to load into features\n",
    "# Options: \n",
    "config[\"feat\"] = [\"duration[]\",\n",
    "                  \"variance_x[nm^2]\",\n",
    "                  \"variance_y[nm^2]\",\n",
    "                  \"variance_intensity[photons^2]\",\n",
    "                  \"variance_background[photons^2/nm^4]\",\n",
    "                  \"variance_sigma_x[nm^2]\",\n",
    "                  \"variance_sigma_y[nm^2]\",\n",
    "                  \"background_mean[photons/nm^2]\",\n",
    "                  \"sigmaX_mean[nm]\",\n",
    "                  \"sigmaY_mean[nm]\",\n",
    "                  \"intensity_mean[photons]\"\n",
    "                 ]\n",
    "    \n",
    "# label level\n",
    "# graph or node\n",
    "config[\"label_level\"] = 'node'\n",
    "\n",
    "yaml_save_loc = os.path.join(input_folder, 'config/expt5/process.yaml')\n",
    "with open(yaml_save_loc, \"w\") as outfile:\n",
    "        yaml.dump(config, outfile)\n"
   ]
  },
  {
   "cell_type": "code",
   "execution_count": 10,
   "metadata": {},
   "outputs": [
    {
     "name": "stdout",
     "output_type": "stream",
     "text": [
      "[['C15_EGFR647_EREG568_FOV1', 'C15_EGFR568_EREG647_FOV5', 'C15_EGFR647_EREG568_FOV2', 'C15_EREG647_EGFR568_FOV9', 'C15_EGFR568_EREG647_FOV4', 'C15_EGFR568_EREG647_FOV3', 'C15_EGFR647_EREG568_FOV7', 'C15_EGFR647_EREG568_FOV6', 'C15_EGFR647_EREG568_FOV3', 'C15_EREG647_EGFR568_FOV6', 'C15_EREG568_EGFR647_FOV2', 'C15_EREG647_EGFR568_FOV2', 'C15_EREG568_EGFR647_FOV4', 'C15_EREG647_EGFR568_FOV3', 'C15_EREG647_EGFR568_FOV1'], ['C15_EGFR568_EREG647_FOV1', 'C15_EGFR568_EREG647_FOV2', 'C15_EGFR647_EREG568_FOV5', 'C15_EGFR647_EREG568_FOV4'], ['C15_EREG647_EGFR568_FOV5', 'C15_EREG647_EGFR568_FOV10', 'C15_EREG568_EGFR647_FOV5', 'C15_EREG647_EGFR568_FOV7', 'C15_EREG568_EGFR647_FOV3', 'C15_EREG568_EGFR647_FOV1', 'C15_EREG647_EGFR568_FOV8']]\n",
      "Train set...\n",
      "Processing...\n",
      "Done!\n",
      "Val set...\n",
      "Processing...\n",
      "Done!\n",
      "Test set...\n",
      "Processing...\n",
      "Done!\n"
     ]
    }
   ],
   "source": [
    "# Run the process script \n",
    "\n",
    "# train test split from fold 0 of locpix\n",
    "\n",
    "!python ../src/locpix_points/scripts/process.py -i ../../../output/c15/expt5 -c ../../../data/c15/config/expt5/process.yaml -m 'C15_EGFR647_EREG568_FOV1' 'C15_EGFR568_EREG647_FOV5' 'C15_EGFR647_EREG568_FOV2' 'C15_EREG647_EGFR568_FOV9' 'C15_EGFR568_EREG647_FOV4' 'C15_EGFR568_EREG647_FOV3' 'C15_EGFR647_EREG568_FOV7' 'C15_EGFR647_EREG568_FOV6' 'C15_EGFR647_EREG568_FOV3' 'C15_EREG647_EGFR568_FOV6' 'C15_EREG568_EGFR647_FOV2' 'C15_EREG647_EGFR568_FOV2' 'C15_EREG568_EGFR647_FOV4' 'C15_EREG647_EGFR568_FOV3' 'C15_EREG647_EGFR568_FOV1' -m 'C15_EGFR568_EREG647_FOV1' 'C15_EGFR568_EREG647_FOV2' 'C15_EGFR647_EREG568_FOV5' 'C15_EGFR647_EREG568_FOV4' -m 'C15_EREG647_EGFR568_FOV5' 'C15_EREG647_EGFR568_FOV10' 'C15_EREG568_EGFR647_FOV5' 'C15_EREG647_EGFR568_FOV7' 'C15_EREG568_EGFR647_FOV3' 'C15_EREG568_EGFR647_FOV1' 'C15_EREG647_EGFR568_FOV8'"
   ]
  },
  {
   "cell_type": "markdown",
   "metadata": {},
   "source": [
    "### Train"
   ]
  },
  {
   "cell_type": "code",
   "execution_count": 46,
   "metadata": {},
   "outputs": [],
   "source": [
    "# Export config variables \n",
    "\n",
    "config = {}\n",
    "\n",
    "# device to train on (gpu or cpu)\n",
    "config['gpu'] = True\n",
    "\n",
    "# model parameters\n",
    "config['model'] = \"pointtransformerseg\"\n",
    "\n",
    "# optimiser parameters\n",
    "config['optimiser'] =\"adam\"\n",
    "config['lr'] = 0.001\n",
    "config['weight_decay'] = 0.0001\n",
    "\n",
    "# training parameters\n",
    "config['epochs'] = 5\n",
    "config['batch_size'] = 1\n",
    "config['num_workers'] = 1 # generall higher -> faster\n",
    "config['loss_fn'] = \"nll\"\n",
    "\n",
    "config['pointtransformerseg'] = {\n",
    "  \"k\": 16,\n",
    "  \"in_channels\": 11,\n",
    "  \"out_channels\": 2,\n",
    "  \"dim_model\": [32, 64, 128, 256, 512],\n",
    "  \"k_up\": 3, # trilinear interpolation\n",
    "  \"output_mlp_layers\": 64,\n",
    "  # ratio of points to sample when transition down\n",
    "  \"ratio\": 0.25,\n",
    "  \"pos_nn_layers\": 64,\n",
    "  \"attn_nn_layers\": 64,\n",
    "}\n",
    "\n",
    "# what trying to predict\n",
    "config[\"label_level\"] = \"node\" # graph\n",
    "\n",
    "# train/val transforms\n",
    "# options: ['normalisescale', 'jitter', 'flip', 'randscale', 'rotate', 'shear'] # null\n",
    "config[\"transforms\"] = {\n",
    "    #'jitter': 15, \n",
    "    'x_flip': None, \n",
    "    'y_flip': None, \n",
    "    #'randscale': [0.95, 1.05], \n",
    "    'z_rotate': None, \n",
    "    #'shear': 0.05, \n",
    "    'normalisescale': None\n",
    "}\n",
    "\n",
    "# wandb parameters\n",
    "config[\"wandb_project\"] = \"c15_expt5\"\n",
    "config[\"wandb_dataset\"] = \"c15\"\n",
    "\n",
    "yaml_save_loc = os.path.join(input_folder, 'config/expt5/train.yaml')\n",
    "with open(yaml_save_loc, \"w\") as outfile:\n",
    "        yaml.dump(config, outfile)\n",
    "\n",
    "# 1. Choice of augmentations\n",
    "\n",
    "# 2. Normalise features\n"
   ]
  },
  {
   "cell_type": "code",
   "execution_count": 47,
   "metadata": {},
   "outputs": [
    {
     "name": "stdout",
     "output_type": "stream",
     "text": [
      "/home/oliver/mambaforge/envs/locpix_points/lib/python3.11/site-packages/torch_geometric/data/dataset.py:217: UserWarning: The `pre_filter` argument differs from the one used in the pre-processed version of this dataset. If you want to make use of another pre-fitering technique, make sure to delete '{self.processed_dir}' first\n",
      "  warnings.warn(\n",
      "\n",
      "\n",
      "---- Params -----\n",
      "\n",
      "\n",
      "Input features:  11\n",
      "Num classes:  2\n",
      "Batch size:  1\n",
      "Epochs:  5\n",
      "Number train graphs 15\n",
      "Number val graphs 4\n",
      "\u001b[34m\u001b[1mwandb\u001b[0m: Currently logged in as: \u001b[33moliver-umney\u001b[0m (\u001b[33mteststest\u001b[0m). Use \u001b[1m`wandb login --relogin`\u001b[0m to force relogin\n",
      "\u001b[34m\u001b[1mwandb\u001b[0m: wandb version 0.15.8 is available!  To upgrade, please run:\n",
      "\u001b[34m\u001b[1mwandb\u001b[0m:  $ pip install wandb --upgrade\n",
      "\u001b[34m\u001b[1mwandb\u001b[0m: Tracking run with wandb version 0.15.4\n",
      "\u001b[34m\u001b[1mwandb\u001b[0m: Run data is saved locally in \u001b[35m\u001b[1m/home/oliver/smlm_cloud/locpix-points/experiments/wandb/run-20230808_140123-s1yd7gz5\u001b[0m\n",
      "\u001b[34m\u001b[1mwandb\u001b[0m: Run \u001b[1m`wandb offline`\u001b[0m to turn off syncing.\n",
      "\u001b[34m\u001b[1mwandb\u001b[0m: Syncing run \u001b[33msoft-wind-2\u001b[0m\n",
      "\u001b[34m\u001b[1mwandb\u001b[0m: ⭐️ View project at \u001b[34m\u001b[4mhttps://wandb.ai/teststest/c15_expt5\u001b[0m\n",
      "\u001b[34m\u001b[1mwandb\u001b[0m: 🚀 View run at \u001b[34m\u001b[4mhttps://wandb.ai/teststest/c15_expt5/runs/s1yd7gz5\u001b[0m\n",
      "\n",
      "\n",
      "---- Model summary (estimate) ----\n",
      "\n",
      "\n",
      "======================================================================\n",
      "Layer (type:depth-idx)                        Param #\n",
      "======================================================================\n",
      "├─MLP: 1-1                                    --\n",
      "|    └─ReLU: 2-1                              --\n",
      "|    └─ModuleList: 2-2                        --\n",
      "|    |    └─Linear: 3-1                       384\n",
      "|    └─ModuleList: 2-3                        --\n",
      "|    |    └─BatchNorm: 3-2                    64\n",
      "├─TransformerBlock: 1-2                       --\n",
      "|    └─Linear: 2-4                            1,056\n",
      "|    └─Linear: 2-5                            1,056\n",
      "|    └─MLP: 2-6                               --\n",
      "|    |    └─ReLU: 3-3                         --\n",
      "|    |    └─ModuleList: 3-4                   2,272\n",
      "|    |    └─ModuleList: 3-5                   --\n",
      "|    └─MLP: 2-7                               --\n",
      "|    |    └─ReLU: 3-6                         --\n",
      "|    |    └─ModuleList: 3-7                   4,192\n",
      "|    |    └─ModuleList: 3-8                   --\n",
      "|    └─PointTransformerConv: 2-8              --\n",
      "|    |    └─SumAggregation: 3-9               --\n",
      "|    |    └─MLP: 3-10                         (recursive)\n",
      "|    |    └─MLP: 3-11                         (recursive)\n",
      "|    |    └─Linear: 3-12                      1,024\n",
      "|    |    └─Linear: 3-13                      1,024\n",
      "|    |    └─Linear: 3-14                      1,024\n",
      "├─ModuleList: 1-3                             --\n",
      "|    └─TransformerBlock: 2-9                  --\n",
      "|    |    └─Linear: 3-15                      1,056\n",
      "|    |    └─Linear: 3-16                      1,056\n",
      "|    |    └─MLP: 3-17                         2,272\n",
      "|    |    └─MLP: 3-18                         4,192\n",
      "|    |    └─PointTransformerConv: 3-19        9,536\n",
      "|    └─TransformerBlock: 2-10                 --\n",
      "|    |    └─Linear: 3-20                      4,160\n",
      "|    |    └─Linear: 3-21                      4,160\n",
      "|    |    └─MLP: 3-22                         4,352\n",
      "|    |    └─MLP: 3-23                         8,320\n",
      "|    |    └─PointTransformerConv: 3-24        24,960\n",
      "|    └─TransformerBlock: 2-11                 --\n",
      "|    |    └─Linear: 3-25                      16,512\n",
      "|    |    └─Linear: 3-26                      16,512\n",
      "|    |    └─MLP: 3-27                         8,512\n",
      "|    |    └─MLP: 3-28                         16,576\n",
      "|    |    └─PointTransformerConv: 3-29        74,240\n",
      "|    └─TransformerBlock: 2-12                 --\n",
      "|    |    └─Linear: 3-30                      65,792\n",
      "|    |    └─Linear: 3-31                      65,792\n",
      "|    |    └─MLP: 3-32                         16,832\n",
      "|    |    └─MLP: 3-33                         33,088\n",
      "|    |    └─PointTransformerConv: 3-34        246,528\n",
      "├─ModuleList: 1-4                             --\n",
      "|    └─TransformerBlock: 2-13                 --\n",
      "|    |    └─Linear: 3-35                      4,160\n",
      "|    |    └─Linear: 3-36                      4,160\n",
      "|    |    └─MLP: 3-37                         4,352\n",
      "|    |    └─MLP: 3-38                         8,320\n",
      "|    |    └─PointTransformerConv: 3-39        24,960\n",
      "|    └─TransformerBlock: 2-14                 --\n",
      "|    |    └─Linear: 3-40                      16,512\n",
      "|    |    └─Linear: 3-41                      16,512\n",
      "|    |    └─MLP: 3-42                         8,512\n",
      "|    |    └─MLP: 3-43                         16,576\n",
      "|    |    └─PointTransformerConv: 3-44        74,240\n",
      "|    └─TransformerBlock: 2-15                 --\n",
      "|    |    └─Linear: 3-45                      65,792\n",
      "|    |    └─Linear: 3-46                      65,792\n",
      "|    |    └─MLP: 3-47                         16,832\n",
      "|    |    └─MLP: 3-48                         33,088\n",
      "|    |    └─PointTransformerConv: 3-49        246,528\n",
      "|    └─TransformerBlock: 2-16                 --\n",
      "|    |    └─Linear: 3-50                      262,656\n",
      "|    |    └─Linear: 3-51                      262,656\n",
      "|    |    └─MLP: 3-52                         33,472\n",
      "|    |    └─MLP: 3-53                         66,112\n",
      "|    |    └─PointTransformerConv: 3-54        886,016\n",
      "├─ModuleList: 1-5                             --\n",
      "|    └─TransitionUp: 2-17                     --\n",
      "|    |    └─MLP: 3-55                         2,144\n",
      "|    |    └─MLP: 3-56                         1,120\n",
      "|    └─TransitionUp: 2-18                     --\n",
      "|    |    └─MLP: 3-57                         8,384\n",
      "|    |    └─MLP: 3-58                         4,288\n",
      "|    └─TransitionUp: 2-19                     --\n",
      "|    |    └─MLP: 3-59                         33,152\n",
      "|    |    └─MLP: 3-60                         16,768\n",
      "|    └─TransitionUp: 2-20                     --\n",
      "|    |    └─MLP: 3-61                         131,840\n",
      "|    |    └─MLP: 3-62                         66,304\n",
      "├─ModuleList: 1-6                             --\n",
      "|    └─TransitionDown: 2-21                   --\n",
      "|    |    └─MLP: 3-63                         2,240\n",
      "|    └─TransitionDown: 2-22                   --\n",
      "|    |    └─MLP: 3-64                         8,576\n",
      "|    └─TransitionDown: 2-23                   --\n",
      "|    |    └─MLP: 3-65                         33,536\n",
      "|    └─TransitionDown: 2-24                   --\n",
      "|    |    └─MLP: 3-66                         132,608\n",
      "├─MLP: 1-7                                    --\n",
      "|    └─ReLU: 2-25                             --\n",
      "|    └─ModuleList: 2-26                       --\n",
      "|    |    └─Linear: 3-67                      262,656\n",
      "|    └─ModuleList: 2-27                       --\n",
      "|    |    └─Identity: 3-68                    --\n",
      "├─TransformerBlock: 1-8                       --\n",
      "|    └─Linear: 2-28                           262,656\n",
      "|    └─Linear: 2-29                           262,656\n",
      "|    └─MLP: 2-30                              --\n",
      "|    |    └─ReLU: 3-69                        --\n",
      "|    |    └─ModuleList: 3-70                  33,472\n",
      "|    |    └─ModuleList: 3-71                  --\n",
      "|    └─MLP: 2-31                              --\n",
      "|    |    └─ReLU: 3-72                        --\n",
      "|    |    └─ModuleList: 3-73                  66,112\n",
      "|    |    └─ModuleList: 3-74                  --\n",
      "|    └─PointTransformerConv: 2-32             --\n",
      "|    |    └─SumAggregation: 3-75              --\n",
      "|    |    └─MLP: 3-76                         (recursive)\n",
      "|    |    └─MLP: 3-77                         (recursive)\n",
      "|    |    └─Linear: 3-78                      262,144\n",
      "|    |    └─Linear: 3-79                      262,144\n",
      "|    |    └─Linear: 3-80                      262,144\n",
      "├─MLP: 1-9                                    --\n",
      "|    └─ReLU: 2-33                             --\n",
      "|    └─ModuleList: 2-34                       --\n",
      "|    |    └─Linear: 3-81                      2,112\n",
      "|    |    └─Linear: 3-82                      130\n",
      "|    └─ModuleList: 2-35                       --\n",
      "|    |    └─Identity: 3-83                    --\n",
      "======================================================================\n",
      "Total params: 4,870,978\n",
      "Trainable params: 4,870,978\n",
      "Non-trainable params: 0\n",
      "======================================================================\n",
      "\n",
      "\n",
      "---- Training... ----\n",
      "\n",
      "\n"
     ]
    },
    {
     "name": "stdout",
     "output_type": "stream",
     "text": [
      "Epoch:  0\n",
      "^C\n"
     ]
    }
   ],
   "source": [
    "# Run the train script \n",
    "\n",
    "!python ../src/locpix_points/scripts/train.py -i ../../../output/c15/expt5 -c ../../../data/c15/config/expt5/train.yaml"
   ]
  },
  {
   "cell_type": "markdown",
   "metadata": {},
   "source": [
    "### Evaluate"
   ]
  },
  {
   "cell_type": "code",
   "execution_count": null,
   "metadata": {},
   "outputs": [],
   "source": [
    "# Export config variables\n",
    "\n",
    "# Run the evaluate script\n",
    "\n",
    "python src/locpix_points/scripts/evaluate.py -i ../../output/c15 -c src/locpix_points/templates/evaluate.yaml"
   ]
  },
  {
   "cell_type": "markdown",
   "metadata": {},
   "source": [
    "### Interpret the results"
   ]
  },
  {
   "cell_type": "code",
   "execution_count": null,
   "metadata": {},
   "outputs": [],
   "source": [
    "# Pytorch geometric explainability tools"
   ]
  },
  {
   "cell_type": "code",
   "execution_count": null,
   "metadata": {},
   "outputs": [],
   "source": []
  }
 ],
 "metadata": {
  "kernelspec": {
   "display_name": "Python 3 (ipykernel)",
   "language": "python",
   "name": "python3"
  },
  "language_info": {
   "codemirror_mode": {
    "name": "ipython",
    "version": 3
   },
   "file_extension": ".py",
   "mimetype": "text/x-python",
   "name": "python",
   "nbconvert_exporter": "python",
   "pygments_lexer": "ipython3",
   "version": "3.11.4"
  }
 },
 "nbformat": 4,
 "nbformat_minor": 2
}
