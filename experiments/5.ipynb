{
 "cells": [
  {
   "cell_type": "markdown",
   "metadata": {},
   "source": [
    "### Imports"
   ]
  },
  {
   "cell_type": "code",
   "execution_count": null,
   "metadata": {},
   "outputs": [],
   "source": [
    "import os\n",
    "import yaml\n",
    "import polars as pl"
   ]
  },
  {
   "cell_type": "markdown",
   "metadata": {},
   "source": [
    "### Experiment description"
   ]
  },
  {
   "cell_type": "markdown",
   "metadata": {},
   "source": [
    "1. Predict Channel for Cell Pellet dataset\n",
    "2. Use PointTransformer\n",
    "3. Features = Everything except channels\n",
    "4. Homogeneous graph"
   ]
  },
  {
   "cell_type": "markdown",
   "metadata": {},
   "source": [
    "### Variables"
   ]
  },
  {
   "cell_type": "code",
   "execution_count": null,
   "metadata": {},
   "outputs": [],
   "source": [
    "input_folder = '../../../data/c15'\n",
    "output_folder = '../../../output/c15/expt5'\n",
    "input_expt_folder = '../../../data/c15/expt5'"
   ]
  },
  {
   "cell_type": "markdown",
   "metadata": {},
   "source": [
    "### Preprocess data to suitable output location"
   ]
  },
  {
   "cell_type": "code",
   "execution_count": null,
   "metadata": {},
   "outputs": [],
   "source": [
    "folders = [output_folder, os.path.join(input_folder, \"config/expt5\"), input_expt_folder]\n",
    "\n",
    "for folder in folders:\n",
    "    if not os.path.exists(folder):\n",
    "        os.makedirs(folder)"
   ]
  },
  {
   "cell_type": "code",
   "execution_count": null,
   "metadata": {},
   "outputs": [],
   "source": [
    "# Export config variables to file\n",
    "\n",
    "config = {}\n",
    "\n",
    "# The following are the names of the \n",
    "# x column, y column, z column if present, channel, frame,\n",
    "# in the csvs being processed\n",
    "config['x_col'] = 'x'\n",
    "config['y_col'] = 'y'\n",
    "config['z_col'] = None\n",
    "config['channel_col'] = None #'channel'\n",
    "config['frame_col'] = None # 'frame'\n",
    "\n",
    "# The number of dimensions to consider\n",
    "# If 2 only deals with x and y \n",
    "# If 3 will read in and deal with z as well (currently not fully supported)\n",
    "config['dim'] = 2\n",
    "\n",
    "# choice of which channels user wants to consider\n",
    "# if null considers all\n",
    "config['channel_choice'] = None\n",
    "\n",
    "# specify string for each channel\n",
    "config['channel_label'] = None\n",
    "\n",
    "# whether to not drop the column containing\n",
    "# pixel\n",
    "config['drop_pixel_col'] = False\n",
    "\n",
    "# files to include: all for everyone \n",
    "config['include_files'] = 'all' \n",
    "\n",
    "## Choice of input features\n",
    "config['features'] = ['X precision (nm)', \n",
    "                      'Y precision (nm)',\t\n",
    "                      \"Photons\",\t\n",
    "                      \"Background\",\t\n",
    "                      \"PSF Sigma X (pix)\",\t\n",
    "                      \"PSF Sigma Y (pix)\",\t\n",
    "                      \"Sigma X var\", \n",
    "                      \"Sigma Y var\", \t\n",
    "                      \"p-value\"]\n",
    "\n",
    "## GT label per loc or per FOV\n",
    "config['gt_label_scope'] = 'loc'\n",
    "\n",
    "## if gt label specified, whih channel is it in (if its label per fov then only one row has to have value), or leave as null\n",
    "config['gt_label'] = \"gt_label\"\n",
    "\n",
    "## specify the gt label map\n",
    "config['gt_label_map'] = {0: 'EGFR', 1: 'EREG'}\n",
    "\n",
    "yaml_save_loc = os.path.join(input_folder, 'config/expt5/preprocess.yaml')\n",
    "with open(yaml_save_loc, \"w\") as outfile:\n",
    "        yaml.dump(config, outfile)"
   ]
  },
  {
   "cell_type": "code",
   "execution_count": null,
   "metadata": {},
   "outputs": [],
   "source": [
    "# Run the preprocess script using this file\n",
    "\n",
    "!python ../src/locpix_points/scripts/preprocess.py -i ../../../data/nieves/expt3 -c ../../../data/nieves/config/expt3/preprocess.yaml -o ../../../output/nieves/expt3 -p"
   ]
  },
  {
   "cell_type": "markdown",
   "metadata": {},
   "source": [
    "### Process data"
   ]
  },
  {
   "cell_type": "code",
   "execution_count": null,
   "metadata": {},
   "outputs": [],
   "source": [
    "# Export config variables \n",
    "\n",
    "config = {}\n",
    "\n",
    "# whether to process the data as heterogeneous or homogenous\n",
    "# graph\n",
    "config['hetero'] = False\n",
    "\n",
    "# train/test/val splits\n",
    "config['train_ratio'] = 0.7\n",
    "config['val_ratio'] = 0.1\n",
    "config['test_ratio'] = 0.2\n",
    "\n",
    "# what to load into position\n",
    "# Options: xy, xyz\n",
    "config['pos']= 'xy'\n",
    "\n",
    "# what to load into features\n",
    "# Options: \n",
    "config[\"feat\"] = ['X (nm)', \n",
    "                  'Y (nm)', \n",
    "                  'Z (nm)', \n",
    "                  'X precision (nm)', \n",
    "                  'Y precision (nm)', \n",
    "                  'Photons', \n",
    "                  'Background', \n",
    "                  'PSF Sigma X (pix)', \n",
    "                  'PSF Sigma Y (pix)', \n",
    "                  'Sigma X var', \n",
    "                  'Sigma Y var', \n",
    "                  'p-value']\n",
    "    \n",
    "# label level\n",
    "# graph or node\n",
    "config[\"label_level\"] = 'node'\n",
    "\n",
    "yaml_save_loc = os.path.join(input_folder, 'config/expt3/process.yaml')\n",
    "with open(yaml_save_loc, \"w\") as outfile:\n",
    "        yaml.dump(config, outfile)\n"
   ]
  },
  {
   "cell_type": "code",
   "execution_count": null,
   "metadata": {},
   "outputs": [],
   "source": [
    "# Run the process script \n",
    "\n",
    "# copy train test split from expt1\n",
    "\n",
    "!python ../src/locpix_points/scripts/process.py -i ../../../output/nieves/expt3 -c ../../../data/nieves/config/expt3/process.yaml -r ../../../output/nieves/expt1 -- split"
   ]
  },
  {
   "cell_type": "markdown",
   "metadata": {},
   "source": [
    "### Train"
   ]
  },
  {
   "cell_type": "code",
   "execution_count": null,
   "metadata": {},
   "outputs": [],
   "source": [
    "# Export config variables \n",
    "\n",
    "config = {}\n",
    "\n",
    "# device to train on (gpu or cpu)\n",
    "config['gpu'] = True\n",
    "\n",
    "# model parameters\n",
    "config['model'] = \"pointtransformerseg\"\n",
    "\n",
    "# optimiser parameters\n",
    "config['optimiser'] =\"adam\"\n",
    "config['lr'] = 0.001\n",
    "config['weight_decay'] = 0.0001\n",
    "\n",
    "# training parameters\n",
    "config['epochs'] = 5\n",
    "config['batch_size'] = 1\n",
    "config['num_workers'] = 1 # generall higher -> faster\n",
    "config['loss_fn'] = \"nll\"\n",
    "\n",
    "config['pointtransformerseg'] = {\n",
    "  \"k\": 16,\n",
    "  \"in_channels\": 1,\n",
    "  \"out_channels\": 2,\n",
    "  \"dim_model\": [32, 64, 128, 256, 512],\n",
    "  \"k_up\": 3, # trilinear interpolation\n",
    "  \"output_mlp_layers\": 64,\n",
    "  # ratio of points to sample when transition down\n",
    "  \"ratio\": 0.25,\n",
    "  \"pos_nn_layers\": 64,\n",
    "  \"attn_nn_layers\": 64,\n",
    "}\n",
    "\n",
    "# what trying to predict\n",
    "config[\"label_level\"] = \"node\" # graph\n",
    "\n",
    "# train/val transforms\n",
    "# options: ['normalisescale', 'jitter', 'flip', 'randscale', 'rotate', 'shear'] # null\n",
    "config[\"transforms\"] = {\n",
    "    #'jitter': 15, \n",
    "    'x_flip': None, \n",
    "    'y_flip': None, \n",
    "    #'randscale': [0.95, 1.05], \n",
    "    'z_rotate': None, \n",
    "    #'shear': 0.05, \n",
    "    'normalisescale': None\n",
    "}\n",
    "\n",
    "# wandb parameters\n",
    "config[\"wandb_project\"] = \"nieves_expt3\"\n",
    "config[\"wandb_dataset\"] = \"nieves\"\n",
    "\n",
    "yaml_save_loc = os.path.join(input_folder, 'config/expt3/train.yaml')\n",
    "with open(yaml_save_loc, \"w\") as outfile:\n",
    "        yaml.dump(config, outfile)\n",
    "\n",
    "# 1. Choice of augmentations\n",
    "\n",
    "# 2. Normalise features\n"
   ]
  },
  {
   "cell_type": "code",
   "execution_count": null,
   "metadata": {},
   "outputs": [],
   "source": [
    "# Run the train script \n",
    "\n",
    "!python ../src/locpix_points/scripts/train.py -i ../../../output/nieves/expt3 -c ../../../data/nieves/config/expt3/train.yaml"
   ]
  },
  {
   "cell_type": "markdown",
   "metadata": {},
   "source": [
    "### Evaluate"
   ]
  },
  {
   "cell_type": "code",
   "execution_count": null,
   "metadata": {},
   "outputs": [],
   "source": [
    "# Export config variables\n",
    "\n",
    "# Run the evaluate script\n",
    "\n",
    "python src/locpix_points/scripts/evaluate.py -i ../../output/nieves -c src/locpix_points/templates/evaluate.yaml"
   ]
  },
  {
   "cell_type": "markdown",
   "metadata": {},
   "source": [
    "### Interpret the results"
   ]
  },
  {
   "cell_type": "code",
   "execution_count": null,
   "metadata": {},
   "outputs": [],
   "source": [
    "# Pytorch geometric explainability tools"
   ]
  },
  {
   "cell_type": "code",
   "execution_count": null,
   "metadata": {},
   "outputs": [],
   "source": []
  }
 ],
 "metadata": {
  "kernelspec": {
   "display_name": "Python 3 (ipykernel)",
   "language": "python",
   "name": "python3"
  },
  "language_info": {
   "codemirror_mode": {
    "name": "ipython",
    "version": 3
   },
   "file_extension": ".py",
   "mimetype": "text/x-python",
   "name": "python",
   "nbconvert_exporter": "python",
   "pygments_lexer": "ipython3",
   "version": "3.11.4"
  }
 },
 "nbformat": 4,
 "nbformat_minor": 2
}
