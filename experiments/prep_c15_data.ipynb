{
 "cells": [
  {
   "cell_type": "markdown",
   "metadata": {},
   "source": [
    "## Need to add extra column to all data saying whether EGFR or EREG\n",
    "\n",
    "Note that 568 = channel 0 \n",
    "Note that 647 = channel 1"
   ]
  },
  {
   "cell_type": "code",
   "execution_count": 10,
   "metadata": {},
   "outputs": [],
   "source": [
    "input_folder = '../../../data/c15'"
   ]
  },
  {
   "cell_type": "code",
   "execution_count": 11,
   "metadata": {},
   "outputs": [],
   "source": [
    "import polars as pl\n",
    "import os"
   ]
  },
  {
   "cell_type": "code",
   "execution_count": 12,
   "metadata": {},
   "outputs": [],
   "source": [
    "label_map = {'EGFR': 0, 'EREG': 1}"
   ]
  },
  {
   "cell_type": "code",
   "execution_count": 13,
   "metadata": {},
   "outputs": [],
   "source": [
    "files = os.listdir(input_folder)\n",
    "for file in files:\n",
    "    df = pl.read_parquet(os.path.join(input_folder, file))\n",
    "    if file.startswith(\"C15_EGFR568\"):\n",
    "        map = {0.0: label_map['EGFR'], 1.0: label_map['EREG']}\n",
    "        df = df.with_columns(pl.col(\"channelIndex[]\").map_dict(map).alias(\"gt_label\"))\n",
    "    elif file.startswith(\"C15_EGFR647\"):\n",
    "        map = {0: label_map['EREG'], 1: label_map['EGFR']}\n",
    "        df = df.with_columns(pl.col(\"channelIndex[]\").map_dict(map).alias(\"gt_label\"))\n",
    "    elif file.startswith(\"C15_EREG568\"):\n",
    "        map = {0: label_map['EREG'], 1: label_map['EGFR']}\n",
    "        df = df.with_columns(pl.col(\"channelIndex[]\").map_dict(map).alias(\"gt_label\"))\n",
    "    elif file.startswith(\"C15_EREG647\"):\n",
    "        map = {0: label_map['EGFR'], 1: label_map['EREG']}\n",
    "        df = df.with_columns(pl.col(\"channelIndex[]\").map_dict(map).alias(\"gt_label\"))\n",
    "    df.write_parquet(os.path.join(input_folder, file))"
   ]
  },
  {
   "cell_type": "code",
   "execution_count": null,
   "metadata": {},
   "outputs": [],
   "source": []
  },
  {
   "cell_type": "code",
   "execution_count": null,
   "metadata": {},
   "outputs": [],
   "source": []
  }
 ],
 "metadata": {
  "kernelspec": {
   "display_name": "Python 3 (ipykernel)",
   "language": "python",
   "name": "python3"
  },
  "language_info": {
   "codemirror_mode": {
    "name": "ipython",
    "version": 3
   },
   "file_extension": ".py",
   "mimetype": "text/x-python",
   "name": "python",
   "nbconvert_exporter": "python",
   "pygments_lexer": "ipython3",
   "version": "3.10.11"
  }
 },
 "nbformat": 4,
 "nbformat_minor": 2
}
