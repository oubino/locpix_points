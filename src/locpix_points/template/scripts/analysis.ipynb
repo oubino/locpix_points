{
 "cells": [
  {
   "cell_type": "markdown",
   "metadata": {},
   "source": [
    "## Analysis notebook"
   ]
  },
  {
   "cell_type": "markdown",
   "metadata": {},
   "source": [
    "### Imports"
   ]
  },
  {
   "cell_type": "code",
   "execution_count": null,
   "metadata": {},
   "outputs": [],
   "source": [
    "from bokeh.plotting import output_file, save\n",
    "import json\n",
    "import os\n",
    "import pickle\n",
    "from locpix_points.data_loading import datastruc\n",
    "from locpix_points.scripts.visualise import visualise_torch_geometric, visualise_parquet\n",
    "from locpix_points.scripts.featanalyse import (\n",
    "    generate_umap_embedding,\n",
    "    visualise_umap_embedding,\n",
    "    generate_pca_embedding,\n",
    "    visualise_pca_embedding,\n",
    "    visualise_explanation,\n",
    "    k_means_fn,\n",
    "    get_prediction,\n",
    "    subgraph_eval,\n",
    "    pgex_eval,\n",
    "    attention_eval,\n",
    ")\n",
    "\n",
    "import matplotlib.pyplot as plt\n",
    "import pandas as pd\n",
    "import polars as pl\n",
    "import seaborn as sns\n",
    "from sklearn.preprocessing import StandardScaler\n",
    "import torch\n",
    "import umap\n",
    "import yaml"
   ]
  },
  {
   "cell_type": "markdown",
   "metadata": {},
   "source": [
    "### Functions"
   ]
  },
  {
   "cell_type": "code",
   "execution_count": null,
   "metadata": {},
   "outputs": [],
   "source": [
    "def find_graph_path(project_directory, file_name, file_folder):\n",
    "    \"\"\"Visualise raw data\n",
    "    \n",
    "    Args:\n",
    "        project_directory (string): Location of project directory\n",
    "        file_name (string) : Name of file to image\n",
    "        file_folder (string) : Which folder the file is in\"\"\"\n",
    "    \n",
    "    train_file_map_path = os.path.join(project_directory, f\"{file_folder}/train/file_map.csv\")\n",
    "    val_file_map_path = os.path.join(project_directory, f\"{file_folder}/val/file_map.csv\")\n",
    "    test_file_map_path = os.path.join(project_directory, f\"{file_folder}/test/file_map.csv\")\n",
    "    \n",
    "    train_file_map = pd.read_csv(train_file_map_path)\n",
    "    val_file_map = pd.read_csv(val_file_map_path)\n",
    "    test_file_map = pd.read_csv(test_file_map_path)\n",
    "    \n",
    "    train_out = train_file_map[train_file_map[\"file_name\"] == file_name]\n",
    "    val_out = val_file_map[val_file_map[\"file_name\"] == file_name]\n",
    "    test_out = test_file_map[test_file_map[\"file_name\"] == file_name]\n",
    "    \n",
    "    if len(train_out) > 0:\n",
    "        folder = \"train\"\n",
    "        file_name = train_out[\"idx\"].values[0]\n",
    "    if len(val_out) > 0:\n",
    "        folder = \"val\"\n",
    "        file_name = val_out[\"idx\"].values[0]\n",
    "    if len(test_out) > 0:\n",
    "        folder = \"test\"\n",
    "        file_name = test_out[\"idx\"].values[0]\n",
    "    \n",
    "    return os.path.join(project_directory, f\"{file_folder}/{folder}/{file_name}.pt\")"
   ]
  },
  {
   "cell_type": "markdown",
   "metadata": {},
   "source": [
    "### Parameters"
   ]
  },
  {
   "cell_type": "code",
   "execution_count": null,
   "metadata": {},
   "outputs": [],
   "source": [
    "project_directory = \"..\"\n",
    "# load config\n",
    "with open(os.path.join(project_directory, \"config/featanalyse_manual.yaml\"), \"r\") as ymlfile:\n",
    "    config_manual = yaml.safe_load(ymlfile)\n",
    "with open(os.path.join(project_directory, \"config/featanalyse_nn.yaml\"), \"r\") as ymlfile:\n",
    "    config_nn = yaml.safe_load(ymlfile)\n",
    "label_map = config_manual[\"label_map\"]\n",
    "assert label_map == config_nn[\"label_map\"]\n",
    "manual_features = config_manual[\"features\"]"
   ]
  },
  {
   "cell_type": "code",
   "execution_count": null,
   "metadata": {},
   "outputs": [],
   "source": [
    "final_test = False\n",
    "umap_n_neighbours = 20\n",
    "umap_min_dist = 0.5\n",
    "pca_n_components = 2\n",
    "device = 'cuda'"
   ]
  },
  {
   "cell_type": "markdown",
   "metadata": {},
   "source": [
    "### Analyse the manual features"
   ]
  },
  {
   "cell_type": "code",
   "execution_count": null,
   "metadata": {},
   "outputs": [],
   "source": [
    "train_df = os.path.join(project_directory, \"output/train_df_manual.csv\")\n",
    "train_df = pl.read_csv(train_df)\n",
    "train_df_pd = train_df.to_pandas()\n",
    "\n",
    "if final_test:\n",
    "    test_df = os.path.join(project_directory, \"output/test_df_manual.csv\")\n",
    "    test_df = pl.read_csv(test_df)\n",
    "    test_df_pd = test_df.to_pandas()"
   ]
  },
  {
   "cell_type": "markdown",
   "metadata": {},
   "source": [
    "#### Compare PCA vs Convex hull"
   ]
  },
  {
   "cell_type": "code",
   "execution_count": null,
   "metadata": {},
   "outputs": [],
   "source": [
    "fig, (ax1, ax2) = plt.subplots(1,2, figsize=(10,4))\n",
    "sns.scatterplot(data=train_df_pd, x = \"length_pca\", y=\"length_convex_hull\",s=5, ax=ax1)\n",
    "sns.scatterplot(data=train_df_pd, x = \"area_pca\", y=\"area_convex_hull\",s=5, ax=ax2)\n",
    "plt.show()\n",
    "\n",
    "if final_test:\n",
    "    fig, (ax1, ax2) = plt.subplots(1,2, figsize=(10,4))\n",
    "    sns.scatterplot(data=test_df_pd, x = \"length_pca\", y=\"length_convex_hull\",s=5, ax=ax1)\n",
    "    sns.scatterplot(data=test_df_pd, x = \"area_pca\", y=\"area_convex_hull\",s=5, ax=ax2)\n",
    "    plt.show()"
   ]
  },
  {
   "cell_type": "markdown",
   "metadata": {},
   "source": [
    "#### Cluster features boxplots"
   ]
  },
  {
   "cell_type": "code",
   "execution_count": null,
   "metadata": {},
   "outputs": [],
   "source": [
    "# number of clusters per FOV, cluster type, ...\n",
    "train_cluster_counts = train_df[\"file_name\"].value_counts()\n",
    "print(\"Number of clusters per FOV:\", train_cluster_counts)\n",
    "# number of clusters in each class\n",
    "train_type_counts = train_df[\"type\"].value_counts()\n",
    "print(\"Number of clusters in each class:\", train_type_counts)\n",
    "\n",
    "# per fov features grouped by mean with std\n",
    "train_df_boxplot = train_df[manual_features + [\"type\", \"file_name\"]].to_pandas()\n",
    "\n",
    "fig, axs = plt.subplots(2,4, figsize=(20,8))\n",
    "assert len(manual_features) == 8\n",
    "counter = 0\n",
    "for feat in manual_features:\n",
    "    sns.boxplot(x='type', y=feat, data=train_df_boxplot, color='k', fill=False, flierprops=dict(marker='x', markersize=5), ax=axs[counter//4][counter%4])\n",
    "    counter += 1\n",
    "plt.show()\n",
    "\n",
    "\n",
    "if final_test:\n",
    "    # number of clusters per FOV, cluster type, ...\n",
    "    test_cluster_counts = test_df[\"file_name\"].value_counts()\n",
    "    print(\"Number of clusters per FOV:\", test_cluster_counts)\n",
    "    # number of clusters in each class\n",
    "    test_type_counts = test_df[\"type\"].value_counts()\n",
    "    print(\"Number of clusters in each class:\", test_type_counts)\n",
    "\n",
    "    # per fov features grouped by mean with std\n",
    "    test_df_boxplot = test_df[manual_features + [\"type\", \"file_name\"]].to_pandas()\n",
    "\n",
    "    fig, axs = plt.subplots(2,4, figsize=(20,8))\n",
    "    assert len(manual_features) == 8\n",
    "    counter = 0\n",
    "    for feat in manual_features:\n",
    "        sns.boxplot(x='type', y=feat, data=test_df_boxplot, color='k', fill=False, flierprops=dict(marker='x', markersize=5), ax=axs[counter//4][counter%4])\n",
    "        counter += 1\n",
    "    plt.show()\n",
    "#"
   ]
  },
  {
   "cell_type": "markdown",
   "metadata": {},
   "source": [
    "### Graph feature explainability"
   ]
  },
  {
   "cell_type": "code",
   "execution_count": null,
   "metadata": {},
   "outputs": [],
   "source": [
    "# get features present in the dataframe\n",
    "not_features = [\"clusterID\", \"x_mean\", \"y_mean\", \"type\", \"file_name\"]\n",
    "features = [x for x in train_df.columns if x not in not_features]\n",
    "\n",
    "# now remove features not selected by user\n",
    "removed_features = [f for f in features if f not in manual_features]\n",
    "print(\"Removed features: \", removed_features)\n",
    "features = [f for f in features if f in manual_features]\n",
    "print(\"Features analysed: \", features)\n",
    "\n",
    "# feature vector\n",
    "train_data_feats = train_df_pd[features].values\n",
    "if final_test:\n",
    "    test_data_feats = test_df_pd[features].values\n",
    "\n",
    "num_features = len(train_data_feats[0])\n",
    "print(\"Num features: \", num_features)\n",
    "############ WARNING ##############\n",
    "# Be careful, if analysing neural net features\n",
    "# Is this the number of features you expect\n",
    "# Did this task use manual features as well\n",
    "\n",
    "scaler = StandardScaler().fit(train_data_feats)\n",
    "X_train = scaler.transform(train_data_feats)\n",
    "if final_test:\n",
    "    X_test = scaler.transform(test_data_feats)"
   ]
  },
  {
   "cell_type": "markdown",
   "metadata": {},
   "source": [
    "#### UMAP"
   ]
  },
  {
   "cell_type": "code",
   "execution_count": null,
   "metadata": {},
   "outputs": [],
   "source": [
    "train_umap_embedding_manual_path = os.path.join(project_directory, \"output/train_umap_embedding_manual.pkl\")\n",
    "test_umap_embedding_manual_path = os.path.join(project_directory, \"output/test_umap_embedding_manual.pkl\")\n",
    "\n",
    "if not os.path.exists(train_umap_embedding_manual_path):\n",
    "    train_umap_embedding = generate_umap_embedding(X_train, umap_min_dist, umap_n_neighbours)\n",
    "    with open(train_umap_embedding_manual_path, \"wb\") as f:\n",
    "        pickle.dump(train_umap_embedding, f)\n",
    "    f.close()\n",
    "\n",
    "if final_test:\n",
    "    print(\"Final test\")\n",
    "    if not os.path.exists(test_umap_embedding_manual_path):\n",
    "        test_umap_embedding = generate_umap_embedding(X_test, umap_min_dist, umap_n_neighbours)\n",
    "        with open(test_umap_embedding_manual_path, \"wb\") as f:\n",
    "            pickle.dump(test_umap_embedding, f)\n",
    "        f.close()"
   ]
  },
  {
   "cell_type": "code",
   "execution_count": null,
   "metadata": {},
   "outputs": [],
   "source": [
    "%matplotlib widget\n",
    "with open(train_umap_embedding_manual_path, \"rb\") as f:\n",
    "    train_umap_embedding = pickle.load(f)\n",
    "visualise_umap_embedding(train_umap_embedding, train_df_pd, label_map)\n",
    "if final_test:\n",
    "    with open(test_umap_embedding_manual_path, \"rb\") as f:\n",
    "        test_umap_embedding = pickle.load(f)\n",
    "    visualise_umap_embedding(test_umap_embedding, test_df_pd, label_map)"
   ]
  },
  {
   "cell_type": "markdown",
   "metadata": {},
   "source": [
    "#### PCA"
   ]
  },
  {
   "cell_type": "code",
   "execution_count": null,
   "metadata": {},
   "outputs": [],
   "source": [
    "train_pca_embedding = generate_pca_embedding(X_train, pca_n_components)\n",
    "if final_test:\n",
    "    test_pca_embedding = generate_pca_embedding(X_test, pca_n_components)\n"
   ]
  },
  {
   "cell_type": "code",
   "execution_count": null,
   "metadata": {},
   "outputs": [],
   "source": [
    "visualise_pca_embedding(train_pca_embedding, train_df_pd, label_map)\n",
    "if final_test:\n",
    "    visualise_pca_embedding(test_pca_embedding, test_df_pd, label_map)"
   ]
  },
  {
   "cell_type": "markdown",
   "metadata": {},
   "source": [
    "#### K-means"
   ]
  },
  {
   "cell_type": "code",
   "execution_count": null,
   "metadata": {},
   "outputs": [],
   "source": [
    "k_means_fn(X_train, train_df_pd, label_map)\n",
    "if final_test:\n",
    "    k_means_fn(X_test, test_df_pd, label_map)"
   ]
  },
  {
   "cell_type": "markdown",
   "metadata": {},
   "source": [
    "## Analyse the nn features"
   ]
  },
  {
   "cell_type": "code",
   "execution_count": null,
   "metadata": {},
   "outputs": [],
   "source": [
    "train_df_nn_loc = os.path.join(project_directory, \"output/train_df_nn_loc.csv\")\n",
    "train_df_nn_loc = pd.read_csv(train_df_nn_loc)\n",
    "\n",
    "train_df_nn_cluster = os.path.join(project_directory, \"output/train_df_nn_cluster.csv\")\n",
    "train_df_nn_cluster = pd.read_csv(train_df_nn_cluster)\n",
    "\n",
    "train_df_nn_fov = os.path.join(project_directory, \"output/train_df_nn_fov.csv\")\n",
    "train_df_nn_fov = pd.read_csv(train_df_nn_fov)\n",
    "\n",
    "if final_test:  \n",
    "    test_df_nn_loc = os.path.join(project_directory, \"output/test_df_nn_loc.csv\")\n",
    "    test_df_nn_loc = pd.read_csv(test_df_nn_loc)\n",
    "\n",
    "    test_df_nn_cluster = os.path.join(project_directory, \"output/test_df_nn_cluster.csv\")\n",
    "    test_df_nn_cluster = pd.read_csv(test_df_nn_cluster)\n",
    "\n",
    "    test_df_nn_fov = os.path.join(project_directory, \"output/test_df_nn_fov.csv\")\n",
    "    test_df_nn_fov = pd.read_csv(test_df_nn_fov)\n",
    "\n",
    "else:\n",
    "    test_df_nn_loc = None\n",
    "    test_df_nn_cluster = None\n",
    "    test_df_nn_fov = None\n"
   ]
  },
  {
   "cell_type": "markdown",
   "metadata": {},
   "source": [
    "### Graph feature explainability"
   ]
  },
  {
   "cell_type": "code",
   "execution_count": null,
   "metadata": {},
   "outputs": [],
   "source": [
    "def prep_features(train_df, test_df):\n",
    "\n",
    "    # get features present in the dataframe\n",
    "    not_features = [\"type\", \"file_name\"]\n",
    "    features = [x for x in train_df.columns.to_list() if x not in not_features]\n",
    "\n",
    "    # feature vector\n",
    "    train_data_feats_nn = train_df[features].values\n",
    "    if final_test:\n",
    "        test_data_feats_nn = test_df[features].values\n",
    "\n",
    "    num_features = len(train_data_feats_nn[0])\n",
    "    print(\"Num features: \", num_features)\n",
    "    ############ WARNING ##############\n",
    "    # Be careful, if analysing neural net features\n",
    "    # Is this the number of features you expect\n",
    "    # Did this task use manual features as well\n",
    "\n",
    "    scaler = StandardScaler().fit(train_data_feats_nn)\n",
    "    X_train_nn = scaler.transform(train_data_feats_nn)\n",
    "    if final_test:\n",
    "        X_test_nn = scaler.transform(test_data_feats_nn)\n",
    "        \n",
    "        return X_train_nn, X_test_nn\n",
    "    else:\n",
    "        return X_train_nn, None\n",
    "\n",
    "X_train_nn_loc, X_test_nn_loc = prep_features(train_df_nn_loc, test_df_nn_loc)\n",
    "X_train_nn_cluster, X_test_nn_cluster = prep_features(train_df_nn_cluster, test_df_nn_cluster)\n",
    "X_train_nn_fov, X_test_nn_fov = prep_features(train_df_nn_fov, test_df_nn_fov)"
   ]
  },
  {
   "cell_type": "markdown",
   "metadata": {},
   "source": [
    "#### UMAP"
   ]
  },
  {
   "cell_type": "code",
   "execution_count": null,
   "metadata": {},
   "outputs": [],
   "source": [
    "train_umap_embedding_nn_loc_path = os.path.join(project_directory, \"output/train_umap_embedding_nn_loc.pkl\")\n",
    "train_umap_embedding_nn_cluster_path = os.path.join(project_directory, \"output/train_umap_embedding_nn_cluster.pkl\")\n",
    "train_umap_embedding_nn_fov_path = os.path.join(project_directory, \"output/train_umap_embedding_nn_fov.pkl\")\n",
    "\n",
    "test_umap_embedding_nn_loc_path = os.path.join(project_directory, \"output/test_umap_embedding_nn_loc.pkl\")\n",
    "test_umap_embedding_nn_cluster_path = os.path.join(project_directory, \"output/test_umap_embedding_nn_cluster.pkl\")\n",
    "test_umap_embedding_nn_fov_path = os.path.join(project_directory, \"output/test_umap_embedding_nn_fov.pkl\")\n",
    "\n",
    "if not os.path.exists(train_umap_embedding_nn_loc_path):\n",
    "    train_umap_embedding_nn_loc = generate_umap_embedding(X_train_nn_loc, umap_min_dist, umap_n_neighbours)\n",
    "    with open(train_umap_embedding_nn_loc_path, \"wb\") as f:\n",
    "        pickle.dump(train_umap_embedding_nn_loc, f)\n",
    "    f.close()\n",
    "if not os.path.exists(train_umap_embedding_nn_cluster_path):\n",
    "    train_umap_embedding_nn_cluster = generate_umap_embedding(X_train_nn_cluster, umap_min_dist, umap_n_neighbours)\n",
    "    with open(train_umap_embedding_nn_cluster_path, \"wb\") as f:\n",
    "        pickle.dump(train_umap_embedding_nn_cluster, f)\n",
    "    f.close()\n",
    "if not os.path.exists(train_umap_embedding_nn_fov_path):\n",
    "    train_umap_embedding_nn_fov = generate_umap_embedding(X_train_nn_fov, umap_min_dist, umap_n_neighbours)\n",
    "    with open(train_umap_embedding_nn_fov_path, \"wb\") as f:\n",
    "        pickle.dump(train_umap_embedding_nn_fov, f)\n",
    "    f.close()\n",
    "if final_test:\n",
    "    if not os.path.exists(test_umap_embedding_nn_loc_path):\n",
    "        test_umap_embedding_nn_loc = generate_umap_embedding(X_test_nn_loc, umap_min_dist, umap_n_neighbours)\n",
    "        with open(test_umap_embedding_nn_loc_path, \"wb\") as f:\n",
    "            pickle.dump(test_umap_embedding_nn_loc, f)\n",
    "        f.close()\n",
    "    \n",
    "    if not os.path.exists(test_umap_embedding_nn_cluster_path):\n",
    "        test_umap_embedding_nn_cluster = generate_umap_embedding(X_test_nn_cluster, umap_min_dist, umap_n_neighbours)\n",
    "        with open(test_umap_embedding_nn_cluster_path, \"wb\") as f:\n",
    "            pickle.dump(test_umap_embedding_nn_cluster, f)\n",
    "        f.close()\n",
    "\n",
    "    if not os.path.exists(test_umap_embedding_nn_fov_path):\n",
    "        test_umap_embedding_nn_fov = generate_umap_embedding(X_test_nn_fov, umap_min_dist, umap_n_neighbours)\n",
    "        with open(test_umap_embedding_nn_fov_path, \"wb\") as f:\n",
    "            pickle.dump(test_umap_embedding_nn_fov, f)\n",
    "        f.close()"
   ]
  },
  {
   "cell_type": "code",
   "execution_count": null,
   "metadata": {},
   "outputs": [],
   "source": [
    "print(\"------ LOC ENCODER -------\")\n",
    "with open(train_umap_embedding_nn_loc_path, \"rb\") as f:\n",
    "        train_umap_embedding_nn_loc = pickle.load(f)\n",
    "visualise_umap_embedding(train_umap_embedding_nn_loc, train_df_nn_loc, label_map)\n",
    "if final_test:\n",
    "    with open(test_umap_embedding_nn_loc_path, \"rb\") as f:\n",
    "        test_umap_embedding_nn_loc = pickle.load(f)\n",
    "    visualise_umap_embedding(test_umap_embedding_nn_loc, test_df_nn_loc, label_map)\n"
   ]
  },
  {
   "cell_type": "code",
   "execution_count": null,
   "metadata": {},
   "outputs": [],
   "source": [
    "print(\"------ CLUSTER ENCODER -------\")\n",
    "with open(train_umap_embedding_nn_cluster_path, \"rb\") as f:\n",
    "        train_umap_embedding_nn_cluster = pickle.load(f)\n",
    "visualise_umap_embedding(train_umap_embedding_nn_cluster, train_df_nn_cluster, label_map)\n",
    "if final_test:\n",
    "    with open(test_umap_embedding_nn_cluster_path, \"rb\") as f:\n",
    "            test_umap_embedding_nn_cluster = pickle.load(f)\n",
    "    visualise_umap_embedding(test_umap_embedding_nn_cluster, test_df_nn_cluster, label_map)"
   ]
  },
  {
   "cell_type": "code",
   "execution_count": null,
   "metadata": {},
   "outputs": [],
   "source": [
    "print(\"------ FOV ENCODER -------\")\n",
    "with open(train_umap_embedding_nn_fov_path, \"rb\") as f:\n",
    "        train_umap_embedding_nn_fov = pickle.load(f)\n",
    "visualise_umap_embedding(train_umap_embedding_nn_fov, train_df_nn_fov, label_map)\n",
    "if final_test:\n",
    "    with open(test_umap_embedding_nn_fov_path, \"rb\") as f:\n",
    "        test_umap_embedding_nn_fov = pickle.load(f)\n",
    "    visualise_umap_embedding(test_umap_embedding_nn_fov, test_df_nn_fov, label_map)"
   ]
  },
  {
   "cell_type": "markdown",
   "metadata": {},
   "source": [
    "#### PCA"
   ]
  },
  {
   "cell_type": "code",
   "execution_count": null,
   "metadata": {},
   "outputs": [],
   "source": [
    "train_pca_embedding_nn_loc = generate_pca_embedding(X_train_nn_loc, pca_n_components)\n",
    "train_pca_embedding_nn_fov = generate_pca_embedding(X_train_nn_fov, pca_n_components)\n",
    "train_pca_embedding_nn_cluster = generate_pca_embedding(X_train_nn_cluster, pca_n_components)\n",
    "if final_test:\n",
    "    test_pca_embedding_nn_loc = generate_pca_embedding(X_test_nn_loc, pca_n_components)\n",
    "    test_pca_embedding_nn_fov = generate_pca_embedding(X_test_nn_fov, pca_n_components)\n",
    "    test_pca_embedding_nn_cluster = generate_pca_embedding(X_test_nn_cluster, pca_n_components)"
   ]
  },
  {
   "cell_type": "code",
   "execution_count": null,
   "metadata": {},
   "outputs": [],
   "source": [
    "print(\"------ LOC ENCODER -------\")\n",
    "visualise_pca_embedding(train_pca_embedding_nn_loc, train_df_nn_loc, label_map)\n",
    "if final_test:\n",
    "    visualise_pca_embedding(test_pca_embedding_nn_loc, test_df_nn_loc, label_map)"
   ]
  },
  {
   "cell_type": "code",
   "execution_count": null,
   "metadata": {},
   "outputs": [],
   "source": [
    "print(\"------ CLUSTER ENCODER -------\")\n",
    "visualise_pca_embedding(train_pca_embedding_nn_cluster, train_df_nn_cluster, label_map)\n",
    "if final_test:\n",
    "    visualise_pca_embedding(test_pca_embedding_nn_cluster, test_df_nn_cluster, label_map)\n"
   ]
  },
  {
   "cell_type": "code",
   "execution_count": null,
   "metadata": {},
   "outputs": [],
   "source": [
    "print(\"------ FOV ENCODER -------\")\n",
    "visualise_pca_embedding(train_pca_embedding_nn_fov, train_df_nn_fov, label_map)\n",
    "if final_test:\n",
    "    plot = visualise_pca_embedding(test_pca_embedding_nn_fov, test_df_nn_fov, label_map)\n",
    "    if False:\n",
    "        output_file_loc  = os.path.join(project_directory, \"output\", \"nn_fov.html\")\n",
    "        output_file(output_file_loc)\n",
    "        save(plot)"
   ]
  },
  {
   "cell_type": "markdown",
   "metadata": {},
   "source": [
    "#### K-means"
   ]
  },
  {
   "cell_type": "code",
   "execution_count": null,
   "metadata": {},
   "outputs": [],
   "source": [
    "print(\"----- LOC ------\")\n",
    "k_means_fn(X_train_nn_loc, train_df_nn_loc, label_map)\n",
    "if final_test:\n",
    "    k_means_fn(X_test_nn_loc, test_df_nn_loc, label_map)\n",
    "\n",
    "print(\"----- CLUSTER ------\")\n",
    "k_means_fn(X_train_nn_cluster, train_df_nn_cluster, label_map)\n",
    "if final_test:\n",
    "    k_means_fn(X_test_nn_cluster, test_df_nn_cluster, label_map)\n",
    "\n",
    "print(\"----- FOV ------\")\n",
    "k_means_fn(X_train_nn_fov, train_df_nn_fov, label_map)\n",
    "if final_test:\n",
    "    k_means_fn(X_test_nn_fov, test_df_nn_fov, label_map)\n"
   ]
  },
  {
   "cell_type": "markdown",
   "metadata": {},
   "source": [
    "### Graph structure explainability"
   ]
  },
  {
   "cell_type": "code",
   "execution_count": null,
   "metadata": {},
   "outputs": [],
   "source": [
    "# get item to evaluate on\n",
    "file_name = \"three_2296\""
   ]
  },
  {
   "cell_type": "markdown",
   "metadata": {},
   "source": [
    "#### Load in configuration"
   ]
  },
  {
   "cell_type": "code",
   "execution_count": null,
   "metadata": {},
   "outputs": [],
   "source": [
    "config_path = os.path.join(project_directory, \"config/featanalyse_nn.yaml\")\n",
    "with open(config_path, \"r\") as ymlfile:\n",
    "    config = yaml.safe_load(ymlfile)\n",
    "\n",
    "# load in gt_label_map\n",
    "metadata_path = os.path.join(project_directory, \"metadata.json\")\n",
    "with open(\n",
    "    metadata_path,\n",
    ") as file:\n",
    "    metadata = json.load(file)\n",
    "    # add time ran this script to metadata\n",
    "    gt_label_map = metadata[\"gt_label_map\"]\n",
    "\n",
    "gt_label_map = {int(key): val for key, val in gt_label_map.items()}"
   ]
  },
  {
   "cell_type": "markdown",
   "metadata": {},
   "source": [
    "#### Visualise raw file"
   ]
  },
  {
   "cell_type": "code",
   "execution_count": null,
   "metadata": {},
   "outputs": [],
   "source": [
    "if not final_test:\n",
    "    file_folder = \"preprocessed/gt_label\"\n",
    "else:\n",
    "    file_folder = \"preprocessed/test/gt_label\"\n",
    "file_path = os.path.join(project_directory, file_folder, file_name + \".parquet\")\n",
    "print(file_path)\n",
    "visualise_parquet(file_path, 'x', 'y', None, 'channel', {0: \"channel_0\", 1: \"channel_1\", 2: \"channel_2\", 3: \"channel_3\"}, cmap=['k'], spheres=True, sphere_size=0.004)"
   ]
  },
  {
   "cell_type": "markdown",
   "metadata": {},
   "source": [
    "#### Visualise file"
   ]
  },
  {
   "cell_type": "code",
   "execution_count": null,
   "metadata": {},
   "outputs": [],
   "source": [
    "if not final_test:\n",
    "    fold = config[\"fold\"]\n",
    "    file_folder = f\"processed/fold_{fold}\"\n",
    "else:\n",
    "    file_folder = \"processed\"\n",
    "file_loc = find_graph_path(project_directory, file_name, file_folder)\n",
    "visualise_torch_geometric(file_loc)"
   ]
  },
  {
   "cell_type": "markdown",
   "metadata": {},
   "source": [
    "#### Load in cluster model"
   ]
  },
  {
   "cell_type": "code",
   "execution_count": null,
   "metadata": {},
   "outputs": [],
   "source": [
    "cluster_model = torch.load(os.path.join(project_directory, f\"output/cluster_model.pt\"))\n",
    "cluster_model.to(device)\n",
    "cluster_model.eval()"
   ]
  },
  {
   "cell_type": "markdown",
   "metadata": {},
   "source": [
    "#### Load datasets"
   ]
  },
  {
   "cell_type": "code",
   "execution_count": null,
   "metadata": {},
   "outputs": [],
   "source": [
    "cluster_train_folder = os.path.join(project_directory, \"processed/featanalysis/train\")\n",
    "cluster_val_folder = os.path.join(project_directory, \"processed/featanalysis/val\")\n",
    "cluster_test_folder = os.path.join(project_directory, \"processed/featanalysis/test\")\n",
    "\n",
    "if not final_test:\n",
    "    loc_test_folder = os.path.join(\n",
    "        project_directory, \"processed\", f\"fold_{fold}\", \"test\"\n",
    "    )\n",
    "    loc_train_folder = os.path.join(\n",
    "        project_directory, \"processed\", f\"fold_{fold}\", \"train\"\n",
    "    )\n",
    "    loc_val_folder = os.path.join(\n",
    "        project_directory, \"processed\", f\"fold_{fold}\", \"val\"\n",
    "    )\n",
    "\n",
    "else:\n",
    "    loc_test_folder = os.path.join(project_directory, \"processed\", \"test\")\n",
    "    loc_train_folder = os.path.join(project_directory, \"processed\", \"train\")\n",
    "    loc_val_folder = os.path.join(project_directory, \"processed\", \"val\")\n",
    "\n",
    "\n",
    "cluster_train_set = datastruc.ClusterDataset(\n",
    "    None,\n",
    "    cluster_train_folder,\n",
    "    label_level=None,\n",
    "    pre_filter=None,\n",
    "    save_on_gpu=None,\n",
    "    transform=None,\n",
    "    pre_transform=None,\n",
    "    fov_x=None,\n",
    "    fov_y=None,\n",
    ")\n",
    "\n",
    "cluster_val_set = datastruc.ClusterDataset(\n",
    "    None,\n",
    "    cluster_val_folder,\n",
    "    label_level=None,\n",
    "    pre_filter=None,\n",
    "    save_on_gpu=None,\n",
    "    transform=None,\n",
    "    pre_transform=None,\n",
    "    fov_x=None,\n",
    "    fov_y=None,\n",
    ")\n",
    "\n",
    "cluster_test_set = datastruc.ClusterDataset(\n",
    "    None,\n",
    "    cluster_test_folder,\n",
    "    label_level=None,\n",
    "    pre_filter=None,\n",
    "    save_on_gpu=None,\n",
    "    transform=None,\n",
    "    pre_transform=None,\n",
    "    fov_x=None,\n",
    "    fov_y=None,\n",
    ")\n",
    "\n",
    "# localisations are yet to be passed through any network\n",
    "\n",
    "loc_train_set = datastruc.ClusterLocDataset(\n",
    "    None,  # raw_loc_dir_root\n",
    "    None,  # raw_cluster_dir_root\n",
    "    loc_train_folder,  # processed_dir_root\n",
    "    label_level=None,\n",
    "    pre_filter=None,\n",
    "    save_on_gpu=None,\n",
    "    transform=None,\n",
    "    pre_transform=None,\n",
    "    loc_feat=None,\n",
    "    cluster_feat=None,\n",
    "    min_feat_locs=None,\n",
    "    max_feat_locs=None,\n",
    "    min_feat_clusters=None,\n",
    "    max_feat_clusters=None,\n",
    "    kneighboursclusters=None,\n",
    "    fov_x=None,\n",
    "    fov_y=None,\n",
    "    kneighbourslocs=None,\n",
    ")\n",
    "\n",
    "loc_val_set = datastruc.ClusterLocDataset(\n",
    "    None,  # raw_loc_dir_root\n",
    "    None,  # raw_cluster_dir_root\n",
    "    loc_val_folder,  # processed_dir_root\n",
    "    label_level=None,\n",
    "    pre_filter=None,\n",
    "    save_on_gpu=None,\n",
    "    transform=None,\n",
    "    pre_transform=None,\n",
    "    loc_feat=None,\n",
    "    cluster_feat=None,\n",
    "    min_feat_locs=None,\n",
    "    max_feat_locs=None,\n",
    "    min_feat_clusters=None,\n",
    "    max_feat_clusters=None,\n",
    "    kneighboursclusters=None,\n",
    "    fov_x=None,\n",
    "    fov_y=None,\n",
    "    kneighbourslocs=None,\n",
    ")\n",
    "\n",
    "loc_test_set = datastruc.ClusterLocDataset(\n",
    "    None,  # raw_loc_dir_root\n",
    "    None,  # raw_cluster_dir_root\n",
    "    loc_test_folder,  # processed_dir_root\n",
    "    label_level=None,\n",
    "    pre_filter=None,\n",
    "    save_on_gpu=None,\n",
    "    transform=None,\n",
    "    pre_transform=None,\n",
    "    loc_feat=None,\n",
    "    cluster_feat=None,\n",
    "    min_feat_locs=None,\n",
    "    max_feat_locs=None,\n",
    "    min_feat_clusters=None,\n",
    "    max_feat_clusters=None,\n",
    "    kneighboursclusters=None,\n",
    "    fov_x=None,\n",
    "    fov_y=None,\n",
    "    kneighbourslocs=None,\n",
    ")\n"
   ]
  },
  {
   "cell_type": "markdown",
   "metadata": {},
   "source": [
    "#### Get items to evaluate on "
   ]
  },
  {
   "cell_type": "code",
   "execution_count": null,
   "metadata": {},
   "outputs": [],
   "source": [
    "cluster_dataitem, loc_dataitem, prediction = get_prediction(\n",
    "    file_name,\n",
    "    cluster_model, \n",
    "    cluster_train_set, \n",
    "    loc_train_set, \n",
    "    cluster_val_set, \n",
    "    loc_val_set, \n",
    "    cluster_test_set, \n",
    "    loc_test_set,\n",
    "    project_directory,\n",
    "    device, \n",
    "    gt_label_map)"
   ]
  },
  {
   "cell_type": "markdown",
   "metadata": {},
   "source": [
    "#### SubgraphX"
   ]
  },
  {
   "cell_type": "code",
   "execution_count": null,
   "metadata": {},
   "outputs": [],
   "source": [
    "subgraph_config = {\n",
    "    # number of iterations to get prediction\n",
    "    \"rollout\":  20, # 20\n",
    "    # number of atoms of leaf node in search tree\n",
    "    \"min_atoms\": 5,\n",
    "    # hyperparameter that encourages exploration\n",
    "    \"c_puct\": 10.0,\n",
    "    # number of atoms to expand when extend the child nodes in the search tree\n",
    "    \"expand_atoms\": 14,\n",
    "    # whether to expand the children nodes from high degreee to low degree when extend the child nodes in the search tree\n",
    "    \"high2low\": False,\n",
    "    # number of local radius to caclulate\n",
    "    \"local_radius\": 4,\n",
    "    # sampling time of montecarlo approxim\n",
    "    \"sample_num\": 100, # 100\n",
    "    # reward method\n",
    "    \"reward_method\": \"mc_l_shapley\",\n",
    "    # subgrpah building method\n",
    "    \"subgraph_building_method\": \"split\",\n",
    "    # maximum number of nodes to include in subgraph when generating explanation\n",
    "    \"max_nodes\": 8,\n",
    "    # number of classes\n",
    "    \"num_classes\": 7,\n",
    "}"
   ]
  },
  {
   "cell_type": "code",
   "execution_count": null,
   "metadata": {},
   "outputs": [],
   "source": [
    " # ---- subgraphx -----\n",
    "_, _, cluster_dataitem, node_imp = subgraph_eval(cluster_model, device, subgraph_config, cluster_dataitem, prediction)\n",
    "    "
   ]
  },
  {
   "cell_type": "code",
   "execution_count": null,
   "metadata": {},
   "outputs": [],
   "source": [
    "# visualise overlaid subgraph\n",
    "\n",
    "if not final_test:\n",
    "    fold = config[\"fold\"]\n",
    "    file_folder = f\"processed/fold_{fold}\"\n",
    "else:\n",
    "    file_folder = \"processed\"\n",
    "file_loc = find_graph_path(project_directory, file_name, file_folder)\n",
    "\n",
    "visualise_explanation(\n",
    "    cluster_dataitem.pos,\n",
    "    cluster_dataitem.edge_index,\n",
    "    node_imp=node_imp.to(device),\n",
    "    edge_imp=None,\n",
    "    overlay=True,\n",
    "    file_loc=file_loc, \n",
    ")"
   ]
  },
  {
   "cell_type": "markdown",
   "metadata": {},
   "source": [
    "#### PgEx"
   ]
  },
  {
   "cell_type": "code",
   "execution_count": null,
   "metadata": {},
   "outputs": [],
   "source": [
    "pgex_config = {\n",
    "    # threshold to apply to edge mask for pyg explain\n",
    "    \"edge_mask_threshold\": 0.5,\n",
    "}"
   ]
  },
  {
   "cell_type": "code",
   "execution_count": null,
   "metadata": {},
   "outputs": [],
   "source": [
    "# ---- pgexplainer ----\n",
    "pg_explainer = torch.load(os.path.join(project_directory, f\"output/pg_explainer.pt\")) \n",
    "pgex_eval(cluster_model, pg_explainer, cluster_dataitem, device, pgex_config)"
   ]
  },
  {
   "cell_type": "markdown",
   "metadata": {},
   "source": [
    "#### Attention"
   ]
  },
  {
   "cell_type": "code",
   "execution_count": null,
   "metadata": {},
   "outputs": [],
   "source": [
    "attention_config = {\n",
    "    #  scale: cluster # Options: [cluster] In future will also include [loc, loccluster]\n",
    "    \"scale\": \"cluster\",\n",
    "    #  # how to combine attention scores across multiple attention heads\n",
    "    \"reduce\": \"max\",\n",
    "    # threshold to apply to edge mask for pyg explain\n",
    "    \"edge_mask_threshold\": 0.5,\n",
    "}"
   ]
  },
  {
   "cell_type": "code",
   "execution_count": null,
   "metadata": {},
   "outputs": [],
   "source": [
    "# ---- attention -----\n",
    "# use model - logprobs or clustermodel - raw\n",
    "attention_eval(cluster_model, attention_config, cluster_dataitem, device, loc_dataitem)"
   ]
  },
  {
   "cell_type": "markdown",
   "metadata": {},
   "source": [
    "### Identify incorrectly predicted points in the UMAP for the test"
   ]
  },
  {
   "cell_type": "code",
   "execution_count": null,
   "metadata": {},
   "outputs": [],
   "source": [
    "files = plot.renderers[0].data_source.data[\"file_name\"]\n",
    "files = [x.removesuffix('.parquet') for x in files]\n",
    "\n",
    "wrong_files = []\n",
    "for file in files:\n",
    "    file_name = file\n",
    "    x, _, pred = cluster_dataitem, loc_dataitem, prediction = get_prediction(\n",
    "        file_name,\n",
    "        cluster_model, \n",
    "        cluster_train_set, \n",
    "        loc_train_set, \n",
    "        cluster_val_set, \n",
    "        loc_val_set, \n",
    "        cluster_test_set, \n",
    "        loc_test_set,\n",
    "        project_directory,\n",
    "        device, \n",
    "        gt_label_map)\n",
    "    if x.y.detach().item() != pred:\n",
    "        wrong_files.append(x.name)\n",
    "\n",
    "new_colors = [\"#000000\"]*len(files)\n",
    "for id, file in enumerate(files):\n",
    "    if file in wrong_files:\n",
    "        new_colors[id] = \"#FF0000\""
   ]
  },
  {
   "cell_type": "code",
   "execution_count": null,
   "metadata": {},
   "outputs": [
    {
     "data": {
      "text/html": [
       "\n",
       "  <div id=\"dfb4425f-5df2-4611-9f6a-acff00eac2f9\" data-root-id=\"p1475\" style=\"display: contents;\"></div>\n"
      ]
     },
     "metadata": {},
     "output_type": "display_data"
    },
    {
     "data": {
      "application/javascript": "(function(root) {\n  function embed_document(root) {\n  const docs_json = {\"fc73aee8-e7a2-4261-b433-26c5956444aa\":{\"version\":\"3.4.2\",\"title\":\"Bokeh Application\",\"roots\":[{\"type\":\"object\",\"name\":\"Figure\",\"id\":\"p1475\",\"attributes\":{\"width\":800,\"height\":800,\"x_range\":{\"type\":\"object\",\"name\":\"DataRange1d\",\"id\":\"p1476\"},\"y_range\":{\"type\":\"object\",\"name\":\"DataRange1d\",\"id\":\"p1477\"},\"x_scale\":{\"type\":\"object\",\"name\":\"LinearScale\",\"id\":\"p1484\"},\"y_scale\":{\"type\":\"object\",\"name\":\"LinearScale\",\"id\":\"p1485\"},\"title\":{\"type\":\"object\",\"name\":\"Title\",\"id\":\"p1482\"},\"renderers\":[{\"type\":\"object\",\"name\":\"GlyphRenderer\",\"id\":\"p1514\",\"attributes\":{\"data_source\":{\"type\":\"object\",\"name\":\"ColumnDataSource\",\"id\":\"p1472\",\"attributes\":{\"selected\":{\"type\":\"object\",\"name\":\"Selection\",\"id\":\"p1473\",\"attributes\":{\"indices\":[],\"line_indices\":[]}},\"selection_policy\":{\"type\":\"object\",\"name\":\"UnionRenderers\",\"id\":\"p1474\"},\"data\":{\"type\":\"map\",\"entries\":[[\"level_0\",{\"type\":\"ndarray\",\"array\":{\"type\":\"bytes\",\"data\":\"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\"},\"shape\":[1680],\"dtype\":\"int32\",\"order\":\"little\"}],[\"x\",{\"type\":\"ndarray\",\"array\":{\"type\":\"bytes\",\"data\":\"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\"},\"shape\":[1680],\"dtype\":\"float32\",\"order\":\"little\"}],[\"y\",{\"type\":\"ndarray\",\"array\":{\"type\":\"bytes\",\"data\":\"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\"},\"shape\":[1680],\"dtype\":\"float32\",\"order\":\"little\"}],[\"label\",{\"type\":\"ndarray\",\"array\":{\"type\":\"bytes\",\"data\":\"BQAAAAUAAAAFAAAABQAAAAUAAAAFAAAABQAAAAUAAAAFAAAABQAAAAUAAAAFAAAABQAAAAUAAAAFAAAABQAAAAUAAAAFAAAABQAAAAUAAAAFAAAABQAAAAUAAAAFAAAABQAAAAUAAAAFAAAABQAAAAUAAAAFAAAABQAAAAUAAAAFAAAABQAAAAUAAAAFAAAABQAAAAUAAAAFAAAABQAAAAUAAAAFAAAABQAAAAUAAAAFAAAABQAAAAUAAAAFAAAABQAAAAUAAAAFAAAABQAAAAUAAAAFAAAABQAAAAUAAAAFAAAABQAAAAUAAAAFAAAABQAAAAUAAAAFAAAABQAAAAUAAAAFAAAABQAAAAUAAAAFAAAABQAAAAUAAAAFAAAABQAAAAUAAAAFAAAABQAAAAUAAAAFAAAABQAAAAUAAAAFAAAABQAAAAUAAAAFAAAABQAAAAUAAAAFAAAABQAAAAUAAAAFAAAABQAAAAUAAAAFAAAABQAAAAUAAAAFAAAABQAAAAUAAAAFAAAABQAAAAUAAAAFAAAABQAAAAUAAAAFAAAABQAAAAUAAAAFAAAABQAAAAUAAAAFAAAABQAAAAUAAAAFAAAABQAAAAUAAAAFAAAABQAAAAUAAAAFAAAABQAAAAUAAAAFAAAABQAAAAUAAAAFAAAABQAAAAUAAAAFAAAABQAAAAUAAAAFAAAABQAAAAUAAAAFAAAABQAAAAUAAAAFAAAABQAAAAUAAAAFAAAABQAAAAUAAAAFAAAABQAAAAUAAAAFAAAABQAAAAUAAAAFAAAABQAAAAUAAAAFAAAABQAAAAUAAAAFAAAABQAAAAUAAAAFAAAABQAAAAUAAAAFAAAABQAAAAUAAAAFAAAABQAAAAUAAAAFAAAABQAAAAUAAAAFAAAABQAAAAUAAAAFAAAABQAAAAUAAAAFAAAABQAAAAUAAAAFAAAABQAAAAUAAAAFAAAABQAAAAUAAAAFAAAABQAAAAUAAAAFAAAABQAAAAUAAAAFAAAABQAAAAUAAAAFAAAABQAAAAUAAAAFAAAABQAAAAUAAAAFAAAABQAAAAUAAAAFAAAABQAAAAUAAAAFAAAABQAAAAUAAAAFAAAABQAAAAUAAAAFAAAABQAAAAUAAAAFAAAABQAAAAUAAAAFAAAABQAAAAUAAAAFAAAABQAAAAUAAAAFAAAABQAAAAUAAAAFAAAABQAAAAUAAAAFAAAABQAAAAUAAAAFAAAABQAAAAUAAAAFAAAABQAAAAUAAAAFAAAABAAAAAQAAAAEAAAABAAAAAQAAAAEAAAABAAAAAQAAAAEAAAABAAAAAQAAAAEAAAABAAAAAQAAAAEAAAABAAAAAQAAAAEAAAABAAAAAQAAAAEAAAABAAAAAQAAAAEAAAABAAAAAQAAAAEAAAABAAAAAQAAAAEAAAABAAAAAQAAAAEAAAABAAAAAQAAAAEAAAABAAAAAQAAAAEAAAABAAAAAQAAAAEAAAABAAAAAQAAAAEAAAABAAAAAQAAAAEAAAABAAAAAQAAAAEAAAABAAAAAQAAAAEAAAABAAAAAQAAAAEAAAABAAAAAQAAAAEAAAABAAAAAQAAAAEAAAABAAAAAQAAAAEAAAABAAAAAQAAAAEAAAABAAAAAQAAAAEAAAABAAAAAQAAAAEAAAABAAAAAQAAAAEAAAABAAAAAQAAAAEAAAABAAAAAQAAAAEAAAABAAAAAQAAAAEAAAABAAAAAQAAAAEAAAABAAAAAQAAAAEAAAABAAAAAQAAAAEAAAABAAAAAQAAAAEAAAABAAAAAQAAAAEAAAABAAAAAQAAAAEAAAABAAAAAQAAAAEAAAABAAAAAQAAAAEAAAABAAAAAQAAAAEAAAABAAAAAQAAAAEAAAABAAAAAQAAAAEAAAABAAAAAQAAAAEAAAABAAAAAQAAAAEAAAABAAAAAQAAAAEAAAABAAAAAQAAAAEAAAABAAAAAQAAAAEAAAABAAAAAQAAAAEAAAABAAAAAQAAAAEAAAABAAAAAQAAAAEAAAABAAAAAQAAAAEAAAABAAAAAQAAAAEAAAABAAAAAQAAAAEAAAABAAAAAQAAAAEAAAABAAAAAQAAAAEAAAABAAAAAQAAAAEAAAABAAAAAQAAAAEAAAABAAAAAQAAAAEAAAABAAAAAQAAAAEAAAABAAAAAQAAAAEAAAABAAAAAQAAAAEAAAABAAAAAQAAAAEAAAABAAAAAQAAAAEAAAABAAAAAQAAAAEAAAABAAAAAQAAAAEAAAABAAAAAQAAAAEAAAABAAAAAQAAAAEAAAABAAAAAQAAAAEAAAABAAAAAQAAAAEAAAABAAAAAQAAAAEAAAABAAAAAQAAAAEAAAABAAAAAQAAAAEAAAABAAAAAQAAAAEAAAABAAAAAQAAAAEAAAABAAAAAQAAAAEAAAABAAAAAQAAAAEAAAABAAAAAQAAAAEAAAABAAAAAQAAAAEAAAABAAAAAQAAAAEAAAABAAAAAQAAAAEAAAABAAAAAQAAAAEAAAABAAAAAQAAAAEAAAAAwAAAAMAAAADAAAAAwAAAAMAAAADAAAAAwAAAAMAAAADAAAAAwAAAAMAAAADAAAAAwAAAAMAAAADAAAAAwAAAAMAAAADAAAAAwAAAAMAAAADAAAAAwAAAAMAAAADAAAAAwAAAAMAAAADAAAAAwAAAAMAAAADAAAAAwAAAAMAAAADAAAAAwAAAAMAAAADAAAAAwAAAAMAAAADAAAAAwAAAAMAAAADAAAAAwAAAAMAAAADAAAAAwAAAAMAAAADAAAAAwAAAAMAAAADAAAAAwAAAAMAAAADAAAAAwAAAAMAAAADAAAAAwAAAAMAAAADAAAAAwAAAAMAAAADAAAAAwAAAAMAAAADAAAAAwAAAAMAAAADAAAAAwAAAAMAAAADAAAAAwAAAAMAAAADAAAAAwAAAAMAAAADAAAAAwAAAAMAAAADAAAAAwAAAAMAAAADAAAAAwAAAAMAAAADAAAAAwAAAAMAAAADAAAAAwAAAAMAAAADAAAAAwAAAAMAAAADAAAAAwAAAAMAAAADAAAAAwAAAAMAAAADAAAAAwAAAAMAAAADAAAAAwAAAAMAAAADAAAAAwAAAAMAAAADAAAAAwAAAAMAAAADAAAAAwAAAAMAAAADAAAAAwAAAAMAAAADAAAAAwAAAAMAAAADAAAAAwAAAAMAAAADAAAAAwAAAAMAAAADAAAAAwAAAAMAAAADAAAAAwAAAAMAAAADAAAAAwAAAAMAAAADAAAAAwAAAAMAAAADAAAAAwAAAAMAAAADAAAAAwAAAAMAAAADAAAAAwAAAAMAAAADAAAAAwAAAAMAAAADAAAAAwAAAAMAAAADAAAAAwAAAAMAAAADAAAAAwAAAAMAAAADAAAAAwAAAAMAAAADAAAAAwAAAAMAAAADAAAAAwAAAAMAAAADAAAAAwAAAAMAAAADAAAAAwAAAAMAAAADAAAAAwAAAAMAAAADAAAAAwAAAAMAAAADAAAAAwAAAAMAAAADAAAAAwAAAAMAAAADAAAAAwAAAAMAAAADAAAAAwAAAAMAAAADAAAAAwAAAAMAAAADAAAAAwAAAAMAAAADAAAAAwAAAAMAAAADAAAAAwAAAAMAAAADAAAAAwAAAAMAAAADAAAAAwAAAAMAAAADAAAAAwAAAAMAAAADAAAAAwAAAAMAAAADAAAAAwAAAAMAAAADAAAAAwAAAAMAAAADAAAAAwAAAAMAAAADAAAAAwAAAAMAAAADAAAAAwAAAAMAAAADAAAAAwAAAAMAAAADAAAAAwAAAAMAAAADAAAABgAAAAYAAAAGAAAABgAAAAYAAAAGAAAABgAAAAYAAAAGAAAABgAAAAYAAAAGAAAABgAAAAYAAAAGAAAABgAAAAYAAAAGAAAABgAAAAYAAAAGAAAABgAAAAYAAAAGAAAABgAAAAYAAAAGAAAABgAAAAYAAAAGAAAABgAAAAYAAAAGAAAABgAAAAYAAAAGAAAABgAAAAYAAAAGAAAABgAAAAYAAAAGAAAABgAAAAYAAAAGAAAABgAAAAYAAAAGAAAABgAAAAYAAAAGAAAABgAAAAYAAAAGAAAABgAAAAYAAAAGAAAABgAAAAYAAAAGAAAABgAAAAYAAAAGAAAABgAAAAYAAAAGAAAABgAAAAYAAAAGAAAABgAAAAYAAAAGAAAABgAAAAYAAAAGAAAABgAAAAYAAAAGAAAABgAAAAYAAAAGAAAABgAAAAYAAAAGAAAABgAAAAYAAAAGAAAABgAAAAYAAAAGAAAABgAAAAYAAAAGAAAABgAAAAYAAAAGAAAABgAAAAYAAAAGAAAABgAAAAYAAAAGAAAABgAAAAYAAAAGAAAABgAAAAYAAAAGAAAABgAAAAYAAAAGAAAABgAAAAYAAAAGAAAABgAAAAYAAAAGAAAABgAAAAYAAAAGAAAABgAAAAYAAAAGAAAABgAAAAYAAAAGAAAABgAAAAYAAAAGAAAABgAAAAYAAAAGAAAABgAAAAYAAAAGAAAABgAAAAYAAAAGAAAABgAAAAYAAAAGAAAABgAAAAYAAAAGAAAABgAAAAYAAAAGAAAABgAAAAYAAAAGAAAABgAAAAYAAAAGAAAABgAAAAYAAAAGAAAABgAAAAYAAAAGAAAABgAAAAYAAAAGAAAABgAAAAYAAAAGAAAABgAAAAYAAAAGAAAABgAAAAYAAAAGAAAABgAAAAYAAAAGAAAABgAAAAYAAAAGAAAABgAAAAYAAAAGAAAABgAAAAYAAAAGAAAABgAAAAYAAAAGAAAABgAAAAYAAAAGAAAABgAAAAYAAAAGAAAABgAAAAYAAAAGAAAABgAAAAYAAAAGAAAABgAAAAYAAAAGAAAABgAAAAYAAAAGAAAABgAAAAYAAAAGAAAABgAAAAYAAAAGAAAABgAAAAYAAAAGAAAABgAAAAYAAAAGAAAABgAAAAYAAAAGAAAABgAAAAYAAAAGAAAABgAAAAYAAAAGAAAABgAAAAYAAAAGAAAABgAAAAYAAAAGAAAABgAAAAYAAAAGAAAABgAAAAYAAAAGAAAABgAAAAYAAAAGAAAAAAAAAAAAAAAAAAAAAAAAAAAAAAAAAAAAAAAAAAAAAAAAAAAAAAAAAAAAAAAAAAAAAAAAAAAAAAAAAAAAAAAAAAAAAAAAAAAAAAAAAAAAAAAAAAAAAAAAAAAAAAAAAAAAAAAAAAAAAAAAAAAAAAAAAAAAAAAAAAAAAAAAAAAAAAAAAAAAAAAAAAAAAAAAAAAAAAAAAAAAAAAAAAAAAAAAAAAAAAAAAAAAAAAAAAAAAAAAAAAAAAAAAAAAAAAAAAAAAAAAAAAAAAAAAAAAAAAAAAAAAAAAAAAAAAAAAAAAAAAAAAAAAAAAAAAAAAAAAAAAAAAAAAAAAAAAAAAAAAAAAAAAAAAAAAAAAAAAAAAAAAAAAAAAAAAAAAAAAAAAAAAAAAAAAAAAAAAAAAAAAAAAAAAAAAAAAAAAAAAAAAAAAAAAAAAAAAAAAAAAAAAAAAAAAAAAAAAAAAAAAAAAAAAAAAAAAAAAAAAAAAAAAAAAAAAAAAAAAAAAAAAAAAAAAAAAAAAAAAAAAAAAAAAAAAAAAAAAAAAAAAAAAAAAAAAAAAAAAAAAAAAAAAAAAAAAAAAAAAAAAAAAAAAAAAAAAAAAAAAAAAAAAAAAAAAAAAAAAAAAAAAAAAAAAAAAAAAAAAAAAAAAAAAAAAAAAAAAAAAAAAAAAAAAAAAAAAAAAAAAAAAAAAAAAAAAAAAAAAAAAAAAAAAAAAAAAAAAAAAAAAAAAAAAAAAAAAAAAAAAAAAAAAAAAAAAAAAAAAAAAAAAAAAAAAAAAAAAAAAAAAAAAAAAAAAAAAAAAAAAAAAAAAAAAAAAAAAAAAAAAAAAAAAAAAAAAAAAAAAAAAAAAAAAAAAAAAAAAAAAAAAAAAAAAAAAAAAAAAAAAAAAAAAAAAAAAAAAAAAAAAAAAAAAAAAAAAAAAAAAAAAAAAAAAAAAAAAAAAAAAAAAAAAAAAAAAAAAAAAAAAAAAAAAAAAAAAAAAAAAAAAAAAAAAAAAAAAAAAAAAAAAAAAAAAAAAAAAAAAAAAAAAAAAAAAAAAAAAAAAAAAAAAAAAAAAAAAAAAAAAAAAAAAAAAAAAAAAAAAAAAAAAAAAAAAAAAAAAAAAAAAAAAAAAAAAAAAAAAAAAAAAAAAAAAAAAAAAAAAAAAAAAAAAAAAAAAAAAAAAAAAAAAAAAAAAAAAAAAAAAAAAAAAAAAAAAAAAAAAAAAAAAAAAAAAAAAAAAAAAAAAAAAAAAAAAAAAAAAAAAAAAAAAAAAAAAAAAAAAAAAAAAAAAAAAAAAAAAAAAAgAAAAIAAAACAAAAAgAAAAIAAAACAAAAAgAAAAIAAAACAAAAAgAAAAIAAAACAAAAAgAAAAIAAAACAAAAAgAAAAIAAAACAAAAAgAAAAIAAAACAAAAAgAAAAIAAAACAAAAAgAAAAIAAAACAAAAAgAAAAIAAAACAAAAAgAAAAIAAAACAAAAAgAAAAIAAAACAAAAAgAAAAIAAAACAAAAAgAAAAIAAAACAAAAAgAAAAIAAAACAAAAAgAAAAIAAAACAAAAAgAAAAIAAAACAAAAAgAAAAIAAAACAAAAAgAAAAIAAAACAAAAAgAAAAIAAAACAAAAAgAAAAIAAAACAAAAAgAAAAIAAAACAAAAAgAAAAIAAAACAAAAAgAAAAIAAAACAAAAAgAAAAIAAAACAAAAAgAAAAIAAAACAAAAAgAAAAIAAAACAAAAAgAAAAIAAAACAAAAAgAAAAIAAAACAAAAAgAAAAIAAAACAAAAAgAAAAIAAAACAAAAAgAAAAIAAAACAAAAAgAAAAIAAAACAAAAAgAAAAIAAAACAAAAAgAAAAIAAAACAAAAAgAAAAIAAAACAAAAAgAAAAIAAAACAAAAAgAAAAIAAAACAAAAAgAAAAIAAAACAAAAAgAAAAIAAAACAAAAAgAAAAIAAAACAAAAAgAAAAIAAAACAAAAAgAAAAIAAAACAAAAAgAAAAIAAAACAAAAAgAAAAIAAAACAAAAAgAAAAIAAAACAAAAAgAAAAIAAAACAAAAAgAAAAIAAAACAAAAAgAAAAIAAAACAAAAAgAAAAIAAAACAAAAAgAAAAIAAAACAAAAAgAAAAIAAAACAAAAAgAAAAIAAAACAAAAAgAAAAIAAAACAAAAAgAAAAIAAAACAAAAAgAAAAIAAAACAAAAAgAAAAIAAAACAAAAAgAAAAIAAAACAAAAAgAAAAIAAAACAAAAAgAAAAIAAAACAAAAAgAAAAIAAAACAAAAAgAAAAIAAAACAAAAAgAAAAIAAAACAAAAAgAAAAIAAAACAAAAAgAAAAIAAAACAAAAAgAAAAIAAAACAAAAAgAAAAIAAAACAAAAAgAAAAIAAAACAAAAAgAAAAIAAAACAAAAAgAAAAIAAAACAAAAAgAAAAIAAAACAAAAAgAAAAIAAAACAAAAAgAAAAIAAAACAAAAAgAAAAIAAAACAAAAAgAAAAIAAAACAAAAAgAAAAIAAAACAAAAAgAAAAIAAAACAAAAAgAAAAIAAAACAAAAAgAAAAIAAAACAAAAAgAAAAIAAAACAAAAAQAAAAEAAAABAAAAAQAAAAEAAAABAAAAAQAAAAEAAAABAAAAAQAAAAEAAAABAAAAAQAAAAEAAAABAAAAAQAAAAEAAAABAAAAAQAAAAEAAAABAAAAAQAAAAEAAAABAAAAAQAAAAEAAAABAAAAAQAAAAEAAAABAAAAAQAAAAEAAAABAAAAAQAAAAEAAAABAAAAAQAAAAEAAAABAAAAAQAAAAEAAAABAAAAAQAAAAEAAAABAAAAAQAAAAEAAAABAAAAAQAAAAEAAAABAAAAAQAAAAEAAAABAAAAAQAAAAEAAAABAAAAAQAAAAEAAAABAAAAAQAAAAEAAAABAAAAAQAAAAEAAAABAAAAAQAAAAEAAAABAAAAAQAAAAEAAAABAAAAAQAAAAEAAAABAAAAAQAAAAEAAAABAAAAAQAAAAEAAAABAAAAAQAAAAEAAAABAAAAAQAAAAEAAAABAAAAAQAAAAEAAAABAAAAAQAAAAEAAAABAAAAAQAAAAEAAAABAAAAAQAAAAEAAAABAAAAAQAAAAEAAAABAAAAAQAAAAEAAAABAAAAAQAAAAEAAAABAAAAAQAAAAEAAAABAAAAAQAAAAEAAAABAAAAAQAAAAEAAAABAAAAAQAAAAEAAAABAAAAAQAAAAEAAAABAAAAAQAAAAEAAAABAAAAAQAAAAEAAAABAAAAAQAAAAEAAAABAAAAAQAAAAEAAAABAAAAAQAAAAEAAAABAAAAAQAAAAEAAAABAAAAAQAAAAEAAAABAAAAAQAAAAEAAAABAAAAAQAAAAEAAAABAAAAAQAAAAEAAAABAAAAAQAAAAEAAAABAAAAAQAAAAEAAAABAAAAAQAAAAEAAAABAAAAAQAAAAEAAAABAAAAAQAAAAEAAAABAAAAAQAAAAEAAAABAAAAAQAAAAEAAAABAAAAAQAAAAEAAAABAAAAAQAAAAEAAAABAAAAAQAAAAEAAAABAAAAAQAAAAEAAAABAAAAAQAAAAEAAAABAAAAAQAAAAEAAAABAAAAAQAAAAEAAAABAAAAAQAAAAEAAAABAAAAAQAAAAEAAAABAAAAAQAAAAEAAAABAAAAAQAAAAEAAAABAAAAAQAAAAEAAAABAAAAAQAAAAEAAAABAAAAAQAAAAEAAAABAAAAAQAAAAEAAAABAAAAAQAAAAEAAAABAAAAAQAAAAEAAAABAAAAAQAAAAEAAAABAAAAAQAAAAEAAAABAAAAAQAAAAEAAAABAAAAAQAAAAEAAAABAAAAAQAAAAEAAAABAAAA\"},\"shape\":[1680],\"dtype\":\"int32\",\"order\":\"little\"}],[\"color\",{\"type\":\"ndarray\",\"array\":[\"#54aead\",\"#54aead\",\"#54aead\",\"#54aead\",\"#54aead\",\"#54aead\",\"#54aead\",\"#54aead\",\"#54aead\",\"#54aead\",\"#54aead\",\"#54aead\",\"#54aead\",\"#54aead\",\"#54aead\",\"#54aead\",\"#54aead\",\"#54aead\",\"#54aead\",\"#54aead\",\"#54aead\",\"#54aead\",\"#54aead\",\"#54aead\",\"#54aead\",\"#54aead\",\"#54aead\",\"#54aead\",\"#54aead\",\"#54aead\",\"#54aead\",\"#54aead\",\"#54aead\",\"#54aead\",\"#54aead\",\"#54aead\",\"#54aead\",\"#54aead\",\"#54aead\",\"#54aead\",\"#54aead\",\"#54aead\",\"#54aead\",\"#54aead\",\"#54aead\",\"#54aead\",\"#54aead\",\"#54aead\",\"#54aead\",\"#54aead\",\"#54aead\",\"#54aead\",\"#54aead\",\"#54aead\",\"#54aead\",\"#54aead\",\"#54aead\",\"#54aead\",\"#54aead\",\"#54aead\",\"#54aead\",\"#54aead\",\"#54aead\",\"#54aead\",\"#54aead\",\"#54aead\",\"#54aead\",\"#54aead\",\"#54aead\",\"#54aead\",\"#54aead\",\"#54aead\",\"#54aead\",\"#54aead\",\"#54aead\",\"#54aead\",\"#54aead\",\"#54aead\",\"#54aead\",\"#54aead\",\"#54aead\",\"#54aead\",\"#54aead\",\"#54aead\",\"#54aead\",\"#54aead\",\"#54aead\",\"#54aead\",\"#54aead\",\"#54aead\",\"#54aead\",\"#54aead\",\"#54aead\",\"#54aead\",\"#54aead\",\"#54aead\",\"#54aead\",\"#54aead\",\"#54aead\",\"#54aead\",\"#54aead\",\"#54aead\",\"#54aead\",\"#54aead\",\"#54aead\",\"#54aead\",\"#54aead\",\"#54aead\",\"#54aead\",\"#54aead\",\"#54aead\",\"#54aead\",\"#54aead\",\"#54aead\",\"#54aead\",\"#54aead\",\"#54aead\",\"#54aead\",\"#54aead\",\"#54aead\",\"#54aead\",\"#54aead\",\"#54aead\",\"#54aead\",\"#54aead\",\"#54aead\",\"#54aead\",\"#54aead\",\"#54aead\",\"#54aead\",\"#54aead\",\"#54aead\",\"#54aead\",\"#54aead\",\"#54aead\",\"#54aead\",\"#54aead\",\"#54aead\",\"#54aead\",\"#54aead\",\"#54aead\",\"#54aead\",\"#54aead\",\"#54aead\",\"#54aead\",\"#54aead\",\"#54aead\",\"#54aead\",\"#54aead\",\"#54aead\",\"#54aead\",\"#54aead\",\"#54aead\",\"#54aead\",\"#54aead\",\"#54aead\",\"#54aead\",\"#54aead\",\"#54aead\",\"#54aead\",\"#54aead\",\"#54aead\",\"#54aead\",\"#54aead\",\"#54aead\",\"#54aead\",\"#54aead\",\"#54aead\",\"#54aead\",\"#54aead\",\"#54aead\",\"#54aead\",\"#54aead\",\"#54aead\",\"#54aead\",\"#54aead\",\"#54aead\",\"#54aead\",\"#54aead\",\"#54aead\",\"#54aead\",\"#54aead\",\"#54aead\",\"#54aead\",\"#54aead\",\"#54aead\",\"#54aead\",\"#54aead\",\"#54aead\",\"#54aead\",\"#54aead\",\"#54aead\",\"#54aead\",\"#54aead\",\"#54aead\",\"#54aead\",\"#54aead\",\"#54aead\",\"#54aead\",\"#54aead\",\"#54aead\",\"#54aead\",\"#54aead\",\"#54aead\",\"#54aead\",\"#54aead\",\"#54aead\",\"#54aead\",\"#54aead\",\"#54aead\",\"#54aead\",\"#54aead\",\"#54aead\",\"#54aead\",\"#54aead\",\"#54aead\",\"#54aead\",\"#54aead\",\"#54aead\",\"#54aead\",\"#54aead\",\"#54aead\",\"#54aead\",\"#54aead\",\"#54aead\",\"#54aead\",\"#54aead\",\"#54aead\",\"#54aead\",\"#54aead\",\"#54aead\",\"#54aead\",\"#54aead\",\"#54aead\",\"#54aead\",\"#54aead\",\"#54aead\",\"#54aead\",\"#54aead\",\"#54aead\",\"#bfe5a0\",\"#bfe5a0\",\"#bfe5a0\",\"#bfe5a0\",\"#bfe5a0\",\"#bfe5a0\",\"#bfe5a0\",\"#bfe5a0\",\"#bfe5a0\",\"#bfe5a0\",\"#bfe5a0\",\"#bfe5a0\",\"#bfe5a0\",\"#bfe5a0\",\"#bfe5a0\",\"#bfe5a0\",\"#bfe5a0\",\"#bfe5a0\",\"#bfe5a0\",\"#bfe5a0\",\"#bfe5a0\",\"#bfe5a0\",\"#bfe5a0\",\"#bfe5a0\",\"#bfe5a0\",\"#bfe5a0\",\"#bfe5a0\",\"#bfe5a0\",\"#bfe5a0\",\"#bfe5a0\",\"#bfe5a0\",\"#bfe5a0\",\"#bfe5a0\",\"#bfe5a0\",\"#bfe5a0\",\"#bfe5a0\",\"#bfe5a0\",\"#bfe5a0\",\"#bfe5a0\",\"#bfe5a0\",\"#bfe5a0\",\"#bfe5a0\",\"#bfe5a0\",\"#bfe5a0\",\"#bfe5a0\",\"#bfe5a0\",\"#bfe5a0\",\"#bfe5a0\",\"#bfe5a0\",\"#bfe5a0\",\"#bfe5a0\",\"#bfe5a0\",\"#bfe5a0\",\"#bfe5a0\",\"#bfe5a0\",\"#bfe5a0\",\"#bfe5a0\",\"#bfe5a0\",\"#bfe5a0\",\"#bfe5a0\",\"#bfe5a0\",\"#bfe5a0\",\"#bfe5a0\",\"#bfe5a0\",\"#bfe5a0\",\"#bfe5a0\",\"#bfe5a0\",\"#bfe5a0\",\"#bfe5a0\",\"#bfe5a0\",\"#bfe5a0\",\"#bfe5a0\",\"#bfe5a0\",\"#bfe5a0\",\"#bfe5a0\",\"#bfe5a0\",\"#bfe5a0\",\"#bfe5a0\",\"#bfe5a0\",\"#bfe5a0\",\"#bfe5a0\",\"#bfe5a0\",\"#bfe5a0\",\"#bfe5a0\",\"#bfe5a0\",\"#bfe5a0\",\"#bfe5a0\",\"#bfe5a0\",\"#bfe5a0\",\"#bfe5a0\",\"#bfe5a0\",\"#bfe5a0\",\"#bfe5a0\",\"#bfe5a0\",\"#bfe5a0\",\"#bfe5a0\",\"#bfe5a0\",\"#bfe5a0\",\"#bfe5a0\",\"#bfe5a0\",\"#bfe5a0\",\"#bfe5a0\",\"#bfe5a0\",\"#bfe5a0\",\"#bfe5a0\",\"#bfe5a0\",\"#bfe5a0\",\"#bfe5a0\",\"#bfe5a0\",\"#bfe5a0\",\"#bfe5a0\",\"#bfe5a0\",\"#bfe5a0\",\"#bfe5a0\",\"#bfe5a0\",\"#bfe5a0\",\"#bfe5a0\",\"#bfe5a0\",\"#bfe5a0\",\"#bfe5a0\",\"#bfe5a0\",\"#bfe5a0\",\"#bfe5a0\",\"#bfe5a0\",\"#bfe5a0\",\"#bfe5a0\",\"#bfe5a0\",\"#bfe5a0\",\"#bfe5a0\",\"#bfe5a0\",\"#bfe5a0\",\"#bfe5a0\",\"#bfe5a0\",\"#bfe5a0\",\"#bfe5a0\",\"#bfe5a0\",\"#bfe5a0\",\"#bfe5a0\",\"#bfe5a0\",\"#bfe5a0\",\"#bfe5a0\",\"#bfe5a0\",\"#bfe5a0\",\"#bfe5a0\",\"#bfe5a0\",\"#bfe5a0\",\"#bfe5a0\",\"#bfe5a0\",\"#bfe5a0\",\"#bfe5a0\",\"#bfe5a0\",\"#bfe5a0\",\"#bfe5a0\",\"#bfe5a0\",\"#bfe5a0\",\"#bfe5a0\",\"#bfe5a0\",\"#bfe5a0\",\"#bfe5a0\",\"#bfe5a0\",\"#bfe5a0\",\"#bfe5a0\",\"#bfe5a0\",\"#bfe5a0\",\"#bfe5a0\",\"#bfe5a0\",\"#bfe5a0\",\"#bfe5a0\",\"#bfe5a0\",\"#bfe5a0\",\"#bfe5a0\",\"#bfe5a0\",\"#bfe5a0\",\"#bfe5a0\",\"#bfe5a0\",\"#bfe5a0\",\"#bfe5a0\",\"#bfe5a0\",\"#bfe5a0\",\"#bfe5a0\",\"#bfe5a0\",\"#bfe5a0\",\"#bfe5a0\",\"#bfe5a0\",\"#bfe5a0\",\"#bfe5a0\",\"#bfe5a0\",\"#bfe5a0\",\"#bfe5a0\",\"#bfe5a0\",\"#bfe5a0\",\"#bfe5a0\",\"#bfe5a0\",\"#bfe5a0\",\"#bfe5a0\",\"#bfe5a0\",\"#bfe5a0\",\"#bfe5a0\",\"#bfe5a0\",\"#bfe5a0\",\"#bfe5a0\",\"#bfe5a0\",\"#bfe5a0\",\"#bfe5a0\",\"#bfe5a0\",\"#bfe5a0\",\"#bfe5a0\",\"#bfe5a0\",\"#bfe5a0\",\"#bfe5a0\",\"#bfe5a0\",\"#bfe5a0\",\"#bfe5a0\",\"#bfe5a0\",\"#bfe5a0\",\"#bfe5a0\",\"#bfe5a0\",\"#bfe5a0\",\"#bfe5a0\",\"#bfe5a0\",\"#bfe5a0\",\"#bfe5a0\",\"#bfe5a0\",\"#bfe5a0\",\"#bfe5a0\",\"#bfe5a0\",\"#bfe5a0\",\"#bfe5a0\",\"#bfe5a0\",\"#bfe5a0\",\"#bfe5a0\",\"#bfe5a0\",\"#bfe5a0\",\"#bfe5a0\",\"#bfe5a0\",\"#bfe5a0\",\"#bfe5a0\",\"#bfe5a0\",\"#bfe5a0\",\"#bfe5a0\",\"#ee2a7b\",\"#ee2a7b\",\"#ee2a7b\",\"#ee2a7b\",\"#ee2a7b\",\"#ee2a7b\",\"#ee2a7b\",\"#ee2a7b\",\"#ee2a7b\",\"#ee2a7b\",\"#ee2a7b\",\"#ee2a7b\",\"#ee2a7b\",\"#ee2a7b\",\"#ee2a7b\",\"#ee2a7b\",\"#ee2a7b\",\"#ee2a7b\",\"#ee2a7b\",\"#ee2a7b\",\"#ee2a7b\",\"#ee2a7b\",\"#ee2a7b\",\"#ee2a7b\",\"#ee2a7b\",\"#ee2a7b\",\"#ee2a7b\",\"#ee2a7b\",\"#ee2a7b\",\"#ee2a7b\",\"#ee2a7b\",\"#ee2a7b\",\"#ee2a7b\",\"#ee2a7b\",\"#ee2a7b\",\"#ee2a7b\",\"#ee2a7b\",\"#ee2a7b\",\"#ee2a7b\",\"#ee2a7b\",\"#ee2a7b\",\"#ee2a7b\",\"#ee2a7b\",\"#ee2a7b\",\"#ee2a7b\",\"#ee2a7b\",\"#ee2a7b\",\"#ee2a7b\",\"#ee2a7b\",\"#ee2a7b\",\"#ee2a7b\",\"#ee2a7b\",\"#ee2a7b\",\"#ee2a7b\",\"#ee2a7b\",\"#ee2a7b\",\"#ee2a7b\",\"#ee2a7b\",\"#ee2a7b\",\"#ee2a7b\",\"#ee2a7b\",\"#ee2a7b\",\"#ee2a7b\",\"#ee2a7b\",\"#ee2a7b\",\"#ee2a7b\",\"#ee2a7b\",\"#ee2a7b\",\"#ee2a7b\",\"#ee2a7b\",\"#ee2a7b\",\"#ee2a7b\",\"#ee2a7b\",\"#ee2a7b\",\"#ee2a7b\",\"#ee2a7b\",\"#ee2a7b\",\"#ee2a7b\",\"#ee2a7b\",\"#ee2a7b\",\"#ee2a7b\",\"#ee2a7b\",\"#ee2a7b\",\"#ee2a7b\",\"#ee2a7b\",\"#ee2a7b\",\"#ee2a7b\",\"#ee2a7b\",\"#ee2a7b\",\"#ee2a7b\",\"#ee2a7b\",\"#ee2a7b\",\"#ee2a7b\",\"#ee2a7b\",\"#ee2a7b\",\"#ee2a7b\",\"#ee2a7b\",\"#ee2a7b\",\"#ee2a7b\",\"#ee2a7b\",\"#ee2a7b\",\"#ee2a7b\",\"#ee2a7b\",\"#ee2a7b\",\"#ee2a7b\",\"#ee2a7b\",\"#ee2a7b\",\"#ee2a7b\",\"#ee2a7b\",\"#ee2a7b\",\"#ee2a7b\",\"#ee2a7b\",\"#ee2a7b\",\"#ee2a7b\",\"#ee2a7b\",\"#ee2a7b\",\"#ee2a7b\",\"#ee2a7b\",\"#ee2a7b\",\"#ee2a7b\",\"#ee2a7b\",\"#ee2a7b\",\"#ee2a7b\",\"#ee2a7b\",\"#ee2a7b\",\"#ee2a7b\",\"#ee2a7b\",\"#ee2a7b\",\"#ee2a7b\",\"#ee2a7b\",\"#ee2a7b\",\"#ee2a7b\",\"#ee2a7b\",\"#ee2a7b\",\"#ee2a7b\",\"#ee2a7b\",\"#ee2a7b\",\"#ee2a7b\",\"#ee2a7b\",\"#ee2a7b\",\"#ee2a7b\",\"#ee2a7b\",\"#ee2a7b\",\"#ee2a7b\",\"#ee2a7b\",\"#ee2a7b\",\"#ee2a7b\",\"#ee2a7b\",\"#ee2a7b\",\"#ee2a7b\",\"#ee2a7b\",\"#ee2a7b\",\"#ee2a7b\",\"#ee2a7b\",\"#ee2a7b\",\"#ee2a7b\",\"#ee2a7b\",\"#ee2a7b\",\"#ee2a7b\",\"#ee2a7b\",\"#ee2a7b\",\"#ee2a7b\",\"#ee2a7b\",\"#ee2a7b\",\"#ee2a7b\",\"#ee2a7b\",\"#ee2a7b\",\"#ee2a7b\",\"#ee2a7b\",\"#ee2a7b\",\"#ee2a7b\",\"#ee2a7b\",\"#ee2a7b\",\"#ee2a7b\",\"#ee2a7b\",\"#ee2a7b\",\"#ee2a7b\",\"#ee2a7b\",\"#ee2a7b\",\"#ee2a7b\",\"#ee2a7b\",\"#ee2a7b\",\"#ee2a7b\",\"#ee2a7b\",\"#ee2a7b\",\"#ee2a7b\",\"#ee2a7b\",\"#ee2a7b\",\"#ee2a7b\",\"#ee2a7b\",\"#ee2a7b\",\"#ee2a7b\",\"#ee2a7b\",\"#ee2a7b\",\"#ee2a7b\",\"#ee2a7b\",\"#ee2a7b\",\"#ee2a7b\",\"#ee2a7b\",\"#ee2a7b\",\"#ee2a7b\",\"#ee2a7b\",\"#ee2a7b\",\"#ee2a7b\",\"#ee2a7b\",\"#ee2a7b\",\"#ee2a7b\",\"#ee2a7b\",\"#ee2a7b\",\"#ee2a7b\",\"#ee2a7b\",\"#ee2a7b\",\"#ee2a7b\",\"#ee2a7b\",\"#ee2a7b\",\"#ee2a7b\",\"#ee2a7b\",\"#ee2a7b\",\"#ee2a7b\",\"#ee2a7b\",\"#ee2a7b\",\"#ee2a7b\",\"#ee2a7b\",\"#ee2a7b\",\"#ee2a7b\",\"#ee2a7b\",\"#ee2a7b\",\"#ee2a7b\",\"#ee2a7b\",\"#ee2a7b\",\"#ee2a7b\",\"#ee2a7b\",\"#ee2a7b\",\"#ee2a7b\",\"#ee2a7b\",\"#ee2a7b\",\"#ee2a7b\",\"#ee2a7b\",\"#ee2a7b\",\"#ee2a7b\",\"#5e4fa2\",\"#5e4fa2\",\"#5e4fa2\",\"#5e4fa2\",\"#5e4fa2\",\"#5e4fa2\",\"#5e4fa2\",\"#5e4fa2\",\"#5e4fa2\",\"#5e4fa2\",\"#5e4fa2\",\"#5e4fa2\",\"#5e4fa2\",\"#5e4fa2\",\"#5e4fa2\",\"#5e4fa2\",\"#5e4fa2\",\"#5e4fa2\",\"#5e4fa2\",\"#5e4fa2\",\"#5e4fa2\",\"#5e4fa2\",\"#5e4fa2\",\"#5e4fa2\",\"#5e4fa2\",\"#5e4fa2\",\"#5e4fa2\",\"#5e4fa2\",\"#5e4fa2\",\"#5e4fa2\",\"#5e4fa2\",\"#5e4fa2\",\"#5e4fa2\",\"#5e4fa2\",\"#5e4fa2\",\"#5e4fa2\",\"#5e4fa2\",\"#5e4fa2\",\"#5e4fa2\",\"#5e4fa2\",\"#5e4fa2\",\"#5e4fa2\",\"#5e4fa2\",\"#5e4fa2\",\"#5e4fa2\",\"#5e4fa2\",\"#5e4fa2\",\"#5e4fa2\",\"#5e4fa2\",\"#5e4fa2\",\"#5e4fa2\",\"#5e4fa2\",\"#5e4fa2\",\"#5e4fa2\",\"#5e4fa2\",\"#5e4fa2\",\"#5e4fa2\",\"#5e4fa2\",\"#5e4fa2\",\"#5e4fa2\",\"#5e4fa2\",\"#5e4fa2\",\"#5e4fa2\",\"#5e4fa2\",\"#5e4fa2\",\"#5e4fa2\",\"#5e4fa2\",\"#5e4fa2\",\"#5e4fa2\",\"#5e4fa2\",\"#5e4fa2\",\"#5e4fa2\",\"#5e4fa2\",\"#5e4fa2\",\"#5e4fa2\",\"#5e4fa2\",\"#5e4fa2\",\"#5e4fa2\",\"#5e4fa2\",\"#5e4fa2\",\"#5e4fa2\",\"#5e4fa2\",\"#5e4fa2\",\"#5e4fa2\",\"#5e4fa2\",\"#5e4fa2\",\"#5e4fa2\",\"#5e4fa2\",\"#5e4fa2\",\"#5e4fa2\",\"#5e4fa2\",\"#5e4fa2\",\"#5e4fa2\",\"#5e4fa2\",\"#5e4fa2\",\"#5e4fa2\",\"#5e4fa2\",\"#5e4fa2\",\"#5e4fa2\",\"#5e4fa2\",\"#5e4fa2\",\"#5e4fa2\",\"#5e4fa2\",\"#5e4fa2\",\"#5e4fa2\",\"#5e4fa2\",\"#5e4fa2\",\"#5e4fa2\",\"#5e4fa2\",\"#5e4fa2\",\"#5e4fa2\",\"#5e4fa2\",\"#5e4fa2\",\"#5e4fa2\",\"#5e4fa2\",\"#5e4fa2\",\"#5e4fa2\",\"#5e4fa2\",\"#5e4fa2\",\"#5e4fa2\",\"#5e4fa2\",\"#5e4fa2\",\"#5e4fa2\",\"#5e4fa2\",\"#5e4fa2\",\"#5e4fa2\",\"#5e4fa2\",\"#5e4fa2\",\"#5e4fa2\",\"#5e4fa2\",\"#5e4fa2\",\"#5e4fa2\",\"#5e4fa2\",\"#5e4fa2\",\"#5e4fa2\",\"#5e4fa2\",\"#5e4fa2\",\"#5e4fa2\",\"#5e4fa2\",\"#5e4fa2\",\"#5e4fa2\",\"#5e4fa2\",\"#5e4fa2\",\"#5e4fa2\",\"#5e4fa2\",\"#5e4fa2\",\"#5e4fa2\",\"#5e4fa2\",\"#5e4fa2\",\"#5e4fa2\",\"#5e4fa2\",\"#5e4fa2\",\"#5e4fa2\",\"#5e4fa2\",\"#5e4fa2\",\"#5e4fa2\",\"#5e4fa2\",\"#5e4fa2\",\"#5e4fa2\",\"#5e4fa2\",\"#5e4fa2\",\"#5e4fa2\",\"#5e4fa2\",\"#5e4fa2\",\"#5e4fa2\",\"#5e4fa2\",\"#5e4fa2\",\"#5e4fa2\",\"#5e4fa2\",\"#5e4fa2\",\"#5e4fa2\",\"#5e4fa2\",\"#5e4fa2\",\"#5e4fa2\",\"#5e4fa2\",\"#5e4fa2\",\"#5e4fa2\",\"#5e4fa2\",\"#5e4fa2\",\"#5e4fa2\",\"#5e4fa2\",\"#5e4fa2\",\"#5e4fa2\",\"#5e4fa2\",\"#5e4fa2\",\"#5e4fa2\",\"#5e4fa2\",\"#5e4fa2\",\"#5e4fa2\",\"#5e4fa2\",\"#5e4fa2\",\"#5e4fa2\",\"#5e4fa2\",\"#5e4fa2\",\"#5e4fa2\",\"#5e4fa2\",\"#5e4fa2\",\"#5e4fa2\",\"#5e4fa2\",\"#5e4fa2\",\"#5e4fa2\",\"#5e4fa2\",\"#5e4fa2\",\"#5e4fa2\",\"#5e4fa2\",\"#5e4fa2\",\"#5e4fa2\",\"#5e4fa2\",\"#5e4fa2\",\"#5e4fa2\",\"#5e4fa2\",\"#5e4fa2\",\"#5e4fa2\",\"#5e4fa2\",\"#5e4fa2\",\"#5e4fa2\",\"#5e4fa2\",\"#5e4fa2\",\"#5e4fa2\",\"#5e4fa2\",\"#5e4fa2\",\"#5e4fa2\",\"#5e4fa2\",\"#5e4fa2\",\"#5e4fa2\",\"#5e4fa2\",\"#5e4fa2\",\"#5e4fa2\",\"#5e4fa2\",\"#5e4fa2\",\"#5e4fa2\",\"#5e4fa2\",\"#5e4fa2\",\"#5e4fa2\",\"#5e4fa2\",\"#5e4fa2\",\"#5e4fa2\",\"#5e4fa2\",\"#5e4fa2\",\"#5e4fa2\",\"#9e0142\",\"#9e0142\",\"#9e0142\",\"#9e0142\",\"#9e0142\",\"#9e0142\",\"#9e0142\",\"#9e0142\",\"#9e0142\",\"#9e0142\",\"#9e0142\",\"#9e0142\",\"#9e0142\",\"#9e0142\",\"#9e0142\",\"#9e0142\",\"#9e0142\",\"#9e0142\",\"#9e0142\",\"#9e0142\",\"#9e0142\",\"#9e0142\",\"#9e0142\",\"#9e0142\",\"#9e0142\",\"#9e0142\",\"#9e0142\",\"#9e0142\",\"#9e0142\",\"#9e0142\",\"#9e0142\",\"#9e0142\",\"#9e0142\",\"#9e0142\",\"#9e0142\",\"#9e0142\",\"#9e0142\",\"#9e0142\",\"#9e0142\",\"#9e0142\",\"#9e0142\",\"#9e0142\",\"#9e0142\",\"#9e0142\",\"#9e0142\",\"#9e0142\",\"#9e0142\",\"#9e0142\",\"#9e0142\",\"#9e0142\",\"#9e0142\",\"#9e0142\",\"#9e0142\",\"#9e0142\",\"#9e0142\",\"#9e0142\",\"#9e0142\",\"#9e0142\",\"#9e0142\",\"#9e0142\",\"#9e0142\",\"#9e0142\",\"#9e0142\",\"#9e0142\",\"#9e0142\",\"#9e0142\",\"#9e0142\",\"#9e0142\",\"#9e0142\",\"#9e0142\",\"#9e0142\",\"#9e0142\",\"#9e0142\",\"#9e0142\",\"#9e0142\",\"#9e0142\",\"#9e0142\",\"#9e0142\",\"#9e0142\",\"#9e0142\",\"#9e0142\",\"#9e0142\",\"#9e0142\",\"#9e0142\",\"#9e0142\",\"#9e0142\",\"#9e0142\",\"#9e0142\",\"#9e0142\",\"#9e0142\",\"#9e0142\",\"#9e0142\",\"#9e0142\",\"#9e0142\",\"#9e0142\",\"#9e0142\",\"#9e0142\",\"#9e0142\",\"#9e0142\",\"#9e0142\",\"#9e0142\",\"#9e0142\",\"#9e0142\",\"#9e0142\",\"#9e0142\",\"#9e0142\",\"#9e0142\",\"#9e0142\",\"#9e0142\",\"#9e0142\",\"#9e0142\",\"#9e0142\",\"#9e0142\",\"#9e0142\",\"#9e0142\",\"#9e0142\",\"#9e0142\",\"#9e0142\",\"#9e0142\",\"#9e0142\",\"#9e0142\",\"#9e0142\",\"#9e0142\",\"#9e0142\",\"#9e0142\",\"#9e0142\",\"#9e0142\",\"#9e0142\",\"#9e0142\",\"#9e0142\",\"#9e0142\",\"#9e0142\",\"#9e0142\",\"#9e0142\",\"#9e0142\",\"#9e0142\",\"#9e0142\",\"#9e0142\",\"#9e0142\",\"#9e0142\",\"#9e0142\",\"#9e0142\",\"#9e0142\",\"#9e0142\",\"#9e0142\",\"#9e0142\",\"#9e0142\",\"#9e0142\",\"#9e0142\",\"#9e0142\",\"#9e0142\",\"#9e0142\",\"#9e0142\",\"#9e0142\",\"#9e0142\",\"#9e0142\",\"#9e0142\",\"#9e0142\",\"#9e0142\",\"#9e0142\",\"#9e0142\",\"#9e0142\",\"#9e0142\",\"#9e0142\",\"#9e0142\",\"#9e0142\",\"#9e0142\",\"#9e0142\",\"#9e0142\",\"#9e0142\",\"#9e0142\",\"#9e0142\",\"#9e0142\",\"#9e0142\",\"#9e0142\",\"#9e0142\",\"#9e0142\",\"#9e0142\",\"#9e0142\",\"#9e0142\",\"#9e0142\",\"#9e0142\",\"#9e0142\",\"#9e0142\",\"#9e0142\",\"#9e0142\",\"#9e0142\",\"#9e0142\",\"#9e0142\",\"#9e0142\",\"#9e0142\",\"#9e0142\",\"#9e0142\",\"#9e0142\",\"#9e0142\",\"#9e0142\",\"#9e0142\",\"#9e0142\",\"#9e0142\",\"#9e0142\",\"#9e0142\",\"#9e0142\",\"#9e0142\",\"#9e0142\",\"#9e0142\",\"#9e0142\",\"#9e0142\",\"#9e0142\",\"#9e0142\",\"#9e0142\",\"#9e0142\",\"#9e0142\",\"#9e0142\",\"#9e0142\",\"#9e0142\",\"#9e0142\",\"#9e0142\",\"#9e0142\",\"#9e0142\",\"#9e0142\",\"#9e0142\",\"#9e0142\",\"#9e0142\",\"#9e0142\",\"#9e0142\",\"#9e0142\",\"#9e0142\",\"#9e0142\",\"#9e0142\",\"#9e0142\",\"#9e0142\",\"#9e0142\",\"#9e0142\",\"#9e0142\",\"#9e0142\",\"#9e0142\",\"#9e0142\",\"#9e0142\",\"#9e0142\",\"#9e0142\",\"#fdbf6f\",\"#fdbf6f\",\"#fdbf6f\",\"#fdbf6f\",\"#fdbf6f\",\"#fdbf6f\",\"#fdbf6f\",\"#fdbf6f\",\"#fdbf6f\",\"#fdbf6f\",\"#fdbf6f\",\"#fdbf6f\",\"#fdbf6f\",\"#fdbf6f\",\"#fdbf6f\",\"#fdbf6f\",\"#fdbf6f\",\"#fdbf6f\",\"#fdbf6f\",\"#fdbf6f\",\"#fdbf6f\",\"#fdbf6f\",\"#fdbf6f\",\"#fdbf6f\",\"#fdbf6f\",\"#fdbf6f\",\"#fdbf6f\",\"#fdbf6f\",\"#fdbf6f\",\"#fdbf6f\",\"#fdbf6f\",\"#fdbf6f\",\"#fdbf6f\",\"#fdbf6f\",\"#fdbf6f\",\"#fdbf6f\",\"#fdbf6f\",\"#fdbf6f\",\"#fdbf6f\",\"#fdbf6f\",\"#fdbf6f\",\"#fdbf6f\",\"#fdbf6f\",\"#fdbf6f\",\"#fdbf6f\",\"#fdbf6f\",\"#fdbf6f\",\"#fdbf6f\",\"#fdbf6f\",\"#fdbf6f\",\"#fdbf6f\",\"#fdbf6f\",\"#fdbf6f\",\"#fdbf6f\",\"#fdbf6f\",\"#fdbf6f\",\"#fdbf6f\",\"#fdbf6f\",\"#fdbf6f\",\"#fdbf6f\",\"#fdbf6f\",\"#fdbf6f\",\"#fdbf6f\",\"#fdbf6f\",\"#fdbf6f\",\"#fdbf6f\",\"#fdbf6f\",\"#fdbf6f\",\"#fdbf6f\",\"#fdbf6f\",\"#fdbf6f\",\"#fdbf6f\",\"#fdbf6f\",\"#fdbf6f\",\"#fdbf6f\",\"#fdbf6f\",\"#fdbf6f\",\"#fdbf6f\",\"#fdbf6f\",\"#fdbf6f\",\"#fdbf6f\",\"#fdbf6f\",\"#fdbf6f\",\"#fdbf6f\",\"#fdbf6f\",\"#fdbf6f\",\"#fdbf6f\",\"#fdbf6f\",\"#fdbf6f\",\"#fdbf6f\",\"#fdbf6f\",\"#fdbf6f\",\"#fdbf6f\",\"#fdbf6f\",\"#fdbf6f\",\"#fdbf6f\",\"#fdbf6f\",\"#fdbf6f\",\"#fdbf6f\",\"#fdbf6f\",\"#fdbf6f\",\"#fdbf6f\",\"#fdbf6f\",\"#fdbf6f\",\"#fdbf6f\",\"#fdbf6f\",\"#fdbf6f\",\"#fdbf6f\",\"#fdbf6f\",\"#fdbf6f\",\"#fdbf6f\",\"#fdbf6f\",\"#fdbf6f\",\"#fdbf6f\",\"#fdbf6f\",\"#fdbf6f\",\"#fdbf6f\",\"#fdbf6f\",\"#fdbf6f\",\"#fdbf6f\",\"#fdbf6f\",\"#fdbf6f\",\"#fdbf6f\",\"#fdbf6f\",\"#fdbf6f\",\"#fdbf6f\",\"#fdbf6f\",\"#fdbf6f\",\"#fdbf6f\",\"#fdbf6f\",\"#fdbf6f\",\"#fdbf6f\",\"#fdbf6f\",\"#fdbf6f\",\"#fdbf6f\",\"#fdbf6f\",\"#fdbf6f\",\"#fdbf6f\",\"#fdbf6f\",\"#fdbf6f\",\"#fdbf6f\",\"#fdbf6f\",\"#fdbf6f\",\"#fdbf6f\",\"#fdbf6f\",\"#fdbf6f\",\"#fdbf6f\",\"#fdbf6f\",\"#fdbf6f\",\"#fdbf6f\",\"#fdbf6f\",\"#fdbf6f\",\"#fdbf6f\",\"#fdbf6f\",\"#fdbf6f\",\"#fdbf6f\",\"#fdbf6f\",\"#fdbf6f\",\"#fdbf6f\",\"#fdbf6f\",\"#fdbf6f\",\"#fdbf6f\",\"#fdbf6f\",\"#fdbf6f\",\"#fdbf6f\",\"#fdbf6f\",\"#fdbf6f\",\"#fdbf6f\",\"#fdbf6f\",\"#fdbf6f\",\"#fdbf6f\",\"#fdbf6f\",\"#fdbf6f\",\"#fdbf6f\",\"#fdbf6f\",\"#fdbf6f\",\"#fdbf6f\",\"#fdbf6f\",\"#fdbf6f\",\"#fdbf6f\",\"#fdbf6f\",\"#fdbf6f\",\"#fdbf6f\",\"#fdbf6f\",\"#fdbf6f\",\"#fdbf6f\",\"#fdbf6f\",\"#fdbf6f\",\"#fdbf6f\",\"#fdbf6f\",\"#fdbf6f\",\"#fdbf6f\",\"#fdbf6f\",\"#fdbf6f\",\"#fdbf6f\",\"#fdbf6f\",\"#fdbf6f\",\"#fdbf6f\",\"#fdbf6f\",\"#fdbf6f\",\"#fdbf6f\",\"#fdbf6f\",\"#fdbf6f\",\"#fdbf6f\",\"#fdbf6f\",\"#fdbf6f\",\"#fdbf6f\",\"#fdbf6f\",\"#fdbf6f\",\"#fdbf6f\",\"#fdbf6f\",\"#fdbf6f\",\"#fdbf6f\",\"#fdbf6f\",\"#fdbf6f\",\"#fdbf6f\",\"#fdbf6f\",\"#fdbf6f\",\"#fdbf6f\",\"#fdbf6f\",\"#fdbf6f\",\"#fdbf6f\",\"#fdbf6f\",\"#fdbf6f\",\"#fdbf6f\",\"#fdbf6f\",\"#fdbf6f\",\"#fdbf6f\",\"#fdbf6f\",\"#fdbf6f\",\"#fdbf6f\",\"#fdbf6f\",\"#fdbf6f\",\"#fdbf6f\",\"#fdbf6f\",\"#fdbf6f\",\"#fdbf6f\",\"#fdbf6f\",\"#fdbf6f\",\"#fdbf6f\",\"#e95c47\",\"#e95c47\",\"#e95c47\",\"#e95c47\",\"#e95c47\",\"#e95c47\",\"#e95c47\",\"#e95c47\",\"#e95c47\",\"#e95c47\",\"#e95c47\",\"#e95c47\",\"#e95c47\",\"#e95c47\",\"#e95c47\",\"#e95c47\",\"#e95c47\",\"#e95c47\",\"#e95c47\",\"#e95c47\",\"#e95c47\",\"#e95c47\",\"#e95c47\",\"#e95c47\",\"#e95c47\",\"#e95c47\",\"#e95c47\",\"#e95c47\",\"#e95c47\",\"#e95c47\",\"#e95c47\",\"#e95c47\",\"#e95c47\",\"#e95c47\",\"#e95c47\",\"#e95c47\",\"#e95c47\",\"#e95c47\",\"#e95c47\",\"#e95c47\",\"#e95c47\",\"#e95c47\",\"#e95c47\",\"#e95c47\",\"#e95c47\",\"#e95c47\",\"#e95c47\",\"#e95c47\",\"#e95c47\",\"#e95c47\",\"#e95c47\",\"#e95c47\",\"#e95c47\",\"#e95c47\",\"#e95c47\",\"#e95c47\",\"#e95c47\",\"#e95c47\",\"#e95c47\",\"#e95c47\",\"#e95c47\",\"#e95c47\",\"#e95c47\",\"#e95c47\",\"#e95c47\",\"#e95c47\",\"#e95c47\",\"#e95c47\",\"#e95c47\",\"#e95c47\",\"#e95c47\",\"#e95c47\",\"#e95c47\",\"#e95c47\",\"#e95c47\",\"#e95c47\",\"#e95c47\",\"#e95c47\",\"#e95c47\",\"#e95c47\",\"#e95c47\",\"#e95c47\",\"#e95c47\",\"#e95c47\",\"#e95c47\",\"#e95c47\",\"#e95c47\",\"#e95c47\",\"#e95c47\",\"#e95c47\",\"#e95c47\",\"#e95c47\",\"#e95c47\",\"#e95c47\",\"#e95c47\",\"#e95c47\",\"#e95c47\",\"#e95c47\",\"#e95c47\",\"#e95c47\",\"#e95c47\",\"#e95c47\",\"#e95c47\",\"#e95c47\",\"#e95c47\",\"#e95c47\",\"#e95c47\",\"#e95c47\",\"#e95c47\",\"#e95c47\",\"#e95c47\",\"#e95c47\",\"#e95c47\",\"#e95c47\",\"#e95c47\",\"#e95c47\",\"#e95c47\",\"#e95c47\",\"#e95c47\",\"#e95c47\",\"#e95c47\",\"#e95c47\",\"#e95c47\",\"#e95c47\",\"#e95c47\",\"#e95c47\",\"#e95c47\",\"#e95c47\",\"#e95c47\",\"#e95c47\",\"#e95c47\",\"#e95c47\",\"#e95c47\",\"#e95c47\",\"#e95c47\",\"#e95c47\",\"#e95c47\",\"#e95c47\",\"#e95c47\",\"#e95c47\",\"#e95c47\",\"#e95c47\",\"#e95c47\",\"#e95c47\",\"#e95c47\",\"#e95c47\",\"#e95c47\",\"#e95c47\",\"#e95c47\",\"#e95c47\",\"#e95c47\",\"#e95c47\",\"#e95c47\",\"#e95c47\",\"#e95c47\",\"#e95c47\",\"#e95c47\",\"#e95c47\",\"#e95c47\",\"#e95c47\",\"#e95c47\",\"#e95c47\",\"#e95c47\",\"#e95c47\",\"#e95c47\",\"#e95c47\",\"#e95c47\",\"#e95c47\",\"#e95c47\",\"#e95c47\",\"#e95c47\",\"#e95c47\",\"#e95c47\",\"#e95c47\",\"#e95c47\",\"#e95c47\",\"#e95c47\",\"#e95c47\",\"#e95c47\",\"#e95c47\",\"#e95c47\",\"#e95c47\",\"#e95c47\",\"#e95c47\",\"#e95c47\",\"#e95c47\",\"#e95c47\",\"#e95c47\",\"#e95c47\",\"#e95c47\",\"#e95c47\",\"#e95c47\",\"#e95c47\",\"#e95c47\",\"#e95c47\",\"#e95c47\",\"#e95c47\",\"#e95c47\",\"#e95c47\",\"#e95c47\",\"#e95c47\",\"#e95c47\",\"#e95c47\",\"#e95c47\",\"#e95c47\",\"#e95c47\",\"#e95c47\",\"#e95c47\",\"#e95c47\",\"#e95c47\",\"#e95c47\",\"#e95c47\",\"#e95c47\",\"#e95c47\",\"#e95c47\",\"#e95c47\",\"#e95c47\",\"#e95c47\",\"#e95c47\",\"#e95c47\",\"#e95c47\",\"#e95c47\",\"#e95c47\",\"#e95c47\",\"#e95c47\",\"#e95c47\",\"#e95c47\",\"#e95c47\",\"#e95c47\",\"#e95c47\",\"#e95c47\",\"#e95c47\",\"#e95c47\",\"#e95c47\",\"#e95c47\",\"#e95c47\",\"#e95c47\",\"#e95c47\",\"#e95c47\",\"#e95c47\"],\"shape\":[1680],\"dtype\":\"object\",\"order\":\"little\"}],[\"index\",{\"type\":\"ndarray\",\"array\":{\"type\":\"bytes\",\"data\":\"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\"},\"shape\":[1680],\"dtype\":\"int32\",\"order\":\"little\"}],[\"item\",{\"type\":\"ndarray\",\"array\":[\"L\",\"L\",\"L\",\"L\",\"L\",\"L\",\"L\",\"L\",\"L\",\"L\",\"L\",\"L\",\"L\",\"L\",\"L\",\"L\",\"L\",\"L\",\"L\",\"L\",\"L\",\"L\",\"L\",\"L\",\"L\",\"L\",\"L\",\"L\",\"L\",\"L\",\"L\",\"L\",\"L\",\"L\",\"L\",\"L\",\"L\",\"L\",\"L\",\"L\",\"L\",\"L\",\"L\",\"L\",\"L\",\"L\",\"L\",\"L\",\"L\",\"L\",\"L\",\"L\",\"L\",\"L\",\"L\",\"L\",\"L\",\"L\",\"L\",\"L\",\"L\",\"L\",\"L\",\"L\",\"L\",\"L\",\"L\",\"L\",\"L\",\"L\",\"L\",\"L\",\"L\",\"L\",\"L\",\"L\",\"L\",\"L\",\"L\",\"L\",\"L\",\"L\",\"L\",\"L\",\"L\",\"L\",\"L\",\"L\",\"L\",\"L\",\"L\",\"L\",\"L\",\"L\",\"L\",\"L\",\"L\",\"L\",\"L\",\"L\",\"L\",\"L\",\"L\",\"L\",\"L\",\"L\",\"L\",\"L\",\"L\",\"L\",\"L\",\"L\",\"L\",\"L\",\"L\",\"L\",\"L\",\"L\",\"L\",\"L\",\"L\",\"L\",\"L\",\"L\",\"L\",\"L\",\"L\",\"L\",\"L\",\"L\",\"L\",\"L\",\"L\",\"L\",\"L\",\"L\",\"L\",\"L\",\"L\",\"L\",\"L\",\"L\",\"L\",\"L\",\"L\",\"L\",\"L\",\"L\",\"L\",\"L\",\"L\",\"L\",\"L\",\"L\",\"L\",\"L\",\"L\",\"L\",\"L\",\"L\",\"L\",\"L\",\"L\",\"L\",\"L\",\"L\",\"L\",\"L\",\"L\",\"L\",\"L\",\"L\",\"L\",\"L\",\"L\",\"L\",\"L\",\"L\",\"L\",\"L\",\"L\",\"L\",\"L\",\"L\",\"L\",\"L\",\"L\",\"L\",\"L\",\"L\",\"L\",\"L\",\"L\",\"L\",\"L\",\"L\",\"L\",\"L\",\"L\",\"L\",\"L\",\"L\",\"L\",\"L\",\"L\",\"L\",\"L\",\"L\",\"L\",\"L\",\"L\",\"L\",\"L\",\"L\",\"L\",\"L\",\"L\",\"L\",\"L\",\"L\",\"L\",\"L\",\"L\",\"L\",\"L\",\"L\",\"L\",\"L\",\"L\",\"L\",\"L\",\"L\",\"L\",\"L\",\"L\",\"L\",\"L\",\"L\",\"L\",\"L\",\"O\",\"O\",\"O\",\"O\",\"O\",\"O\",\"O\",\"O\",\"O\",\"O\",\"O\",\"O\",\"O\",\"O\",\"O\",\"O\",\"O\",\"O\",\"O\",\"O\",\"O\",\"O\",\"O\",\"O\",\"O\",\"O\",\"O\",\"O\",\"O\",\"O\",\"O\",\"O\",\"O\",\"O\",\"O\",\"O\",\"O\",\"O\",\"O\",\"O\",\"O\",\"O\",\"O\",\"O\",\"O\",\"O\",\"O\",\"O\",\"O\",\"O\",\"O\",\"O\",\"O\",\"O\",\"O\",\"O\",\"O\",\"O\",\"O\",\"O\",\"O\",\"O\",\"O\",\"O\",\"O\",\"O\",\"O\",\"O\",\"O\",\"O\",\"O\",\"O\",\"O\",\"O\",\"O\",\"O\",\"O\",\"O\",\"O\",\"O\",\"O\",\"O\",\"O\",\"O\",\"O\",\"O\",\"O\",\"O\",\"O\",\"O\",\"O\",\"O\",\"O\",\"O\",\"O\",\"O\",\"O\",\"O\",\"O\",\"O\",\"O\",\"O\",\"O\",\"O\",\"O\",\"O\",\"O\",\"O\",\"O\",\"O\",\"O\",\"O\",\"O\",\"O\",\"O\",\"O\",\"O\",\"O\",\"O\",\"O\",\"O\",\"O\",\"O\",\"O\",\"O\",\"O\",\"O\",\"O\",\"O\",\"O\",\"O\",\"O\",\"O\",\"O\",\"O\",\"O\",\"O\",\"O\",\"O\",\"O\",\"O\",\"O\",\"O\",\"O\",\"O\",\"O\",\"O\",\"O\",\"O\",\"O\",\"O\",\"O\",\"O\",\"O\",\"O\",\"O\",\"O\",\"O\",\"O\",\"O\",\"O\",\"O\",\"O\",\"O\",\"O\",\"O\",\"O\",\"O\",\"O\",\"O\",\"O\",\"O\",\"O\",\"O\",\"O\",\"O\",\"O\",\"O\",\"O\",\"O\",\"O\",\"O\",\"O\",\"O\",\"O\",\"O\",\"O\",\"O\",\"O\",\"O\",\"O\",\"O\",\"O\",\"O\",\"O\",\"O\",\"O\",\"O\",\"O\",\"O\",\"O\",\"O\",\"O\",\"O\",\"O\",\"O\",\"O\",\"O\",\"O\",\"O\",\"O\",\"O\",\"O\",\"O\",\"O\",\"O\",\"O\",\"O\",\"O\",\"O\",\"O\",\"O\",\"O\",\"O\",\"O\",\"O\",\"O\",\"O\",\"O\",\"O\",\"O\",\"O\",\"O\",\"O\",\"O\",\"O\",\"O\",\"O\",\"O\",\"O\",\"T\",\"T\",\"T\",\"T\",\"T\",\"T\",\"T\",\"T\",\"T\",\"T\",\"T\",\"T\",\"T\",\"T\",\"T\",\"T\",\"T\",\"T\",\"T\",\"T\",\"T\",\"T\",\"T\",\"T\",\"T\",\"T\",\"T\",\"T\",\"T\",\"T\",\"T\",\"T\",\"T\",\"T\",\"T\",\"T\",\"T\",\"T\",\"T\",\"T\",\"T\",\"T\",\"T\",\"T\",\"T\",\"T\",\"T\",\"T\",\"T\",\"T\",\"T\",\"T\",\"T\",\"T\",\"T\",\"T\",\"T\",\"T\",\"T\",\"T\",\"T\",\"T\",\"T\",\"T\",\"T\",\"T\",\"T\",\"T\",\"T\",\"T\",\"T\",\"T\",\"T\",\"T\",\"T\",\"T\",\"T\",\"T\",\"T\",\"T\",\"T\",\"T\",\"T\",\"T\",\"T\",\"T\",\"T\",\"T\",\"T\",\"T\",\"T\",\"T\",\"T\",\"T\",\"T\",\"T\",\"T\",\"T\",\"T\",\"T\",\"T\",\"T\",\"T\",\"T\",\"T\",\"T\",\"T\",\"T\",\"T\",\"T\",\"T\",\"T\",\"T\",\"T\",\"T\",\"T\",\"T\",\"T\",\"T\",\"T\",\"T\",\"T\",\"T\",\"T\",\"T\",\"T\",\"T\",\"T\",\"T\",\"T\",\"T\",\"T\",\"T\",\"T\",\"T\",\"T\",\"T\",\"T\",\"T\",\"T\",\"T\",\"T\",\"T\",\"T\",\"T\",\"T\",\"T\",\"T\",\"T\",\"T\",\"T\",\"T\",\"T\",\"T\",\"T\",\"T\",\"T\",\"T\",\"T\",\"T\",\"T\",\"T\",\"T\",\"T\",\"T\",\"T\",\"T\",\"T\",\"T\",\"T\",\"T\",\"T\",\"T\",\"T\",\"T\",\"T\",\"T\",\"T\",\"T\",\"T\",\"T\",\"T\",\"T\",\"T\",\"T\",\"T\",\"T\",\"T\",\"T\",\"T\",\"T\",\"T\",\"T\",\"T\",\"T\",\"T\",\"T\",\"T\",\"T\",\"T\",\"T\",\"T\",\"T\",\"T\",\"T\",\"T\",\"T\",\"T\",\"T\",\"T\",\"T\",\"T\",\"T\",\"T\",\"T\",\"T\",\"T\",\"T\",\"T\",\"T\",\"T\",\"T\",\"T\",\"T\",\"T\",\"T\",\"T\",\"T\",\"T\",\"T\",\"T\",\"T\",\"T\",\"T\",\"T\",\"T\",\"T\",\"T\",\"T\",\"T\",\"grid\",\"grid\",\"grid\",\"grid\",\"grid\",\"grid\",\"grid\",\"grid\",\"grid\",\"grid\",\"grid\",\"grid\",\"grid\",\"grid\",\"grid\",\"grid\",\"grid\",\"grid\",\"grid\",\"grid\",\"grid\",\"grid\",\"grid\",\"grid\",\"grid\",\"grid\",\"grid\",\"grid\",\"grid\",\"grid\",\"grid\",\"grid\",\"grid\",\"grid\",\"grid\",\"grid\",\"grid\",\"grid\",\"grid\",\"grid\",\"grid\",\"grid\",\"grid\",\"grid\",\"grid\",\"grid\",\"grid\",\"grid\",\"grid\",\"grid\",\"grid\",\"grid\",\"grid\",\"grid\",\"grid\",\"grid\",\"grid\",\"grid\",\"grid\",\"grid\",\"grid\",\"grid\",\"grid\",\"grid\",\"grid\",\"grid\",\"grid\",\"grid\",\"grid\",\"grid\",\"grid\",\"grid\",\"grid\",\"grid\",\"grid\",\"grid\",\"grid\",\"grid\",\"grid\",\"grid\",\"grid\",\"grid\",\"grid\",\"grid\",\"grid\",\"grid\",\"grid\",\"grid\",\"grid\",\"grid\",\"grid\",\"grid\",\"grid\",\"grid\",\"grid\",\"grid\",\"grid\",\"grid\",\"grid\",\"grid\",\"grid\",\"grid\",\"grid\",\"grid\",\"grid\",\"grid\",\"grid\",\"grid\",\"grid\",\"grid\",\"grid\",\"grid\",\"grid\",\"grid\",\"grid\",\"grid\",\"grid\",\"grid\",\"grid\",\"grid\",\"grid\",\"grid\",\"grid\",\"grid\",\"grid\",\"grid\",\"grid\",\"grid\",\"grid\",\"grid\",\"grid\",\"grid\",\"grid\",\"grid\",\"grid\",\"grid\",\"grid\",\"grid\",\"grid\",\"grid\",\"grid\",\"grid\",\"grid\",\"grid\",\"grid\",\"grid\",\"grid\",\"grid\",\"grid\",\"grid\",\"grid\",\"grid\",\"grid\",\"grid\",\"grid\",\"grid\",\"grid\",\"grid\",\"grid\",\"grid\",\"grid\",\"grid\",\"grid\",\"grid\",\"grid\",\"grid\",\"grid\",\"grid\",\"grid\",\"grid\",\"grid\",\"grid\",\"grid\",\"grid\",\"grid\",\"grid\",\"grid\",\"grid\",\"grid\",\"grid\",\"grid\",\"grid\",\"grid\",\"grid\",\"grid\",\"grid\",\"grid\",\"grid\",\"grid\",\"grid\",\"grid\",\"grid\",\"grid\",\"grid\",\"grid\",\"grid\",\"grid\",\"grid\",\"grid\",\"grid\",\"grid\",\"grid\",\"grid\",\"grid\",\"grid\",\"grid\",\"grid\",\"grid\",\"grid\",\"grid\",\"grid\",\"grid\",\"grid\",\"grid\",\"grid\",\"grid\",\"grid\",\"grid\",\"grid\",\"grid\",\"grid\",\"grid\",\"grid\",\"grid\",\"grid\",\"grid\",\"grid\",\"grid\",\"grid\",\"grid\",\"grid\",\"grid\",\"grid\",\"grid\",\"grid\",\"grid\",\"grid\",\"grid\",\"grid\",\"grid\",\"one\",\"one\",\"one\",\"one\",\"one\",\"one\",\"one\",\"one\",\"one\",\"one\",\"one\",\"one\",\"one\",\"one\",\"one\",\"one\",\"one\",\"one\",\"one\",\"one\",\"one\",\"one\",\"one\",\"one\",\"one\",\"one\",\"one\",\"one\",\"one\",\"one\",\"one\",\"one\",\"one\",\"one\",\"one\",\"one\",\"one\",\"one\",\"one\",\"one\",\"one\",\"one\",\"one\",\"one\",\"one\",\"one\",\"one\",\"one\",\"one\",\"one\",\"one\",\"one\",\"one\",\"one\",\"one\",\"one\",\"one\",\"one\",\"one\",\"one\",\"one\",\"one\",\"one\",\"one\",\"one\",\"one\",\"one\",\"one\",\"one\",\"one\",\"one\",\"one\",\"one\",\"one\",\"one\",\"one\",\"one\",\"one\",\"one\",\"one\",\"one\",\"one\",\"one\",\"one\",\"one\",\"one\",\"one\",\"one\",\"one\",\"one\",\"one\",\"one\",\"one\",\"one\",\"one\",\"one\",\"one\",\"one\",\"one\",\"one\",\"one\",\"one\",\"one\",\"one\",\"one\",\"one\",\"one\",\"one\",\"one\",\"one\",\"one\",\"one\",\"one\",\"one\",\"one\",\"one\",\"one\",\"one\",\"one\",\"one\",\"one\",\"one\",\"one\",\"one\",\"one\",\"one\",\"one\",\"one\",\"one\",\"one\",\"one\",\"one\",\"one\",\"one\",\"one\",\"one\",\"one\",\"one\",\"one\",\"one\",\"one\",\"one\",\"one\",\"one\",\"one\",\"one\",\"one\",\"one\",\"one\",\"one\",\"one\",\"one\",\"one\",\"one\",\"one\",\"one\",\"one\",\"one\",\"one\",\"one\",\"one\",\"one\",\"one\",\"one\",\"one\",\"one\",\"one\",\"one\",\"one\",\"one\",\"one\",\"one\",\"one\",\"one\",\"one\",\"one\",\"one\",\"one\",\"one\",\"one\",\"one\",\"one\",\"one\",\"one\",\"one\",\"one\",\"one\",\"one\",\"one\",\"one\",\"one\",\"one\",\"one\",\"one\",\"one\",\"one\",\"one\",\"one\",\"one\",\"one\",\"one\",\"one\",\"one\",\"one\",\"one\",\"one\",\"one\",\"one\",\"one\",\"one\",\"one\",\"one\",\"one\",\"one\",\"one\",\"one\",\"one\",\"one\",\"one\",\"one\",\"one\",\"one\",\"one\",\"one\",\"one\",\"one\",\"one\",\"one\",\"one\",\"one\",\"one\",\"one\",\"one\",\"one\",\"one\",\"one\",\"one\",\"one\",\"one\",\"one\",\"three\",\"three\",\"three\",\"three\",\"three\",\"three\",\"three\",\"three\",\"three\",\"three\",\"three\",\"three\",\"three\",\"three\",\"three\",\"three\",\"three\",\"three\",\"three\",\"three\",\"three\",\"three\",\"three\",\"three\",\"three\",\"three\",\"three\",\"three\",\"three\",\"three\",\"three\",\"three\",\"three\",\"three\",\"three\",\"three\",\"three\",\"three\",\"three\",\"three\",\"three\",\"three\",\"three\",\"three\",\"three\",\"three\",\"three\",\"three\",\"three\",\"three\",\"three\",\"three\",\"three\",\"three\",\"three\",\"three\",\"three\",\"three\",\"three\",\"three\",\"three\",\"three\",\"three\",\"three\",\"three\",\"three\",\"three\",\"three\",\"three\",\"three\",\"three\",\"three\",\"three\",\"three\",\"three\",\"three\",\"three\",\"three\",\"three\",\"three\",\"three\",\"three\",\"three\",\"three\",\"three\",\"three\",\"three\",\"three\",\"three\",\"three\",\"three\",\"three\",\"three\",\"three\",\"three\",\"three\",\"three\",\"three\",\"three\",\"three\",\"three\",\"three\",\"three\",\"three\",\"three\",\"three\",\"three\",\"three\",\"three\",\"three\",\"three\",\"three\",\"three\",\"three\",\"three\",\"three\",\"three\",\"three\",\"three\",\"three\",\"three\",\"three\",\"three\",\"three\",\"three\",\"three\",\"three\",\"three\",\"three\",\"three\",\"three\",\"three\",\"three\",\"three\",\"three\",\"three\",\"three\",\"three\",\"three\",\"three\",\"three\",\"three\",\"three\",\"three\",\"three\",\"three\",\"three\",\"three\",\"three\",\"three\",\"three\",\"three\",\"three\",\"three\",\"three\",\"three\",\"three\",\"three\",\"three\",\"three\",\"three\",\"three\",\"three\",\"three\",\"three\",\"three\",\"three\",\"three\",\"three\",\"three\",\"three\",\"three\",\"three\",\"three\",\"three\",\"three\",\"three\",\"three\",\"three\",\"three\",\"three\",\"three\",\"three\",\"three\",\"three\",\"three\",\"three\",\"three\",\"three\",\"three\",\"three\",\"three\",\"three\",\"three\",\"three\",\"three\",\"three\",\"three\",\"three\",\"three\",\"three\",\"three\",\"three\",\"three\",\"three\",\"three\",\"three\",\"three\",\"three\",\"three\",\"three\",\"three\",\"three\",\"three\",\"three\",\"three\",\"three\",\"three\",\"three\",\"three\",\"three\",\"three\",\"three\",\"three\",\"three\",\"three\",\"three\",\"three\",\"three\",\"three\",\"three\",\"three\",\"three\",\"three\",\"three\",\"three\",\"three\",\"three\",\"three\",\"three\",\"two\",\"two\",\"two\",\"two\",\"two\",\"two\",\"two\",\"two\",\"two\",\"two\",\"two\",\"two\",\"two\",\"two\",\"two\",\"two\",\"two\",\"two\",\"two\",\"two\",\"two\",\"two\",\"two\",\"two\",\"two\",\"two\",\"two\",\"two\",\"two\",\"two\",\"two\",\"two\",\"two\",\"two\",\"two\",\"two\",\"two\",\"two\",\"two\",\"two\",\"two\",\"two\",\"two\",\"two\",\"two\",\"two\",\"two\",\"two\",\"two\",\"two\",\"two\",\"two\",\"two\",\"two\",\"two\",\"two\",\"two\",\"two\",\"two\",\"two\",\"two\",\"two\",\"two\",\"two\",\"two\",\"two\",\"two\",\"two\",\"two\",\"two\",\"two\",\"two\",\"two\",\"two\",\"two\",\"two\",\"two\",\"two\",\"two\",\"two\",\"two\",\"two\",\"two\",\"two\",\"two\",\"two\",\"two\",\"two\",\"two\",\"two\",\"two\",\"two\",\"two\",\"two\",\"two\",\"two\",\"two\",\"two\",\"two\",\"two\",\"two\",\"two\",\"two\",\"two\",\"two\",\"two\",\"two\",\"two\",\"two\",\"two\",\"two\",\"two\",\"two\",\"two\",\"two\",\"two\",\"two\",\"two\",\"two\",\"two\",\"two\",\"two\",\"two\",\"two\",\"two\",\"two\",\"two\",\"two\",\"two\",\"two\",\"two\",\"two\",\"two\",\"two\",\"two\",\"two\",\"two\",\"two\",\"two\",\"two\",\"two\",\"two\",\"two\",\"two\",\"two\",\"two\",\"two\",\"two\",\"two\",\"two\",\"two\",\"two\",\"two\",\"two\",\"two\",\"two\",\"two\",\"two\",\"two\",\"two\",\"two\",\"two\",\"two\",\"two\",\"two\",\"two\",\"two\",\"two\",\"two\",\"two\",\"two\",\"two\",\"two\",\"two\",\"two\",\"two\",\"two\",\"two\",\"two\",\"two\",\"two\",\"two\",\"two\",\"two\",\"two\",\"two\",\"two\",\"two\",\"two\",\"two\",\"two\",\"two\",\"two\",\"two\",\"two\",\"two\",\"two\",\"two\",\"two\",\"two\",\"two\",\"two\",\"two\",\"two\",\"two\",\"two\",\"two\",\"two\",\"two\",\"two\",\"two\",\"two\",\"two\",\"two\",\"two\",\"two\",\"two\",\"two\",\"two\",\"two\",\"two\",\"two\",\"two\",\"two\",\"two\",\"two\",\"two\",\"two\",\"two\",\"two\",\"two\",\"two\",\"two\",\"two\",\"two\",\"two\",\"two\",\"two\",\"two\",\"two\"],\"shape\":[1680],\"dtype\":\"object\",\"order\":\"little\"}],[\"file_name\",{\"type\":\"ndarray\",\"array\":[\"L_0.parquet\",\"L_100.parquet\",\"L_1012.parquet\",\"L_1017.parquet\",\"L_1018.parquet\",\"L_102.parquet\",\"L_1029.parquet\",\"L_1032.parquet\",\"L_1035.parquet\",\"L_1036.parquet\",\"L_1037.parquet\",\"L_1038.parquet\",\"L_1040.parquet\",\"L_1048.parquet\",\"L_105.parquet\",\"L_1050.parquet\",\"L_1051.parquet\",\"L_1064.parquet\",\"L_1076.parquet\",\"L_1084.parquet\",\"L_1100.parquet\",\"L_1113.parquet\",\"L_1114.parquet\",\"L_1115.parquet\",\"L_1119.parquet\",\"L_1125.parquet\",\"L_1126.parquet\",\"L_113.parquet\",\"L_1130.parquet\",\"L_1131.parquet\",\"L_1136.parquet\",\"L_1150.parquet\",\"L_1155.parquet\",\"L_1158.parquet\",\"L_117.parquet\",\"L_119.parquet\",\"L_123.parquet\",\"L_124.parquet\",\"L_126.parquet\",\"L_128.parquet\",\"L_13.parquet\",\"L_130.parquet\",\"L_131.parquet\",\"L_135.parquet\",\"L_138.parquet\",\"L_153.parquet\",\"L_167.parquet\",\"L_180.parquet\",\"L_191.parquet\",\"L_193.parquet\",\"L_200.parquet\",\"L_205.parquet\",\"L_211.parquet\",\"L_218.parquet\",\"L_219.parquet\",\"L_22.parquet\",\"L_220.parquet\",\"L_222.parquet\",\"L_223.parquet\",\"L_224.parquet\",\"L_23.parquet\",\"L_239.parquet\",\"L_240.parquet\",\"L_249.parquet\",\"L_250.parquet\",\"L_252.parquet\",\"L_267.parquet\",\"L_273.parquet\",\"L_277.parquet\",\"L_281.parquet\",\"L_283.parquet\",\"L_285.parquet\",\"L_289.parquet\",\"L_290.parquet\",\"L_3.parquet\",\"L_302.parquet\",\"L_305.parquet\",\"L_308.parquet\",\"L_31.parquet\",\"L_327.parquet\",\"L_33.parquet\",\"L_332.parquet\",\"L_335.parquet\",\"L_339.parquet\",\"L_345.parquet\",\"L_346.parquet\",\"L_350.parquet\",\"L_354.parquet\",\"L_360.parquet\",\"L_368.parquet\",\"L_375.parquet\",\"L_377.parquet\",\"L_378.parquet\",\"L_383.parquet\",\"L_385.parquet\",\"L_394.parquet\",\"L_400.parquet\",\"L_402.parquet\",\"L_404.parquet\",\"L_42.parquet\",\"L_424.parquet\",\"L_429.parquet\",\"L_432.parquet\",\"L_436.parquet\",\"L_438.parquet\",\"L_443.parquet\",\"L_463.parquet\",\"L_469.parquet\",\"L_477.parquet\",\"L_478.parquet\",\"L_488.parquet\",\"L_490.parquet\",\"L_501.parquet\",\"L_503.parquet\",\"L_51.parquet\",\"L_513.parquet\",\"L_522.parquet\",\"L_523.parquet\",\"L_524.parquet\",\"L_527.parquet\",\"L_531.parquet\",\"L_532.parquet\",\"L_542.parquet\",\"L_548.parquet\",\"L_557.parquet\",\"L_565.parquet\",\"L_573.parquet\",\"L_576.parquet\",\"L_579.parquet\",\"L_580.parquet\",\"L_584.parquet\",\"L_585.parquet\",\"L_589.parquet\",\"L_590.parquet\",\"L_594.parquet\",\"L_595.parquet\",\"L_598.parquet\",\"L_6.parquet\",\"L_600.parquet\",\"L_603.parquet\",\"L_607.parquet\",\"L_615.parquet\",\"L_617.parquet\",\"L_619.parquet\",\"L_620.parquet\",\"L_623.parquet\",\"L_627.parquet\",\"L_64.parquet\",\"L_643.parquet\",\"L_649.parquet\",\"L_653.parquet\",\"L_658.parquet\",\"L_662.parquet\",\"L_666.parquet\",\"L_672.parquet\",\"L_680.parquet\",\"L_686.parquet\",\"L_690.parquet\",\"L_695.parquet\",\"L_696.parquet\",\"L_699.parquet\",\"L_701.parquet\",\"L_702.parquet\",\"L_704.parquet\",\"L_705.parquet\",\"L_707.parquet\",\"L_714.parquet\",\"L_718.parquet\",\"L_719.parquet\",\"L_72.parquet\",\"L_722.parquet\",\"L_726.parquet\",\"L_728.parquet\",\"L_730.parquet\",\"L_734.parquet\",\"L_735.parquet\",\"L_741.parquet\",\"L_75.parquet\",\"L_753.parquet\",\"L_76.parquet\",\"L_761.parquet\",\"L_775.parquet\",\"L_777.parquet\",\"L_784.parquet\",\"L_785.parquet\",\"L_79.parquet\",\"L_790.parquet\",\"L_791.parquet\",\"L_793.parquet\",\"L_799.parquet\",\"L_8.parquet\",\"L_802.parquet\",\"L_806.parquet\",\"L_81.parquet\",\"L_810.parquet\",\"L_816.parquet\",\"L_818.parquet\",\"L_825.parquet\",\"L_826.parquet\",\"L_827.parquet\",\"L_828.parquet\",\"L_832.parquet\",\"L_834.parquet\",\"L_835.parquet\",\"L_840.parquet\",\"L_841.parquet\",\"L_844.parquet\",\"L_847.parquet\",\"L_862.parquet\",\"L_863.parquet\",\"L_865.parquet\",\"L_866.parquet\",\"L_867.parquet\",\"L_868.parquet\",\"L_870.parquet\",\"L_871.parquet\",\"L_877.parquet\",\"L_894.parquet\",\"L_899.parquet\",\"L_902.parquet\",\"L_914.parquet\",\"L_922.parquet\",\"L_927.parquet\",\"L_929.parquet\",\"L_930.parquet\",\"L_931.parquet\",\"L_945.parquet\",\"L_95.parquet\",\"L_957.parquet\",\"L_962.parquet\",\"L_965.parquet\",\"L_967.parquet\",\"L_968.parquet\",\"L_972.parquet\",\"L_974.parquet\",\"L_978.parquet\",\"L_982.parquet\",\"L_983.parquet\",\"L_985.parquet\",\"L_989.parquet\",\"O_100.parquet\",\"O_101.parquet\",\"O_103.parquet\",\"O_107.parquet\",\"O_109.parquet\",\"O_11.parquet\",\"O_115.parquet\",\"O_117.parquet\",\"O_119.parquet\",\"O_12.parquet\",\"O_124.parquet\",\"O_125.parquet\",\"O_126.parquet\",\"O_127.parquet\",\"O_13.parquet\",\"O_130.parquet\",\"O_132.parquet\",\"O_133.parquet\",\"O_134.parquet\",\"O_136.parquet\",\"O_137.parquet\",\"O_138.parquet\",\"O_140.parquet\",\"O_141.parquet\",\"O_143.parquet\",\"O_145.parquet\",\"O_151.parquet\",\"O_153.parquet\",\"O_162.parquet\",\"O_164.parquet\",\"O_165.parquet\",\"O_166.parquet\",\"O_169.parquet\",\"O_173.parquet\",\"O_177.parquet\",\"O_179.parquet\",\"O_18.parquet\",\"O_182.parquet\",\"O_183.parquet\",\"O_187.parquet\",\"O_188.parquet\",\"O_190.parquet\",\"O_193.parquet\",\"O_195.parquet\",\"O_197.parquet\",\"O_199.parquet\",\"O_207.parquet\",\"O_209.parquet\",\"O_21.parquet\",\"O_215.parquet\",\"O_216.parquet\",\"O_217.parquet\",\"O_226.parquet\",\"O_229.parquet\",\"O_230.parquet\",\"O_231.parquet\",\"O_232.parquet\",\"O_234.parquet\",\"O_236.parquet\",\"O_239.parquet\",\"O_240.parquet\",\"O_242.parquet\",\"O_244.parquet\",\"O_245.parquet\",\"O_246.parquet\",\"O_251.parquet\",\"O_259.parquet\",\"O_260.parquet\",\"O_261.parquet\",\"O_263.parquet\",\"O_264.parquet\",\"O_267.parquet\",\"O_269.parquet\",\"O_272.parquet\",\"O_273.parquet\",\"O_274.parquet\",\"O_276.parquet\",\"O_277.parquet\",\"O_279.parquet\",\"O_282.parquet\",\"O_284.parquet\",\"O_287.parquet\",\"O_29.parquet\",\"O_292.parquet\",\"O_293.parquet\",\"O_295.parquet\",\"O_299.parquet\",\"O_30.parquet\",\"O_301.parquet\",\"O_302.parquet\",\"O_303.parquet\",\"O_304.parquet\",\"O_305.parquet\",\"O_31.parquet\",\"O_310.parquet\",\"O_315.parquet\",\"O_319.parquet\",\"O_320.parquet\",\"O_323.parquet\",\"O_324.parquet\",\"O_325.parquet\",\"O_326.parquet\",\"O_327.parquet\",\"O_328.parquet\",\"O_335.parquet\",\"O_337.parquet\",\"O_338.parquet\",\"O_34.parquet\",\"O_341.parquet\",\"O_342.parquet\",\"O_343.parquet\",\"O_344.parquet\",\"O_346.parquet\",\"O_347.parquet\",\"O_35.parquet\",\"O_350.parquet\",\"O_351.parquet\",\"O_352.parquet\",\"O_355.parquet\",\"O_357.parquet\",\"O_358.parquet\",\"O_359.parquet\",\"O_360.parquet\",\"O_361.parquet\",\"O_362.parquet\",\"O_363.parquet\",\"O_364.parquet\",\"O_366.parquet\",\"O_367.parquet\",\"O_368.parquet\",\"O_369.parquet\",\"O_370.parquet\",\"O_373.parquet\",\"O_374.parquet\",\"O_375.parquet\",\"O_376.parquet\",\"O_377.parquet\",\"O_378.parquet\",\"O_381.parquet\",\"O_382.parquet\",\"O_383.parquet\",\"O_384.parquet\",\"O_385.parquet\",\"O_387.parquet\",\"O_388.parquet\",\"O_389.parquet\",\"O_393.parquet\",\"O_394.parquet\",\"O_396.parquet\",\"O_398.parquet\",\"O_399.parquet\",\"O_40.parquet\",\"O_403.parquet\",\"O_406.parquet\",\"O_407.parquet\",\"O_408.parquet\",\"O_409.parquet\",\"O_410.parquet\",\"O_414.parquet\",\"O_415.parquet\",\"O_417.parquet\",\"O_419.parquet\",\"O_420.parquet\",\"O_421.parquet\",\"O_424.parquet\",\"O_426.parquet\",\"O_427.parquet\",\"O_43.parquet\",\"O_430.parquet\",\"O_432.parquet\",\"O_433.parquet\",\"O_441.parquet\",\"O_447.parquet\",\"O_456.parquet\",\"O_461.parquet\",\"O_463.parquet\",\"O_464.parquet\",\"O_469.parquet\",\"O_470.parquet\",\"O_48.parquet\",\"O_481.parquet\",\"O_486.parquet\",\"O_491.parquet\",\"O_493.parquet\",\"O_498.parquet\",\"O_499.parquet\",\"O_50.parquet\",\"O_503.parquet\",\"O_505.parquet\",\"O_506.parquet\",\"O_508.parquet\",\"O_511.parquet\",\"O_513.parquet\",\"O_514.parquet\",\"O_515.parquet\",\"O_517.parquet\",\"O_528.parquet\",\"O_532.parquet\",\"O_533.parquet\",\"O_534.parquet\",\"O_535.parquet\",\"O_536.parquet\",\"O_538.parquet\",\"O_539.parquet\",\"O_540.parquet\",\"O_542.parquet\",\"O_543.parquet\",\"O_544.parquet\",\"O_545.parquet\",\"O_546.parquet\",\"O_548.parquet\",\"O_549.parquet\",\"O_55.parquet\",\"O_550.parquet\",\"O_558.parquet\",\"O_559.parquet\",\"O_56.parquet\",\"O_57.parquet\",\"O_6.parquet\",\"O_65.parquet\",\"O_68.parquet\",\"O_69.parquet\",\"O_71.parquet\",\"O_72.parquet\",\"O_73.parquet\",\"O_74.parquet\",\"O_77.parquet\",\"O_78.parquet\",\"O_8.parquet\",\"O_81.parquet\",\"O_83.parquet\",\"O_86.parquet\",\"O_87.parquet\",\"O_88.parquet\",\"O_89.parquet\",\"O_90.parquet\",\"O_95.parquet\",\"O_96.parquet\",\"O_97.parquet\",\"O_98.parquet\",\"T_10.parquet\",\"T_103.parquet\",\"T_105.parquet\",\"T_106.parquet\",\"T_107.parquet\",\"T_114.parquet\",\"T_116.parquet\",\"T_120.parquet\",\"T_129.parquet\",\"T_131.parquet\",\"T_133.parquet\",\"T_138.parquet\",\"T_140.parquet\",\"T_148.parquet\",\"T_15.parquet\",\"T_152.parquet\",\"T_158.parquet\",\"T_161.parquet\",\"T_166.parquet\",\"T_176.parquet\",\"T_178.parquet\",\"T_179.parquet\",\"T_180.parquet\",\"T_181.parquet\",\"T_184.parquet\",\"T_189.parquet\",\"T_19.parquet\",\"T_191.parquet\",\"T_192.parquet\",\"T_193.parquet\",\"T_195.parquet\",\"T_197.parquet\",\"T_199.parquet\",\"T_20.parquet\",\"T_201.parquet\",\"T_202.parquet\",\"T_205.parquet\",\"T_209.parquet\",\"T_215.parquet\",\"T_220.parquet\",\"T_221.parquet\",\"T_224.parquet\",\"T_227.parquet\",\"T_228.parquet\",\"T_233.parquet\",\"T_234.parquet\",\"T_24.parquet\",\"T_240.parquet\",\"T_241.parquet\",\"T_248.parquet\",\"T_249.parquet\",\"T_251.parquet\",\"T_259.parquet\",\"T_260.parquet\",\"T_268.parquet\",\"T_275.parquet\",\"T_276.parquet\",\"T_283.parquet\",\"T_287.parquet\",\"T_288.parquet\",\"T_295.parquet\",\"T_299.parquet\",\"T_303.parquet\",\"T_316.parquet\",\"T_320.parquet\",\"T_322.parquet\",\"T_328.parquet\",\"T_33.parquet\",\"T_338.parquet\",\"T_340.parquet\",\"T_347.parquet\",\"T_349.parquet\",\"T_35.parquet\",\"T_361.parquet\",\"T_362.parquet\",\"T_364.parquet\",\"T_366.parquet\",\"T_367.parquet\",\"T_374.parquet\",\"T_378.parquet\",\"T_384.parquet\",\"T_388.parquet\",\"T_394.parquet\",\"T_396.parquet\",\"T_400.parquet\",\"T_403.parquet\",\"T_406.parquet\",\"T_41.parquet\",\"T_411.parquet\",\"T_419.parquet\",\"T_43.parquet\",\"T_432.parquet\",\"T_433.parquet\",\"T_436.parquet\",\"T_440.parquet\",\"T_447.parquet\",\"T_448.parquet\",\"T_451.parquet\",\"T_467.parquet\",\"T_47.parquet\",\"T_478.parquet\",\"T_479.parquet\",\"T_480.parquet\",\"T_485.parquet\",\"T_498.parquet\",\"T_50.parquet\",\"T_505.parquet\",\"T_508.parquet\",\"T_509.parquet\",\"T_512.parquet\",\"T_516.parquet\",\"T_518.parquet\",\"T_521.parquet\",\"T_529.parquet\",\"T_531.parquet\",\"T_532.parquet\",\"T_533.parquet\",\"T_534.parquet\",\"T_535.parquet\",\"T_537.parquet\",\"T_541.parquet\",\"T_545.parquet\",\"T_547.parquet\",\"T_55.parquet\",\"T_550.parquet\",\"T_552.parquet\",\"T_559.parquet\",\"T_560.parquet\",\"T_561.parquet\",\"T_57.parquet\",\"T_570.parquet\",\"T_571.parquet\",\"T_572.parquet\",\"T_581.parquet\",\"T_588.parquet\",\"T_590.parquet\",\"T_596.parquet\",\"T_599.parquet\",\"T_610.parquet\",\"T_611.parquet\",\"T_62.parquet\",\"T_625.parquet\",\"T_63.parquet\",\"T_634.parquet\",\"T_636.parquet\",\"T_637.parquet\",\"T_638.parquet\",\"T_64.parquet\",\"T_640.parquet\",\"T_646.parquet\",\"T_65.parquet\",\"T_650.parquet\",\"T_651.parquet\",\"T_653.parquet\",\"T_658.parquet\",\"T_66.parquet\",\"T_660.parquet\",\"T_666.parquet\",\"T_668.parquet\",\"T_670.parquet\",\"T_677.parquet\",\"T_682.parquet\",\"T_684.parquet\",\"T_693.parquet\",\"T_694.parquet\",\"T_695.parquet\",\"T_70.parquet\",\"T_703.parquet\",\"T_706.parquet\",\"T_708.parquet\",\"T_712.parquet\",\"T_715.parquet\",\"T_725.parquet\",\"T_734.parquet\",\"T_736.parquet\",\"T_737.parquet\",\"T_738.parquet\",\"T_744.parquet\",\"T_745.parquet\",\"T_758.parquet\",\"T_759.parquet\",\"T_762.parquet\",\"T_763.parquet\",\"T_769.parquet\",\"T_77.parquet\",\"T_770.parquet\",\"T_775.parquet\",\"T_776.parquet\",\"T_78.parquet\",\"T_785.parquet\",\"T_788.parquet\",\"T_795.parquet\",\"T_804.parquet\",\"T_808.parquet\",\"T_811.parquet\",\"T_812.parquet\",\"T_814.parquet\",\"T_816.parquet\",\"T_821.parquet\",\"T_822.parquet\",\"T_825.parquet\",\"T_827.parquet\",\"T_830.parquet\",\"T_859.parquet\",\"T_863.parquet\",\"T_87.parquet\",\"T_876.parquet\",\"T_879.parquet\",\"T_888.parquet\",\"T_891.parquet\",\"T_893.parquet\",\"T_894.parquet\",\"T_895.parquet\",\"T_897.parquet\",\"T_9.parquet\",\"T_90.parquet\",\"T_902.parquet\",\"T_905.parquet\",\"T_907.parquet\",\"T_909.parquet\",\"T_91.parquet\",\"T_910.parquet\",\"T_911.parquet\",\"T_912.parquet\",\"T_921.parquet\",\"T_924.parquet\",\"T_933.parquet\",\"T_939.parquet\",\"T_945.parquet\",\"T_947.parquet\",\"T_952.parquet\",\"T_953.parquet\",\"T_959.parquet\",\"T_962.parquet\",\"T_964.parquet\",\"T_97.parquet\",\"T_980.parquet\",\"T_981.parquet\",\"T_982.parquet\",\"T_984.parquet\",\"grid_1002.parquet\",\"grid_1036.parquet\",\"grid_1061.parquet\",\"grid_1069.parquet\",\"grid_1101.parquet\",\"grid_1173.parquet\",\"grid_1203.parquet\",\"grid_1208.parquet\",\"grid_1264.parquet\",\"grid_1292.parquet\",\"grid_1315.parquet\",\"grid_1330.parquet\",\"grid_1339.parquet\",\"grid_1386.parquet\",\"grid_1414.parquet\",\"grid_1452.parquet\",\"grid_1480.parquet\",\"grid_1531.parquet\",\"grid_1532.parquet\",\"grid_1537.parquet\",\"grid_1539.parquet\",\"grid_1543.parquet\",\"grid_1552.parquet\",\"grid_1587.parquet\",\"grid_16.parquet\",\"grid_1625.parquet\",\"grid_1626.parquet\",\"grid_173.parquet\",\"grid_1772.parquet\",\"grid_1776.parquet\",\"grid_1789.parquet\",\"grid_1791.parquet\",\"grid_1860.parquet\",\"grid_1875.parquet\",\"grid_1896.parquet\",\"grid_1994.parquet\",\"grid_2015.parquet\",\"grid_2021.parquet\",\"grid_2056.parquet\",\"grid_2061.parquet\",\"grid_2064.parquet\",\"grid_2109.parquet\",\"grid_2229.parquet\",\"grid_2235.parquet\",\"grid_2259.parquet\",\"grid_2265.parquet\",\"grid_2285.parquet\",\"grid_2304.parquet\",\"grid_2305.parquet\",\"grid_2339.parquet\",\"grid_236.parquet\",\"grid_2386.parquet\",\"grid_2415.parquet\",\"grid_2445.parquet\",\"grid_2464.parquet\",\"grid_2476.parquet\",\"grid_2524.parquet\",\"grid_2525.parquet\",\"grid_2565.parquet\",\"grid_2595.parquet\",\"grid_2611.parquet\",\"grid_2612.parquet\",\"grid_2624.parquet\",\"grid_2628.parquet\",\"grid_2686.parquet\",\"grid_2692.parquet\",\"grid_2696.parquet\",\"grid_2717.parquet\",\"grid_2729.parquet\",\"grid_2735.parquet\",\"grid_2740.parquet\",\"grid_276.parquet\",\"grid_2762.parquet\",\"grid_2827.parquet\",\"grid_2841.parquet\",\"grid_2876.parquet\",\"grid_2899.parquet\",\"grid_296.parquet\",\"grid_3018.parquet\",\"grid_3023.parquet\",\"grid_3045.parquet\",\"grid_3082.parquet\",\"grid_310.parquet\",\"grid_3109.parquet\",\"grid_3115.parquet\",\"grid_3141.parquet\",\"grid_3275.parquet\",\"grid_3305.parquet\",\"grid_3325.parquet\",\"grid_3343.parquet\",\"grid_3360.parquet\",\"grid_3362.parquet\",\"grid_3422.parquet\",\"grid_3437.parquet\",\"grid_3442.parquet\",\"grid_3522.parquet\",\"grid_3527.parquet\",\"grid_3532.parquet\",\"grid_3559.parquet\",\"grid_3582.parquet\",\"grid_3602.parquet\",\"grid_3612.parquet\",\"grid_3676.parquet\",\"grid_369.parquet\",\"grid_3696.parquet\",\"grid_3701.parquet\",\"grid_3740.parquet\",\"grid_3745.parquet\",\"grid_3757.parquet\",\"grid_3853.parquet\",\"grid_389.parquet\",\"grid_39.parquet\",\"grid_3906.parquet\",\"grid_3907.parquet\",\"grid_3912.parquet\",\"grid_3924.parquet\",\"grid_4030.parquet\",\"grid_4034.parquet\",\"grid_4063.parquet\",\"grid_4078.parquet\",\"grid_4149.parquet\",\"grid_4157.parquet\",\"grid_4163.parquet\",\"grid_4173.parquet\",\"grid_4174.parquet\",\"grid_4223.parquet\",\"grid_4297.parquet\",\"grid_4345.parquet\",\"grid_4347.parquet\",\"grid_4437.parquet\",\"grid_4472.parquet\",\"grid_4513.parquet\",\"grid_458.parquet\",\"grid_4580.parquet\",\"grid_4589.parquet\",\"grid_4611.parquet\",\"grid_4623.parquet\",\"grid_4669.parquet\",\"grid_4677.parquet\",\"grid_4694.parquet\",\"grid_4717.parquet\",\"grid_4728.parquet\",\"grid_4759.parquet\",\"grid_4848.parquet\",\"grid_4875.parquet\",\"grid_4909.parquet\",\"grid_4910.parquet\",\"grid_4940.parquet\",\"grid_4944.parquet\",\"grid_5005.parquet\",\"grid_5014.parquet\",\"grid_5032.parquet\",\"grid_5051.parquet\",\"grid_5064.parquet\",\"grid_507.parquet\",\"grid_5102.parquet\",\"grid_5127.parquet\",\"grid_5184.parquet\",\"grid_5187.parquet\",\"grid_5195.parquet\",\"grid_5228.parquet\",\"grid_5250.parquet\",\"grid_5264.parquet\",\"grid_5273.parquet\",\"grid_5286.parquet\",\"grid_5342.parquet\",\"grid_5347.parquet\",\"grid_5371.parquet\",\"grid_5391.parquet\",\"grid_544.parquet\",\"grid_5479.parquet\",\"grid_5487.parquet\",\"grid_5539.parquet\",\"grid_5601.parquet\",\"grid_5621.parquet\",\"grid_5635.parquet\",\"grid_5639.parquet\",\"grid_5670.parquet\",\"grid_5772.parquet\",\"grid_5831.parquet\",\"grid_5918.parquet\",\"grid_5924.parquet\",\"grid_5957.parquet\",\"grid_5976.parquet\",\"grid_6002.parquet\",\"grid_602.parquet\",\"grid_6054.parquet\",\"grid_6092.parquet\",\"grid_611.parquet\",\"grid_6145.parquet\",\"grid_6165.parquet\",\"grid_6311.parquet\",\"grid_6350.parquet\",\"grid_6504.parquet\",\"grid_655.parquet\",\"grid_6601.parquet\",\"grid_6639.parquet\",\"grid_6659.parquet\",\"grid_6770.parquet\",\"grid_6819.parquet\",\"grid_6872.parquet\",\"grid_6873.parquet\",\"grid_6900.parquet\",\"grid_7.parquet\",\"grid_7020.parquet\",\"grid_7052.parquet\",\"grid_7088.parquet\",\"grid_7154.parquet\",\"grid_7168.parquet\",\"grid_7188.parquet\",\"grid_7190.parquet\",\"grid_7229.parquet\",\"grid_7273.parquet\",\"grid_7290.parquet\",\"grid_7301.parquet\",\"grid_7314.parquet\",\"grid_7324.parquet\",\"grid_7335.parquet\",\"grid_7382.parquet\",\"grid_7387.parquet\",\"grid_7391.parquet\",\"grid_7412.parquet\",\"grid_7496.parquet\",\"grid_7503.parquet\",\"grid_7536.parquet\",\"grid_7590.parquet\",\"grid_762.parquet\",\"grid_7667.parquet\",\"grid_7679.parquet\",\"grid_7687.parquet\",\"grid_772.parquet\",\"grid_78.parquet\",\"grid_807.parquet\",\"grid_850.parquet\",\"grid_856.parquet\",\"grid_877.parquet\",\"grid_955.parquet\",\"grid_973.parquet\",\"grid_989.parquet\",\"grid_992.parquet\",\"one_100.parquet\",\"one_101.parquet\",\"one_1048.parquet\",\"one_1059.parquet\",\"one_1066.parquet\",\"one_1089.parquet\",\"one_1104.parquet\",\"one_1119.parquet\",\"one_1129.parquet\",\"one_1134.parquet\",\"one_1151.parquet\",\"one_1163.parquet\",\"one_12.parquet\",\"one_1209.parquet\",\"one_1215.parquet\",\"one_1241.parquet\",\"one_1297.parquet\",\"one_1311.parquet\",\"one_1335.parquet\",\"one_1338.parquet\",\"one_1358.parquet\",\"one_1360.parquet\",\"one_1364.parquet\",\"one_138.parquet\",\"one_1426.parquet\",\"one_1450.parquet\",\"one_1475.parquet\",\"one_15.parquet\",\"one_1508.parquet\",\"one_1509.parquet\",\"one_1521.parquet\",\"one_1523.parquet\",\"one_1530.parquet\",\"one_1533.parquet\",\"one_156.parquet\",\"one_1562.parquet\",\"one_1575.parquet\",\"one_1587.parquet\",\"one_159.parquet\",\"one_1596.parquet\",\"one_1599.parquet\",\"one_161.parquet\",\"one_1619.parquet\",\"one_1622.parquet\",\"one_1625.parquet\",\"one_1629.parquet\",\"one_1634.parquet\",\"one_1642.parquet\",\"one_1651.parquet\",\"one_1718.parquet\",\"one_1722.parquet\",\"one_1725.parquet\",\"one_1751.parquet\",\"one_1765.parquet\",\"one_1773.parquet\",\"one_1780.parquet\",\"one_1782.parquet\",\"one_1828.parquet\",\"one_1833.parquet\",\"one_184.parquet\",\"one_1855.parquet\",\"one_1881.parquet\",\"one_1888.parquet\",\"one_1902.parquet\",\"one_1910.parquet\",\"one_1949.parquet\",\"one_1974.parquet\",\"one_2054.parquet\",\"one_2061.parquet\",\"one_2084.parquet\",\"one_2130.parquet\",\"one_2163.parquet\",\"one_2177.parquet\",\"one_2203.parquet\",\"one_2209.parquet\",\"one_2225.parquet\",\"one_2233.parquet\",\"one_2296.parquet\",\"one_2304.parquet\",\"one_2312.parquet\",\"one_2320.parquet\",\"one_2341.parquet\",\"one_2372.parquet\",\"one_2380.parquet\",\"one_2389.parquet\",\"one_2390.parquet\",\"one_242.parquet\",\"one_2426.parquet\",\"one_2452.parquet\",\"one_2455.parquet\",\"one_2471.parquet\",\"one_2480.parquet\",\"one_249.parquet\",\"one_2490.parquet\",\"one_25.parquet\",\"one_2508.parquet\",\"one_2521.parquet\",\"one_253.parquet\",\"one_2552.parquet\",\"one_2556.parquet\",\"one_2570.parquet\",\"one_2574.parquet\",\"one_2577.parquet\",\"one_2578.parquet\",\"one_2585.parquet\",\"one_2590.parquet\",\"one_2592.parquet\",\"one_2642.parquet\",\"one_2659.parquet\",\"one_2662.parquet\",\"one_2672.parquet\",\"one_2697.parquet\",\"one_2700.parquet\",\"one_2751.parquet\",\"one_2753.parquet\",\"one_2757.parquet\",\"one_2773.parquet\",\"one_278.parquet\",\"one_2809.parquet\",\"one_281.parquet\",\"one_2844.parquet\",\"one_2859.parquet\",\"one_2870.parquet\",\"one_2875.parquet\",\"one_2878.parquet\",\"one_2904.parquet\",\"one_2916.parquet\",\"one_2924.parquet\",\"one_293.parquet\",\"one_2940.parquet\",\"one_2969.parquet\",\"one_2983.parquet\",\"one_2984.parquet\",\"one_2985.parquet\",\"one_2987.parquet\",\"one_3016.parquet\",\"one_302.parquet\",\"one_3032.parquet\",\"one_3083.parquet\",\"one_31.parquet\",\"one_311.parquet\",\"one_3125.parquet\",\"one_3145.parquet\",\"one_3146.parquet\",\"one_3148.parquet\",\"one_3166.parquet\",\"one_317.parquet\",\"one_3170.parquet\",\"one_3171.parquet\",\"one_3204.parquet\",\"one_321.parquet\",\"one_3221.parquet\",\"one_3231.parquet\",\"one_3245.parquet\",\"one_3260.parquet\",\"one_328.parquet\",\"one_3284.parquet\",\"one_329.parquet\",\"one_3322.parquet\",\"one_3330.parquet\",\"one_3370.parquet\",\"one_3397.parquet\",\"one_3406.parquet\",\"one_3454.parquet\",\"one_3459.parquet\",\"one_3464.parquet\",\"one_3480.parquet\",\"one_351.parquet\",\"one_3512.parquet\",\"one_3530.parquet\",\"one_3538.parquet\",\"one_3555.parquet\",\"one_3558.parquet\",\"one_3559.parquet\",\"one_3560.parquet\",\"one_3566.parquet\",\"one_3568.parquet\",\"one_3611.parquet\",\"one_3635.parquet\",\"one_3653.parquet\",\"one_3670.parquet\",\"one_3685.parquet\",\"one_3698.parquet\",\"one_37.parquet\",\"one_3765.parquet\",\"one_377.parquet\",\"one_3772.parquet\",\"one_3804.parquet\",\"one_3820.parquet\",\"one_3846.parquet\",\"one_3849.parquet\",\"one_3856.parquet\",\"one_3861.parquet\",\"one_3881.parquet\",\"one_3889.parquet\",\"one_3909.parquet\",\"one_3943.parquet\",\"one_3984.parquet\",\"one_4.parquet\",\"one_4010.parquet\",\"one_4017.parquet\",\"one_4053.parquet\",\"one_4072.parquet\",\"one_4105.parquet\",\"one_4129.parquet\",\"one_415.parquet\",\"one_429.parquet\",\"one_474.parquet\",\"one_488.parquet\",\"one_535.parquet\",\"one_571.parquet\",\"one_666.parquet\",\"one_679.parquet\",\"one_680.parquet\",\"one_683.parquet\",\"one_686.parquet\",\"one_698.parquet\",\"one_699.parquet\",\"one_703.parquet\",\"one_706.parquet\",\"one_72.parquet\",\"one_736.parquet\",\"one_739.parquet\",\"one_748.parquet\",\"one_75.parquet\",\"one_76.parquet\",\"one_760.parquet\",\"one_763.parquet\",\"one_797.parquet\",\"one_808.parquet\",\"one_844.parquet\",\"one_87.parquet\",\"one_878.parquet\",\"one_889.parquet\",\"one_899.parquet\",\"one_928.parquet\",\"one_931.parquet\",\"one_935.parquet\",\"one_958.parquet\",\"one_988.parquet\",\"three_1026.parquet\",\"three_1030.parquet\",\"three_1037.parquet\",\"three_1081.parquet\",\"three_1083.parquet\",\"three_1092.parquet\",\"three_1094.parquet\",\"three_1129.parquet\",\"three_1139.parquet\",\"three_1159.parquet\",\"three_1163.parquet\",\"three_1177.parquet\",\"three_1187.parquet\",\"three_1192.parquet\",\"three_1203.parquet\",\"three_1205.parquet\",\"three_1213.parquet\",\"three_1218.parquet\",\"three_1219.parquet\",\"three_1221.parquet\",\"three_1226.parquet\",\"three_1230.parquet\",\"three_1233.parquet\",\"three_1238.parquet\",\"three_1239.parquet\",\"three_1251.parquet\",\"three_1269.parquet\",\"three_1274.parquet\",\"three_1275.parquet\",\"three_1277.parquet\",\"three_1284.parquet\",\"three_1285.parquet\",\"three_1298.parquet\",\"three_1311.parquet\",\"three_1312.parquet\",\"three_1318.parquet\",\"three_1348.parquet\",\"three_1350.parquet\",\"three_1365.parquet\",\"three_1383.parquet\",\"three_1399.parquet\",\"three_1420.parquet\",\"three_1421.parquet\",\"three_1426.parquet\",\"three_1427.parquet\",\"three_1438.parquet\",\"three_144.parquet\",\"three_1443.parquet\",\"three_1450.parquet\",\"three_1456.parquet\",\"three_1466.parquet\",\"three_1481.parquet\",\"three_150.parquet\",\"three_1502.parquet\",\"three_1509.parquet\",\"three_1514.parquet\",\"three_1519.parquet\",\"three_152.parquet\",\"three_1522.parquet\",\"three_1529.parquet\",\"three_1537.parquet\",\"three_1539.parquet\",\"three_1544.parquet\",\"three_1556.parquet\",\"three_1557.parquet\",\"three_1584.parquet\",\"three_160.parquet\",\"three_1601.parquet\",\"three_161.parquet\",\"three_1610.parquet\",\"three_1612.parquet\",\"three_1617.parquet\",\"three_1624.parquet\",\"three_1636.parquet\",\"three_1652.parquet\",\"three_1656.parquet\",\"three_1661.parquet\",\"three_1666.parquet\",\"three_1675.parquet\",\"three_1691.parquet\",\"three_171.parquet\",\"three_1732.parquet\",\"three_1740.parquet\",\"three_175.parquet\",\"three_1773.parquet\",\"three_1805.parquet\",\"three_1810.parquet\",\"three_1847.parquet\",\"three_1848.parquet\",\"three_185.parquet\",\"three_186.parquet\",\"three_1869.parquet\",\"three_1882.parquet\",\"three_1883.parquet\",\"three_1898.parquet\",\"three_19.parquet\",\"three_1903.parquet\",\"three_1911.parquet\",\"three_1916.parquet\",\"three_192.parquet\",\"three_1922.parquet\",\"three_1932.parquet\",\"three_1933.parquet\",\"three_1963.parquet\",\"three_1966.parquet\",\"three_1969.parquet\",\"three_1970.parquet\",\"three_1972.parquet\",\"three_1973.parquet\",\"three_1977.parquet\",\"three_1994.parquet\",\"three_1996.parquet\",\"three_20.parquet\",\"three_2019.parquet\",\"three_2037.parquet\",\"three_2060.parquet\",\"three_2072.parquet\",\"three_2090.parquet\",\"three_2110.parquet\",\"three_2111.parquet\",\"three_2112.parquet\",\"three_2116.parquet\",\"three_2118.parquet\",\"three_2134.parquet\",\"three_2140.parquet\",\"three_2147.parquet\",\"three_2148.parquet\",\"three_2160.parquet\",\"three_2161.parquet\",\"three_2181.parquet\",\"three_2184.parquet\",\"three_2187.parquet\",\"three_2195.parquet\",\"three_2221.parquet\",\"three_2228.parquet\",\"three_2244.parquet\",\"three_2248.parquet\",\"three_2260.parquet\",\"three_2291.parquet\",\"three_2295.parquet\",\"three_2307.parquet\",\"three_2321.parquet\",\"three_233.parquet\",\"three_2351.parquet\",\"three_2365.parquet\",\"three_2366.parquet\",\"three_2388.parquet\",\"three_2397.parquet\",\"three_2427.parquet\",\"three_2435.parquet\",\"three_2437.parquet\",\"three_2447.parquet\",\"three_2463.parquet\",\"three_2466.parquet\",\"three_2476.parquet\",\"three_2499.parquet\",\"three_2500.parquet\",\"three_2506.parquet\",\"three_2529.parquet\",\"three_2535.parquet\",\"three_2536.parquet\",\"three_266.parquet\",\"three_279.parquet\",\"three_288.parquet\",\"three_297.parquet\",\"three_30.parquet\",\"three_315.parquet\",\"three_317.parquet\",\"three_343.parquet\",\"three_349.parquet\",\"three_353.parquet\",\"three_384.parquet\",\"three_389.parquet\",\"three_39.parquet\",\"three_4.parquet\",\"three_401.parquet\",\"three_402.parquet\",\"three_403.parquet\",\"three_412.parquet\",\"three_42.parquet\",\"three_421.parquet\",\"three_428.parquet\",\"three_43.parquet\",\"three_447.parquet\",\"three_458.parquet\",\"three_460.parquet\",\"three_485.parquet\",\"three_492.parquet\",\"three_501.parquet\",\"three_504.parquet\",\"three_521.parquet\",\"three_523.parquet\",\"three_570.parquet\",\"three_586.parquet\",\"three_589.parquet\",\"three_59.parquet\",\"three_593.parquet\",\"three_596.parquet\",\"three_597.parquet\",\"three_607.parquet\",\"three_620.parquet\",\"three_628.parquet\",\"three_629.parquet\",\"three_63.parquet\",\"three_657.parquet\",\"three_667.parquet\",\"three_67.parquet\",\"three_682.parquet\",\"three_693.parquet\",\"three_698.parquet\",\"three_711.parquet\",\"three_712.parquet\",\"three_73.parquet\",\"three_746.parquet\",\"three_75.parquet\",\"three_757.parquet\",\"three_763.parquet\",\"three_766.parquet\",\"three_783.parquet\",\"three_800.parquet\",\"three_833.parquet\",\"three_841.parquet\",\"three_847.parquet\",\"three_851.parquet\",\"three_855.parquet\",\"three_862.parquet\",\"three_870.parquet\",\"three_877.parquet\",\"three_879.parquet\",\"three_885.parquet\",\"three_886.parquet\",\"three_902.parquet\",\"three_917.parquet\",\"three_919.parquet\",\"three_923.parquet\",\"three_936.parquet\",\"three_943.parquet\",\"three_965.parquet\",\"three_97.parquet\",\"three_991.parquet\",\"two_10.parquet\",\"two_1033.parquet\",\"two_1052.parquet\",\"two_1064.parquet\",\"two_1073.parquet\",\"two_1092.parquet\",\"two_1095.parquet\",\"two_1109.parquet\",\"two_1122.parquet\",\"two_1124.parquet\",\"two_1134.parquet\",\"two_1150.parquet\",\"two_1165.parquet\",\"two_119.parquet\",\"two_1196.parquet\",\"two_1228.parquet\",\"two_1239.parquet\",\"two_1241.parquet\",\"two_1247.parquet\",\"two_1284.parquet\",\"two_1304.parquet\",\"two_1341.parquet\",\"two_1343.parquet\",\"two_1361.parquet\",\"two_1378.parquet\",\"two_1406.parquet\",\"two_1407.parquet\",\"two_1408.parquet\",\"two_1414.parquet\",\"two_145.parquet\",\"two_1467.parquet\",\"two_1472.parquet\",\"two_1508.parquet\",\"two_1527.parquet\",\"two_1534.parquet\",\"two_1535.parquet\",\"two_1545.parquet\",\"two_1553.parquet\",\"two_1560.parquet\",\"two_1570.parquet\",\"two_1583.parquet\",\"two_168.parquet\",\"two_1738.parquet\",\"two_1754.parquet\",\"two_183.parquet\",\"two_1859.parquet\",\"two_1872.parquet\",\"two_1887.parquet\",\"two_1889.parquet\",\"two_1903.parquet\",\"two_1938.parquet\",\"two_1960.parquet\",\"two_1983.parquet\",\"two_1996.parquet\",\"two_2000.parquet\",\"two_2010.parquet\",\"two_2028.parquet\",\"two_2034.parquet\",\"two_2041.parquet\",\"two_2060.parquet\",\"two_2080.parquet\",\"two_2094.parquet\",\"two_2097.parquet\",\"two_2101.parquet\",\"two_2176.parquet\",\"two_2242.parquet\",\"two_2260.parquet\",\"two_2304.parquet\",\"two_231.parquet\",\"two_2312.parquet\",\"two_2351.parquet\",\"two_2363.parquet\",\"two_2380.parquet\",\"two_2381.parquet\",\"two_2384.parquet\",\"two_2391.parquet\",\"two_2413.parquet\",\"two_2414.parquet\",\"two_2459.parquet\",\"two_2474.parquet\",\"two_2479.parquet\",\"two_2483.parquet\",\"two_2492.parquet\",\"two_2495.parquet\",\"two_2552.parquet\",\"two_2595.parquet\",\"two_2601.parquet\",\"two_2631.parquet\",\"two_2675.parquet\",\"two_2692.parquet\",\"two_2707.parquet\",\"two_2714.parquet\",\"two_2740.parquet\",\"two_2763.parquet\",\"two_2783.parquet\",\"two_2786.parquet\",\"two_2793.parquet\",\"two_2795.parquet\",\"two_2798.parquet\",\"two_2828.parquet\",\"two_2847.parquet\",\"two_2865.parquet\",\"two_2886.parquet\",\"two_289.parquet\",\"two_2918.parquet\",\"two_2928.parquet\",\"two_2953.parquet\",\"two_2960.parquet\",\"two_2973.parquet\",\"two_2976.parquet\",\"two_3015.parquet\",\"two_3018.parquet\",\"two_3029.parquet\",\"two_3064.parquet\",\"two_3077.parquet\",\"two_309.parquet\",\"two_3160.parquet\",\"two_3173.parquet\",\"two_3194.parquet\",\"two_3210.parquet\",\"two_3211.parquet\",\"two_3214.parquet\",\"two_3225.parquet\",\"two_3249.parquet\",\"two_3265.parquet\",\"two_3299.parquet\",\"two_331.parquet\",\"two_3334.parquet\",\"two_3362.parquet\",\"two_337.parquet\",\"two_3402.parquet\",\"two_3413.parquet\",\"two_3483.parquet\",\"two_3488.parquet\",\"two_3489.parquet\",\"two_3493.parquet\",\"two_3517.parquet\",\"two_3534.parquet\",\"two_3557.parquet\",\"two_3618.parquet\",\"two_364.parquet\",\"two_3640.parquet\",\"two_3657.parquet\",\"two_3659.parquet\",\"two_3693.parquet\",\"two_3744.parquet\",\"two_3757.parquet\",\"two_3761.parquet\",\"two_3887.parquet\",\"two_3898.parquet\",\"two_3904.parquet\",\"two_3917.parquet\",\"two_393.parquet\",\"two_3952.parquet\",\"two_3957.parquet\",\"two_3968.parquet\",\"two_3979.parquet\",\"two_3986.parquet\",\"two_4030.parquet\",\"two_404.parquet\",\"two_4095.parquet\",\"two_4122.parquet\",\"two_4126.parquet\",\"two_4147.parquet\",\"two_4157.parquet\",\"two_4166.parquet\",\"two_4167.parquet\",\"two_4186.parquet\",\"two_4209.parquet\",\"two_4220.parquet\",\"two_4250.parquet\",\"two_4272.parquet\",\"two_4309.parquet\",\"two_431.parquet\",\"two_4337.parquet\",\"two_4341.parquet\",\"two_4347.parquet\",\"two_4350.parquet\",\"two_4367.parquet\",\"two_4373.parquet\",\"two_4384.parquet\",\"two_4412.parquet\",\"two_4428.parquet\",\"two_4444.parquet\",\"two_4462.parquet\",\"two_4468.parquet\",\"two_4476.parquet\",\"two_4524.parquet\",\"two_4560.parquet\",\"two_4578.parquet\",\"two_4579.parquet\",\"two_4584.parquet\",\"two_4590.parquet\",\"two_4597.parquet\",\"two_4605.parquet\",\"two_4643.parquet\",\"two_4660.parquet\",\"two_4682.parquet\",\"two_469.parquet\",\"two_4691.parquet\",\"two_4698.parquet\",\"two_4729.parquet\",\"two_4752.parquet\",\"two_4775.parquet\",\"two_4809.parquet\",\"two_4813.parquet\",\"two_4830.parquet\",\"two_4831.parquet\",\"two_4833.parquet\",\"two_4842.parquet\",\"two_485.parquet\",\"two_4853.parquet\",\"two_486.parquet\",\"two_4866.parquet\",\"two_4870.parquet\",\"two_490.parquet\",\"two_4921.parquet\",\"two_4929.parquet\",\"two_4934.parquet\",\"two_498.parquet\",\"two_560.parquet\",\"two_584.parquet\",\"two_59.parquet\",\"two_613.parquet\",\"two_625.parquet\",\"two_637.parquet\",\"two_686.parquet\",\"two_710.parquet\",\"two_756.parquet\",\"two_764.parquet\",\"two_77.parquet\",\"two_778.parquet\",\"two_795.parquet\",\"two_825.parquet\",\"two_847.parquet\",\"two_856.parquet\",\"two_865.parquet\",\"two_873.parquet\",\"two_879.parquet\",\"two_916.parquet\"],\"shape\":[1680],\"dtype\":\"object\",\"order\":\"little\"}],[\"alpha\",{\"type\":\"ndarray\",\"array\":{\"type\":\"bytes\",\"data\":\"AQAAAAEAAAABAAAAAQAAAAEAAAABAAAAAQAAAAEAAAABAAAAAQAAAAEAAAABAAAAAQAAAAEAAAABAAAAAQAAAAEAAAABAAAAAQAAAAEAAAABAAAAAQAAAAEAAAABAAAAAQAAAAEAAAABAAAAAQAAAAEAAAABAAAAAQAAAAEAAAABAAAAAQAAAAEAAAABAAAAAQAAAAEAAAABAAAAAQAAAAEAAAABAAAAAQAAAAEAAAABAAAAAQAAAAEAAAABAAAAAQAAAAEAAAABAAAAAQAAAAEAAAABAAAAAQAAAAEAAAABAAAAAQAAAAEAAAABAAAAAQAAAAEAAAABAAAAAQAAAAEAAAABAAAAAQAAAAEAAAABAAAAAQAAAAEAAAABAAAAAQAAAAEAAAABAAAAAQAAAAEAAAABAAAAAQAAAAEAAAABAAAAAQAAAAEAAAABAAAAAQAAAAEAAAABAAAAAQAAAAEAAAABAAAAAQAAAAEAAAABAAAAAQAAAAEAAAABAAAAAQAAAAEAAAABAAAAAQAAAAEAAAABAAAAAQAAAAEAAAABAAAAAQAAAAEAAAABAAAAAQAAAAEAAAABAAAAAQAAAAEAAAABAAAAAQAAAAEAAAABAAAAAQAAAAEAAAABAAAAAQAAAAEAAAABAAAAAQAAAAEAAAABAAAAAQAAAAEAAAABAAAAAQAAAAEAAAABAAAAAQAAAAEAAAABAAAAAQAAAAEAAAABAAAAAQAAAAEAAAABAAAAAQAAAAEAAAABAAAAAQAAAAEAAAABAAAAAQAAAAEAAAABAAAAAQAAAAEAAAABAAAAAQAAAAEAAAABAAAAAQAAAAEAAAABAAAAAQAAAAEAAAABAAAAAQAAAAEAAAABAAAAAQAAAAEAAAABAAAAAQAAAAEAAAABAAAAAQAAAAEAAAABAAAAAQAAAAEAAAABAAAAAQAAAAEAAAABAAAAAQAAAAEAAAABAAAAAQAAAAEAAAABAAAAAQAAAAEAAAABAAAAAQAAAAEAAAABAAAAAQAAAAEAAAABAAAAAQAAAAEAAAABAAAAAQAAAAEAAAABAAAAAQAAAAEAAAABAAAAAQAAAAEAAAABAAAAAQAAAAEAAAABAAAAAQAAAAEAAAABAAAAAQAAAAEAAAABAAAAAQAAAAEAAAABAAAAAQAAAAEAAAABAAAAAQAAAAEAAAABAAAAAQAAAAEAAAABAAAAAQAAAAEAAAABAAAAAQAAAAEAAAABAAAAAQAAAAEAAAABAAAAAQAAAAEAAAABAAAAAQAAAAEAAAABAAAAAQAAAAEAAAABAAAAAQAAAAEAAAABAAAAAQAAAAEAAAABAAAAAQAAAAEAAAABAAAAAQAAAAEAAAABAAAAAQAAAAEAAAABAAAAAQAAAAEAAAABAAAAAQAAAAEAAAABAAAAAQAAAAEAAAABAAAAAQAAAAEAAAABAAAAAQAAAAEAAAABAAAAAQAAAAEAAAABAAAAAQAAAAEAAAABAAAAAQAAAAEAAAABAAAAAQAAAAEAAAABAAAAAQAAAAEAAAABAAAAAQAAAAEAAAABAAAAAQAAAAEAAAABAAAAAQAAAAEAAAABAAAAAQAAAAEAAAABAAAAAQAAAAEAAAABAAAAAQAAAAEAAAABAAAAAQAAAAEAAAABAAAAAQAAAAEAAAABAAAAAQAAAAEAAAABAAAAAQAAAAEAAAABAAAAAQAAAAEAAAABAAAAAQAAAAEAAAABAAAAAQAAAAEAAAABAAAAAQAAAAEAAAABAAAAAQAAAAEAAAABAAAAAQAAAAEAAAABAAAAAQAAAAEAAAABAAAAAQAAAAEAAAABAAAAAQAAAAEAAAABAAAAAQAAAAEAAAABAAAAAQAAAAEAAAABAAAAAQAAAAEAAAABAAAAAQAAAAEAAAABAAAAAQAAAAEAAAABAAAAAQAAAAEAAAABAAAAAQAAAAEAAAABAAAAAQAAAAEAAAABAAAAAQAAAAEAAAABAAAAAQAAAAEAAAABAAAAAQAAAAEAAAABAAAAAQAAAAEAAAABAAAAAQAAAAEAAAABAAAAAQAAAAEAAAABAAAAAQAAAAEAAAABAAAAAQAAAAEAAAABAAAAAQAAAAEAAAABAAAAAQAAAAEAAAABAAAAAQAAAAEAAAABAAAAAQAAAAEAAAABAAAAAQAAAAEAAAABAAAAAQAAAAEAAAABAAAAAQAAAAEAAAABAAAAAQAAAAEAAAABAAAAAQAAAAEAAAABAAAAAQAAAAEAAAABAAAAAQAAAAEAAAABAAAAAQAAAAEAAAABAAAAAQAAAAEAAAABAAAAAQAAAAEAAAABAAAAAQAAAAEAAAABAAAAAQAAAAEAAAABAAAAAQAAAAEAAAABAAAAAQAAAAEAAAABAAAAAQAAAAEAAAABAAAAAQAAAAEAAAABAAAAAQAAAAEAAAABAAAAAQAAAAEAAAABAAAAAQAAAAEAAAABAAAAAQAAAAEAAAABAAAAAQAAAAEAAAABAAAAAQAAAAEAAAABAAAAAQAAAAEAAAABAAAAAQAAAAEAAAABAAAAAQAAAAEAAAABAAAAAQAAAAEAAAABAAAAAQAAAAEAAAABAAAAAQAAAAEAAAABAAAAAQAAAAEAAAABAAAAAQAAAAEAAAABAAAAAQAAAAEAAAABAAAAAQAAAAEAAAABAAAAAQAAAAEAAAABAAAAAQAAAAEAAAABAAAAAQAAAAEAAAABAAAAAQAAAAEAAAABAAAAAQAAAAEAAAABAAAAAQAAAAEAAAABAAAAAQAAAAEAAAABAAAAAQAAAAEAAAABAAAAAQAAAAEAAAABAAAAAQAAAAEAAAABAAAAAQAAAAEAAAABAAAAAQAAAAEAAAABAAAAAQAAAAEAAAABAAAAAQAAAAEAAAABAAAAAQAAAAEAAAABAAAAAQAAAAEAAAABAAAAAQAAAAEAAAABAAAAAQAAAAEAAAABAAAAAQAAAAEAAAABAAAAAQAAAAEAAAABAAAAAQAAAAEAAAABAAAAAQAAAAEAAAABAAAAAQAAAAEAAAABAAAAAQAAAAEAAAABAAAAAQAAAAEAAAABAAAAAQAAAAEAAAABAAAAAQAAAAEAAAABAAAAAQAAAAEAAAABAAAAAQAAAAEAAAABAAAAAQAAAAEAAAABAAAAAQAAAAEAAAABAAAAAQAAAAEAAAABAAAAAQAAAAEAAAABAAAAAQAAAAEAAAABAAAAAQAAAAEAAAABAAAAAQAAAAEAAAABAAAAAQAAAAEAAAABAAAAAQAAAAEAAAABAAAAAQAAAAEAAAABAAAAAQAAAAEAAAABAAAAAQAAAAEAAAABAAAAAQAAAAEAAAABAAAAAQAAAAEAAAABAAAAAQAAAAEAAAABAAAAAQAAAAEAAAABAAAAAQAAAAEAAAABAAAAAQAAAAEAAAABAAAAAQAAAAEAAAABAAAAAQAAAAEAAAABAAAAAQAAAAEAAAABAAAAAQAAAAEAAAABAAAAAQAAAAEAAAABAAAAAQAAAAEAAAABAAAAAQAAAAEAAAABAAAAAQAAAAEAAAABAAAAAQAAAAEAAAABAAAAAQAAAAEAAAABAAAAAQAAAAEAAAABAAAAAQAAAAEAAAABAAAAAQAAAAEAAAABAAAAAQAAAAEAAAABAAAAAQAAAAEAAAABAAAAAQAAAAEAAAABAAAAAQAAAAEAAAABAAAAAQAAAAEAAAABAAAAAQAAAAEAAAABAAAAAQAAAAEAAAABAAAAAQAAAAEAAAABAAAAAQAAAAEAAAABAAAAAQAAAAEAAAABAAAAAQAAAAEAAAABAAAAAQAAAAEAAAABAAAAAQAAAAEAAAABAAAAAQAAAAEAAAABAAAAAQAAAAEAAAABAAAAAQAAAAEAAAABAAAAAQAAAAEAAAABAAAAAQAAAAEAAAABAAAAAQAAAAEAAAABAAAAAQAAAAEAAAABAAAAAQAAAAEAAAABAAAAAQAAAAEAAAABAAAAAQAAAAEAAAABAAAAAQAAAAEAAAABAAAAAQAAAAEAAAABAAAAAQAAAAEAAAABAAAAAQAAAAEAAAABAAAAAQAAAAEAAAABAAAAAQAAAAEAAAABAAAAAQAAAAEAAAABAAAAAQAAAAEAAAABAAAAAQAAAAEAAAABAAAAAQAAAAEAAAABAAAAAQAAAAEAAAABAAAAAQAAAAEAAAABAAAAAQAAAAEAAAABAAAAAQAAAAEAAAABAAAAAQAAAAEAAAABAAAAAQAAAAEAAAABAAAAAQAAAAEAAAABAAAAAQAAAAEAAAABAAAAAQAAAAEAAAABAAAAAQAAAAEAAAABAAAAAQAAAAEAAAABAAAAAQAAAAEAAAABAAAAAQAAAAEAAAABAAAAAQAAAAEAAAABAAAAAQAAAAEAAAABAAAAAQAAAAEAAAABAAAAAQAAAAEAAAABAAAAAQAAAAEAAAABAAAAAQAAAAEAAAABAAAAAQAAAAEAAAABAAAAAQAAAAEAAAABAAAAAQAAAAEAAAABAAAAAQAAAAEAAAABAAAAAQAAAAEAAAABAAAAAQAAAAEAAAABAAAAAQAAAAEAAAABAAAAAQAAAAEAAAABAAAAAQAAAAEAAAABAAAAAQAAAAEAAAABAAAAAQAAAAEAAAABAAAAAQAAAAEAAAABAAAAAQAAAAEAAAABAAAAAQAAAAEAAAABAAAAAQAAAAEAAAABAAAAAQAAAAEAAAABAAAAAQAAAAEAAAABAAAAAQAAAAEAAAABAAAAAQAAAAEAAAABAAAAAQAAAAEAAAABAAAAAQAAAAEAAAABAAAAAQAAAAEAAAABAAAAAQAAAAEAAAABAAAAAQAAAAEAAAABAAAAAQAAAAEAAAABAAAAAQAAAAEAAAABAAAAAQAAAAEAAAABAAAAAQAAAAEAAAABAAAAAQAAAAEAAAABAAAAAQAAAAEAAAABAAAAAQAAAAEAAAABAAAAAQAAAAEAAAABAAAAAQAAAAEAAAABAAAAAQAAAAEAAAABAAAAAQAAAAEAAAABAAAAAQAAAAEAAAABAAAAAQAAAAEAAAABAAAAAQAAAAEAAAABAAAAAQAAAAEAAAABAAAAAQAAAAEAAAABAAAAAQAAAAEAAAABAAAAAQAAAAEAAAABAAAAAQAAAAEAAAABAAAAAQAAAAEAAAABAAAAAQAAAAEAAAABAAAAAQAAAAEAAAABAAAAAQAAAAEAAAABAAAAAQAAAAEAAAABAAAAAQAAAAEAAAABAAAAAQAAAAEAAAABAAAAAQAAAAEAAAABAAAAAQAAAAEAAAABAAAAAQAAAAEAAAABAAAAAQAAAAEAAAABAAAAAQAAAAEAAAABAAAAAQAAAAEAAAABAAAAAQAAAAEAAAABAAAAAQAAAAEAAAABAAAAAQAAAAEAAAABAAAAAQAAAAEAAAABAAAAAQAAAAEAAAABAAAAAQAAAAEAAAABAAAAAQAAAAEAAAABAAAAAQAAAAEAAAABAAAAAQAAAAEAAAABAAAAAQAAAAEAAAABAAAAAQAAAAEAAAABAAAAAQAAAAEAAAABAAAAAQAAAAEAAAABAAAAAQAAAAEAAAABAAAAAQAAAAEAAAABAAAAAQAAAAEAAAABAAAAAQAAAAEAAAABAAAAAQAAAAEAAAABAAAAAQAAAAEAAAABAAAAAQAAAAEAAAABAAAAAQAAAAEAAAABAAAAAQAAAAEAAAABAAAAAQAAAAEAAAABAAAAAQAAAAEAAAABAAAAAQAAAAEAAAABAAAAAQAAAAEAAAABAAAAAQAAAAEAAAABAAAAAQAAAAEAAAABAAAAAQAAAAEAAAABAAAAAQAAAAEAAAABAAAAAQAAAAEAAAABAAAAAQAAAAEAAAABAAAAAQAAAAEAAAABAAAAAQAAAAEAAAABAAAAAQAAAAEAAAABAAAAAQAAAAEAAAABAAAAAQAAAAEAAAABAAAAAQAAAAEAAAABAAAAAQAAAAEAAAABAAAAAQAAAAEAAAABAAAAAQAAAAEAAAABAAAAAQAAAAEAAAABAAAAAQAAAAEAAAABAAAAAQAAAAEAAAABAAAAAQAAAAEAAAABAAAAAQAAAAEAAAABAAAAAQAAAAEAAAABAAAAAQAAAAEAAAABAAAAAQAAAAEAAAABAAAAAQAAAAEAAAABAAAAAQAAAAEAAAABAAAAAQAAAAEAAAABAAAAAQAAAAEAAAABAAAAAQAAAAEAAAABAAAAAQAAAAEAAAABAAAAAQAAAAEAAAABAAAAAQAAAAEAAAABAAAAAQAAAAEAAAABAAAAAQAAAAEAAAABAAAAAQAAAAEAAAABAAAAAQAAAAEAAAABAAAAAQAAAAEAAAABAAAAAQAAAAEAAAABAAAAAQAAAAEAAAABAAAAAQAAAAEAAAABAAAAAQAAAAEAAAABAAAAAQAAAAEAAAABAAAAAQAAAAEAAAABAAAAAQAAAAEAAAABAAAAAQAAAAEAAAABAAAAAQAAAAEAAAABAAAAAQAAAAEAAAABAAAAAQAAAAEAAAABAAAAAQAAAAEAAAABAAAAAQAAAAEAAAABAAAAAQAAAAEAAAABAAAAAQAAAAEAAAABAAAAAQAAAAEAAAABAAAAAQAAAAEAAAABAAAAAQAAAAEAAAABAAAAAQAAAAEAAAABAAAAAQAAAAEAAAABAAAAAQAAAAEAAAABAAAAAQAAAAEAAAABAAAAAQAAAAEAAAABAAAAAQAAAAEAAAABAAAAAQAAAAEAAAABAAAAAQAAAAEAAAABAAAAAQAAAAEAAAABAAAAAQAAAAEAAAABAAAAAQAAAAEAAAABAAAAAQAAAAEAAAABAAAAAQAAAAEAAAABAAAAAQAAAAEAAAABAAAAAQAAAAEAAAABAAAAAQAAAAEAAAABAAAAAQAAAAEAAAABAAAAAQAAAAEAAAABAAAAAQAAAAEAAAABAAAAAQAAAAEAAAABAAAAAQAAAAEAAAABAAAAAQAAAAEAAAABAAAAAQAAAAEAAAABAAAAAQAAAAEAAAABAAAAAQAAAAEAAAABAAAAAQAAAAEAAAABAAAAAQAAAAEAAAABAAAAAQAAAAEAAAABAAAAAQAAAAEAAAABAAAAAQAAAAEAAAABAAAAAQAAAAEAAAABAAAAAQAAAAEAAAABAAAAAQAAAAEAAAABAAAAAQAAAAEAAAABAAAAAQAAAAEAAAABAAAAAQAAAAEAAAABAAAAAQAAAAEAAAABAAAAAQAAAAEAAAABAAAAAQAAAAEAAAABAAAAAQAAAAEAAAABAAAAAQAAAAEAAAABAAAAAQAAAAEAAAABAAAAAQAAAAEAAAABAAAAAQAAAAEAAAABAAAAAQAAAAEAAAABAAAAAQAAAAEAAAABAAAAAQAAAAEAAAABAAAAAQAAAAEAAAABAAAAAQAAAAEAAAABAAAAAQAAAAEAAAABAAAAAQAAAAEAAAABAAAAAQAAAAEAAAABAAAAAQAAAAEAAAABAAAAAQAAAAEAAAABAAAAAQAAAAEAAAABAAAAAQAAAAEAAAABAAAAAQAAAAEAAAABAAAAAQAAAAEAAAABAAAAAQAAAAEAAAABAAAAAQAAAAEAAAABAAAAAQAAAAEAAAABAAAAAQAAAAEAAAABAAAAAQAAAAEAAAABAAAAAQAAAAEAAAABAAAAAQAAAAEAAAABAAAAAQAAAAEAAAABAAAAAQAAAAEAAAABAAAAAQAAAAEAAAABAAAAAQAAAAEAAAABAAAAAQAAAAEAAAABAAAAAQAAAAEAAAABAAAAAQAAAAEAAAABAAAAAQAAAAEAAAABAAAAAQAAAAEAAAABAAAAAQAAAAEAAAABAAAAAQAAAAEAAAABAAAAAQAAAAEAAAABAAAAAQAAAAEAAAABAAAAAQAAAAEAAAABAAAAAQAAAAEAAAABAAAAAQAAAAEAAAABAAAAAQAAAAEAAAABAAAAAQAAAAEAAAABAAAAAQAAAAEAAAABAAAAAQAAAAEAAAABAAAAAQAAAAEAAAABAAAAAQAAAAEAAAABAAAAAQAAAAEAAAABAAAAAQAAAAEAAAABAAAAAQAAAAEAAAABAAAAAQAAAAEAAAABAAAAAQAAAAEAAAABAAAAAQAAAAEAAAABAAAAAQAAAAEAAAABAAAAAQAAAAEAAAABAAAAAQAAAAEAAAABAAAAAQAAAAEAAAABAAAAAQAAAAEAAAABAAAAAQAAAAEAAAABAAAAAQAAAAEAAAABAAAAAQAAAAEAAAABAAAAAQAAAAEAAAABAAAAAQAAAAEAAAABAAAAAQAAAAEAAAABAAAAAQAAAAEAAAABAAAAAQAAAAEAAAABAAAAAQAAAAEAAAABAAAAAQAAAAEAAAABAAAAAQAAAAEAAAABAAAAAQAAAAEAAAABAAAAAQAAAAEAAAABAAAAAQAAAAEAAAABAAAAAQAAAAEAAAABAAAAAQAAAAEAAAABAAAAAQAAAAEAAAABAAAAAQAAAAEAAAABAAAAAQAAAAEAAAABAAAAAQAAAAEAAAABAAAAAQAAAAEAAAABAAAAAQAAAAEAAAABAAAAAQAAAAEAAAABAAAAAQAAAAEAAAABAAAAAQAAAAEAAAABAAAAAQAAAAEAAAABAAAAAQAAAAEAAAABAAAAAQAAAAEAAAABAAAAAQAAAAEAAAABAAAAAQAAAAEAAAABAAAAAQAAAAEAAAABAAAAAQAAAAEAAAABAAAAAQAAAAEAAAABAAAAAQAAAAEAAAABAAAAAQAAAAEAAAABAAAAAQAAAAEAAAABAAAAAQAAAAEAAAABAAAAAQAAAAEAAAABAAAAAQAAAAEAAAABAAAAAQAAAAEAAAABAAAAAQAAAAEAAAABAAAAAQAAAAEAAAABAAAAAQAAAAEAAAABAAAAAQAAAAEAAAABAAAAAQAAAAEAAAABAAAAAQAAAAEAAAABAAAA\"},\"shape\":[1680],\"dtype\":\"int32\",\"order\":\"little\"}],[\"new_colors\",[\"#000000\",\"#000000\",\"#000000\",\"#000000\",\"#000000\",\"#FF0000\",\"#000000\",\"#000000\",\"#000000\",\"#000000\",\"#000000\",\"#000000\",\"#000000\",\"#000000\",\"#000000\",\"#FF0000\",\"#000000\",\"#000000\",\"#000000\",\"#000000\",\"#000000\",\"#000000\",\"#000000\",\"#000000\",\"#000000\",\"#000000\",\"#000000\",\"#000000\",\"#000000\",\"#000000\",\"#000000\",\"#000000\",\"#000000\",\"#000000\",\"#000000\",\"#000000\",\"#FF0000\",\"#000000\",\"#000000\",\"#000000\",\"#FF0000\",\"#000000\",\"#000000\",\"#000000\",\"#000000\",\"#000000\",\"#000000\",\"#000000\",\"#000000\",\"#000000\",\"#000000\",\"#000000\",\"#FF0000\",\"#000000\",\"#000000\",\"#000000\",\"#000000\",\"#000000\",\"#000000\",\"#FF0000\",\"#FF0000\",\"#FF0000\",\"#000000\",\"#000000\",\"#000000\",\"#FF0000\",\"#FF0000\",\"#000000\",\"#000000\",\"#000000\",\"#000000\",\"#FF0000\",\"#FF0000\",\"#000000\",\"#000000\",\"#000000\",\"#000000\",\"#000000\",\"#000000\",\"#000000\",\"#000000\",\"#FF0000\",\"#000000\",\"#FF0000\",\"#000000\",\"#000000\",\"#000000\",\"#000000\",\"#000000\",\"#000000\",\"#000000\",\"#000000\",\"#000000\",\"#000000\",\"#FF0000\",\"#000000\",\"#000000\",\"#000000\",\"#000000\",\"#000000\",\"#000000\",\"#000000\",\"#000000\",\"#000000\",\"#000000\",\"#FF0000\",\"#000000\",\"#000000\",\"#000000\",\"#000000\",\"#000000\",\"#000000\",\"#000000\",\"#000000\",\"#000000\",\"#000000\",\"#FF0000\",\"#000000\",\"#000000\",\"#000000\",\"#FF0000\",\"#000000\",\"#FF0000\",\"#000000\",\"#000000\",\"#000000\",\"#000000\",\"#000000\",\"#000000\",\"#000000\",\"#000000\",\"#000000\",\"#000000\",\"#000000\",\"#000000\",\"#000000\",\"#000000\",\"#000000\",\"#000000\",\"#000000\",\"#000000\",\"#000000\",\"#000000\",\"#000000\",\"#000000\",\"#000000\",\"#000000\",\"#FF0000\",\"#000000\",\"#000000\",\"#000000\",\"#000000\",\"#000000\",\"#000000\",\"#000000\",\"#000000\",\"#000000\",\"#000000\",\"#000000\",\"#000000\",\"#000000\",\"#000000\",\"#000000\",\"#000000\",\"#000000\",\"#FF0000\",\"#000000\",\"#000000\",\"#000000\",\"#FF0000\",\"#000000\",\"#FF0000\",\"#000000\",\"#000000\",\"#000000\",\"#000000\",\"#000000\",\"#000000\",\"#FF0000\",\"#000000\",\"#000000\",\"#000000\",\"#000000\",\"#000000\",\"#000000\",\"#000000\",\"#000000\",\"#000000\",\"#000000\",\"#000000\",\"#000000\",\"#000000\",\"#000000\",\"#000000\",\"#000000\",\"#000000\",\"#000000\",\"#000000\",\"#000000\",\"#000000\",\"#000000\",\"#000000\",\"#000000\",\"#000000\",\"#000000\",\"#000000\",\"#000000\",\"#000000\",\"#000000\",\"#000000\",\"#000000\",\"#000000\",\"#FF0000\",\"#000000\",\"#FF0000\",\"#000000\",\"#000000\",\"#000000\",\"#000000\",\"#000000\",\"#000000\",\"#000000\",\"#000000\",\"#000000\",\"#000000\",\"#000000\",\"#000000\",\"#FF0000\",\"#000000\",\"#000000\",\"#000000\",\"#000000\",\"#000000\",\"#000000\",\"#000000\",\"#FF0000\",\"#000000\",\"#000000\",\"#000000\",\"#000000\",\"#000000\",\"#000000\",\"#000000\",\"#FF0000\",\"#000000\",\"#000000\",\"#000000\",\"#000000\",\"#000000\",\"#000000\",\"#000000\",\"#000000\",\"#000000\",\"#000000\",\"#000000\",\"#FF0000\",\"#000000\",\"#000000\",\"#000000\",\"#000000\",\"#000000\",\"#000000\",\"#000000\",\"#000000\",\"#000000\",\"#000000\",\"#000000\",\"#000000\",\"#000000\",\"#000000\",\"#000000\",\"#000000\",\"#FF0000\",\"#000000\",\"#000000\",\"#000000\",\"#000000\",\"#000000\",\"#000000\",\"#000000\",\"#000000\",\"#000000\",\"#000000\",\"#000000\",\"#000000\",\"#000000\",\"#000000\",\"#000000\",\"#000000\",\"#000000\",\"#000000\",\"#000000\",\"#000000\",\"#000000\",\"#000000\",\"#000000\",\"#000000\",\"#000000\",\"#000000\",\"#000000\",\"#000000\",\"#000000\",\"#000000\",\"#000000\",\"#000000\",\"#000000\",\"#000000\",\"#000000\",\"#000000\",\"#000000\",\"#000000\",\"#000000\",\"#000000\",\"#000000\",\"#000000\",\"#000000\",\"#FF0000\",\"#000000\",\"#000000\",\"#000000\",\"#000000\",\"#000000\",\"#000000\",\"#000000\",\"#000000\",\"#000000\",\"#000000\",\"#000000\",\"#000000\",\"#000000\",\"#000000\",\"#000000\",\"#000000\",\"#000000\",\"#000000\",\"#000000\",\"#FF0000\",\"#000000\",\"#000000\",\"#000000\",\"#000000\",\"#000000\",\"#000000\",\"#000000\",\"#000000\",\"#000000\",\"#000000\",\"#000000\",\"#000000\",\"#000000\",\"#000000\",\"#FF0000\",\"#000000\",\"#000000\",\"#000000\",\"#000000\",\"#000000\",\"#FF0000\",\"#000000\",\"#000000\",\"#000000\",\"#000000\",\"#000000\",\"#000000\",\"#000000\",\"#FF0000\",\"#FF0000\",\"#000000\",\"#000000\",\"#000000\",\"#000000\",\"#000000\",\"#000000\",\"#000000\",\"#000000\",\"#000000\",\"#000000\",\"#000000\",\"#000000\",\"#000000\",\"#000000\",\"#000000\",\"#000000\",\"#000000\",\"#000000\",\"#000000\",\"#000000\",\"#000000\",\"#000000\",\"#000000\",\"#000000\",\"#000000\",\"#000000\",\"#000000\",\"#000000\",\"#000000\",\"#000000\",\"#000000\",\"#000000\",\"#000000\",\"#000000\",\"#000000\",\"#000000\",\"#000000\",\"#000000\",\"#000000\",\"#FF0000\",\"#000000\",\"#000000\",\"#000000\",\"#000000\",\"#000000\",\"#000000\",\"#000000\",\"#000000\",\"#000000\",\"#000000\",\"#000000\",\"#000000\",\"#000000\",\"#000000\",\"#000000\",\"#000000\",\"#000000\",\"#000000\",\"#000000\",\"#000000\",\"#000000\",\"#000000\",\"#000000\",\"#000000\",\"#000000\",\"#000000\",\"#000000\",\"#000000\",\"#000000\",\"#000000\",\"#000000\",\"#000000\",\"#000000\",\"#000000\",\"#000000\",\"#000000\",\"#000000\",\"#000000\",\"#000000\",\"#000000\",\"#000000\",\"#000000\",\"#000000\",\"#000000\",\"#000000\",\"#000000\",\"#FF0000\",\"#000000\",\"#000000\",\"#000000\",\"#000000\",\"#FF0000\",\"#000000\",\"#000000\",\"#000000\",\"#000000\",\"#FF0000\",\"#000000\",\"#000000\",\"#000000\",\"#000000\",\"#000000\",\"#000000\",\"#000000\",\"#000000\",\"#000000\",\"#000000\",\"#000000\",\"#000000\",\"#000000\",\"#000000\",\"#000000\",\"#FF0000\",\"#000000\",\"#000000\",\"#000000\",\"#000000\",\"#FF0000\",\"#000000\",\"#000000\",\"#000000\",\"#000000\",\"#000000\",\"#000000\",\"#000000\",\"#000000\",\"#000000\",\"#000000\",\"#000000\",\"#FF0000\",\"#000000\",\"#000000\",\"#000000\",\"#000000\",\"#000000\",\"#000000\",\"#FF0000\",\"#000000\",\"#000000\",\"#000000\",\"#000000\",\"#FF0000\",\"#000000\",\"#000000\",\"#000000\",\"#000000\",\"#000000\",\"#000000\",\"#000000\",\"#000000\",\"#000000\",\"#000000\",\"#000000\",\"#000000\",\"#FF0000\",\"#000000\",\"#000000\",\"#000000\",\"#000000\",\"#000000\",\"#000000\",\"#FF0000\",\"#000000\",\"#000000\",\"#000000\",\"#000000\",\"#000000\",\"#000000\",\"#000000\",\"#000000\",\"#000000\",\"#FF0000\",\"#000000\",\"#000000\",\"#000000\",\"#000000\",\"#000000\",\"#000000\",\"#000000\",\"#000000\",\"#FF0000\",\"#000000\",\"#000000\",\"#000000\",\"#000000\",\"#000000\",\"#FF0000\",\"#000000\",\"#000000\",\"#000000\",\"#000000\",\"#000000\",\"#000000\",\"#000000\",\"#000000\",\"#000000\",\"#000000\",\"#000000\",\"#FF0000\",\"#000000\",\"#000000\",\"#000000\",\"#000000\",\"#000000\",\"#000000\",\"#000000\",\"#000000\",\"#000000\",\"#FF0000\",\"#000000\",\"#000000\",\"#000000\",\"#000000\",\"#000000\",\"#000000\",\"#000000\",\"#000000\",\"#000000\",\"#000000\",\"#000000\",\"#000000\",\"#000000\",\"#000000\",\"#FF0000\",\"#000000\",\"#000000\",\"#000000\",\"#000000\",\"#000000\",\"#FF0000\",\"#000000\",\"#000000\",\"#000000\",\"#000000\",\"#000000\",\"#000000\",\"#000000\",\"#000000\",\"#000000\",\"#000000\",\"#FF0000\",\"#000000\",\"#000000\",\"#000000\",\"#000000\",\"#000000\",\"#000000\",\"#000000\",\"#000000\",\"#000000\",\"#000000\",\"#000000\",\"#000000\",\"#000000\",\"#000000\",\"#000000\",\"#000000\",\"#000000\",\"#000000\",\"#000000\",\"#000000\",\"#000000\",\"#FF0000\",\"#000000\",\"#000000\",\"#000000\",\"#000000\",\"#000000\",\"#000000\",\"#000000\",\"#000000\",\"#000000\",\"#000000\",\"#000000\",\"#000000\",\"#000000\",\"#000000\",\"#FF0000\",\"#000000\",\"#000000\",\"#000000\",\"#000000\",\"#000000\",\"#000000\",\"#000000\",\"#000000\",\"#000000\",\"#000000\",\"#000000\",\"#000000\",\"#000000\",\"#FF0000\",\"#000000\",\"#000000\",\"#000000\",\"#000000\",\"#000000\",\"#000000\",\"#000000\",\"#000000\",\"#000000\",\"#FF0000\",\"#000000\",\"#000000\",\"#000000\",\"#000000\",\"#000000\",\"#000000\",\"#000000\",\"#000000\",\"#000000\",\"#000000\",\"#000000\",\"#000000\",\"#000000\",\"#000000\",\"#000000\",\"#000000\",\"#000000\",\"#000000\",\"#000000\",\"#000000\",\"#000000\",\"#000000\",\"#000000\",\"#000000\",\"#FF0000\",\"#000000\",\"#000000\",\"#FF0000\",\"#000000\",\"#000000\",\"#FF0000\",\"#000000\",\"#000000\",\"#000000\",\"#000000\",\"#000000\",\"#000000\",\"#000000\",\"#000000\",\"#000000\",\"#000000\",\"#000000\",\"#000000\",\"#000000\",\"#FF0000\",\"#000000\",\"#000000\",\"#FF0000\",\"#000000\",\"#000000\",\"#000000\",\"#000000\",\"#000000\",\"#000000\",\"#000000\",\"#000000\",\"#000000\",\"#000000\",\"#000000\",\"#000000\",\"#000000\",\"#000000\",\"#000000\",\"#FF0000\",\"#000000\",\"#000000\",\"#000000\",\"#000000\",\"#000000\",\"#000000\",\"#000000\",\"#000000\",\"#000000\",\"#000000\",\"#000000\",\"#000000\",\"#000000\",\"#000000\",\"#000000\",\"#000000\",\"#000000\",\"#000000\",\"#000000\",\"#000000\",\"#000000\",\"#000000\",\"#000000\",\"#000000\",\"#000000\",\"#000000\",\"#000000\",\"#000000\",\"#000000\",\"#000000\",\"#000000\",\"#000000\",\"#000000\",\"#000000\",\"#FF0000\",\"#000000\",\"#000000\",\"#000000\",\"#000000\",\"#000000\",\"#000000\",\"#000000\",\"#000000\",\"#000000\",\"#000000\",\"#000000\",\"#000000\",\"#000000\",\"#000000\",\"#FF0000\",\"#000000\",\"#000000\",\"#000000\",\"#000000\",\"#000000\",\"#000000\",\"#000000\",\"#000000\",\"#000000\",\"#000000\",\"#000000\",\"#000000\",\"#000000\",\"#000000\",\"#000000\",\"#000000\",\"#000000\",\"#000000\",\"#000000\",\"#000000\",\"#000000\",\"#000000\",\"#000000\",\"#000000\",\"#000000\",\"#000000\",\"#000000\",\"#000000\",\"#000000\",\"#000000\",\"#000000\",\"#000000\",\"#000000\",\"#000000\",\"#000000\",\"#000000\",\"#000000\",\"#000000\",\"#000000\",\"#000000\",\"#000000\",\"#000000\",\"#000000\",\"#000000\",\"#000000\",\"#000000\",\"#000000\",\"#000000\",\"#000000\",\"#000000\",\"#000000\",\"#000000\",\"#000000\",\"#000000\",\"#000000\",\"#000000\",\"#000000\",\"#000000\",\"#000000\",\"#000000\",\"#000000\",\"#000000\",\"#000000\",\"#000000\",\"#000000\",\"#000000\",\"#000000\",\"#000000\",\"#000000\",\"#000000\",\"#000000\",\"#000000\",\"#000000\",\"#000000\",\"#000000\",\"#000000\",\"#000000\",\"#000000\",\"#000000\",\"#000000\",\"#000000\",\"#000000\",\"#000000\",\"#000000\",\"#000000\",\"#000000\",\"#000000\",\"#000000\",\"#000000\",\"#000000\",\"#000000\",\"#000000\",\"#000000\",\"#000000\",\"#000000\",\"#000000\",\"#000000\",\"#000000\",\"#000000\",\"#000000\",\"#000000\",\"#000000\",\"#000000\",\"#000000\",\"#000000\",\"#000000\",\"#000000\",\"#000000\",\"#000000\",\"#000000\",\"#000000\",\"#000000\",\"#000000\",\"#FF0000\",\"#000000\",\"#000000\",\"#000000\",\"#000000\",\"#000000\",\"#000000\",\"#000000\",\"#000000\",\"#000000\",\"#000000\",\"#000000\",\"#000000\",\"#000000\",\"#000000\",\"#000000\",\"#000000\",\"#000000\",\"#000000\",\"#000000\",\"#000000\",\"#000000\",\"#000000\",\"#000000\",\"#000000\",\"#000000\",\"#000000\",\"#000000\",\"#000000\",\"#000000\",\"#000000\",\"#000000\",\"#000000\",\"#000000\",\"#000000\",\"#000000\",\"#000000\",\"#000000\",\"#000000\",\"#000000\",\"#000000\",\"#000000\",\"#000000\",\"#FF0000\",\"#000000\",\"#000000\",\"#000000\",\"#000000\",\"#000000\",\"#000000\",\"#000000\",\"#000000\",\"#000000\",\"#000000\",\"#000000\",\"#000000\",\"#000000\",\"#000000\",\"#000000\",\"#000000\",\"#000000\",\"#000000\",\"#000000\",\"#000000\",\"#000000\",\"#000000\",\"#000000\",\"#000000\",\"#000000\",\"#000000\",\"#000000\",\"#000000\",\"#000000\",\"#000000\",\"#000000\",\"#000000\",\"#000000\",\"#000000\",\"#000000\",\"#000000\",\"#000000\",\"#000000\",\"#000000\",\"#000000\",\"#000000\",\"#000000\",\"#000000\",\"#FF0000\",\"#000000\",\"#000000\",\"#000000\",\"#000000\",\"#000000\",\"#000000\",\"#000000\",\"#000000\",\"#000000\",\"#000000\",\"#000000\",\"#000000\",\"#000000\",\"#000000\",\"#000000\",\"#000000\",\"#000000\",\"#000000\",\"#000000\",\"#000000\",\"#000000\",\"#000000\",\"#000000\",\"#000000\",\"#000000\",\"#000000\",\"#000000\",\"#000000\",\"#000000\",\"#000000\",\"#000000\",\"#000000\",\"#000000\",\"#000000\",\"#000000\",\"#FF0000\",\"#000000\",\"#000000\",\"#000000\",\"#000000\",\"#000000\",\"#000000\",\"#000000\",\"#000000\",\"#000000\",\"#000000\",\"#000000\",\"#000000\",\"#000000\",\"#000000\",\"#000000\",\"#000000\",\"#000000\",\"#000000\",\"#000000\",\"#000000\",\"#000000\",\"#000000\",\"#FF0000\",\"#000000\",\"#000000\",\"#000000\",\"#000000\",\"#000000\",\"#000000\",\"#000000\",\"#000000\",\"#000000\",\"#000000\",\"#FF0000\",\"#000000\",\"#000000\",\"#000000\",\"#000000\",\"#000000\",\"#000000\",\"#000000\",\"#000000\",\"#000000\",\"#000000\",\"#000000\",\"#FF0000\",\"#000000\",\"#000000\",\"#FF0000\",\"#000000\",\"#000000\",\"#000000\",\"#000000\",\"#000000\",\"#000000\",\"#000000\",\"#000000\",\"#000000\",\"#000000\",\"#000000\",\"#000000\",\"#000000\",\"#000000\",\"#000000\",\"#000000\",\"#000000\",\"#000000\",\"#000000\",\"#000000\",\"#000000\",\"#000000\",\"#000000\",\"#000000\",\"#000000\",\"#000000\",\"#FF0000\",\"#000000\",\"#000000\",\"#000000\",\"#000000\",\"#000000\",\"#000000\",\"#000000\",\"#000000\",\"#000000\",\"#FF0000\",\"#000000\",\"#000000\",\"#000000\",\"#000000\",\"#000000\",\"#000000\",\"#000000\",\"#000000\",\"#000000\",\"#000000\",\"#FF0000\",\"#000000\",\"#000000\",\"#000000\",\"#000000\",\"#FF0000\",\"#000000\",\"#000000\",\"#000000\",\"#000000\",\"#000000\",\"#000000\",\"#000000\",\"#000000\",\"#000000\",\"#000000\",\"#000000\",\"#000000\",\"#000000\",\"#000000\",\"#000000\",\"#000000\",\"#000000\",\"#000000\",\"#000000\",\"#000000\",\"#000000\",\"#000000\",\"#000000\",\"#000000\",\"#000000\",\"#000000\",\"#000000\",\"#000000\",\"#000000\",\"#000000\",\"#FF0000\",\"#000000\",\"#000000\",\"#000000\",\"#000000\",\"#000000\",\"#000000\",\"#000000\",\"#000000\",\"#000000\",\"#000000\",\"#000000\",\"#000000\",\"#000000\",\"#000000\",\"#000000\",\"#000000\",\"#FF0000\",\"#000000\",\"#000000\",\"#000000\",\"#000000\",\"#000000\",\"#000000\",\"#000000\",\"#000000\",\"#000000\",\"#000000\",\"#000000\",\"#000000\",\"#000000\",\"#000000\",\"#000000\",\"#000000\",\"#000000\",\"#000000\",\"#000000\",\"#000000\",\"#000000\",\"#000000\",\"#000000\",\"#000000\",\"#000000\",\"#000000\",\"#000000\",\"#000000\",\"#000000\",\"#000000\",\"#000000\",\"#000000\",\"#000000\",\"#000000\",\"#000000\",\"#000000\",\"#000000\",\"#000000\",\"#000000\",\"#000000\",\"#000000\",\"#000000\",\"#000000\",\"#000000\",\"#000000\",\"#000000\",\"#000000\",\"#000000\",\"#000000\",\"#000000\",\"#000000\",\"#000000\",\"#000000\",\"#000000\",\"#000000\",\"#000000\",\"#000000\",\"#000000\",\"#000000\",\"#000000\",\"#000000\",\"#000000\",\"#000000\",\"#000000\",\"#000000\",\"#000000\",\"#000000\",\"#000000\",\"#000000\",\"#000000\",\"#000000\",\"#000000\",\"#000000\",\"#000000\",\"#000000\",\"#000000\",\"#000000\",\"#000000\",\"#000000\",\"#000000\",\"#000000\",\"#000000\",\"#000000\",\"#000000\",\"#000000\",\"#000000\",\"#000000\",\"#000000\",\"#000000\",\"#000000\",\"#000000\",\"#000000\",\"#000000\",\"#000000\",\"#000000\",\"#FF0000\",\"#000000\",\"#000000\",\"#000000\",\"#000000\",\"#000000\",\"#000000\",\"#000000\",\"#000000\",\"#000000\",\"#000000\",\"#000000\",\"#000000\",\"#000000\",\"#000000\",\"#FF0000\",\"#000000\",\"#000000\",\"#000000\",\"#000000\",\"#000000\",\"#000000\",\"#000000\",\"#000000\",\"#000000\",\"#000000\",\"#000000\",\"#000000\",\"#000000\",\"#000000\",\"#000000\",\"#000000\",\"#000000\",\"#000000\",\"#000000\",\"#000000\",\"#000000\",\"#000000\",\"#000000\",\"#000000\",\"#000000\",\"#000000\",\"#000000\",\"#000000\",\"#000000\",\"#000000\",\"#000000\",\"#000000\",\"#000000\",\"#000000\",\"#000000\",\"#000000\",\"#000000\",\"#000000\",\"#000000\",\"#000000\",\"#000000\",\"#000000\",\"#000000\",\"#000000\",\"#000000\",\"#000000\",\"#000000\",\"#000000\",\"#000000\",\"#000000\",\"#000000\",\"#000000\",\"#000000\",\"#000000\",\"#000000\",\"#000000\",\"#000000\",\"#000000\",\"#000000\",\"#000000\",\"#000000\",\"#000000\",\"#000000\",\"#000000\",\"#000000\",\"#000000\",\"#000000\",\"#000000\",\"#000000\",\"#000000\",\"#000000\",\"#000000\",\"#000000\",\"#000000\",\"#000000\",\"#000000\",\"#000000\",\"#000000\",\"#000000\",\"#000000\",\"#000000\",\"#000000\",\"#000000\",\"#000000\",\"#000000\",\"#000000\",\"#000000\",\"#000000\",\"#000000\",\"#000000\",\"#000000\",\"#000000\",\"#000000\",\"#000000\",\"#000000\",\"#000000\",\"#000000\",\"#000000\",\"#000000\",\"#000000\",\"#000000\",\"#000000\",\"#000000\",\"#000000\",\"#000000\",\"#000000\",\"#000000\",\"#000000\",\"#000000\",\"#000000\",\"#000000\",\"#000000\",\"#000000\",\"#000000\",\"#000000\",\"#000000\",\"#000000\",\"#000000\",\"#000000\",\"#000000\",\"#000000\",\"#000000\",\"#000000\",\"#000000\",\"#000000\",\"#000000\",\"#000000\",\"#000000\",\"#000000\",\"#000000\",\"#000000\",\"#000000\",\"#000000\",\"#000000\",\"#000000\",\"#000000\",\"#000000\",\"#000000\",\"#000000\",\"#000000\",\"#000000\",\"#000000\",\"#000000\",\"#000000\",\"#000000\",\"#000000\",\"#000000\",\"#000000\",\"#000000\",\"#000000\",\"#000000\",\"#FF0000\",\"#000000\",\"#000000\",\"#000000\",\"#000000\",\"#000000\",\"#000000\",\"#000000\",\"#000000\",\"#000000\",\"#000000\",\"#000000\",\"#000000\",\"#000000\",\"#000000\",\"#000000\",\"#000000\",\"#000000\",\"#000000\",\"#000000\",\"#000000\",\"#000000\",\"#000000\",\"#000000\",\"#000000\",\"#000000\",\"#FF0000\",\"#000000\",\"#000000\",\"#000000\",\"#000000\",\"#000000\",\"#000000\",\"#000000\",\"#FF0000\",\"#000000\",\"#000000\",\"#000000\",\"#000000\",\"#000000\",\"#000000\",\"#000000\",\"#000000\",\"#000000\",\"#000000\",\"#000000\",\"#000000\",\"#000000\",\"#000000\",\"#000000\",\"#000000\",\"#000000\",\"#000000\",\"#000000\",\"#000000\",\"#000000\",\"#000000\",\"#000000\",\"#000000\",\"#000000\",\"#000000\",\"#000000\",\"#FF0000\",\"#000000\",\"#000000\",\"#000000\",\"#000000\",\"#000000\",\"#000000\",\"#000000\",\"#000000\",\"#000000\",\"#000000\",\"#000000\",\"#000000\",\"#000000\",\"#000000\",\"#000000\",\"#000000\",\"#000000\",\"#000000\",\"#FF0000\",\"#000000\",\"#000000\",\"#000000\",\"#000000\",\"#000000\",\"#000000\",\"#000000\",\"#000000\",\"#000000\",\"#000000\",\"#000000\",\"#000000\",\"#000000\",\"#000000\",\"#000000\",\"#000000\",\"#000000\",\"#000000\",\"#000000\",\"#000000\",\"#000000\",\"#000000\",\"#000000\",\"#000000\",\"#000000\",\"#000000\",\"#FF0000\",\"#000000\",\"#000000\",\"#000000\",\"#FF0000\",\"#000000\",\"#000000\",\"#000000\",\"#000000\",\"#000000\",\"#000000\",\"#000000\",\"#000000\",\"#000000\",\"#000000\",\"#000000\",\"#000000\",\"#000000\",\"#000000\",\"#000000\",\"#000000\",\"#000000\",\"#000000\",\"#000000\",\"#000000\",\"#000000\",\"#000000\",\"#000000\",\"#000000\",\"#000000\",\"#000000\",\"#000000\",\"#000000\",\"#000000\",\"#000000\",\"#000000\",\"#000000\",\"#000000\",\"#000000\",\"#000000\",\"#000000\",\"#000000\",\"#000000\",\"#000000\",\"#000000\",\"#000000\",\"#000000\",\"#FF0000\",\"#000000\",\"#000000\",\"#000000\",\"#000000\",\"#000000\",\"#000000\",\"#000000\",\"#000000\",\"#000000\",\"#000000\",\"#000000\",\"#000000\",\"#FF0000\",\"#000000\",\"#000000\",\"#000000\",\"#000000\",\"#000000\",\"#000000\",\"#000000\",\"#000000\",\"#000000\",\"#000000\",\"#000000\",\"#000000\",\"#000000\",\"#000000\",\"#000000\",\"#000000\",\"#000000\",\"#000000\",\"#000000\",\"#000000\",\"#000000\",\"#000000\",\"#000000\",\"#000000\",\"#000000\",\"#000000\",\"#000000\",\"#000000\",\"#000000\",\"#000000\",\"#000000\",\"#000000\",\"#000000\",\"#000000\",\"#000000\",\"#000000\",\"#000000\",\"#000000\",\"#000000\",\"#000000\",\"#000000\",\"#000000\",\"#000000\",\"#000000\",\"#000000\",\"#000000\",\"#000000\",\"#000000\",\"#000000\",\"#000000\",\"#FF0000\",\"#000000\",\"#000000\",\"#000000\",\"#000000\",\"#FF0000\",\"#000000\",\"#000000\",\"#000000\",\"#000000\",\"#000000\",\"#000000\",\"#000000\",\"#000000\",\"#000000\",\"#000000\",\"#000000\",\"#000000\",\"#000000\",\"#000000\",\"#000000\",\"#000000\",\"#000000\",\"#000000\",\"#000000\",\"#000000\",\"#000000\",\"#000000\",\"#000000\"]]]}}},\"view\":{\"type\":\"object\",\"name\":\"CDSView\",\"id\":\"p1515\",\"attributes\":{\"filter\":{\"type\":\"object\",\"name\":\"AllIndices\",\"id\":\"p1516\"}}},\"glyph\":{\"type\":\"object\",\"name\":\"Scatter\",\"id\":\"p1511\",\"attributes\":{\"x\":{\"type\":\"field\",\"field\":\"x\"},\"y\":{\"type\":\"field\",\"field\":\"y\"},\"size\":{\"type\":\"value\",\"value\":5},\"line_color\":{\"type\":\"field\",\"field\":\"new_colors\"},\"line_alpha\":{\"type\":\"field\",\"field\":\"alpha\"},\"fill_color\":{\"type\":\"field\",\"field\":\"new_colors\"},\"fill_alpha\":{\"type\":\"field\",\"field\":\"alpha\"},\"hatch_color\":{\"type\":\"field\",\"field\":\"color\"},\"hatch_alpha\":{\"type\":\"field\",\"field\":\"alpha\"}}},\"nonselection_glyph\":{\"type\":\"object\",\"name\":\"Scatter\",\"id\":\"p1512\",\"attributes\":{\"x\":{\"type\":\"field\",\"field\":\"x\"},\"y\":{\"type\":\"field\",\"field\":\"y\"},\"size\":{\"type\":\"value\",\"value\":5},\"line_color\":{\"type\":\"field\",\"field\":\"color\"},\"line_alpha\":{\"type\":\"value\",\"value\":0.1},\"fill_color\":{\"type\":\"field\",\"field\":\"color\"},\"fill_alpha\":{\"type\":\"value\",\"value\":0.1},\"hatch_color\":{\"type\":\"field\",\"field\":\"color\"},\"hatch_alpha\":{\"type\":\"value\",\"value\":0.1}}},\"muted_glyph\":{\"type\":\"object\",\"name\":\"Scatter\",\"id\":\"p1513\",\"attributes\":{\"x\":{\"type\":\"field\",\"field\":\"x\"},\"y\":{\"type\":\"field\",\"field\":\"y\"},\"size\":{\"type\":\"value\",\"value\":5},\"line_color\":{\"type\":\"field\",\"field\":\"color\"},\"line_alpha\":{\"type\":\"value\",\"value\":0.2},\"fill_color\":{\"type\":\"field\",\"field\":\"color\"},\"fill_alpha\":{\"type\":\"value\",\"value\":0.2},\"hatch_color\":{\"type\":\"field\",\"field\":\"color\"},\"hatch_alpha\":{\"type\":\"value\",\"value\":0.2}}}}}],\"toolbar\":{\"type\":\"object\",\"name\":\"Toolbar\",\"id\":\"p1483\",\"attributes\":{\"tools\":[{\"type\":\"object\",\"name\":\"PanTool\",\"id\":\"p1496\"},{\"type\":\"object\",\"name\":\"WheelZoomTool\",\"id\":\"p1497\",\"attributes\":{\"renderers\":\"auto\"}},{\"type\":\"object\",\"name\":\"BoxZoomTool\",\"id\":\"p1498\",\"attributes\":{\"overlay\":{\"type\":\"object\",\"name\":\"BoxAnnotation\",\"id\":\"p1499\",\"attributes\":{\"syncable\":false,\"level\":\"overlay\",\"visible\":false,\"left\":{\"type\":\"number\",\"value\":\"nan\"},\"right\":{\"type\":\"number\",\"value\":\"nan\"},\"top\":{\"type\":\"number\",\"value\":\"nan\"},\"bottom\":{\"type\":\"number\",\"value\":\"nan\"},\"left_units\":\"canvas\",\"right_units\":\"canvas\",\"top_units\":\"canvas\",\"bottom_units\":\"canvas\",\"line_color\":\"black\",\"line_alpha\":1.0,\"line_width\":2,\"line_dash\":[4,4],\"fill_color\":\"lightgrey\",\"fill_alpha\":0.5}}}},{\"type\":\"object\",\"name\":\"SaveTool\",\"id\":\"p1504\"},{\"type\":\"object\",\"name\":\"ResetTool\",\"id\":\"p1505\"},{\"type\":\"object\",\"name\":\"HelpTool\",\"id\":\"p1506\"},{\"type\":\"object\",\"name\":\"HoverTool\",\"id\":\"p1507\",\"attributes\":{\"renderers\":\"auto\",\"tooltips\":[[\"index\",\"@{index}\"],[\"label\",\"@{label}\"],[\"item\",\"@{item}\"],[\"file_name\",\"@{file_name}\"]]}}]}},\"left\":[{\"type\":\"object\",\"name\":\"LinearAxis\",\"id\":\"p1491\",\"attributes\":{\"visible\":false,\"ticker\":{\"type\":\"object\",\"name\":\"BasicTicker\",\"id\":\"p1492\",\"attributes\":{\"mantissas\":[1,2,5]}},\"formatter\":{\"type\":\"object\",\"name\":\"BasicTickFormatter\",\"id\":\"p1493\"},\"major_label_policy\":{\"type\":\"object\",\"name\":\"AllLabels\",\"id\":\"p1494\"}}}],\"below\":[{\"type\":\"object\",\"name\":\"LinearAxis\",\"id\":\"p1486\",\"attributes\":{\"visible\":false,\"ticker\":{\"type\":\"object\",\"name\":\"BasicTicker\",\"id\":\"p1487\",\"attributes\":{\"mantissas\":[1,2,5]}},\"formatter\":{\"type\":\"object\",\"name\":\"BasicTickFormatter\",\"id\":\"p1488\"},\"major_label_policy\":{\"type\":\"object\",\"name\":\"AllLabels\",\"id\":\"p1489\"}}}],\"center\":[{\"type\":\"object\",\"name\":\"Grid\",\"id\":\"p1490\",\"attributes\":{\"visible\":false,\"axis\":{\"id\":\"p1486\"}}},{\"type\":\"object\",\"name\":\"Grid\",\"id\":\"p1495\",\"attributes\":{\"visible\":false,\"dimension\":1,\"axis\":{\"id\":\"p1491\"}}}],\"background_fill_color\":\"white\"}}],\"defs\":[{\"type\":\"model\",\"name\":\"ReactiveHTML1\"},{\"type\":\"model\",\"name\":\"FlexBox1\",\"properties\":[{\"name\":\"align_content\",\"kind\":\"Any\",\"default\":\"flex-start\"},{\"name\":\"align_items\",\"kind\":\"Any\",\"default\":\"flex-start\"},{\"name\":\"flex_direction\",\"kind\":\"Any\",\"default\":\"row\"},{\"name\":\"flex_wrap\",\"kind\":\"Any\",\"default\":\"wrap\"},{\"name\":\"gap\",\"kind\":\"Any\",\"default\":\"\"},{\"name\":\"justify_content\",\"kind\":\"Any\",\"default\":\"flex-start\"}]},{\"type\":\"model\",\"name\":\"FloatPanel1\",\"properties\":[{\"name\":\"config\",\"kind\":\"Any\",\"default\":{\"type\":\"map\"}},{\"name\":\"contained\",\"kind\":\"Any\",\"default\":true},{\"name\":\"position\",\"kind\":\"Any\",\"default\":\"right-top\"},{\"name\":\"offsetx\",\"kind\":\"Any\",\"default\":null},{\"name\":\"offsety\",\"kind\":\"Any\",\"default\":null},{\"name\":\"theme\",\"kind\":\"Any\",\"default\":\"primary\"},{\"name\":\"status\",\"kind\":\"Any\",\"default\":\"normalized\"}]},{\"type\":\"model\",\"name\":\"GridStack1\",\"properties\":[{\"name\":\"mode\",\"kind\":\"Any\",\"default\":\"warn\"},{\"name\":\"ncols\",\"kind\":\"Any\",\"default\":null},{\"name\":\"nrows\",\"kind\":\"Any\",\"default\":null},{\"name\":\"allow_resize\",\"kind\":\"Any\",\"default\":true},{\"name\":\"allow_drag\",\"kind\":\"Any\",\"default\":true},{\"name\":\"state\",\"kind\":\"Any\",\"default\":[]}]},{\"type\":\"model\",\"name\":\"drag1\",\"properties\":[{\"name\":\"slider_width\",\"kind\":\"Any\",\"default\":5},{\"name\":\"slider_color\",\"kind\":\"Any\",\"default\":\"black\"},{\"name\":\"value\",\"kind\":\"Any\",\"default\":50}]},{\"type\":\"model\",\"name\":\"click1\",\"properties\":[{\"name\":\"terminal_output\",\"kind\":\"Any\",\"default\":\"\"},{\"name\":\"debug_name\",\"kind\":\"Any\",\"default\":\"\"},{\"name\":\"clears\",\"kind\":\"Any\",\"default\":0}]},{\"type\":\"model\",\"name\":\"FastWrapper1\",\"properties\":[{\"name\":\"object\",\"kind\":\"Any\",\"default\":null},{\"name\":\"style\",\"kind\":\"Any\",\"default\":null}]},{\"type\":\"model\",\"name\":\"NotificationAreaBase1\",\"properties\":[{\"name\":\"js_events\",\"kind\":\"Any\",\"default\":{\"type\":\"map\"}},{\"name\":\"position\",\"kind\":\"Any\",\"default\":\"bottom-right\"},{\"name\":\"_clear\",\"kind\":\"Any\",\"default\":0}]},{\"type\":\"model\",\"name\":\"NotificationArea1\",\"properties\":[{\"name\":\"js_events\",\"kind\":\"Any\",\"default\":{\"type\":\"map\"}},{\"name\":\"notifications\",\"kind\":\"Any\",\"default\":[]},{\"name\":\"position\",\"kind\":\"Any\",\"default\":\"bottom-right\"},{\"name\":\"_clear\",\"kind\":\"Any\",\"default\":0},{\"name\":\"types\",\"kind\":\"Any\",\"default\":[{\"type\":\"map\",\"entries\":[[\"type\",\"warning\"],[\"background\",\"#ffc107\"],[\"icon\",{\"type\":\"map\",\"entries\":[[\"className\",\"fas fa-exclamation-triangle\"],[\"tagName\",\"i\"],[\"color\",\"white\"]]}]]},{\"type\":\"map\",\"entries\":[[\"type\",\"info\"],[\"background\",\"#007bff\"],[\"icon\",{\"type\":\"map\",\"entries\":[[\"className\",\"fas fa-info-circle\"],[\"tagName\",\"i\"],[\"color\",\"white\"]]}]]}]}]},{\"type\":\"model\",\"name\":\"Notification\",\"properties\":[{\"name\":\"background\",\"kind\":\"Any\",\"default\":null},{\"name\":\"duration\",\"kind\":\"Any\",\"default\":3000},{\"name\":\"icon\",\"kind\":\"Any\",\"default\":null},{\"name\":\"message\",\"kind\":\"Any\",\"default\":\"\"},{\"name\":\"notification_type\",\"kind\":\"Any\",\"default\":null},{\"name\":\"_destroyed\",\"kind\":\"Any\",\"default\":false}]},{\"type\":\"model\",\"name\":\"TemplateActions1\",\"properties\":[{\"name\":\"open_modal\",\"kind\":\"Any\",\"default\":0},{\"name\":\"close_modal\",\"kind\":\"Any\",\"default\":0}]},{\"type\":\"model\",\"name\":\"BootstrapTemplateActions1\",\"properties\":[{\"name\":\"open_modal\",\"kind\":\"Any\",\"default\":0},{\"name\":\"close_modal\",\"kind\":\"Any\",\"default\":0}]},{\"type\":\"model\",\"name\":\"TemplateEditor1\",\"properties\":[{\"name\":\"layout\",\"kind\":\"Any\",\"default\":[]}]},{\"type\":\"model\",\"name\":\"MaterialTemplateActions1\",\"properties\":[{\"name\":\"open_modal\",\"kind\":\"Any\",\"default\":0},{\"name\":\"close_modal\",\"kind\":\"Any\",\"default\":0}]},{\"type\":\"model\",\"name\":\"copy_to_clipboard1\",\"properties\":[{\"name\":\"fill\",\"kind\":\"Any\",\"default\":\"none\"},{\"name\":\"value\",\"kind\":\"Any\",\"default\":null}]}]}};\n  const render_items = [{\"docid\":\"fc73aee8-e7a2-4261-b433-26c5956444aa\",\"roots\":{\"p1475\":\"dfb4425f-5df2-4611-9f6a-acff00eac2f9\"},\"root_ids\":[\"p1475\"]}];\n  void root.Bokeh.embed.embed_items_notebook(docs_json, render_items);\n  }\n  if (root.Bokeh !== undefined) {\n    embed_document(root);\n  } else {\n    let attempts = 0;\n    const timer = setInterval(function(root) {\n      if (root.Bokeh !== undefined) {\n        clearInterval(timer);\n        embed_document(root);\n      } else {\n        attempts++;\n        if (attempts > 100) {\n          clearInterval(timer);\n          console.log(\"Bokeh: ERROR: Unable to run BokehJS code because BokehJS library is missing\");\n        }\n      }\n    }, 10, root)\n  }\n})(window);",
      "application/vnd.bokehjs_exec.v0+json": ""
     },
     "metadata": {},
     "output_type": "display_data"
    },
    {
     "name": "stderr",
     "output_type": "stream",
     "text": [
      "Start : This command cannot be run due to the error: The system cannot find the file specified.\n",
      "At line:1 char:1\n",
      "+ Start \"/home/oliver/smlm_cloud/locpix-points/digits_letters/task_1_fi ...\n",
      "+ ~~~~~~~~~~~~~~~~~~~~~~~~~~~~~~~~~~~~~~~~~~~~~~~~~~~~~~~~~~~~~~~~~~~~~\n",
      "    + CategoryInfo          : InvalidOperation: (:) [Start-Process], InvalidOperationException\n",
      "    + FullyQualifiedErrorId : InvalidOperationException,Microsoft.PowerShell.Commands.StartProcessCommand\n",
      " \n"
     ]
    }
   ],
   "source": [
    "plot.renderers[0].data_source.data[\"new_colors\"] = new_colors\n",
    "plot.renderers[0].glyph.fill_color = 'new_colors'\n",
    "plot.renderers[0].glyph.line_color = 'new_colors'\n",
    "umap.plot.show(plot)"
   ]
  },
  {
   "cell_type": "markdown",
   "metadata": {},
   "source": [
    "### Statistical tests"
   ]
  }
 ],
 "metadata": {
  "kernelspec": {
   "display_name": "Python 3 (ipykernel)",
   "language": "python",
   "name": "python3"
  },
  "language_info": {
   "codemirror_mode": {
    "name": "ipython",
    "version": 3
   },
   "file_extension": ".py",
   "mimetype": "text/x-python",
   "name": "python",
   "nbconvert_exporter": "python",
   "pygments_lexer": "ipython3",
   "version": "3.11.6"
  }
 },
 "nbformat": 4,
 "nbformat_minor": 4
}
