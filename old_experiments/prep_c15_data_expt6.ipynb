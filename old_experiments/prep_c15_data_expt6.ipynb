{
 "cells": [
  {
   "cell_type": "markdown",
   "metadata": {},
   "source": [
    "## Need to add extra column to all data saying whether EGFR or EREG\n",
    "\n",
    "Note that 568 = channel 0 \n",
    "Note that 647 = channel 1"
   ]
  },
  {
   "cell_type": "code",
   "execution_count": 28,
   "metadata": {},
   "outputs": [],
   "source": [
    "expt5_data = '../../../data/c15/expt5'\n",
    "expt6_data = '../../../data/c15/expt6'\n",
    "input_annotated_data = '../../../data/c15/membrane_annotated'"
   ]
  },
  {
   "cell_type": "code",
   "execution_count": 29,
   "metadata": {},
   "outputs": [],
   "source": [
    "import polars as pl\n",
    "import os"
   ]
  },
  {
   "cell_type": "markdown",
   "metadata": {},
   "source": [
    "## note \n",
    "\n",
    "### Channel 0 : EGFR\n",
    "\n",
    "### Channel 1 : EREG"
   ]
  },
  {
   "cell_type": "code",
   "execution_count": 35,
   "metadata": {},
   "outputs": [
    {
     "name": "stdout",
     "output_type": "stream",
     "text": [
      "['x', 'y', 'frameIndex[]', 'duration[]', 'variance_x[nm^2]', 'variance_y[nm^2]', 'variance_intensity[photons^2]', 'variance_background[photons^2/nm^4]', 'variance_sigma_x[nm^2]', 'variance_sigma_y[nm^2]', 'z[nm]', 'background_mean[photons/nm^2]', 'sigmaX_mean[nm]', 'sigmaY_mean[nm]', 'intensity_mean[photons]', 'preSplitChannelsChannelIndex[]', 'channelGroupIndex[]', 'parentId[]', 'clusterId[]', 'outlierScore[]', 'bleedingDistance[nm]', 'channel', 'gt_label']\n",
      "['x', 'y', 'frameIndex[]', 'duration[]', 'variance_x[nm^2]', 'variance_y[nm^2]', 'variance_intensity[photons^2]', 'variance_background[photons^2/nm^4]', 'variance_sigma_x[nm^2]', 'variance_sigma_y[nm^2]', 'z[nm]', 'background_mean[photons/nm^2]', 'sigmaX_mean[nm]', 'sigmaY_mean[nm]', 'intensity_mean[photons]', 'preSplitChannelsChannelIndex[]', 'channelGroupIndex[]', 'parentId[]', 'clusterId[]', 'outlierScore[]', 'bleedingDistance[nm]', 'channel', 'gt_label']\n",
      "['x', 'y', 'frameIndex[]', 'duration[]', 'variance_x[nm^2]', 'variance_y[nm^2]', 'variance_intensity[photons^2]', 'variance_background[photons^2/nm^4]', 'variance_sigma_x[nm^2]', 'variance_sigma_y[nm^2]', 'z[nm]', 'background_mean[photons/nm^2]', 'sigmaX_mean[nm]', 'sigmaY_mean[nm]', 'intensity_mean[photons]', 'preSplitChannelsChannelIndex[]', 'channelGroupIndex[]', 'parentId[]', 'clusterId[]', 'outlierScore[]', 'bleedingDistance[nm]', 'channel', 'gt_label']\n",
      "['x', 'y', 'frameIndex[]', 'duration[]', 'variance_x[nm^2]', 'variance_y[nm^2]', 'variance_intensity[photons^2]', 'variance_background[photons^2/nm^4]', 'variance_sigma_x[nm^2]', 'variance_sigma_y[nm^2]', 'z[nm]', 'background_mean[photons/nm^2]', 'sigmaX_mean[nm]', 'sigmaY_mean[nm]', 'intensity_mean[photons]', 'preSplitChannelsChannelIndex[]', 'channelGroupIndex[]', 'parentId[]', 'clusterId[]', 'outlierScore[]', 'bleedingDistance[nm]', 'channel', 'gt_label']\n",
      "['x', 'y', 'frameIndex[]', 'duration[]', 'variance_x[nm^2]', 'variance_y[nm^2]', 'variance_intensity[photons^2]', 'variance_background[photons^2/nm^4]', 'variance_sigma_x[nm^2]', 'variance_sigma_y[nm^2]', 'z[nm]', 'background_mean[photons/nm^2]', 'sigmaX_mean[nm]', 'sigmaY_mean[nm]', 'intensity_mean[photons]', 'preSplitChannelsChannelIndex[]', 'channelGroupIndex[]', 'parentId[]', 'clusterId[]', 'outlierScore[]', 'bleedingDistance[nm]', 'channel', 'gt_label']\n",
      "['x', 'y', 'frameIndex[]', 'duration[]', 'variance_x[nm^2]', 'variance_y[nm^2]', 'variance_intensity[photons^2]', 'variance_background[photons^2/nm^4]', 'variance_sigma_x[nm^2]', 'variance_sigma_y[nm^2]', 'z[nm]', 'background_mean[photons/nm^2]', 'sigmaX_mean[nm]', 'sigmaY_mean[nm]', 'intensity_mean[photons]', 'preSplitChannelsChannelIndex[]', 'channelGroupIndex[]', 'parentId[]', 'clusterId[]', 'outlierScore[]', 'bleedingDistance[nm]', 'channel', 'gt_label']\n",
      "['x', 'y', 'frameIndex[]', 'duration[]', 'variance_x[nm^2]', 'variance_y[nm^2]', 'variance_intensity[photons^2]', 'variance_background[photons^2/nm^4]', 'variance_sigma_x[nm^2]', 'variance_sigma_y[nm^2]', 'z[nm]', 'background_mean[photons/nm^2]', 'sigmaX_mean[nm]', 'sigmaY_mean[nm]', 'intensity_mean[photons]', 'preSplitChannelsChannelIndex[]', 'channelGroupIndex[]', 'parentId[]', 'clusterId[]', 'outlierScore[]', 'bleedingDistance[nm]', 'channel', 'gt_label']\n",
      "['x', 'y', 'frameIndex[]', 'duration[]', 'variance_x[nm^2]', 'variance_y[nm^2]', 'variance_intensity[photons^2]', 'variance_background[photons^2/nm^4]', 'variance_sigma_x[nm^2]', 'variance_sigma_y[nm^2]', 'z[nm]', 'background_mean[photons/nm^2]', 'sigmaX_mean[nm]', 'sigmaY_mean[nm]', 'intensity_mean[photons]', 'preSplitChannelsChannelIndex[]', 'channelGroupIndex[]', 'parentId[]', 'clusterId[]', 'outlierScore[]', 'bleedingDistance[nm]', 'channel', 'gt_label']\n",
      "['x', 'y', 'frameIndex[]', 'duration[]', 'variance_x[nm^2]', 'variance_y[nm^2]', 'variance_intensity[photons^2]', 'variance_background[photons^2/nm^4]', 'variance_sigma_x[nm^2]', 'variance_sigma_y[nm^2]', 'z[nm]', 'background_mean[photons/nm^2]', 'sigmaX_mean[nm]', 'sigmaY_mean[nm]', 'intensity_mean[photons]', 'preSplitChannelsChannelIndex[]', 'channelGroupIndex[]', 'parentId[]', 'clusterId[]', 'outlierScore[]', 'bleedingDistance[nm]', 'channel', 'gt_label']\n",
      "['x', 'y', 'frameIndex[]', 'duration[]', 'variance_x[nm^2]', 'variance_y[nm^2]', 'variance_intensity[photons^2]', 'variance_background[photons^2/nm^4]', 'variance_sigma_x[nm^2]', 'variance_sigma_y[nm^2]', 'z[nm]', 'background_mean[photons/nm^2]', 'sigmaX_mean[nm]', 'sigmaY_mean[nm]', 'intensity_mean[photons]', 'preSplitChannelsChannelIndex[]', 'channelGroupIndex[]', 'parentId[]', 'clusterId[]', 'outlierScore[]', 'bleedingDistance[nm]', 'channel', 'gt_label']\n",
      "['x', 'y', 'frameIndex[]', 'duration[]', 'variance_x[nm^2]', 'variance_y[nm^2]', 'variance_intensity[photons^2]', 'variance_background[photons^2/nm^4]', 'variance_sigma_x[nm^2]', 'variance_sigma_y[nm^2]', 'z[nm]', 'background_mean[photons/nm^2]', 'sigmaX_mean[nm]', 'sigmaY_mean[nm]', 'intensity_mean[photons]', 'preSplitChannelsChannelIndex[]', 'channelGroupIndex[]', 'parentId[]', 'clusterId[]', 'outlierScore[]', 'bleedingDistance[nm]', 'channel', 'gt_label']\n",
      "['x', 'y', 'frameIndex[]', 'duration[]', 'variance_x[nm^2]', 'variance_y[nm^2]', 'variance_intensity[photons^2]', 'variance_background[photons^2/nm^4]', 'variance_sigma_x[nm^2]', 'variance_sigma_y[nm^2]', 'z[nm]', 'background_mean[photons/nm^2]', 'sigmaX_mean[nm]', 'sigmaY_mean[nm]', 'intensity_mean[photons]', 'preSplitChannelsChannelIndex[]', 'channelGroupIndex[]', 'parentId[]', 'clusterId[]', 'outlierScore[]', 'bleedingDistance[nm]', 'channel', 'gt_label']\n",
      "['x', 'y', 'frameIndex[]', 'duration[]', 'variance_x[nm^2]', 'variance_y[nm^2]', 'variance_intensity[photons^2]', 'variance_background[photons^2/nm^4]', 'variance_sigma_x[nm^2]', 'variance_sigma_y[nm^2]', 'z[nm]', 'background_mean[photons/nm^2]', 'sigmaX_mean[nm]', 'sigmaY_mean[nm]', 'intensity_mean[photons]', 'preSplitChannelsChannelIndex[]', 'channelGroupIndex[]', 'parentId[]', 'clusterId[]', 'outlierScore[]', 'bleedingDistance[nm]', 'channel', 'gt_label']\n",
      "['x', 'y', 'frameIndex[]', 'duration[]', 'variance_x[nm^2]', 'variance_y[nm^2]', 'variance_intensity[photons^2]', 'variance_background[photons^2/nm^4]', 'variance_sigma_x[nm^2]', 'variance_sigma_y[nm^2]', 'z[nm]', 'background_mean[photons/nm^2]', 'sigmaX_mean[nm]', 'sigmaY_mean[nm]', 'intensity_mean[photons]', 'preSplitChannelsChannelIndex[]', 'channelGroupIndex[]', 'parentId[]', 'clusterId[]', 'outlierScore[]', 'bleedingDistance[nm]', 'channel', 'gt_label']\n",
      "['x', 'y', 'frameIndex[]', 'duration[]', 'variance_x[nm^2]', 'variance_y[nm^2]', 'variance_intensity[photons^2]', 'variance_background[photons^2/nm^4]', 'variance_sigma_x[nm^2]', 'variance_sigma_y[nm^2]', 'z[nm]', 'background_mean[photons/nm^2]', 'sigmaX_mean[nm]', 'sigmaY_mean[nm]', 'intensity_mean[photons]', 'preSplitChannelsChannelIndex[]', 'channelGroupIndex[]', 'parentId[]', 'clusterId[]', 'outlierScore[]', 'bleedingDistance[nm]', 'channel', 'gt_label']\n",
      "['x', 'y', 'frameIndex[]', 'duration[]', 'variance_x[nm^2]', 'variance_y[nm^2]', 'variance_intensity[photons^2]', 'variance_background[photons^2/nm^4]', 'variance_sigma_x[nm^2]', 'variance_sigma_y[nm^2]', 'z[nm]', 'background_mean[photons/nm^2]', 'sigmaX_mean[nm]', 'sigmaY_mean[nm]', 'intensity_mean[photons]', 'preSplitChannelsChannelIndex[]', 'channelGroupIndex[]', 'parentId[]', 'clusterId[]', 'outlierScore[]', 'bleedingDistance[nm]', 'channel', 'gt_label']\n",
      "['x', 'y', 'frameIndex[]', 'duration[]', 'variance_x[nm^2]', 'variance_y[nm^2]', 'variance_intensity[photons^2]', 'variance_background[photons^2/nm^4]', 'variance_sigma_x[nm^2]', 'variance_sigma_y[nm^2]', 'z[nm]', 'background_mean[photons/nm^2]', 'sigmaX_mean[nm]', 'sigmaY_mean[nm]', 'intensity_mean[photons]', 'preSplitChannelsChannelIndex[]', 'channelGroupIndex[]', 'parentId[]', 'clusterId[]', 'outlierScore[]', 'bleedingDistance[nm]', 'channel', 'gt_label']\n",
      "['x', 'y', 'frameIndex[]', 'duration[]', 'variance_x[nm^2]', 'variance_y[nm^2]', 'variance_intensity[photons^2]', 'variance_background[photons^2/nm^4]', 'variance_sigma_x[nm^2]', 'variance_sigma_y[nm^2]', 'z[nm]', 'background_mean[photons/nm^2]', 'sigmaX_mean[nm]', 'sigmaY_mean[nm]', 'intensity_mean[photons]', 'preSplitChannelsChannelIndex[]', 'channelGroupIndex[]', 'parentId[]', 'clusterId[]', 'outlierScore[]', 'bleedingDistance[nm]', 'channel', 'gt_label']\n"
     ]
    },
    {
     "name": "stdout",
     "output_type": "stream",
     "text": [
      "['x', 'y', 'frameIndex[]', 'duration[]', 'variance_x[nm^2]', 'variance_y[nm^2]', 'variance_intensity[photons^2]', 'variance_background[photons^2/nm^4]', 'variance_sigma_x[nm^2]', 'variance_sigma_y[nm^2]', 'z[nm]', 'background_mean[photons/nm^2]', 'sigmaX_mean[nm]', 'sigmaY_mean[nm]', 'intensity_mean[photons]', 'preSplitChannelsChannelIndex[]', 'channelGroupIndex[]', 'parentId[]', 'clusterId[]', 'outlierScore[]', 'bleedingDistance[nm]', 'channel', 'gt_label']\n",
      "['x', 'y', 'frameIndex[]', 'duration[]', 'variance_x[nm^2]', 'variance_y[nm^2]', 'variance_intensity[photons^2]', 'variance_background[photons^2/nm^4]', 'variance_sigma_x[nm^2]', 'variance_sigma_y[nm^2]', 'z[nm]', 'background_mean[photons/nm^2]', 'sigmaX_mean[nm]', 'sigmaY_mean[nm]', 'intensity_mean[photons]', 'preSplitChannelsChannelIndex[]', 'channelGroupIndex[]', 'parentId[]', 'clusterId[]', 'outlierScore[]', 'bleedingDistance[nm]', 'channel', 'gt_label']\n",
      "['x', 'y', 'frameIndex[]', 'duration[]', 'variance_x[nm^2]', 'variance_y[nm^2]', 'variance_intensity[photons^2]', 'variance_background[photons^2/nm^4]', 'variance_sigma_x[nm^2]', 'variance_sigma_y[nm^2]', 'z[nm]', 'background_mean[photons/nm^2]', 'sigmaX_mean[nm]', 'sigmaY_mean[nm]', 'intensity_mean[photons]', 'preSplitChannelsChannelIndex[]', 'channelGroupIndex[]', 'parentId[]', 'clusterId[]', 'outlierScore[]', 'bleedingDistance[nm]', 'channel', 'gt_label']\n",
      "['x', 'y', 'frameIndex[]', 'duration[]', 'variance_x[nm^2]', 'variance_y[nm^2]', 'variance_intensity[photons^2]', 'variance_background[photons^2/nm^4]', 'variance_sigma_x[nm^2]', 'variance_sigma_y[nm^2]', 'z[nm]', 'background_mean[photons/nm^2]', 'sigmaX_mean[nm]', 'sigmaY_mean[nm]', 'intensity_mean[photons]', 'preSplitChannelsChannelIndex[]', 'channelGroupIndex[]', 'parentId[]', 'clusterId[]', 'outlierScore[]', 'bleedingDistance[nm]', 'channel', 'gt_label']\n",
      "['x', 'y', 'frameIndex[]', 'duration[]', 'variance_x[nm^2]', 'variance_y[nm^2]', 'variance_intensity[photons^2]', 'variance_background[photons^2/nm^4]', 'variance_sigma_x[nm^2]', 'variance_sigma_y[nm^2]', 'z[nm]', 'background_mean[photons/nm^2]', 'sigmaX_mean[nm]', 'sigmaY_mean[nm]', 'intensity_mean[photons]', 'preSplitChannelsChannelIndex[]', 'channelGroupIndex[]', 'parentId[]', 'clusterId[]', 'outlierScore[]', 'bleedingDistance[nm]', 'channel', 'gt_label']\n",
      "['x', 'y', 'frameIndex[]', 'duration[]', 'variance_x[nm^2]', 'variance_y[nm^2]', 'variance_intensity[photons^2]', 'variance_background[photons^2/nm^4]', 'variance_sigma_x[nm^2]', 'variance_sigma_y[nm^2]', 'z[nm]', 'background_mean[photons/nm^2]', 'sigmaX_mean[nm]', 'sigmaY_mean[nm]', 'intensity_mean[photons]', 'preSplitChannelsChannelIndex[]', 'channelGroupIndex[]', 'parentId[]', 'clusterId[]', 'outlierScore[]', 'bleedingDistance[nm]', 'channel', 'gt_label']\n",
      "['x', 'y', 'frameIndex[]', 'duration[]', 'variance_x[nm^2]', 'variance_y[nm^2]', 'variance_intensity[photons^2]', 'variance_background[photons^2/nm^4]', 'variance_sigma_x[nm^2]', 'variance_sigma_y[nm^2]', 'z[nm]', 'background_mean[photons/nm^2]', 'sigmaX_mean[nm]', 'sigmaY_mean[nm]', 'intensity_mean[photons]', 'preSplitChannelsChannelIndex[]', 'channelGroupIndex[]', 'parentId[]', 'clusterId[]', 'outlierScore[]', 'bleedingDistance[nm]', 'channel', 'gt_label']\n",
      "['x', 'y', 'frameIndex[]', 'duration[]', 'variance_x[nm^2]', 'variance_y[nm^2]', 'variance_intensity[photons^2]', 'variance_background[photons^2/nm^4]', 'variance_sigma_x[nm^2]', 'variance_sigma_y[nm^2]', 'z[nm]', 'background_mean[photons/nm^2]', 'sigmaX_mean[nm]', 'sigmaY_mean[nm]', 'intensity_mean[photons]', 'preSplitChannelsChannelIndex[]', 'channelGroupIndex[]', 'parentId[]', 'clusterId[]', 'outlierScore[]', 'bleedingDistance[nm]', 'channel', 'gt_label']\n"
     ]
    }
   ],
   "source": [
    "files = os.listdir(expt5_data)\n",
    "for file in files:\n",
    "    df_5 = pl.read_parquet(os.path.join(expt5_data, file))\n",
    "    df_5 = df_5.rename({'gt_label':'channel', '# x[nm]':'x', 'y[nm]':'y'})\n",
    "    df_6 = pl.read_parquet(os.path.join(input_annotated_data, file), columns=['x','y','gt_label'])\n",
    "    df_5 = df_5.drop('channelIndex[]')\n",
    "    df_merge = df_5.join(df_6, how='inner', on=['x','y'])\n",
    "    df_merge.write_parquet(os.path.join(expt6_data, file))"
   ]
  },
  {
   "cell_type": "code",
   "execution_count": null,
   "metadata": {},
   "outputs": [],
   "source": []
  },
  {
   "cell_type": "code",
   "execution_count": null,
   "metadata": {},
   "outputs": [],
   "source": []
  },
  {
   "cell_type": "code",
   "execution_count": null,
   "metadata": {},
   "outputs": [],
   "source": []
  },
  {
   "cell_type": "code",
   "execution_count": null,
   "metadata": {},
   "outputs": [],
   "source": [
    "# rename gt label from expt5 as channel\n",
    "\n",
    "# select gt_label from expt 6 df\n",
    "\n",
    "# merge on x, y "
   ]
  },
  {
   "cell_type": "code",
   "execution_count": null,
   "metadata": {},
   "outputs": [],
   "source": []
  }
 ],
 "metadata": {
  "kernelspec": {
   "display_name": "Python 3 (ipykernel)",
   "language": "python",
   "name": "python3"
  },
  "language_info": {
   "codemirror_mode": {
    "name": "ipython",
    "version": 3
   },
   "file_extension": ".py",
   "mimetype": "text/x-python",
   "name": "python",
   "nbconvert_exporter": "python",
   "pygments_lexer": "ipython3",
   "version": "3.11.4"
  }
 },
 "nbformat": 4,
 "nbformat_minor": 2
}
