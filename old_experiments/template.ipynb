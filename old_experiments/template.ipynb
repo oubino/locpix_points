{
 "cells": [
  {
   "cell_type": "markdown",
   "metadata": {},
   "source": [
    "### Imports"
   ]
  },
  {
   "cell_type": "code",
   "execution_count": null,
   "metadata": {},
   "outputs": [],
   "source": [
    "import os\n",
    "import yaml\n",
    "import polars as pl"
   ]
  },
  {
   "cell_type": "markdown",
   "metadata": {},
   "source": [
    "### Experiment description"
   ]
  },
  {
   "cell_type": "markdown",
   "metadata": {},
   "source": [
    "Example..\n",
    "\n",
    "1. Predict ClusterID for clustering datasets\n",
    "2. Use PointTransformer\n",
    "3. Features = xy\n",
    "4. Homogeneous graph\n",
    "\n",
    "Change everywhere it says CHANGEME"
   ]
  },
  {
   "cell_type": "markdown",
   "metadata": {},
   "source": [
    "### Variables"
   ]
  },
  {
   "cell_type": "code",
   "execution_count": null,
   "metadata": {},
   "outputs": [],
   "source": [
    "input_folder = '../../../data/nieves'\n",
    "output_folder = '../../../output/nieves/CHANGEME'\n",
    "input_expt_folder = '../../../data/nieves/CHANGEME'"
   ]
  },
  {
   "cell_type": "markdown",
   "metadata": {},
   "source": [
    "### Preprocess data to suitable output location"
   ]
  },
  {
   "cell_type": "code",
   "execution_count": null,
   "metadata": {},
   "outputs": [],
   "source": [
    "folders = [output_folder, os.path.join(input_folder, \"config/CHANGEME\"), input_expt_folder]\n",
    "\n",
    "for folder in folders:\n",
    "    if not os.path.exists(folder):\n",
    "        os.makedirs(folder)"
   ]
  },
  {
   "cell_type": "code",
   "execution_count": null,
   "metadata": {},
   "outputs": [],
   "source": [
    "# Code specific to dataset & experiment 1\n",
    "root_dir = os.path.join(input_folder, \"ml_data\")\n",
    "for file in os.listdir(root_dir):\n",
    "    df = pl.read_csv(os.path.join(root_dir, file))\n",
    "        \n",
    "    if file.startswith('gt_'):\n",
    "        df = df.rename({'':'x', '_duplicated_0':'y', 'moleculeClusterIndex': 'gt_label'})\n",
    "    elif file.startswith('multiple_blinking'):\n",
    "        df = df.drop(['error', 'moleculeIndex'])\n",
    "        df = df.rename({'clusterIndex': 'gt_label'})\n",
    "        \n",
    "    # change all cluster id's which are != 0 to 1 so we can predict not clustered or clustered\n",
    "    df = df.with_columns((pl.when(pl.col('gt_label') != 0)).then(1).otherwise(0).alias('gt_label'))\n",
    "    \n",
    "    # save \n",
    "    file_name, _ = os.path.splitext(file)\n",
    "    file_name = os.path.join(input_expt_folder, file_name + '.parquet')\n",
    "    df.write_parquet(file_name)"
   ]
  },
  {
   "cell_type": "code",
   "execution_count": null,
   "metadata": {},
   "outputs": [],
   "source": [
    "# Export config variables to file\n",
    "\n",
    "config = {}\n",
    "\n",
    "# The following are the names of the \n",
    "# x column, y column, z column if present, channel, frame,\n",
    "# in the csvs being processed\n",
    "config['x_col'] = 'x'\n",
    "config['y_col'] = 'y'\n",
    "config['z_col'] = None\n",
    "config['channel_col'] = None #'channel'\n",
    "config['frame_col'] = None # 'frame'\n",
    "\n",
    "# The number of dimensions to consider\n",
    "# If 2 only deals with x and y \n",
    "# If 3 will read in and deal with z as well (currently not fully supported)\n",
    "config['dim'] = 2\n",
    "\n",
    "# choice of which channels user wants to consider\n",
    "# if null considers all\n",
    "config['channel_choice'] = None\n",
    "\n",
    "# specify string for each channel\n",
    "config['channel_label'] = None\n",
    "  #0: egfr\n",
    "  #1: ereg\n",
    "\n",
    "# whether to not drop the column containing\n",
    "# pixel\n",
    "config['drop_pixel_col'] = False\n",
    "\n",
    "# files to include: all for everyone \n",
    "config['include_files'] = 'all' \n",
    "\n",
    "## Choice of input features\n",
    "config['features'] = []\n",
    "\n",
    "## GT label per loc or per FOV\n",
    "config['gt_label_scope'] = 'loc'\n",
    "\n",
    "raise ValueError('This line needs to be changed in line with new set up of gt_label')\n",
    "## if gt label specified, whih channel is it in (if its label per fov then only one row has to have value), or leave as null\n",
    "config['gt_label'] = \"gt_label\"\n",
    "\n",
    "## specify the gt label map\n",
    "config['gt_label_map'] = {0: 'unclustered', 1: 'clustered'}\n",
    "\n",
    "yaml_save_loc = os.path.join(input_folder, 'config/CHANGEME/preprocess.yaml')\n",
    "with open(yaml_save_loc, \"w\") as outfile:\n",
    "        yaml.dump(config, outfile)"
   ]
  },
  {
   "cell_type": "code",
   "execution_count": null,
   "metadata": {},
   "outputs": [],
   "source": [
    "# Run the preprocess script using this file\n",
    "\n",
    "!python ../src/locpix_points/scripts/preprocess.py -i ../../../data/nieves/CHANGEME -c ../../../data/nieves/config/CHANGEME/preprocess.yaml -o ../../../output/nieves/CHANGEME -p"
   ]
  },
  {
   "cell_type": "markdown",
   "metadata": {},
   "source": [
    "### Process data"
   ]
  },
  {
   "cell_type": "code",
   "execution_count": null,
   "metadata": {},
   "outputs": [],
   "source": [
    "# Export config variables \n",
    "\n",
    "config = {}\n",
    "\n",
    "# whether to process the data as heterogeneous or homogenous\n",
    "# graph\n",
    "config['hetero'] = False\n",
    "\n",
    "# train/test/val splits\n",
    "config['train_ratio'] = 0.7\n",
    "config['val_ratio'] = 0.1\n",
    "config['test_ratio'] = 0.2\n",
    "\n",
    "# what to load into position\n",
    "# Options: xy, xyz\n",
    "config['pos']= 'xy'\n",
    "\n",
    "# what to load into features\n",
    "# Options: \n",
    "config[\"feat\"] = 'xy'\n",
    "    \n",
    "# label level\n",
    "# graph or node\n",
    "config[\"label_level\"] = 'node'\n",
    "\n",
    "yaml_save_loc = os.path.join(input_folder, 'config/CHANGEME/process.yaml')\n",
    "with open(yaml_save_loc, \"w\") as outfile:\n",
    "        yaml.dump(config, outfile)\n"
   ]
  },
  {
   "cell_type": "code",
   "execution_count": null,
   "metadata": {},
   "outputs": [],
   "source": [
    "# Run the process script \n",
    "\n",
    "!python ../src/locpix_points/scripts/process.py -i ../../../output/nieves/CHANGEME -c ../../../data/nieves/config/CHANGEME/process.yaml -r ../../../output/nieves/CHANGEME"
   ]
  },
  {
   "cell_type": "markdown",
   "metadata": {},
   "source": [
    "### Train"
   ]
  },
  {
   "cell_type": "code",
   "execution_count": null,
   "metadata": {},
   "outputs": [],
   "source": [
    "# Export config variables \n",
    "\n",
    "config = {}\n",
    "\n",
    "# device to train on (gpu or cpu)\n",
    "config['gpu'] = True\n",
    "\n",
    "# model parameters\n",
    "config['model'] = \"pointtransformerseg\"\n",
    "\n",
    "# optimiser parameters\n",
    "config['optimiser'] =\"adam\"\n",
    "config['lr'] = 0.001\n",
    "config['weight_decay'] = 0.0001\n",
    "\n",
    "# training parameters\n",
    "config['epochs'] = 5\n",
    "config['batch_size'] = 1\n",
    "config['num_workers'] = 1 # generall higher -> faster\n",
    "config['loss_fn'] = \"nll\"\n",
    "\n",
    "config['pointnetseg'] = {\n",
    "  \"k\": 16,\n",
    "  \"in_channels\": 2,\n",
    "  \"out_channels\": 2,\n",
    "  \"dim_model\": [32, 64, 128, 256, 512],\n",
    "  \"k_up\": 3, # trilinear interpolation\n",
    "  \"output_mlp_layers\": 64,\n",
    "  # ratio of points to sample when transition down\n",
    "  \"ratio\": 0.25,\n",
    "  \"pos_nn_layers\": 64,\n",
    "  \"attn_nn_layers\": 64,\n",
    "}\n",
    "\n",
    "# what trying to predict\n",
    "config[\"label_level\"] = \"node\" # graph\n",
    "\n",
    "# train/val transforms\n",
    "# options: ['normalisescale', 'jitter', 'flip', 'randscale', 'rotate', 'shear'] # null\n",
    "config[\"transforms\"] = {\n",
    "    #'jitter': 15, \n",
    "    'x_flip': None, \n",
    "    'y_flip': None, \n",
    "    #'randscale': [0.95, 1.05], \n",
    "    'z_rotate': None, \n",
    "    #'shear': 0.05, \n",
    "    'normalisescale': None\n",
    "}\n",
    "\n",
    "# wandb parameters\n",
    "config[\"wandb_project\"] = \"nieves_CHANGEME\"\n",
    "config[\"wandb_dataset\"] = \"nieves\"\n",
    "\n",
    "yaml_save_loc = os.path.join(input_folder, 'config/CHANGEME/train.yaml')\n",
    "with open(yaml_save_loc, \"w\") as outfile:\n",
    "        yaml.dump(config, outfile)\n",
    "\n",
    "# 1. Choice of augmentations\n",
    "\n",
    "# 2. Normalise features\n"
   ]
  },
  {
   "cell_type": "code",
   "execution_count": null,
   "metadata": {},
   "outputs": [],
   "source": [
    "# Run the train script \n",
    "\n",
    "!python ../src/locpix_points/scripts/train.py -i ../../../output/nieves/CHANGEME -c ../../../data/nieves/config/CHANGEME/train.yaml"
   ]
  },
  {
   "cell_type": "markdown",
   "metadata": {},
   "source": [
    "### Evaluate"
   ]
  },
  {
   "cell_type": "code",
   "execution_count": null,
   "metadata": {},
   "outputs": [],
   "source": [
    "# Export config variables\n",
    "\n",
    "# Run the evaluate script\n",
    "\n",
    "python src/locpix_points/scripts/evaluate.py -i ../../output/nieves -c src/locpix_points/templates/evaluate.yaml"
   ]
  },
  {
   "cell_type": "markdown",
   "metadata": {},
   "source": [
    "### Interpret the results"
   ]
  },
  {
   "cell_type": "code",
   "execution_count": null,
   "metadata": {},
   "outputs": [],
   "source": [
    "# Pytorch geometric explainability tools"
   ]
  },
  {
   "cell_type": "code",
   "execution_count": null,
   "metadata": {},
   "outputs": [],
   "source": []
  }
 ],
 "metadata": {
  "kernelspec": {
   "display_name": "Python 3 (ipykernel)",
   "language": "python",
   "name": "python3"
  },
  "language_info": {
   "codemirror_mode": {
    "name": "ipython",
    "version": 3
   },
   "file_extension": ".py",
   "mimetype": "text/x-python",
   "name": "python",
   "nbconvert_exporter": "python",
   "pygments_lexer": "ipython3",
   "version": "3.11.4"
  }
 },
 "nbformat": 4,
 "nbformat_minor": 2
}
